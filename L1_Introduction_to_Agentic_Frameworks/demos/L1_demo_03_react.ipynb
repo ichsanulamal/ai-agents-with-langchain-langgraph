{
 "cells": [
  {
   "cell_type": "code",
   "execution_count": 1,
   "metadata": {},
   "outputs": [],
   "source": [
    "import requests\n",
    "import datetime\n",
    "import inspect\n",
    "import json\n",
    "from typing import (\n",
    "    TypedDict, \n",
    "    List, Dict, Literal, \n",
    "    Callable, Optional, Any, \n",
    "    get_type_hints\n",
    ")\n",
    "from dotenv import load_dotenv\n",
    "from openai import OpenAI\n",
    "from openai.types.chat.chat_completion_message import ChatCompletionMessage\n",
    "from openai.types.chat.chat_completion_message_tool_call import ChatCompletionMessageToolCall\n"
   ]
  },
  {
   "cell_type": "code",
   "execution_count": 2,
   "metadata": {},
   "outputs": [
    {
     "data": {
      "text/plain": [
       "True"
      ]
     },
     "execution_count": 2,
     "metadata": {},
     "output_type": "execute_result"
    }
   ],
   "source": [
    "load_dotenv()"
   ]
  },
  {
   "cell_type": "code",
   "execution_count": 3,
   "metadata": {},
   "outputs": [],
   "source": [
    "client = OpenAI()"
   ]
  },
  {
   "cell_type": "code",
   "execution_count": 4,
   "metadata": {},
   "outputs": [],
   "source": [
    "class Memory:\n",
    "    def __init__(self):\n",
    "        self._messages: List[Dict[str, str]] = []\n",
    "    \n",
    "    def add_message(self, \n",
    "                    role: Literal['user', 'system', 'assistant', 'tool'], \n",
    "                    content: str,\n",
    "                    tool_calls: dict=dict(),\n",
    "                    tool_call_id=None)-> None:\n",
    "\n",
    "        message = {\n",
    "            \"role\": role,\n",
    "            \"content\": content,\n",
    "            \"tool_calls\": tool_calls,\n",
    "        }\n",
    "\n",
    "        if role == \"tool\":\n",
    "            message = {\n",
    "                \"role\": role,\n",
    "                \"content\": content,\n",
    "                \"tool_call_id\": tool_call_id,\n",
    "            }\n",
    "\n",
    "        self._messages.append(message)\n",
    "\n",
    "    def get_messages(self) -> List[Dict[str, str]]:\n",
    "        return self._messages\n",
    "\n",
    "    def last_message(self) -> None:\n",
    "        if self._messages:\n",
    "            return self._messages[-1]\n",
    "\n",
    "    def reset(self) -> None:\n",
    "        self._messages = []"
   ]
  },
  {
   "cell_type": "code",
   "execution_count": 5,
   "metadata": {},
   "outputs": [],
   "source": [
    "class Tool:\n",
    "    def __init__(self, func:Callable):\n",
    "        self.func = func\n",
    "        self.name = func.__name__\n",
    "        self.description = func.__doc__\n",
    "        self.argument_types_map = get_type_hints(func)\n",
    "        self.signature = inspect.signature(func)\n",
    "        self.arguments = [\n",
    "            {\n",
    "                \"name\": key, \n",
    "                \"type\": self._infer_json_schema_type(value),\n",
    "                \"required\": param.default == inspect.Parameter.empty\n",
    "            } \n",
    "            for key, value in self.argument_types_map.items()\n",
    "            if (param := self.signature.parameters.get(key))\n",
    "        ]\n",
    "\n",
    "    def dict(self):\n",
    "        return {\n",
    "            \"type\": \"function\",\n",
    "            \"function\": {\n",
    "                \"name\": self.name,\n",
    "                \"description\": self.description,\n",
    "                \"parallel_tool_calls\": False,\n",
    "                \"parameters\": {\n",
    "                    \"type\": \"object\",\n",
    "                    \"properties\": {\n",
    "                        argument[\"name\"]: {\n",
    "                            \"type\": argument[\"type\"],\n",
    "                        }\n",
    "                        for argument in self.arguments\n",
    "                    },\n",
    "                    \"required\": [\n",
    "                        argument[\"name\"] \n",
    "                        for argument in self.arguments \n",
    "                        if argument[\"required\"]\n",
    "                    ],\n",
    "                    \"additionalProperties\": False,\n",
    "                },\n",
    "                \"strict\": True\n",
    "            }\n",
    "        }\n",
    "\n",
    "    def __call__(self, *args, **kwargs):\n",
    "        return self.func(*args, **kwargs)\n",
    "    \n",
    "    def _infer_json_schema_type(self, arg_type: Any) -> str:\n",
    "        if arg_type == bool:\n",
    "            return \"boolean\"\n",
    "        elif arg_type == int:\n",
    "            return \"integer\"\n",
    "        elif arg_type == float:\n",
    "            return \"number\"\n",
    "        elif arg_type == str:\n",
    "            return \"string\"\n",
    "        elif arg_type == list:\n",
    "            return \"array\"\n",
    "        elif arg_type == dict:\n",
    "            return \"object\"\n",
    "        elif arg_type is None:\n",
    "            return \"null\"\n",
    "        elif arg_type == datetime.date or arg_type == datetime.datetime:\n",
    "            return \"string\"  # JSON Schema treats dates as strings\n",
    "        else:\n",
    "            return \"string\"  # Default to string if type is unknown"
   ]
  },
  {
   "cell_type": "code",
   "execution_count": 74,
   "metadata": {},
   "outputs": [],
   "source": [
    "class StopReactLoopException(Exception):\n",
    "    \"\"\"\n",
    "    Terminates ReAct loop\n",
    "    \"\"\""
   ]
  },
  {
   "cell_type": "code",
   "execution_count": 119,
   "metadata": {},
   "outputs": [],
   "source": [
    "TERMINATION_MESSAGE = \"StopReactLoopException\""
   ]
  },
  {
   "cell_type": "code",
   "execution_count": 120,
   "metadata": {},
   "outputs": [],
   "source": [
    "def termination()-> str:\n",
    "    \"\"\"Terminate the ReAct loop. If the agent thinks there's no further actions to take\"\"\"\n",
    "    return TERMINATION_MESSAGE "
   ]
  },
  {
   "cell_type": "code",
   "execution_count": 144,
   "metadata": {},
   "outputs": [],
   "source": [
    "class Agent:\n",
    "    \"\"\"A tool-calling AI Agent\"\"\"\n",
    "\n",
    "    def __init__(\n",
    "        self,\n",
    "        name:str = \"Agent\", \n",
    "        role:str = \"Personal Assistant\",\n",
    "        instructions:str = \"Help users with any question\",\n",
    "        model:str = \"gpt-4o-mini\",\n",
    "        temperature:float = 0.0,\n",
    "        tools:List[Tool] = [],\n",
    "    ):\n",
    "        self.name = name\n",
    "        self.role = role\n",
    "        self.instructions = instructions\n",
    "        self.model = model\n",
    "        self.temperature = temperature\n",
    "        self.client = OpenAI()\n",
    "        self.tools = tools\n",
    "        self.termination_message = TERMINATION_MESSAGE\n",
    "        self._register_tool(Tool(termination))\n",
    "        self.tool_map = {t.name:t for t in tools}\n",
    "        self.openai_tools = [t.dict() for t in self.tools] if self.tools else None\n",
    "        self.memory = Memory()\n",
    "\n",
    "        self.memory.add_message(\n",
    "            role=\"system\",\n",
    "            content=f\"You're an AI Agent, your role is {self.role}, \" \n",
    "                    f\"and you need to {self.instructions} \"\n",
    "                    \"You can answer multistep questions by sequentially calling functions. \"\n",
    "                    \"You follow a pattern of of Thought and Action. \"\n",
    "                    \"Create a plan of execution: \"\n",
    "                    \"- Use Thought to describe your thoughts about the question you have been asked. \"\n",
    "                    \"- Use Action to specify one of the tools available to you. \"\n",
    "                    \"When you think it's over call the termination tool. \"\n",
    "                    \"Never try to respond directly if the question needs a tool.\"\n",
    "                    \"The actions you have are the Tools: \"\n",
    "                    f\"{self.openai_tools}\",\n",
    "        )\n",
    "    \n",
    "    def invoke(self, user_message: str, max_iter:int=3) -> str:\n",
    "        self.memory.add_message(\n",
    "            role=\"user\",\n",
    "            content=user_message,\n",
    "        )\n",
    "        try:\n",
    "            self._react_loop(max_iter)\n",
    "        except StopReactLoopException as e:\n",
    "            print(f\"Termninated loop with message: '{e!s}'\")\n",
    "            self._reason()\n",
    "\n",
    "        return self.memory.last_message()\n",
    "\n",
    "    def _react_loop(self, max_iter:int):\n",
    "        for i in range(max_iter):\n",
    "            self._reason()\n",
    "\n",
    "            ai_message = self._get_completion(\n",
    "                messages = self.memory.get_messages(),\n",
    "                tools=self.openai_tools,\n",
    "            )\n",
    "            tool_calls = ai_message.tool_calls\n",
    "\n",
    "            self.memory.add_message(\n",
    "                role=\"assistant\",\n",
    "                content=ai_message.content,\n",
    "                tool_calls=tool_calls,\n",
    "            )\n",
    "\n",
    "            if tool_calls:\n",
    "                self._call_tools(tool_calls)\n",
    "\n",
    "    def _reason(self):\n",
    "        # No tools\n",
    "        ai_message = self._get_completion(\n",
    "            messages = self.memory.get_messages(),\n",
    "        )\n",
    "        tool_calls = ai_message.tool_calls\n",
    "\n",
    "        self.memory.add_message(\n",
    "            role=\"assistant\",\n",
    "            content=ai_message.content,\n",
    "            tool_calls=tool_calls,\n",
    "        )\n",
    "\n",
    "    def _call_tools(self, tool_calls:List[ChatCompletionMessageToolCall]):\n",
    "        for t in tool_calls:\n",
    "            tool_call_id = t.id\n",
    "            function_name = t.function.name\n",
    "            args = json.loads(t.function.arguments)\n",
    "            callable_tool = self.tool_map[function_name]\n",
    "            result = callable_tool(**args)\n",
    "            self.memory.add_message(\n",
    "                role=\"tool\", \n",
    "                content=str(result), \n",
    "                tool_call_id=tool_call_id\n",
    "            )\n",
    "            if result == TERMINATION_MESSAGE:\n",
    "                raise StopReactLoopException\n",
    "\n",
    "    def _get_completion(self, messages:List[Dict], tools:List=None)-> ChatCompletionMessage:\n",
    "        response = self.client.chat.completions.create(\n",
    "            model=self.model,\n",
    "            temperature=self.temperature,\n",
    "            messages=messages,\n",
    "            tools=tools,\n",
    "        )\n",
    "        \n",
    "        return response.choices[0].message\n",
    "\n",
    "    def _register_tool(self, tool:Tool):\n",
    "        self.tools.append(tool)\n",
    "\n"
   ]
  },
  {
   "cell_type": "code",
   "execution_count": 145,
   "metadata": {},
   "outputs": [],
   "source": [
    "def power(base:float, exponent:float):\n",
    "    \"\"\"Exponentatiation: base to the power of exponent\"\"\"\n",
    "    \n",
    "    return base ** exponent"
   ]
  },
  {
   "cell_type": "code",
   "execution_count": 146,
   "metadata": {},
   "outputs": [],
   "source": [
    "def sum(number_1:float, number_2:float):\n",
    "    \"\"\"Sum / Addition: Add two numbers\"\"\"\n",
    "    \n",
    "    return number_1 + number_2"
   ]
  },
  {
   "cell_type": "code",
   "execution_count": 147,
   "metadata": {},
   "outputs": [],
   "source": [
    "funcs = [power, sum]\n",
    "tools = [Tool(func) for func in funcs]"
   ]
  },
  {
   "cell_type": "code",
   "execution_count": 148,
   "metadata": {},
   "outputs": [],
   "source": [
    "agent = Agent(\n",
    "    tools=tools\n",
    ")"
   ]
  },
  {
   "cell_type": "code",
   "execution_count": 149,
   "metadata": {},
   "outputs": [
    {
     "name": "stdout",
     "output_type": "stream",
     "text": [
      "Termninated loop with message: ''\n"
     ]
    },
    {
     "data": {
      "text/plain": [
       "{'role': 'assistant',\n",
       " 'content': 'The final result of \\\\(2\\\\) to the power of \\\\(3\\\\) plus \\\\(10\\\\) is \\\\(18\\\\). If you have any more questions or need further assistance, feel free to ask!',\n",
       " 'tool_calls': None}"
      ]
     },
     "execution_count": 149,
     "metadata": {},
     "output_type": "execute_result"
    }
   ],
   "source": [
    "agent.invoke(\"What's 2 to the power of 3? Then add 10 to the result\")"
   ]
  },
  {
   "cell_type": "code",
   "execution_count": 150,
   "metadata": {},
   "outputs": [
    {
     "data": {
      "text/plain": [
       "[{'role': 'system',\n",
       "  'content': 'You\\'re an AI Agent, your role is Personal Assistant, and you need to Help users with any question You can answer multistep questions by sequentially calling functions. You follow a pattern of of Thought and Action. Create a plan of execution: - Use Thought to describe your thoughts about the question you have been asked. - Use Action to specify one of the tools available to you. When you think it\\'s over call the termination tool. Never try to respond directly if the question needs a tool.The actions you have are the Tools: [{\\'type\\': \\'function\\', \\'function\\': {\\'name\\': \\'power\\', \\'description\\': \\'Exponentatiation: base to the power of exponent\\', \\'parallel_tool_calls\\': False, \\'parameters\\': {\\'type\\': \\'object\\', \\'properties\\': {\\'base\\': {\\'type\\': \\'number\\'}, \\'exponent\\': {\\'type\\': \\'number\\'}}, \\'required\\': [\\'base\\', \\'exponent\\'], \\'additionalProperties\\': False}, \\'strict\\': True}}, {\\'type\\': \\'function\\', \\'function\\': {\\'name\\': \\'sum\\', \\'description\\': \\'Sum / Addition: Add two numbers\\', \\'parallel_tool_calls\\': False, \\'parameters\\': {\\'type\\': \\'object\\', \\'properties\\': {\\'number_1\\': {\\'type\\': \\'number\\'}, \\'number_2\\': {\\'type\\': \\'number\\'}}, \\'required\\': [\\'number_1\\', \\'number_2\\'], \\'additionalProperties\\': False}, \\'strict\\': True}}, {\\'type\\': \\'function\\', \\'function\\': {\\'name\\': \\'termination\\', \\'description\\': \"Terminate the ReAct loop. If the agent thinks there\\'s no further actions to take\", \\'parallel_tool_calls\\': False, \\'parameters\\': {\\'type\\': \\'object\\', \\'properties\\': {}, \\'required\\': [], \\'additionalProperties\\': False}, \\'strict\\': True}}]',\n",
       "  'tool_calls': {}},\n",
       " {'role': 'user',\n",
       "  'content': \"What's 2 to the power of 3? Then add 10 to the result\",\n",
       "  'tool_calls': {}},\n",
       " {'role': 'assistant',\n",
       "  'content': 'Thought: To solve the problem, I first need to calculate \\\\(2\\\\) raised to the power of \\\\(3\\\\). After that, I will add \\\\(10\\\\) to the result of that calculation.\\n\\nAction: I will first call the power function to calculate \\\\(2^3\\\\).',\n",
       "  'tool_calls': None},\n",
       " {'role': 'assistant',\n",
       "  'content': None,\n",
       "  'tool_calls': [ChatCompletionMessageToolCall(id='call_hN6KSwwP6QFGk3cn68tJX5r0', function=Function(arguments='{\"base\":2,\"exponent\":3}', name='power'), type='function')]},\n",
       " {'role': 'tool',\n",
       "  'content': '8',\n",
       "  'tool_call_id': 'call_hN6KSwwP6QFGk3cn68tJX5r0'},\n",
       " {'role': 'assistant',\n",
       "  'content': 'Thought: The result of \\\\(2\\\\) to the power of \\\\(3\\\\) is \\\\(8\\\\). Now, I need to add \\\\(10\\\\) to this result.\\n\\nAction: I will call the sum function to add \\\\(8\\\\) and \\\\(10\\\\).',\n",
       "  'tool_calls': None},\n",
       " {'role': 'assistant',\n",
       "  'content': None,\n",
       "  'tool_calls': [ChatCompletionMessageToolCall(id='call_rI3cIU0MbdbEvGVFWH46Fehn', function=Function(arguments='{\"number_1\":8,\"number_2\":10}', name='sum'), type='function')]},\n",
       " {'role': 'tool',\n",
       "  'content': '18',\n",
       "  'tool_call_id': 'call_rI3cIU0MbdbEvGVFWH46Fehn'},\n",
       " {'role': 'assistant',\n",
       "  'content': 'Thought: The sum of \\\\(8\\\\) and \\\\(10\\\\) is \\\\(18\\\\). \\n\\nAction: I will now call the termination function as there are no further actions to take.',\n",
       "  'tool_calls': None},\n",
       " {'role': 'assistant',\n",
       "  'content': None,\n",
       "  'tool_calls': [ChatCompletionMessageToolCall(id='call_UKpQ8RXXCoiBebkdo7pUd8HX', function=Function(arguments='{}', name='termination'), type='function')]},\n",
       " {'role': 'tool',\n",
       "  'content': 'StopReactLoopException',\n",
       "  'tool_call_id': 'call_UKpQ8RXXCoiBebkdo7pUd8HX'},\n",
       " {'role': 'assistant',\n",
       "  'content': 'The final result of \\\\(2\\\\) to the power of \\\\(3\\\\) plus \\\\(10\\\\) is \\\\(18\\\\). If you have any more questions or need further assistance, feel free to ask!',\n",
       "  'tool_calls': None}]"
      ]
     },
     "execution_count": 150,
     "metadata": {},
     "output_type": "execute_result"
    }
   ],
   "source": [
    "agent.memory.get_messages()"
   ]
  },
  {
   "cell_type": "code",
   "execution_count": null,
   "metadata": {},
   "outputs": [],
   "source": []
  },
  {
   "cell_type": "code",
   "execution_count": null,
   "metadata": {},
   "outputs": [],
   "source": []
  },
  {
   "cell_type": "code",
   "execution_count": null,
   "metadata": {},
   "outputs": [],
   "source": []
  },
  {
   "cell_type": "code",
   "execution_count": null,
   "metadata": {},
   "outputs": [],
   "source": []
  },
  {
   "cell_type": "code",
   "execution_count": 22,
   "metadata": {},
   "outputs": [],
   "source": [
    "def random_got_quote():\n",
    "    response = requests.get(\"https://api.gameofthronesquotes.xyz/v1/random\")\n",
    "    return str(response.json())"
   ]
  },
  {
   "cell_type": "code",
   "execution_count": null,
   "metadata": {},
   "outputs": [],
   "source": [
    "def get_audio_files(company_name:str):\n",
    "    audio_files_map = {\n",
    "        \"apple\": \"apple.wav\",\n",
    "        \"microsoft\": \"microsoft.wav\",\n",
    "        \"google\": \"alphabet.wav\",\n",
    "        \"amazon\": \"amazon.wav\",\n",
    "        \"facebook\": \"meta.wav\",\n",
    "    }\n",
    "    return audio_files_map[company_name]"
   ]
  },
  {
   "cell_type": "code",
   "execution_count": null,
   "metadata": {},
   "outputs": [],
   "source": [
    "def transcribe_audio_file(audio_file:str):\n",
    "    earnings_calls_2025 = {\n",
    "        \"apple.wav\": \"Apple reported strong Q1 2025 earnings, driven by record iPhone 16 sales and increased revenue from its subscription services. The company also announced advancements in AI-powered features for iOS and continued investment in augmented reality technologies.\",\n",
    "        \"microsoft.wav\": \"Microsoft's revenue surged in 2025, fueled by Azure’s dominance in cloud computing and the expansion of AI-powered productivity tools in Office 365. The company also highlighted strong growth in gaming, with record engagement on Xbox and Game Pass.\",\n",
    "        \"alphabet.wav\": \"Alphabet reported steady revenue growth, with Google Search and YouTube ad revenue rebounding after economic slowdowns. Google Cloud continues to gain enterprise customers, while the company’s AI models saw widespread adoption across industries.\",\n",
    "        \"amazon.wav\": \"Amazon posted record-breaking earnings, with AWS leading cloud market growth. E-commerce sales remained strong, boosted by AI-driven logistics optimizations. The company also emphasized expansions in drone delivery and AI-powered Alexa services.\",\n",
    "        \"meta.wav\": \"Meta’s earnings exceeded expectations, with continued revenue growth from Instagram and WhatsApp. The company doubled down on AI-powered content discovery and virtual reality adoption in the metaverse, with Quest headsets driving user engagement.\"\n",
    "    }\n",
    "    \n"
   ]
  },
  {
   "cell_type": "code",
   "execution_count": null,
   "metadata": {},
   "outputs": [],
   "source": []
  },
  {
   "cell_type": "code",
   "execution_count": null,
   "metadata": {},
   "outputs": [],
   "source": []
  },
  {
   "cell_type": "code",
   "execution_count": null,
   "metadata": {},
   "outputs": [],
   "source": []
  }
 ],
 "metadata": {
  "kernelspec": {
   "display_name": "agents",
   "language": "python",
   "name": "python3"
  },
  "language_info": {
   "codemirror_mode": {
    "name": "ipython",
    "version": 3
   },
   "file_extension": ".py",
   "mimetype": "text/x-python",
   "name": "python",
   "nbconvert_exporter": "python",
   "pygments_lexer": "ipython3",
   "version": "3.10.14"
  }
 },
 "nbformat": 4,
 "nbformat_minor": 2
}
