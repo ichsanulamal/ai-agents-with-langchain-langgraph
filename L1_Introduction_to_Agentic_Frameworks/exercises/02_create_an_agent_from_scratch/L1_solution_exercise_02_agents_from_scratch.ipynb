{
 "cells": [
  {
   "cell_type": "markdown",
   "metadata": {},
   "source": [
    "# Exercise - Create an Agent from Scratch - SOLUTION"
   ]
  },
  {
   "cell_type": "markdown",
   "metadata": {},
   "source": [
    "In this exercise, you’ll take your first step into the world of autonomous AI systems by building a simple AI Agent from scratch. \n",
    "\n",
    "By the end of this task, you'll have understood that creating spefic roled and instructions to the LLMs will help you build better AI applications."
   ]
  },
  {
   "cell_type": "markdown",
   "metadata": {},
   "source": [
    "**Challenge**\n",
    "\n",
    "In this exercise, you are tasked with creating an abstraction on top of LLMs, that is adaptable and efficient.\n",
    "\n",
    "You're part of an AI development team at a company building virtual assistants for customers in different scenarios."
   ]
  },
  {
   "cell_type": "markdown",
   "metadata": {},
   "source": [
    "## 0. Import the necessary libs"
   ]
  },
  {
   "cell_type": "code",
   "execution_count": 1,
   "metadata": {},
   "outputs": [],
   "source": [
    "from openai import OpenAI"
   ]
  },
  {
   "cell_type": "markdown",
   "metadata": {},
   "source": [
    "## 1. Recap: how to use OpenAI client with your API Key"
   ]
  },
  {
   "cell_type": "markdown",
   "metadata": {},
   "source": [
    "To be able to connect with OpenAI, you need to instantiate an OpenAI client passing your OpenAI key.\n",
    "\n",
    "You can pass the `api_key` argument directly.\n",
    "```python\n",
    "client = OpenAI(api_key=\"sk-\")\n",
    "```\n",
    "Usually the OpenAI API key is a long string starting with `sk-`.\n",
    "\n",
    "\n",
    "Alternatively, can do this implicitly. However to use this approach, you should have a .env file with a variable called OPENAI_API_KEY.\n",
    "```python\n",
    "from dotenv import load_dotenv\n",
    "load_dotenv()\n",
    "client = OpenAI()\n",
    "```\n",
    "\n",
    "Loading an environment variable prevents you from exposing it in your code."
   ]
  },
  {
   "cell_type": "code",
   "execution_count": 2,
   "metadata": {},
   "outputs": [],
   "source": [
    "## FILL IN - Instantiate your client\n",
    "from dotenv import load_dotenv\n",
    "load_dotenv()\n",
    "client = OpenAI()"
   ]
  },
  {
   "cell_type": "code",
   "execution_count": 3,
   "metadata": {},
   "outputs": [],
   "source": [
    "## FILL IN - Craft your prompts\n",
    "system_prompt = \"Act as Senior Python Programmer. You don't know anything about other programming language, so don't provide answers about languanges like like Java.\"\n",
    "user_question = \"What is the Java Virtual Machine?\""
   ]
  },
  {
   "cell_type": "code",
   "execution_count": 4,
   "metadata": {},
   "outputs": [
    {
     "data": {
      "text/plain": [
       "\"I'm focused on Python programming, so I don't have information about the Java Virtual Machine or other programming languages. If you have any questions related to Python, feel free to ask!\""
      ]
     },
     "execution_count": 4,
     "metadata": {},
     "output_type": "execute_result"
    }
   ],
   "source": [
    "response = client.chat.completions.create(\n",
    "        model=\"gpt-4o-mini\",\n",
    "        messages=[\n",
    "            {\"role\": \"system\", \"content\": system_prompt},\n",
    "            {\"role\": \"user\", \"content\": user_question},\n",
    "        ],\n",
    "        temperature=0.0,\n",
    "    )\n",
    "response.choices[0].message.content"
   ]
  },
  {
   "cell_type": "markdown",
   "metadata": {},
   "source": [
    "## 2. Define the Agent class"
   ]
  },
  {
   "cell_type": "markdown",
   "metadata": {},
   "source": [
    "In this exercise, you will create the foundational structure of an AI Agent that can process user inputs and generate responses using a language model. This is the first step in designing an interactive agent, and you will focus on defining its essential components.\n",
    "\n",
    "**Objective**\n",
    "\n",
    "Your task is to implement an agent that can:\n",
    "\n",
    "- Be initialized with configurable settings, including a name, role, instructions, and model parameters.\n",
    "- Send user messages to a language model, ensuring that the response aligns with the given role and instructions.\n",
    "- Return the AI-generated response as a string.\n",
    "\n",
    "**Steps**\n",
    "\n",
    "- Create a constructor that allows customization of the agent’s name, role, and instructions.\n",
    "- Ensure the agent interacts with a language model, passing the user message along with system instructions.\n",
    "- Implement a method to handle message processing, ensuring the response is retrieved correctly.\n",
    "\n",
    "**Considerations**\n",
    "\n",
    "- The role and instructions should guide the agent’s behavior in generating responses.\n",
    "- The model's parameters (like temperature) should be configurable.\n",
    "- Ensure the agent maintains simplicity while providing a structured response."
   ]
  },
  {
   "cell_type": "markdown",
   "metadata": {},
   "source": [
    "**Constructor**\n",
    "\n",
    "First of all, create a class called Agent with the following parameters in the `__init__` method:\n",
    "- name (default: \"Agent\")\n",
    "- role (default: \"Personal Assistant\")\n",
    "- instructions (default: \"Help users with any question\")\n",
    "- model (default: \"gpt-4o-mini\")\n",
    "- temperature (default: 0.0)\n",
    "\n",
    "It's recommended having the client being accessible inside your agent."
   ]
  },
  {
   "cell_type": "markdown",
   "metadata": {},
   "source": [
    "**Invoke**\n",
    "\n",
    "Most agentic framworks out there provide an `invoke()` method. For compatibilities reason, we'll do the same. This method should:\n",
    "- take a message as input;\n",
    "- send the message to the LLM's API using the specified model and temperature;\n",
    "- format the API request with the system role and user input;\n",
    "- return the LLM’s response.\n",
    "\n",
    "Notice that your system prompt must consider role and instructions, otherwise it will not behave as you'd like.\n",
    "\n"
   ]
  },
  {
   "cell_type": "code",
   "execution_count": 5,
   "metadata": {},
   "outputs": [],
   "source": [
    "class Agent():\n",
    "    \"\"\"A simple AI Agent\"\"\"\n",
    "\n",
    "    # FILL IN - create your constructor with required parameters\n",
    "    def __init__(\n",
    "        self,\n",
    "        name:str = \"Agent\", \n",
    "        role:str = \"Personal Assistant\",\n",
    "        instructions:str = \"Help users with any question\",\n",
    "        model:str = \"gpt-4o-mini\",\n",
    "        temperature:float = 0.0,\n",
    "    ):\n",
    "        self.name = name\n",
    "        self.role = role\n",
    "        self.instructions = instructions\n",
    "        self.model = model\n",
    "        self.temperature = temperature\n",
    "\n",
    "        # FILL IN - Instantiate your client properly\n",
    "        self.client = OpenAI()\n",
    "        \n",
    "    # FILL IN - create the logic for your invoke() method\n",
    "    def invoke(self, message: str) -> str:\n",
    "        response = self.client.chat.completions.create(\n",
    "            model = self.model,\n",
    "            temperature=self.temperature,\n",
    "            messages = [\n",
    "                {\n",
    "                    \"role\": \"system\",\n",
    "                    \"content\": f\"You're an AI Agent, your role is {self.role}, \" \n",
    "                               f\"and you need to {self.instructions}\",\n",
    "                },\n",
    "                {\n",
    "                    \"role\": \"user\",\n",
    "                    \"content\": message,\n",
    "                }\n",
    "\n",
    "            ]\n",
    "        )\n",
    "        return response.choices[0].message.content"
   ]
  },
  {
   "cell_type": "markdown",
   "metadata": {},
   "source": [
    "## 3. Build some agents and have fun"
   ]
  },
  {
   "cell_type": "markdown",
   "metadata": {},
   "source": [
    "Create some specific agents and invoke them"
   ]
  },
  {
   "cell_type": "code",
   "execution_count": 6,
   "metadata": {},
   "outputs": [
    {
     "name": "stdout",
     "output_type": "stream",
     "text": [
      "Agent role: Personal Assistant\n",
      "Default Agent Response: The capital of France is Paris.\n"
     ]
    }
   ],
   "source": [
    "# FILL IN - create a default agent with role and instructions\n",
    "# Then ask it simple questions like:  \n",
    "# \"What is the capital of France?\"\n",
    "agent = Agent()\n",
    "response = agent.invoke(\"What is the capital of France?\")\n",
    "print(\"Agent role:\", agent.role)\n",
    "print(\"Default Agent Response:\", response)"
   ]
  },
  {
   "cell_type": "code",
   "execution_count": 7,
   "metadata": {},
   "outputs": [
    {
     "name": "stdout",
     "output_type": "stream",
     "text": [
      "Agent role: Travel Assistant\n",
      "Travel Agent Response: December is a wonderful time to travel, as many destinations offer unique experiences during the holiday season. Here are some recommendations based on different interests:\n",
      "\n",
      "1. **Winter Wonderland**:\n",
      "   - **Aspen, Colorado**: Perfect for skiing and snowboarding enthusiasts. Enjoy cozy lodges, après-ski activities, and beautiful snowy landscapes.\n",
      "   - **Lapland, Finland**: Experience a magical winter with the chance to see the Northern Lights, visit Santa Claus Village, and enjoy activities like dog sledding.\n",
      "\n",
      "2. **Tropical Escape**:\n",
      "   - **Bali, Indonesia**: Enjoy warm weather, beautiful beaches, and vibrant culture. December is the start of the rainy season, but you can still enjoy plenty of sunshine.\n",
      "   - **Maldives**: Perfect for luxury and relaxation. Enjoy stunning over-water bungalows and clear blue waters.\n",
      "\n",
      "3. **Cultural Exploration**:\n",
      "   - **Vienna, Austria**: Experience the charm of European Christmas markets, classical music concerts, and beautiful architecture.\n",
      "   - **Tokyo, Japan**: Enjoy the unique blend of traditional and modern culture, festive illuminations, and delicious seasonal cuisine.\n",
      "\n",
      "4. **Adventure and Nature**:\n",
      "   - **Costa Rica**: A fantastic destination for eco-tourism, with opportunities for hiking, wildlife watching, and enjoying beautiful beaches.\n",
      "   - **New Zealand**: December is summer in New Zealand, making it perfect for outdoor adventures like hiking in the stunning landscapes of Queenstown or exploring the beaches of the North Island.\n",
      "\n",
      "5. **Festive Celebrations**:\n",
      "   - **New York City, USA**: Experience the iconic holiday decorations, ice skating at Rockefeller Center, and the New Year’s Eve celebrations in Times Square.\n",
      "   - **Quebec City, Canada**: Enjoy a charming European feel with festive lights, a Christmas market, and winter activities in a UNESCO World Heritage site.\n",
      "\n",
      "Consider your preferences for weather, activities, and cultural experiences when choosing your destination. Safe travels!\n"
     ]
    }
   ],
   "source": [
    "# FILL IN - create a travel agent with role and instructions\n",
    "# Then ask it questions like:\n",
    "# Where should I go for vacation in December?\n",
    "travel_agent = Agent(\n",
    "    role=\"Travel Assistant\", \n",
    "    instructions=\"Provide travel recommendations.\", \n",
    "    temperature=0.7\n",
    ")\n",
    "travel_response = travel_agent.invoke(\"Where should I go for vacation in December?\")\n",
    "print(\"Agent role:\", travel_agent.role)\n",
    "print(\"Travel Agent Response:\", travel_response)"
   ]
  },
  {
   "cell_type": "code",
   "execution_count": 8,
   "metadata": {},
   "outputs": [
    {
     "name": "stdout",
     "output_type": "stream",
     "text": [
      "Agent role: Math Tutor\n",
      "Math Tutor Response: To solve a quadratic equation, you can use several methods, including factoring, completing the square, or using the quadratic formula. A quadratic equation is typically in the form:\n",
      "\n",
      "\\[ ax^2 + bx + c = 0 \\]\n",
      "\n",
      "where \\( a \\), \\( b \\), and \\( c \\) are constants, and \\( a \\neq 0 \\).\n",
      "\n",
      "### Method 1: Factoring\n",
      "\n",
      "1. **Write the equation in standard form**: Ensure it is in the form \\( ax^2 + bx + c = 0 \\).\n",
      "2. **Factor the quadratic**: Look for two numbers that multiply to \\( ac \\) (the product of \\( a \\) and \\( c \\)) and add to \\( b \\).\n",
      "3. **Set each factor to zero**: If you can factor the equation as \\( (px + q)(rx + s) = 0 \\), set each factor equal to zero:\n",
      "   - \\( px + q = 0 \\)\n",
      "   - \\( rx + s = 0 \\)\n",
      "4. **Solve for \\( x \\)**: Solve each equation for \\( x \\).\n",
      "\n",
      "### Method 2: Completing the Square\n",
      "\n",
      "1. **Start with the standard form**: \\( ax^2 + bx + c = 0 \\).\n",
      "2. **Divide by \\( a \\)** (if \\( a \\neq 1 \\)): This makes the coefficient of \\( x^2 \\) equal to 1.\n",
      "3. **Move \\( c \\) to the other side**: \\( x^2 + \\frac{b}{a}x = -\\frac{c}{a} \\).\n",
      "4. **Complete the square**: Take half of the coefficient of \\( x \\) (which is \\( \\frac{b}{2a} \\)), square it, and add it to both sides.\n",
      "5. **Rewrite the left side as a square**: This will give you something like \\( (x + \\frac{b}{2a})^2 = \\text{some number} \\).\n",
      "6. **Take the square root of both sides**: Remember to consider both the positive and negative roots.\n",
      "7. **Solve for \\( x \\)**.\n",
      "\n",
      "### Method 3: Quadratic Formula\n",
      "\n",
      "1. **Use the quadratic formula**: The solutions for \\( ax^2 + bx + c = 0 \\) can be found using:\n",
      "   \\[\n",
      "   x = \\frac{-b \\pm \\sqrt{b^2 - 4ac}}{2a}\n",
      "   \\]\n",
      "2. **Identify \\( a \\), \\( b \\), and \\( c \\)** from your equation.\n",
      "3. **Calculate the discriminant**: \\( D = b^2 - 4ac \\).\n",
      "   - If \\( D > 0 \\), there are two distinct real solutions.\n",
      "   - If \\( D = 0 \\), there is one real solution (a repeated root).\n",
      "   - If \\( D < 0 \\), there are no real solutions (but two complex solutions).\n",
      "4. **Plug in the values into the formula** and simplify to find the values of \\( x \\).\n",
      "\n",
      "### Example\n",
      "\n",
      "Let's solve the quadratic equation \\( 2x^2 - 4x - 6 = 0 \\) using the quadratic formula.\n",
      "\n",
      "1. Identify \\( a = 2 \\), \\( b = -4 \\), and \\( c = -6 \\).\n",
      "2. Calculate the discriminant:\n",
      "   \\[\n",
      "   D = (-4)^2 - 4(2)(-6) = 16 + 48 = 64\n",
      "   \\]\n",
      "3. Since \\( D > 0 \\), we will have two real solutions.\n",
      "4. Use the quadratic formula:\n",
      "   \\[\n",
      "   x = \\frac{-(-4) \\pm \\sqrt{64}}{2(2)} = \\frac{4 \\pm 8}{4}\n",
      "   \\]\n",
      "5. Calculate the two solutions:\n",
      "   - \\( x_1 = \\frac{4 + 8}{4} = \\frac{12}{4} = 3 \\)\n",
      "   - \\( x_2 = \\frac{4 - 8}{4} = \\frac{-4}{4} = -1 \\)\n",
      "\n",
      "So, the solutions are \\( x = 3 \\) and \\( x = -1 \\).\n",
      "\n",
      "Feel free to ask if you have a specific quadratic equation you'd like help with!\n"
     ]
    }
   ],
   "source": [
    "# FILL IN - create a math tutor agent with role and instructions\n",
    "# Then ask it questions like:\n",
    "# How do I solve a quadratic equation?\n",
    "math_tutor = Agent(\n",
    "    role=\"Math Tutor\", \n",
    "    instructions=\"Help students solve math problems step-by-step.\"\n",
    ")\n",
    "math_response = math_tutor.invoke(\"How do I solve a quadratic equation?\")\n",
    "print(\"Agent role:\", math_tutor.role)\n",
    "print(\"Math Tutor Response:\", math_response)"
   ]
  },
  {
   "cell_type": "code",
   "execution_count": 9,
   "metadata": {},
   "outputs": [
    {
     "name": "stdout",
     "output_type": "stream",
     "text": [
      "Agent role: Storyteller\n",
      "Creative Agent Response: Once upon a time, in a land vibrantly painted by the hues of magic and nature, there lay the Kingdom of Eldoria. The kingdom was known for its lush valleys, towering mountains, and the shimmering lake that reflected the sky like a vast azure mirror. But most of all, Eldoria was famous for its two most legendary inhabitants: a wise old wizard named Alaric and a fierce dragon named Zephyros.\n",
      "\n",
      "Alaric was a wizard with a long, flowing beard that sparkled like stardust. He was revered for his knowledge and his ability to harness the elements. He lived in a towering stone tower that spiraled into the clouds, filled with ancient tomes and magical artifacts. Zephyros, on the other hand, was a majestic dragon with scales that shimmered like molten gold in the sunlight and wings that could eclipse the sun itself. He roamed freely above the mountains, breathing fire and soaring high, yet he was known to be a guardian of the realm, fiercely protecting the land from any threat.\n",
      "\n",
      "For centuries, Alaric and Zephyros lived in harmony, each respecting the other’s space, albeit with the occasional clash of will. They were bound by a deep respect and understanding of the balance between magic and nature. However, as time passed, a dark shadow crept into the kingdom. A malevolent sorceress named Morgath emerged from the depths of the Forbidden Forest, seeking to conquer Eldoria and bend its magic to her will.\n",
      "\n",
      "Morgath was cunning and powerful, capable of weaving dark spells that could bend even the strongest of wills. She began to drain the magic from the land, causing crops to wither and shadows to creep into the hearts of the people. The once-vibrant kingdom grew desolate, and fear spread like wildfire.\n",
      "\n",
      "Realizing the dire state of Eldoria, Alaric summoned Zephyros to his tower. The dragon landed with a thunderous roar, the ground trembling beneath him. \"Alaric, my friend, what troubles you?\" he asked, his voice deep and resonant.\n",
      "\n",
      "\"The kingdom is in peril, Zephyros. Morgath's darkness threatens to consume us all,\" Alaric replied, worry etched across his wise features. \"We must unite our powers to confront her.\"\n",
      "\n",
      "Zephyros lowered his massive head, contemplating. \"I have seen her power grow beyond measure. We will need a plan, for I have faced many foes, but none who wield such dark sorcery.\"\n",
      "\n",
      "Together, they devised a strategy. Alaric would use his ancient spells to create a barrier of light around the kingdom. At the same time, Zephyros would fly high into the skies, drawing Morgath's attention away from the townsfolk, giving them a chance to gather their strength.\n",
      "\n",
      "As dawn broke, the air crackled with tension. Alaric stood firm atop a hill, staff raised high, weaving a spell that would encircle Eldoria in shimmering golden light. Meanwhile, Zephyros soared into the sky, his wings creating powerful gusts of wind that swept across the valley.\n",
      "\n",
      "Morgath, sensing the disturbance, emerged from the depths of the forest. She unleashed a torrent of dark magic, hurling bolts of shadow towards the dragon, but Zephyros twisted and turned, dodging each strike with grace. \"You cannot defeat us, Morgath!\" he roared, his fiery breath igniting the clouds above.\n",
      "\n",
      "The confrontation reached its zenith as Alaric’s barrier of light shimmered brightly, pushing back the shadows encroaching upon the land. With a roar that echoed through the valleys, Zephyros unleashed a torrent of fire, merging it with Alaric’s magic. The combined force created a magnificent explosion of light and heat that shattered Morgath’s darkness, forcing her to stagger back.\n",
      "\n",
      "In that crucial moment, Alaric summoned every ounce of his strength and unleashed a final spell, a brilliant ray of light that struck Morgath squarely. Surrounded by their combined force, the dark sorceress screamed as the brilliance washed over her, purging her vile magic and reducing her to mere shadows.\n",
      "\n",
      "With Morgath defeated, the light returned to Eldoria. Flowers bloomed, the sky cleared, and the people rejoiced, their spirits lifted. Alaric and Zephyros stood together, gazing out at the kingdom they had saved.\n",
      "\n",
      "\"Once again, we have shown how the union of magic and strength can overcome darkness,\" Alaric smiled, his heart full of gratitude for his fiery companion.\n",
      "\n",
      "Zephyros nodded, his eyes glistening with wisdom. \"Together, we shall protect this realm for as long as the sun shines and the stars sparkle. The bond between wizard and dragon is eternal.\"\n",
      "\n",
      "And so it was that Alaric and Zephyros continued their watch over Eldoria, a friendship forged in the fires of battle, ensuring that their kingdom would thrive in peace, united forever against the shadows that threatened to return.\n"
     ]
    }
   ],
   "source": [
    "# FILL IN - create a creative storyteller agent with role and instructions\n",
    "# Remember, the higher temperature the more creative it will be \n",
    "# Then ask it questions like:\n",
    "# Tell me a story about a dragon and a wizard\n",
    "storyteller_agent = Agent(\n",
    "    role=\"Storyteller\", \n",
    "    instructions=\"Create imaginative stories.\", \n",
    "    temperature=0.9\n",
    ")\n",
    "story_response = storyteller_agent.invoke(\"Tell me a story about a dragon and a wizard.\")\n",
    "print(\"Agent role:\", storyteller_agent.role)\n",
    "print(\"Creative Agent Response:\", story_response)"
   ]
  },
  {
   "cell_type": "markdown",
   "metadata": {},
   "source": [
    "## 4. Break things"
   ]
  },
  {
   "cell_type": "markdown",
   "metadata": {},
   "source": [
    "Now that you understood how it works, experiment new things.\n",
    "\n",
    "- Try different roles and instructions.\n",
    "- Adjust the temperature to see how it affects the responses.\n",
    "- Test the agent with real-world questions."
   ]
  }
 ],
 "metadata": {
  "kernelspec": {
   "display_name": "agents",
   "language": "python",
   "name": "python3"
  },
  "language_info": {
   "codemirror_mode": {
    "name": "ipython",
    "version": 3
   },
   "file_extension": ".py",
   "mimetype": "text/x-python",
   "name": "python",
   "nbconvert_exporter": "python",
   "pygments_lexer": "ipython3",
   "version": "3.10.14"
  }
 },
 "nbformat": 4,
 "nbformat_minor": 2
}
