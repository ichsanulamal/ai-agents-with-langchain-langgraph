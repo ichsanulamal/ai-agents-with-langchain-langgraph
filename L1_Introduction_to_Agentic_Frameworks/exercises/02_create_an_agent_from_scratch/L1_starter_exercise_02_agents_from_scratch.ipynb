{
 "cells": [
  {
   "cell_type": "markdown",
   "metadata": {},
   "source": [
    "# Exercise - Create an Agent from Scratch - STARTER"
   ]
  },
  {
   "cell_type": "markdown",
   "metadata": {},
   "source": [
    "In this exercise, you’ll take your first step into the world of autonomous AI systems by building a simple AI Agent from scratch. \n",
    "\n",
    "By the end of this task, you'll have understood that creating spefic roled and instructions to the LLMs will help you build better AI applications."
   ]
  },
  {
   "cell_type": "markdown",
   "metadata": {},
   "source": [
    "**Challenge**\n",
    "\n",
    "In this exercise, you are tasked with creating an abstraction on top of LLMs, that is adaptable and efficient.\n",
    "\n",
    "You're part of an AI development team at a company building virtual assistants for customers in different scenarios."
   ]
  },
  {
   "cell_type": "markdown",
   "metadata": {},
   "source": [
    "## 0. Import the necessary libs"
   ]
  },
  {
   "cell_type": "code",
   "execution_count": 2,
   "metadata": {},
   "outputs": [],
   "source": [
    "from openai import OpenAI"
   ]
  },
  {
   "cell_type": "markdown",
   "metadata": {},
   "source": [
    "## 1. Recap: how to use OpenAI client with your API Key"
   ]
  },
  {
   "cell_type": "markdown",
   "metadata": {},
   "source": [
    "To be able to connect with OpenAI, you need to instantiate an OpenAI client passing your OpenAI key.\n",
    "\n",
    "You can pass the `api_key` argument directly.\n",
    "```python\n",
    "client = OpenAI(api_key=\"sk-\")\n",
    "```\n",
    "Usually the OpenAI API key is a long string starting with `sk-`.\n",
    "\n",
    "\n",
    "Alternatively, can do this implicitly. However to use this approach, you should have a .env file with a variable called OPENAI_API_KEY.\n",
    "```python\n",
    "from dotenv import load_dotenv\n",
    "load_dotenv()\n",
    "client = OpenAI()\n",
    "```\n",
    "\n",
    "Loading an environment variable prevents you from exposing it in your code."
   ]
  },
  {
   "cell_type": "code",
   "execution_count": 3,
   "metadata": {},
   "outputs": [],
   "source": [
    "## FILL IN - Instantiate your client\n",
    "client = OpenAI(\n",
    "    api_key = \"YOUR_API_KEY_HERE\"\n",
    ")"
   ]
  },
  {
   "cell_type": "code",
   "execution_count": null,
   "metadata": {},
   "outputs": [],
   "source": [
    "## FILL IN - Craft your prompts\n",
    "system_prompt = \"\"\n",
    "user_question = \"\""
   ]
  },
  {
   "cell_type": "code",
   "execution_count": null,
   "metadata": {},
   "outputs": [],
   "source": [
    "response = client.chat.completions.create(\n",
    "        model=\"gpt-4o-mini\",\n",
    "        messages=[\n",
    "            {\"role\": \"system\", \"content\": system_prompt},\n",
    "            {\"role\": \"user\", \"content\": user_question},\n",
    "        ],\n",
    "        temperature=0.0,\n",
    "    )\n",
    "response.choices[0].message.content"
   ]
  },
  {
   "cell_type": "markdown",
   "metadata": {},
   "source": [
    "## 2. Define the Agent class"
   ]
  },
  {
   "cell_type": "markdown",
   "metadata": {},
   "source": [
    "In this exercise, you will create the foundational structure of an AI Agent that can process user inputs and generate responses using a language model. This is the first step in designing an interactive agent, and you will focus on defining its essential components.\n",
    "\n",
    "**Objective**\n",
    "\n",
    "Your task is to implement an agent that can:\n",
    "\n",
    "- Be initialized with configurable settings, including a name, role, instructions, and model parameters.\n",
    "- Send user messages to a language model, ensuring that the response aligns with the given role and instructions.\n",
    "- Return the AI-generated response as a string.\n",
    "\n",
    "**Steps**\n",
    "\n",
    "- Create a constructor that allows customization of the agent’s name, role, and instructions.\n",
    "- Ensure the agent interacts with a language model, passing the user message along with system instructions.\n",
    "- Implement a method to handle message processing, ensuring the response is retrieved correctly.\n",
    "\n",
    "**Considerations**\n",
    "\n",
    "- The role and instructions should guide the agent’s behavior in generating responses.\n",
    "- The model's parameters (like temperature) should be configurable.\n",
    "- Ensure the agent maintains simplicity while providing a structured response."
   ]
  },
  {
   "cell_type": "markdown",
   "metadata": {},
   "source": [
    "**Constructor**\n",
    "\n",
    "First of all, create a class called Agent with the following parameters in the `__init__` method:\n",
    "- name (default: \"Agent\")\n",
    "- role (default: \"Personal Assistant\")\n",
    "- instructions (default: \"Help users with any question\")\n",
    "- model (default: \"gpt-4o-mini\")\n",
    "- temperature (default: 0.0)\n",
    "\n",
    "It's recommended having the client being accessible inside your agent."
   ]
  },
  {
   "cell_type": "markdown",
   "metadata": {},
   "source": [
    "**Invoke**\n",
    "\n",
    "Most agentic framworks out there provide an `invoke()` method. For compatibilities reason, we'll do the same. This method should:\n",
    "- take a message as input;\n",
    "- send the message to the LLM's API using the specified model and temperature;\n",
    "- format the API request with the system role and user input;\n",
    "- return the LLM’s response.\n",
    "\n",
    "Notice that your system prompt must consider role and instructions, otherwise it will not behave as you'd like.\n",
    "\n"
   ]
  },
  {
   "cell_type": "code",
   "execution_count": null,
   "metadata": {},
   "outputs": [],
   "source": [
    "class Agent:\n",
    "    # FILL IN - create your constructor with required parameters\n",
    "    def __init__(self):\n",
    "        # FILL IN - Instantiate your client properly\n",
    "        self.agent = OpenAI()\n",
    "    \n",
    "    # FILL IN - create the logic for your invoke() method\n",
    "    def invoke(self, message: str) -> str:\n",
    "        return\n"
   ]
  },
  {
   "cell_type": "markdown",
   "metadata": {},
   "source": [
    "## 3. Build some agents and have fun"
   ]
  },
  {
   "cell_type": "markdown",
   "metadata": {},
   "source": [
    "Create some specific agents and invoke them"
   ]
  },
  {
   "cell_type": "code",
   "execution_count": null,
   "metadata": {},
   "outputs": [],
   "source": [
    "# FILL IN - create a default agent with role and instructions\n",
    "# Then ask it simple questions like:  \n",
    "# \"What is the capital of France?\"\n",
    "agent = Agent()"
   ]
  },
  {
   "cell_type": "code",
   "execution_count": null,
   "metadata": {},
   "outputs": [],
   "source": [
    "# FILL IN - create a travel agent with role and instructions\n",
    "# Then ask it questions like:\n",
    "# Where should I go for vacation in December?\n",
    "travel_agent ="
   ]
  },
  {
   "cell_type": "code",
   "execution_count": null,
   "metadata": {},
   "outputs": [],
   "source": [
    "# FILL IN - create a math tutor agent with role and instructions\n",
    "# Then ask it questions like:\n",
    "# How do I solve a quadratic equation?\n",
    "math_tutor_agent ="
   ]
  },
  {
   "cell_type": "code",
   "execution_count": null,
   "metadata": {},
   "outputs": [],
   "source": [
    "# FILL IN - create a creative storyteller agent with role and instructions\n",
    "# Remember, the higher temperature the more creative it will be \n",
    "# Then ask it questions like:\n",
    "# Tell me a story about a dragon and a wizard\n",
    "storyteller_agent ="
   ]
  },
  {
   "cell_type": "markdown",
   "metadata": {},
   "source": [
    "## 4. Break things"
   ]
  },
  {
   "cell_type": "markdown",
   "metadata": {},
   "source": [
    "Now that you understood how it works, experiment new things.\n",
    "\n",
    "- Try different roles and instructions.\n",
    "- Adjust the temperature to see how it affects the responses.\n",
    "- Test the agent with real-world questions."
   ]
  }
 ],
 "metadata": {
  "kernelspec": {
   "display_name": "agents",
   "language": "python",
   "name": "python3"
  },
  "language_info": {
   "codemirror_mode": {
    "name": "ipython",
    "version": 3
   },
   "file_extension": ".py",
   "mimetype": "text/x-python",
   "name": "python",
   "nbconvert_exporter": "python",
   "pygments_lexer": "ipython3",
   "version": "3.10.14"
  }
 },
 "nbformat": 4,
 "nbformat_minor": 2
}
