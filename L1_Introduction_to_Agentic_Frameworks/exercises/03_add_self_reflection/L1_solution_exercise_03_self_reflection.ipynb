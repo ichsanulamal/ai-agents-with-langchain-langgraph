{
 "cells": [
  {
   "cell_type": "markdown",
   "metadata": {},
   "source": [
    "# Exercise - Add Memory and Self-reflection - SOLUTION"
   ]
  },
  {
   "cell_type": "markdown",
   "metadata": {},
   "source": [
    "In this exercise, you’ll enhance your AI agent by adding self-reflection and memory. These features allow the agent to iteratively critique its responses and improve over time while maintaining a log of all interactions. \n",
    "\n",
    "This mimics how human learning and feedback loops work, pushing your agent towards more refined and accurate outputs."
   ]
  },
  {
   "cell_type": "markdown",
   "metadata": {},
   "source": [
    "**Challenge**\n",
    "\n",
    "In this exercise, you are tasked with upgrading the existing agent. This version can learn from its previous answers, identify mistakes, and refine its responses automatically."
   ]
  },
  {
   "cell_type": "markdown",
   "metadata": {},
   "source": [
    "## 0. Import the necessary libs"
   ]
  },
  {
   "cell_type": "code",
   "execution_count": 1,
   "metadata": {},
   "outputs": [],
   "source": [
    "import json\n",
    "from typing import List, Dict, Literal\n",
    "from openai import OpenAI\n",
    "from openai.types.chat.chat_completion_message import ChatCompletionMessage"
   ]
  },
  {
   "cell_type": "markdown",
   "metadata": {},
   "source": [
    "## 1. Recap: how to use OpenAI client with your API Key"
   ]
  },
  {
   "cell_type": "markdown",
   "metadata": {},
   "source": [
    "To be able to connect with OpenAI, you need to instantiate an OpenAI client passing your OpenAI key.\n",
    "\n",
    "You can pass the `api_key` argument directly.\n",
    "```python\n",
    "client = OpenAI(api_key=\"voc-\")\n",
    "```"
   ]
  },
  {
   "cell_type": "code",
   "execution_count": 2,
   "metadata": {},
   "outputs": [],
   "source": [
    "from dotenv import load_dotenv\n",
    "load_dotenv()\n",
    "client = OpenAI()"
   ]
  },
  {
   "cell_type": "code",
   "execution_count": 3,
   "metadata": {},
   "outputs": [
    {
     "data": {
      "text/plain": [
       "\"I don't have access to previous interactions or any specific information about what you've asked before. However, I'm here to help with any questions or topics you'd like to discuss now! What can I assist you with today?\""
      ]
     },
     "execution_count": 3,
     "metadata": {},
     "output_type": "execute_result"
    }
   ],
   "source": [
    "response = client.chat.completions.create(\n",
    "        model=\"gpt-4o-mini\",\n",
    "        messages=[\n",
    "            {\"role\": \"system\", \"content\": \"Answer all user questions\"},\n",
    "            {\"role\": \"user\", \"content\":\"What have I asked?\"},\n",
    "        ],\n",
    "        temperature=0.0,\n",
    "    )\n",
    "response.choices[0].message.content"
   ]
  },
  {
   "cell_type": "markdown",
   "metadata": {},
   "source": [
    "## 2. Recap: Adding Memory"
   ]
  },
  {
   "cell_type": "markdown",
   "metadata": {},
   "source": [
    "In order to add reflection, you need to make sure your agent can keep  track of all interactions. Let's quickly recap how to do it with a simple list."
   ]
  },
  {
   "cell_type": "code",
   "execution_count": 4,
   "metadata": {},
   "outputs": [],
   "source": [
    "memory = [\n",
    "    {\"role\": \"system\", \"content\": \"Answer all user questions\"},\n",
    "    {\"role\": \"user\", \"content\": \"What's an API\"},\n",
    "]"
   ]
  },
  {
   "cell_type": "code",
   "execution_count": 5,
   "metadata": {},
   "outputs": [
    {
     "data": {
      "text/plain": [
       "[{'role': 'system', 'content': 'Answer all user questions'},\n",
       " {'role': 'user', 'content': \"What's an API\"},\n",
       " {'role': 'assistant',\n",
       "  'content': 'An API, or Application Programming Interface, is a set of rules and protocols that allows different software applications to communicate with each other. It defines the methods and data formats that applications can use to request and exchange information. APIs enable developers to access the functionality of other software services, libraries, or platforms without needing to understand their internal workings.\\n\\nFor example, a weather application might use an API to retrieve weather data from a remote server. The API specifies how the application can request the data (e.g., through HTTP requests) and what format the data will be returned in (e.g., JSON or XML). This allows developers to build applications that can leverage existing services and data, facilitating integration and enhancing functionality.'}]"
      ]
     },
     "execution_count": 5,
     "metadata": {},
     "output_type": "execute_result"
    }
   ],
   "source": [
    "new_response = client.chat.completions.create(\n",
    "    model=\"gpt-4o-mini\",\n",
    "    messages=memory,\n",
    "    temperature=0.0,\n",
    ")\n",
    "\n",
    "memory.append(\n",
    "    {\"role\": \"assistant\", \"content\": new_response.choices[0].message.content}\n",
    ")\n",
    "\n",
    "memory"
   ]
  },
  {
   "cell_type": "code",
   "execution_count": 6,
   "metadata": {},
   "outputs": [
    {
     "data": {
      "text/plain": [
       "[{'role': 'system', 'content': 'Answer all user questions'},\n",
       " {'role': 'user', 'content': \"What's an API\"},\n",
       " {'role': 'assistant',\n",
       "  'content': 'An API, or Application Programming Interface, is a set of rules and protocols that allows different software applications to communicate with each other. It defines the methods and data formats that applications can use to request and exchange information. APIs enable developers to access the functionality of other software services, libraries, or platforms without needing to understand their internal workings.\\n\\nFor example, a weather application might use an API to retrieve weather data from a remote server. The API specifies how the application can request the data (e.g., through HTTP requests) and what format the data will be returned in (e.g., JSON or XML). This allows developers to build applications that can leverage existing services and data, facilitating integration and enhancing functionality.'},\n",
       " {'role': 'user', 'content': 'What have I asked?'}]"
      ]
     },
     "execution_count": 6,
     "metadata": {},
     "output_type": "execute_result"
    }
   ],
   "source": [
    "memory.append(\n",
    "    {\"role\": \"user\", \"content\": \"What have I asked?\"}\n",
    ")\n",
    "\n",
    "memory"
   ]
  },
  {
   "cell_type": "code",
   "execution_count": 7,
   "metadata": {},
   "outputs": [
    {
     "data": {
      "text/plain": [
       "[{'role': 'system', 'content': 'Answer all user questions'},\n",
       " {'role': 'user', 'content': \"What's an API\"},\n",
       " {'role': 'assistant',\n",
       "  'content': 'An API, or Application Programming Interface, is a set of rules and protocols that allows different software applications to communicate with each other. It defines the methods and data formats that applications can use to request and exchange information. APIs enable developers to access the functionality of other software services, libraries, or platforms without needing to understand their internal workings.\\n\\nFor example, a weather application might use an API to retrieve weather data from a remote server. The API specifies how the application can request the data (e.g., through HTTP requests) and what format the data will be returned in (e.g., JSON or XML). This allows developers to build applications that can leverage existing services and data, facilitating integration and enhancing functionality.'},\n",
       " {'role': 'user', 'content': 'What have I asked?'},\n",
       " {'role': 'assistant',\n",
       "  'content': 'You asked, \"What\\'s an API?\" and I provided an explanation of what an API (Application Programming Interface) is, including its purpose and how it facilitates communication between software applications. If you have any more questions or need further clarification, feel free to ask!'}]"
      ]
     },
     "execution_count": 7,
     "metadata": {},
     "output_type": "execute_result"
    }
   ],
   "source": [
    "new_response = client.chat.completions.create(\n",
    "    model=\"gpt-4o-mini\",\n",
    "    messages=memory,\n",
    "    temperature=0.0,\n",
    ")\n",
    "\n",
    "memory.append(\n",
    "    {\"role\": \"assistant\", \"content\": new_response.choices[0].message.content}\n",
    ")\n",
    "\n",
    "memory"
   ]
  },
  {
   "cell_type": "markdown",
   "metadata": {},
   "source": [
    "## 3. Create a memory layer"
   ]
  },
  {
   "cell_type": "markdown",
   "metadata": {},
   "source": [
    "Now that you remember how to use a list of messages, it's recommended to have a proper class to deal with more complicated cases.\n",
    "\n",
    "Create the Memory class and add the necessay methods to it."
   ]
  },
  {
   "cell_type": "code",
   "execution_count": 8,
   "metadata": {},
   "outputs": [],
   "source": [
    "class Memory:\n",
    "    def __init__(self):\n",
    "        self._messages: List[Dict[str, str]] = []\n",
    "\n",
    "    def add_message(self, role: Literal['user', 'system', 'assistant'], content: str):\n",
    "        self._messages.append({\n",
    "            \"role\": role,\n",
    "            \"content\": content\n",
    "        })\n",
    "\n",
    "    def get_messages(self) -> List[Dict[str, str]]:\n",
    "        return self._messages\n",
    "\n",
    "    # A new method\n",
    "    def last_message(self) -> None:\n",
    "        if self._messages:\n",
    "            return self._messages[-1]"
   ]
  },
  {
   "cell_type": "markdown",
   "metadata": {},
   "source": [
    "## 4. Update the Agent class"
   ]
  },
  {
   "cell_type": "markdown",
   "metadata": {},
   "source": [
    "In this exercise, you will enhance the AI Agent with self-reflection capabilities, allowing it to critique its own responses and refine them iteratively. This feature enables the agent to evaluate its output and improve the response quality before delivering a final answer.\n",
    "\n",
    "**Objective**\n",
    "\n",
    "Your task is to modify the agent so that it can:\n",
    "\n",
    "- Store conversation history – Implement a memory mechanism to track interactions.\n",
    "- Generate an initial response – Process user input and return a response using the language model.\n",
    "- Critique its own response when enabled – If self-reflection is activated, the agent should generate feedback on its own answer.\n",
    "- Refine its response iteratively – Based on the self-critique, the agent should adjust its reply, improving clarity, accuracy, and relevance.\n",
    "\n",
    "**Steps**\n",
    "\n",
    "- Implement a memory layer to retain conversation history.\n",
    "- Introduce a self-reflection mechanism that allows the agent to analyze its response and refine it.\n",
    "- Limit the number of self-reflection iterations to prevent excessive loops (minimum 1, maximum 3).\n",
    "- Ensure flexibility by allowing users to toggle self-reflection on or off.\n",
    "\n",
    "**Considerations**\n",
    "\n",
    "- The agent should always generate at least one response before self-reflection.\n",
    "- If self-reflection is enabled, it should run at least once more to critique and improve its output.\n",
    "- The number of iterations should be controlled and not exceed three refinements.\n",
    "- Implement logging functionality (verbose mode) to track the refinement process."
   ]
  },
  {
   "cell_type": "markdown",
   "metadata": {},
   "source": [
    "**Invoke**\n",
    "\n",
    "Refactor `invoke()` method. This method now should include:\n",
    "- self_reflection paramenter (default: False);\n",
    "- max_iter parameter (default: 1);\n",
    "\n",
    "If self_reflection is set to True, it should use a loop to generate an initial response. Then critiquing and refining the response in subsequent iterations up to the number of iterations defined in max_iter.\n",
    "\n",
    "Use the self.memory to store each step."
   ]
  },
  {
   "cell_type": "markdown",
   "metadata": {},
   "source": [
    "Rules for self-reflection:\n",
    "\n",
    "- Don't allow values less than 1\n",
    "- Don't allow values greater than 3\n",
    "- Max iter is controlled by self_reflection flag. \n",
    "- If set to true, it needs to call the LLM at least once more for the criticism"
   ]
  },
  {
   "cell_type": "markdown",
   "metadata": {},
   "source": [
    "Your self critique prompt should start with something like: `Reflect on your previous response`.\n",
    "Extend it to make sure it identifies errors and provides a revised version."
   ]
  },
  {
   "cell_type": "code",
   "execution_count": 9,
   "metadata": {},
   "outputs": [],
   "source": [
    "SELF_CRITIQUE_PROMPT = \"\"\"\n",
    "Reflect on your previous response...\n",
    "Identify any mistakes, areas for improvement, or ways to clarify the answer, making it more concise. \n",
    "Provide a revised response if necessary in a Json Output structure:\n",
    "{\n",
    "    \"original_response\": \"\",\n",
    "    \"revisions_needed\": \"\",\n",
    "    \"updated_response\": \"\"\n",
    "}\n",
    "\"\"\""
   ]
  },
  {
   "cell_type": "code",
   "execution_count": 10,
   "metadata": {},
   "outputs": [],
   "source": [
    "class Agent:\n",
    "    \"\"\"A self-reflection AI Agent\"\"\"\n",
    "\n",
    "    def __init__(\n",
    "        self,\n",
    "        name:str = \"Agent\", \n",
    "        role:str = \"Personal Assistant\",\n",
    "        instructions:str = \"Help users with any question\",\n",
    "        model:str = \"gpt-4o-mini\",\n",
    "        temperature:float = 0.0,\n",
    "    ):\n",
    "        self.name = name\n",
    "        self.role = role\n",
    "        self.instructions = instructions\n",
    "        self.model = model\n",
    "        self.temperature = temperature\n",
    "\n",
    "        self.client = OpenAI()\n",
    "\n",
    "        self.memory = Memory()\n",
    "        self.memory.add_message(\n",
    "            role=\"system\",\n",
    "            content=f\"You're an AI Agent, your role is {self.role}, \" \n",
    "                    f\"and you need to {self.instructions}\",\n",
    "        )\n",
    "\n",
    "        self.critique_prompt = SELF_CRITIQUE_PROMPT\n",
    "    \n",
    "    def invoke(self, \n",
    "               user_message: str, \n",
    "               self_reflection: bool = False, \n",
    "               max_iter: int = 1, \n",
    "               verbose: bool = False) -> str:\n",
    "    \n",
    "        # Rules\n",
    "        # - Don't allow values less than 1\n",
    "        # - Don't allow values greater than 3\n",
    "        # - Max iter is controlled by self_reflection flag. \n",
    "        # - If set to true, it needs to call the LLM at least once more for the criticism\n",
    "\n",
    "        self.memory.add_message(\n",
    "            role=\"user\",\n",
    "            content=user_message\n",
    "        )\n",
    "        if verbose:\n",
    "            self._log_last_message()\n",
    "\n",
    "        max_iter = max_iter if max_iter >= 1 else 1\n",
    "        max_iter = max_iter if max_iter <= 3 else 3\n",
    "        max_iter = max_iter if self_reflection else 0.5\n",
    "        loops = 2 * max_iter\n",
    "\n",
    "        for i in range(loops):\n",
    "            ai_message = self._get_completion(\n",
    "                messages = self.memory.get_messages()\n",
    "            )\n",
    "\n",
    "            self.memory.add_message(\n",
    "                role = \"assistant\",\n",
    "                content = ai_message.content,\n",
    "            )\n",
    "            if verbose:\n",
    "                self._log_last_message()\n",
    "\n",
    "            if i < loops - 1:\n",
    "                self.memory.add_message(\n",
    "                    role = \"user\", \n",
    "                    content = self.critique_prompt\n",
    "                )\n",
    "                if verbose:\n",
    "                    self._log_last_message()\n",
    "\n",
    "                ai_message = self._get_completion(\n",
    "                    messages = self.memory.get_messages()\n",
    "                )\n",
    "\n",
    "    def _get_completion(self, messages:List[Dict])-> ChatCompletionMessage:\n",
    "        response = self.client.chat.completions.create(\n",
    "            model=self.model,\n",
    "            temperature=self.temperature,\n",
    "            messages=messages\n",
    "        )\n",
    "        \n",
    "        return response.choices[0].message\n",
    "\n",
    "    def _log_last_message(self):\n",
    "        print(f\"### {self.memory.last_message()['role']} message ###\\n\".upper())\n",
    "        print(f\"{self.memory.last_message()['content']} \\n\")\n",
    "        print(\"\\n________________________________________________________________\\n\")\n"
   ]
  },
  {
   "cell_type": "markdown",
   "metadata": {},
   "source": [
    "## 5. Build some agents and have fun"
   ]
  },
  {
   "cell_type": "markdown",
   "metadata": {},
   "source": [
    "Create some specific agents and invoke them with self_reflection = True"
   ]
  },
  {
   "cell_type": "code",
   "execution_count": 11,
   "metadata": {},
   "outputs": [
    {
     "name": "stdout",
     "output_type": "stream",
     "text": [
      "### USER MESSAGE ###\n",
      "\n",
      "Pick only one. Who is the best character in Game of Thrones? \n",
      "\n",
      "\n",
      "________________________________________________________________\n",
      "\n",
      "### ASSISTANT MESSAGE ###\n",
      "\n",
      "Choosing the best character in \"Game of Thrones\" is subjective, but many fans often cite Tyrion Lannister as a standout. His wit, intelligence, and moral complexity make him a compelling character throughout the series. However, opinions vary widely, and others might argue for characters like Jon Snow, Daenerys Targaryen, or Arya Stark. Who's your favorite? \n",
      "\n",
      "\n",
      "________________________________________________________________\n",
      "\n",
      "### USER MESSAGE ###\n",
      "\n",
      "\n",
      "Reflect on your previous response...\n",
      "Identify any mistakes, areas for improvement, or ways to clarify the answer, making it more concise. \n",
      "Provide a revised response if necessary in a Json Output structure:\n",
      "{\n",
      "    \"original_response\": \"\",\n",
      "    \"revisions_needed\": \"\",\n",
      "    \"updated_response\": \"\"\n",
      "}\n",
      " \n",
      "\n",
      "\n",
      "________________________________________________________________\n",
      "\n",
      "### ASSISTANT MESSAGE ###\n",
      "\n",
      "{\n",
      "    \"original_response\": \"Choosing the best character in 'Game of Thrones' is subjective, but many fans often cite Tyrion Lannister as a standout. His wit, intelligence, and moral complexity make him a compelling character throughout the series. However, opinions vary widely, and others might argue for characters like Jon Snow, Daenerys Targaryen, or Arya Stark. Who's your favorite?\",\n",
      "    \"revisions_needed\": \"The response could be more concise and focused on the subjective nature of the question without listing multiple characters. It should also avoid asking a follow-up question to keep it straightforward.\",\n",
      "    \"updated_response\": \"Many fans consider Tyrion Lannister the best character in 'Game of Thrones' due to his wit and complexity, but opinions vary widely.\"\n",
      "} \n",
      "\n",
      "\n",
      "________________________________________________________________\n",
      "\n"
     ]
    }
   ],
   "source": [
    "agent = Agent()\n",
    "agent.invoke(\n",
    "    user_message=\"Pick only one. Who is the best character in Game of Thrones?\",\n",
    "    self_reflection=True,\n",
    "    verbose=True,\n",
    ")"
   ]
  },
  {
   "cell_type": "code",
   "execution_count": 12,
   "metadata": {},
   "outputs": [
    {
     "data": {
      "text/plain": [
       "[{'role': 'system',\n",
       "  'content': \"You're an AI Agent, your role is Personal Assistant, and you need to Help users with any question\"},\n",
       " {'role': 'user',\n",
       "  'content': 'Pick only one. Who is the best character in Game of Thrones?'},\n",
       " {'role': 'assistant',\n",
       "  'content': 'Choosing the best character in \"Game of Thrones\" is subjective, but many fans often cite Tyrion Lannister as a standout. His wit, intelligence, and moral complexity make him a compelling character throughout the series. However, opinions vary widely, and others might argue for characters like Jon Snow, Daenerys Targaryen, or Arya Stark. Who\\'s your favorite?'},\n",
       " {'role': 'user',\n",
       "  'content': '\\nReflect on your previous response...\\nIdentify any mistakes, areas for improvement, or ways to clarify the answer, making it more concise. \\nProvide a revised response if necessary in a Json Output structure:\\n{\\n    \"original_response\": \"\",\\n    \"revisions_needed\": \"\",\\n    \"updated_response\": \"\"\\n}\\n'},\n",
       " {'role': 'assistant',\n",
       "  'content': '{\\n    \"original_response\": \"Choosing the best character in \\'Game of Thrones\\' is subjective, but many fans often cite Tyrion Lannister as a standout. His wit, intelligence, and moral complexity make him a compelling character throughout the series. However, opinions vary widely, and others might argue for characters like Jon Snow, Daenerys Targaryen, or Arya Stark. Who\\'s your favorite?\",\\n    \"revisions_needed\": \"The response could be more concise and focused on the subjective nature of the question without listing multiple characters. It should also avoid asking a follow-up question to keep it straightforward.\",\\n    \"updated_response\": \"Many fans consider Tyrion Lannister the best character in \\'Game of Thrones\\' due to his wit and complexity, but opinions vary widely.\"\\n}'}]"
      ]
     },
     "execution_count": 12,
     "metadata": {},
     "output_type": "execute_result"
    }
   ],
   "source": [
    "agent.memory.get_messages()"
   ]
  },
  {
   "cell_type": "code",
   "execution_count": 13,
   "metadata": {},
   "outputs": [
    {
     "data": {
      "text/plain": [
       "\"Many fans consider Tyrion Lannister the best character in 'Game of Thrones' due to his wit and complexity, but opinions vary widely.\""
      ]
     },
     "execution_count": 13,
     "metadata": {},
     "output_type": "execute_result"
    }
   ],
   "source": [
    "json.loads(agent.memory.last_message()[\"content\"])[\"updated_response\"]"
   ]
  },
  {
   "cell_type": "markdown",
   "metadata": {},
   "source": [
    "## 6. Experiment"
   ]
  },
  {
   "cell_type": "markdown",
   "metadata": {},
   "source": [
    "Now that you understood how it works, experiment with new things.\n",
    "\n",
    "- Experiment new critique prompts\n",
    "- What happens when you increase the number of iterations?\n",
    "- Try accessing the memory to inspect it (agent.memory) instead of reading the outputs (verbose=False)\n",
    "- What else can you try?"
   ]
  }
 ],
 "metadata": {
  "kernelspec": {
   "display_name": "agents",
   "language": "python",
   "name": "python3"
  },
  "language_info": {
   "codemirror_mode": {
    "name": "ipython",
    "version": 3
   },
   "file_extension": ".py",
   "mimetype": "text/x-python",
   "name": "python",
   "nbconvert_exporter": "python",
   "pygments_lexer": "ipython3",
   "version": "3.10.14"
  }
 },
 "nbformat": 4,
 "nbformat_minor": 2
}
