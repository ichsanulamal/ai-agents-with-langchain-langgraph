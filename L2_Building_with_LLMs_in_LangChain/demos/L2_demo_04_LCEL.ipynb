{
 "cells": [
  {
   "cell_type": "code",
   "execution_count": 34,
   "metadata": {},
   "outputs": [],
   "source": [
    "from langchain_openai import ChatOpenAI\n",
    "from langchain_core.prompts import PromptTemplate\n",
    "from langchain_core.output_parsers import StrOutputParser\n",
    "from langchain_core.runnables import RunnableSequence, RunnableLambda, RunnableParallel\n",
    "from langchain_core.tracers.context import collect_runs"
   ]
  },
  {
   "cell_type": "markdown",
   "metadata": {},
   "source": [
    "## Chaining invocations"
   ]
  },
  {
   "cell_type": "code",
   "execution_count": 2,
   "metadata": {},
   "outputs": [],
   "source": [
    "from dotenv import load_dotenv\n",
    "load_dotenv()\n",
    "llm = ChatOpenAI(\n",
    "    model=\"gpt-4o-mini\",\n",
    "    temperature=0.0,\n",
    ")"
   ]
  },
  {
   "cell_type": "code",
   "execution_count": 3,
   "metadata": {},
   "outputs": [],
   "source": [
    "prompt = PromptTemplate(\n",
    "    template=\"Tell me a joke about {topic}\"\n",
    ")"
   ]
  },
  {
   "cell_type": "code",
   "execution_count": 4,
   "metadata": {},
   "outputs": [],
   "source": [
    "parser = StrOutputParser()"
   ]
  },
  {
   "cell_type": "code",
   "execution_count": 5,
   "metadata": {},
   "outputs": [
    {
     "data": {
      "text/plain": [
       "'Why do Python programmers prefer dark mode?\\n\\nBecause light attracts bugs! 🐍✨'"
      ]
     },
     "execution_count": 5,
     "metadata": {},
     "output_type": "execute_result"
    }
   ],
   "source": [
    "parser.invoke(\n",
    "    llm.invoke(\n",
    "        prompt.invoke(\n",
    "            {\"topic\": \"Python\"}\n",
    "        )\n",
    "    )\n",
    ")"
   ]
  },
  {
   "cell_type": "markdown",
   "metadata": {},
   "source": [
    "## Runnables"
   ]
  },
  {
   "cell_type": "markdown",
   "metadata": {},
   "source": [
    "Runnables can be \n",
    "- executed\n",
    "    - invoke(), \n",
    "    - batch() \n",
    "    - and stream()\n",
    "- inspected,\n",
    "- and composed"
   ]
  },
  {
   "cell_type": "code",
   "execution_count": 6,
   "metadata": {},
   "outputs": [],
   "source": [
    "runnables = [prompt, llm, parser]"
   ]
  },
  {
   "cell_type": "markdown",
   "metadata": {},
   "source": [
    "**Execute methods**"
   ]
  },
  {
   "cell_type": "code",
   "execution_count": 7,
   "metadata": {},
   "outputs": [
    {
     "name": "stdout",
     "output_type": "stream",
     "text": [
      "PromptTemplate\n",
      "\tINVOKE: <bound method BasePromptTemplate.invoke of PromptTemplate(input_variables=['topic'], input_types={}, partial_variables={}, template='Tell me a joke about {topic}')>\n",
      "\tBATCH: <bound method Runnable.batch of PromptTemplate(input_variables=['topic'], input_types={}, partial_variables={}, template='Tell me a joke about {topic}')>\n",
      "\tSTREAM: <bound method Runnable.stream of PromptTemplate(input_variables=['topic'], input_types={}, partial_variables={}, template='Tell me a joke about {topic}')>\n",
      "\n",
      "ChatOpenAI\n",
      "\tINVOKE: <bound method BaseChatModel.invoke of ChatOpenAI(client=<openai.resources.chat.completions.Completions object at 0x115783790>, async_client=<openai.resources.chat.completions.AsyncCompletions object at 0x115a260b0>, root_client=<openai.OpenAI object at 0x1157092d0>, root_async_client=<openai.AsyncOpenAI object at 0x115783490>, model_name='gpt-4o-mini', temperature=0.0, model_kwargs={}, openai_api_key=SecretStr('**********'))>\n",
      "\tBATCH: <bound method Runnable.batch of ChatOpenAI(client=<openai.resources.chat.completions.Completions object at 0x115783790>, async_client=<openai.resources.chat.completions.AsyncCompletions object at 0x115a260b0>, root_client=<openai.OpenAI object at 0x1157092d0>, root_async_client=<openai.AsyncOpenAI object at 0x115783490>, model_name='gpt-4o-mini', temperature=0.0, model_kwargs={}, openai_api_key=SecretStr('**********'))>\n",
      "\tSTREAM: <bound method BaseChatModel.stream of ChatOpenAI(client=<openai.resources.chat.completions.Completions object at 0x115783790>, async_client=<openai.resources.chat.completions.AsyncCompletions object at 0x115a260b0>, root_client=<openai.OpenAI object at 0x1157092d0>, root_async_client=<openai.AsyncOpenAI object at 0x115783490>, model_name='gpt-4o-mini', temperature=0.0, model_kwargs={}, openai_api_key=SecretStr('**********'))>\n",
      "\n",
      "StrOutputParser\n",
      "\tINVOKE: <bound method BaseOutputParser.invoke of StrOutputParser()>\n",
      "\tBATCH: <bound method Runnable.batch of StrOutputParser()>\n",
      "\tSTREAM: <bound method Runnable.stream of StrOutputParser()>\n",
      "\n"
     ]
    }
   ],
   "source": [
    "for runnable in runnables:\n",
    "    print(f\"{repr(runnable).split('(')[0]}\")\n",
    "    print(f\"\\tINVOKE: {repr(runnable.invoke)}\")\n",
    "    print(f\"\\tBATCH: {repr(runnable.batch)}\")\n",
    "    print(f\"\\tSTREAM: {repr(runnable.stream)}\\n\")"
   ]
  },
  {
   "cell_type": "markdown",
   "metadata": {},
   "source": [
    "**Inspect**"
   ]
  },
  {
   "cell_type": "code",
   "execution_count": 8,
   "metadata": {},
   "outputs": [
    {
     "name": "stdout",
     "output_type": "stream",
     "text": [
      "PromptTemplate\n",
      "\tINPUT: <class 'langchain_core.utils.pydantic.PromptInput'>\n",
      "\tOUTPUT: <class 'langchain_core.prompts.prompt.PromptTemplateOutput'>\n",
      "\tCONFIG: <class 'langchain_core.utils.pydantic.PromptTemplateConfig'>\n",
      "\n",
      "ChatOpenAI\n",
      "\tINPUT: <class 'langchain_openai.chat_models.base.ChatOpenAIInput'>\n",
      "\tOUTPUT: <class 'langchain_openai.chat_models.base.ChatOpenAIOutput'>\n",
      "\tCONFIG: <class 'langchain_core.utils.pydantic.ChatOpenAIConfig'>\n",
      "\n",
      "StrOutputParser\n",
      "\tINPUT: <class 'langchain_core.output_parsers.string.StrOutputParserInput'>\n",
      "\tOUTPUT: <class 'langchain_core.output_parsers.string.StrOutputParserOutput'>\n",
      "\tCONFIG: <class 'langchain_core.utils.pydantic.StrOutputParserConfig'>\n",
      "\n"
     ]
    }
   ],
   "source": [
    "for runnable in runnables:\n",
    "    print(f\"{repr(runnable).split('(')[0]}\")\n",
    "    print(f\"\\tINPUT: {repr(runnable.get_input_schema())}\")\n",
    "    print(f\"\\tOUTPUT: {repr(runnable.get_output_schema())}\")\n",
    "    print(f\"\\tCONFIG: {repr(runnable.config_schema())}\\n\")"
   ]
  },
  {
   "cell_type": "markdown",
   "metadata": {},
   "source": [
    "**Config**"
   ]
  },
  {
   "cell_type": "code",
   "execution_count": 45,
   "metadata": {},
   "outputs": [],
   "source": [
    "with collect_runs() as run_collection:\n",
    "    result = llm.invoke(\n",
    "        \"Hello\", \n",
    "        config={\n",
    "            'run_name': 'demo_run', \n",
    "            'tags': ['demo', 'lcel'], \n",
    "            'metadata': {'lesson': 2}\n",
    "        }\n",
    "    )"
   ]
  },
  {
   "cell_type": "code",
   "execution_count": 46,
   "metadata": {},
   "outputs": [
    {
     "data": {
      "text/plain": [
       "[RunTree(id=039e3935-48d3-4803-9614-4375748852ca, name='demo_run', run_type='llm', dotted_order='20250216T183410226772Z039e3935-48d3-4803-9614-4375748852ca')]"
      ]
     },
     "execution_count": 46,
     "metadata": {},
     "output_type": "execute_result"
    }
   ],
   "source": [
    "run_collection.traced_runs"
   ]
  },
  {
   "cell_type": "code",
   "execution_count": 48,
   "metadata": {},
   "outputs": [
    {
     "data": {
      "text/plain": [
       "{'id': UUID('039e3935-48d3-4803-9614-4375748852ca'),\n",
       " 'name': 'demo_run',\n",
       " 'start_time': datetime.datetime(2025, 2, 16, 18, 34, 10, 226772, tzinfo=datetime.timezone.utc),\n",
       " 'run_type': 'llm',\n",
       " 'end_time': datetime.datetime(2025, 2, 16, 18, 34, 10, 979412, tzinfo=datetime.timezone.utc),\n",
       " 'extra': {'invocation_params': {'model': 'gpt-4o-mini',\n",
       "   'model_name': 'gpt-4o-mini',\n",
       "   'stream': False,\n",
       "   'n': 1,\n",
       "   'temperature': 0.0,\n",
       "   '_type': 'openai-chat',\n",
       "   'stop': None},\n",
       "  'options': {'stop': None},\n",
       "  'batch_size': 1,\n",
       "  'metadata': {'lesson': 2,\n",
       "   'ls_provider': 'openai',\n",
       "   'ls_model_name': 'gpt-4o-mini',\n",
       "   'ls_model_type': 'chat',\n",
       "   'ls_temperature': 0.0}},\n",
       " 'error': None,\n",
       " 'serialized': {'lc': 1,\n",
       "  'type': 'constructor',\n",
       "  'id': ['langchain', 'chat_models', 'openai', 'ChatOpenAI'],\n",
       "  'kwargs': {'model_name': 'gpt-4o-mini',\n",
       "   'temperature': 0.0,\n",
       "   'openai_api_key': {'lc': 1, 'type': 'secret', 'id': ['OPENAI_API_KEY']},\n",
       "   'max_retries': 2,\n",
       "   'n': 1},\n",
       "  'name': 'ChatOpenAI'},\n",
       " 'events': [{'name': 'start',\n",
       "   'time': datetime.datetime(2025, 2, 16, 18, 34, 10, 226772, tzinfo=datetime.timezone.utc)},\n",
       "  {'name': 'end',\n",
       "   'time': datetime.datetime(2025, 2, 16, 18, 34, 10, 979412, tzinfo=datetime.timezone.utc)}],\n",
       " 'inputs': {'prompts': ['Human: Hello']},\n",
       " 'outputs': {'generations': [[{'text': 'Hello! How can I assist you today?',\n",
       "     'generation_info': {'finish_reason': 'stop', 'logprobs': None},\n",
       "     'type': 'ChatGeneration',\n",
       "     'message': {'lc': 1,\n",
       "      'type': 'constructor',\n",
       "      'id': ['langchain', 'schema', 'messages', 'AIMessage'],\n",
       "      'kwargs': {'content': 'Hello! How can I assist you today?',\n",
       "       'additional_kwargs': {'refusal': None},\n",
       "       'response_metadata': {'token_usage': {'completion_tokens': 10,\n",
       "         'prompt_tokens': 8,\n",
       "         'total_tokens': 18,\n",
       "         'completion_tokens_details': {'accepted_prediction_tokens': 0,\n",
       "          'audio_tokens': 0,\n",
       "          'reasoning_tokens': 0,\n",
       "          'rejected_prediction_tokens': 0},\n",
       "         'prompt_tokens_details': {'audio_tokens': 0, 'cached_tokens': 0}},\n",
       "        'model_name': 'gpt-4o-mini-2024-07-18',\n",
       "        'system_fingerprint': 'fp_00428b782a',\n",
       "        'finish_reason': 'stop',\n",
       "        'logprobs': None},\n",
       "       'type': 'ai',\n",
       "       'id': 'run-039e3935-48d3-4803-9614-4375748852ca-0',\n",
       "       'usage_metadata': {'input_tokens': 8,\n",
       "        'output_tokens': 10,\n",
       "        'total_tokens': 18,\n",
       "        'input_token_details': {'audio': 0, 'cache_read': 0},\n",
       "        'output_token_details': {'audio': 0, 'reasoning': 0}},\n",
       "       'tool_calls': [],\n",
       "       'invalid_tool_calls': []}}}]],\n",
       "  'llm_output': {'token_usage': {'completion_tokens': 10,\n",
       "    'prompt_tokens': 8,\n",
       "    'total_tokens': 18,\n",
       "    'completion_tokens_details': {'accepted_prediction_tokens': 0,\n",
       "     'audio_tokens': 0,\n",
       "     'reasoning_tokens': 0,\n",
       "     'rejected_prediction_tokens': 0},\n",
       "    'prompt_tokens_details': {'audio_tokens': 0, 'cached_tokens': 0}},\n",
       "   'model_name': 'gpt-4o-mini-2024-07-18',\n",
       "   'system_fingerprint': 'fp_00428b782a'},\n",
       "  'run': None,\n",
       "  'type': 'LLMResult'},\n",
       " 'reference_example_id': None,\n",
       " 'parent_run_id': None,\n",
       " 'tags': ['demo', 'lcel'],\n",
       " 'attachments': {},\n",
       " 'child_runs': [],\n",
       " 'session_name': 'default',\n",
       " 'session_id': None,\n",
       " 'dotted_order': '20250216T183410226772Z039e3935-48d3-4803-9614-4375748852ca',\n",
       " 'trace_id': UUID('039e3935-48d3-4803-9614-4375748852ca')}"
      ]
     },
     "execution_count": 48,
     "metadata": {},
     "output_type": "execute_result"
    }
   ],
   "source": [
    "run_collection.traced_runs[0].dict()"
   ]
  },
  {
   "cell_type": "markdown",
   "metadata": {},
   "source": [
    "**Compose Runnables**"
   ]
  },
  {
   "cell_type": "code",
   "execution_count": 9,
   "metadata": {},
   "outputs": [],
   "source": [
    "chain = RunnableSequence(prompt, llm, parser)"
   ]
  },
  {
   "cell_type": "code",
   "execution_count": 10,
   "metadata": {},
   "outputs": [
    {
     "data": {
      "text/plain": [
       "langchain_core.runnables.base.RunnableSequence"
      ]
     },
     "execution_count": 10,
     "metadata": {},
     "output_type": "execute_result"
    }
   ],
   "source": [
    "type(chain)"
   ]
  },
  {
   "cell_type": "code",
   "execution_count": 11,
   "metadata": {},
   "outputs": [
    {
     "data": {
      "text/plain": [
       "'Why do Python programmers prefer dark mode?\\n\\nBecause light attracts bugs! 🐍✨'"
      ]
     },
     "execution_count": 11,
     "metadata": {},
     "output_type": "execute_result"
    }
   ],
   "source": [
    "chain.invoke({\"topic\": \"Python\"})"
   ]
  },
  {
   "cell_type": "code",
   "execution_count": 12,
   "metadata": {},
   "outputs": [
    {
     "name": "stdout",
     "output_type": "stream",
     "text": [
      "Why do Python programmers prefer dark mode?\n",
      "\n",
      "Because light attracts bugs! 🐍✨"
     ]
    }
   ],
   "source": [
    "for chunk in chain.stream({\"topic\": \"Python\"}):\n",
    "    print(chunk, end=\"\", flush=True)"
   ]
  },
  {
   "cell_type": "code",
   "execution_count": 13,
   "metadata": {},
   "outputs": [
    {
     "data": {
      "text/plain": [
       "['Why do Python programmers prefer dark mode?\\n\\nBecause light attracts bugs! 🐍✨',\n",
       " 'Why did the data break up with the database?\\n\\nBecause it found someone more relational!',\n",
       " 'Why did the neural network break up with the decision tree?\\n\\nBecause it found someone with more layers!']"
      ]
     },
     "execution_count": 13,
     "metadata": {},
     "output_type": "execute_result"
    }
   ],
   "source": [
    "chain.batch([\n",
    "    {\"topic\": \"Python\"},\n",
    "    {\"topic\": \"Data\"},\n",
    "    {\"topic\": \"Machine Learning\"},\n",
    "])"
   ]
  },
  {
   "cell_type": "code",
   "execution_count": 19,
   "metadata": {},
   "outputs": [
    {
     "name": "stdout",
     "output_type": "stream",
     "text": [
      "     +-------------+       \n",
      "     | PromptInput |       \n",
      "     +-------------+       \n",
      "            *              \n",
      "            *              \n",
      "            *              \n",
      "    +----------------+     \n",
      "    | PromptTemplate |     \n",
      "    +----------------+     \n",
      "            *              \n",
      "            *              \n",
      "            *              \n",
      "      +------------+       \n",
      "      | ChatOpenAI |       \n",
      "      +------------+       \n",
      "            *              \n",
      "            *              \n",
      "            *              \n",
      "   +-----------------+     \n",
      "   | StrOutputParser |     \n",
      "   +-----------------+     \n",
      "            *              \n",
      "            *              \n",
      "            *              \n",
      "+-----------------------+  \n",
      "| StrOutputParserOutput |  \n",
      "+-----------------------+  \n"
     ]
    }
   ],
   "source": [
    "chain.get_graph().print_ascii()"
   ]
  },
  {
   "cell_type": "markdown",
   "metadata": {},
   "source": [
    "**Turn any function into a runnable**"
   ]
  },
  {
   "cell_type": "code",
   "execution_count": 14,
   "metadata": {},
   "outputs": [],
   "source": [
    "def double(x:int)->int:\n",
    "    return 2*x"
   ]
  },
  {
   "cell_type": "code",
   "execution_count": 15,
   "metadata": {},
   "outputs": [
    {
     "data": {
      "text/plain": [
       "4"
      ]
     },
     "execution_count": 15,
     "metadata": {},
     "output_type": "execute_result"
    }
   ],
   "source": [
    "runnable = RunnableLambda(double)\n",
    "runnable.invoke(2)"
   ]
  },
  {
   "cell_type": "markdown",
   "metadata": {},
   "source": [
    "**Parallel Runnables**"
   ]
  },
  {
   "cell_type": "code",
   "execution_count": 16,
   "metadata": {},
   "outputs": [],
   "source": [
    "parallel_chain = RunnableParallel(\n",
    "    double=RunnableLambda(lambda x: x * 2),\n",
    "    triple=RunnableLambda(lambda x: x * 3),\n",
    ")"
   ]
  },
  {
   "cell_type": "code",
   "execution_count": 17,
   "metadata": {},
   "outputs": [
    {
     "data": {
      "text/plain": [
       "{'double': 6, 'triple': 9}"
      ]
     },
     "execution_count": 17,
     "metadata": {},
     "output_type": "execute_result"
    }
   ],
   "source": [
    "parallel_chain.invoke(3)"
   ]
  },
  {
   "cell_type": "code",
   "execution_count": 18,
   "metadata": {},
   "outputs": [
    {
     "name": "stdout",
     "output_type": "stream",
     "text": [
      "+------------------------------+   \n",
      "| Parallel<double,triple>Input |   \n",
      "+------------------------------+   \n",
      "           **        **            \n",
      "         **            **          \n",
      "        *                *         \n",
      "  +--------+          +--------+   \n",
      "  | Lambda |          | Lambda |   \n",
      "  +--------+          +--------+   \n",
      "           **        **            \n",
      "             **    **              \n",
      "               *  *                \n",
      "+-------------------------------+  \n",
      "| Parallel<double,triple>Output |  \n",
      "+-------------------------------+  \n"
     ]
    }
   ],
   "source": [
    "parallel_chain.get_graph().print_ascii()"
   ]
  },
  {
   "cell_type": "markdown",
   "metadata": {},
   "source": [
    "## LCEL"
   ]
  },
  {
   "cell_type": "code",
   "execution_count": 23,
   "metadata": {},
   "outputs": [
    {
     "data": {
      "text/plain": [
       "PromptTemplate(input_variables=['topic'], input_types={}, partial_variables={}, template='Tell me a joke about {topic}')"
      ]
     },
     "execution_count": 23,
     "metadata": {},
     "output_type": "execute_result"
    }
   ],
   "source": [
    "prompt"
   ]
  },
  {
   "cell_type": "code",
   "execution_count": 24,
   "metadata": {},
   "outputs": [
    {
     "data": {
      "text/plain": [
       "ChatOpenAI(client=<openai.resources.chat.completions.Completions object at 0x115783790>, async_client=<openai.resources.chat.completions.AsyncCompletions object at 0x115a260b0>, root_client=<openai.OpenAI object at 0x1157092d0>, root_async_client=<openai.AsyncOpenAI object at 0x115783490>, model_name='gpt-4o-mini', temperature=0.0, model_kwargs={}, openai_api_key=SecretStr('**********'))"
      ]
     },
     "execution_count": 24,
     "metadata": {},
     "output_type": "execute_result"
    }
   ],
   "source": [
    "llm"
   ]
  },
  {
   "cell_type": "code",
   "execution_count": 25,
   "metadata": {},
   "outputs": [
    {
     "data": {
      "text/plain": [
       "StrOutputParser()"
      ]
     },
     "execution_count": 25,
     "metadata": {},
     "output_type": "execute_result"
    }
   ],
   "source": [
    "parser"
   ]
  },
  {
   "cell_type": "code",
   "execution_count": 26,
   "metadata": {},
   "outputs": [
    {
     "data": {
      "text/plain": [
       "PromptTemplate(input_variables=['topic'], input_types={}, partial_variables={}, template='Tell me a joke about {topic}')\n",
       "| ChatOpenAI(client=<openai.resources.chat.completions.Completions object at 0x115783790>, async_client=<openai.resources.chat.completions.AsyncCompletions object at 0x115a260b0>, root_client=<openai.OpenAI object at 0x1157092d0>, root_async_client=<openai.AsyncOpenAI object at 0x115783490>, model_name='gpt-4o-mini', temperature=0.0, model_kwargs={}, openai_api_key=SecretStr('**********'))\n",
       "| StrOutputParser()"
      ]
     },
     "execution_count": 26,
     "metadata": {},
     "output_type": "execute_result"
    }
   ],
   "source": [
    "chain = RunnableSequence(prompt, llm, parser)\n",
    "chain"
   ]
  },
  {
   "cell_type": "code",
   "execution_count": 27,
   "metadata": {},
   "outputs": [
    {
     "data": {
      "text/plain": [
       "PromptTemplate(input_variables=['topic'], input_types={}, partial_variables={}, template='Tell me a joke about {topic}')\n",
       "| ChatOpenAI(client=<openai.resources.chat.completions.Completions object at 0x115783790>, async_client=<openai.resources.chat.completions.AsyncCompletions object at 0x115a260b0>, root_client=<openai.OpenAI object at 0x1157092d0>, root_async_client=<openai.AsyncOpenAI object at 0x115783490>, model_name='gpt-4o-mini', temperature=0.0, model_kwargs={}, openai_api_key=SecretStr('**********'))\n",
       "| StrOutputParser()"
      ]
     },
     "execution_count": 27,
     "metadata": {},
     "output_type": "execute_result"
    }
   ],
   "source": [
    "prompt | llm | parser"
   ]
  },
  {
   "cell_type": "code",
   "execution_count": 28,
   "metadata": {},
   "outputs": [],
   "source": [
    "chain = prompt | llm | parser"
   ]
  },
  {
   "cell_type": "code",
   "execution_count": 30,
   "metadata": {},
   "outputs": [
    {
     "data": {
      "text/plain": [
       "'Why did the computer go to therapy?\\n\\nBecause it had too many bytes from its past!'"
      ]
     },
     "execution_count": 30,
     "metadata": {},
     "output_type": "execute_result"
    }
   ],
   "source": [
    "chain.invoke(\n",
    "    {\"topic\": \"computer\"}\n",
    ")"
   ]
  },
  {
   "cell_type": "code",
   "execution_count": null,
   "metadata": {},
   "outputs": [],
   "source": []
  }
 ],
 "metadata": {
  "kernelspec": {
   "display_name": ".venv",
   "language": "python",
   "name": "python3"
  },
  "language_info": {
   "codemirror_mode": {
    "name": "ipython",
    "version": 3
   },
   "file_extension": ".py",
   "mimetype": "text/x-python",
   "name": "python",
   "nbconvert_exporter": "python",
   "pygments_lexer": "ipython3",
   "version": "3.10.15"
  }
 },
 "nbformat": 4,
 "nbformat_minor": 2
}
