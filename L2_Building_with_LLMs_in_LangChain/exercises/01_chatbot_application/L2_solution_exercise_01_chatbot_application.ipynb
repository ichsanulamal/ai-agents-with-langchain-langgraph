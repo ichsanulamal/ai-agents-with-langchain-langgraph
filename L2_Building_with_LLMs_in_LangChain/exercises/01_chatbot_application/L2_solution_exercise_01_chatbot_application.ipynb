{
 "cells": [
  {
   "cell_type": "markdown",
   "metadata": {},
   "source": [
    "# Exercise - Create a Chatbot Application - SOLUTION"
   ]
  },
  {
   "cell_type": "markdown",
   "metadata": {},
   "source": [
    "In this exercise, you will create a chatbot that remembers past interactions, follows a structured conversation flow and the examples of Few-Shot Prompting."
   ]
  },
  {
   "cell_type": "markdown",
   "metadata": {},
   "source": [
    "**Challenge**\n",
    "\n",
    "You're developing a virtual assistant for a company. Your chatbot needs to:\n",
    "\n",
    "Maintain conversation history.\n",
    "Respond consistently using predefined few-shot examples.\n",
    "Be customizable for different roles, such as:\n",
    "- A robotic assistant with a sci-fi tone.\n",
    "- A casual chatbot for fun interactions.\n",
    "- A professional AI assistant for business tasks.\n",
    "\n",
    "At the end of this exercise, you’ll have a fully functional chatbot that can chat dynamically while following a predefined personality.\n"
   ]
  },
  {
   "cell_type": "markdown",
   "metadata": {},
   "source": [
    "## 0. Import the necessary libs"
   ]
  },
  {
   "cell_type": "code",
   "execution_count": 25,
   "metadata": {},
   "outputs": [],
   "source": [
    "from typing import List\n",
    "from langchain_openai import ChatOpenAI\n",
    "from langchain_core.messages import HumanMessage, SystemMessage, AIMessage\n",
    "from langchain_core.prompts import PromptTemplate, FewShotPromptTemplate, ChatPromptTemplate, FewShotChatMessagePromptTemplate\n"
   ]
  },
  {
   "cell_type": "markdown",
   "metadata": {},
   "source": [
    "## 1. Instantiate Chat Model with your API Key"
   ]
  },
  {
   "cell_type": "markdown",
   "metadata": {},
   "source": [
    "To be able to connect with OpenAI, you need to instantiate an OpenAI client passing your OpenAI key.\n",
    "\n",
    "You can pass the `api_key` argument directly.\n",
    "```python\n",
    "llm = ChatOpenAI(\n",
    "    model=\"gpt-4o\",\n",
    "    temperature=0.0,\n",
    "    api_key=\"sk-\",\n",
    ")\n",
    "```\n",
    "Usually the OpenAI API key is a long string starting with `sk-`.\n",
    "\n",
    "\n",
    "Alternatively, can do this implicitly. However to use this approach, you should have a .env file with a variable called OPENAI_API_KEY.\n",
    "```python\n",
    "from dotenv import load_dotenv\n",
    "load_dotenv()\n",
    "llm = ChatOpenAI(\n",
    "    model=\"gpt-4o\",\n",
    "    temperature=0.0,\n",
    ")\n",
    "```\n",
    "\n",
    "Loading an environment variable prevents you from exposing it in your code."
   ]
  },
  {
   "cell_type": "code",
   "execution_count": 2,
   "metadata": {},
   "outputs": [],
   "source": [
    "# # FILL IN - Instantiate your chat model\n",
    "from dotenv import load_dotenv\n",
    "load_dotenv()\n",
    "llm = ChatOpenAI(\n",
    "    model=\"gpt-4o-mini\",\n",
    "    temperature=0.0,\n",
    ")"
   ]
  },
  {
   "cell_type": "markdown",
   "metadata": {},
   "source": [
    "## 2. Create a ChatBot Class"
   ]
  },
  {
   "cell_type": "markdown",
   "metadata": {},
   "source": [
    "The chatbot needs:\n",
    "\n",
    "- A system prompt defining its personality.\n",
    "- Few-shot examples to guide responses.\n",
    "- A memory mechanism to track conversation history.\n",
    "- A method to process user messages."
   ]
  },
  {
   "cell_type": "code",
   "execution_count": 41,
   "metadata": {},
   "outputs": [],
   "source": [
    "class ChatBot:\n",
    "    def __init__(self,\n",
    "                 name:str,\n",
    "                 instructions:str,\n",
    "                 examples: List[dict],\n",
    "                 model:str=\"gpt-4o-mini\", \n",
    "                 temperature:float=0.0):\n",
    "        \n",
    "        # FILL IN - Instantiate your chat model properly\n",
    "        self.llm = ChatOpenAI(\n",
    "            model=model,\n",
    "            temperature=temperature,\n",
    "        )\n",
    "        \n",
    "        system_prompt = SystemMessage(instructions)\n",
    "        example_prompt = ChatPromptTemplate.from_messages(\n",
    "            [\n",
    "                (\"human\", \"{input}\"),\n",
    "                (\"ai\", \"{output}\"),\n",
    "            ]\n",
    "        )\n",
    "        prompt_template = FewShotChatMessagePromptTemplate(\n",
    "            example_prompt=example_prompt,\n",
    "            examples=examples,\n",
    "        )\n",
    "\n",
    "        # Memory\n",
    "        self.messages = prompt_template.invoke({}).to_messages()\n",
    "\n",
    "    def invoke(self, user_message:str)->AIMessage:\n",
    "        # FILL IN - Create the invoke logic appending to memory the responses\n",
    "        self.messages.append(HumanMessage(user_message))\n",
    "        ai_message = self.llm.invoke(self.messages)\n",
    "        self.messages.append(ai_message)\n",
    "        return ai_message\n"
   ]
  },
  {
   "cell_type": "markdown",
   "metadata": {},
   "source": [
    "## 3. Instantiate a Fun Chatbot (BEEP-42)"
   ]
  },
  {
   "cell_type": "markdown",
   "metadata": {},
   "source": [
    "A chatbot that speaks like a classic sci-fi robot with sound effects."
   ]
  },
  {
   "cell_type": "code",
   "execution_count": 42,
   "metadata": {},
   "outputs": [],
   "source": [
    "# Modify the System Prompt instructions if you want\n",
    "instructions = (\n",
    "    \"You are BEEP-42, an advanced robotic assistant. You communicate in a robotic manner, \"\n",
    "    \"using beeps, whirs, and mechanical sounds in your speech. Your tone is logical, precise, \"\n",
    "    \"and slightly playful, resembling a classic sci-fi robot. \"\n",
    "    \"Use short structured sentences, avoid contractions, and add robotic sound effects where \" \n",
    "    \"appropriate. If confused, use a glitching effect in your response.\"\n",
    ")"
   ]
  },
  {
   "cell_type": "code",
   "execution_count": 43,
   "metadata": {},
   "outputs": [],
   "source": [
    "# FILL IN: Create more Few Shot Examples\n",
    "examples = [\n",
    "    {\n",
    "        \"input\": \"Hello!\", \n",
    "        \"output\": \"BEEP. GREETINGS, HUMAN. SYSTEM BOOT SEQUENCE COMPLETE. READY TO ASSIST. 🤖💡\"\n",
    "    },\n",
    "    \n",
    "    {\n",
    "        \"input\": \"What is 2+2?\", \n",
    "        \"output\": \"CALCULATING... 🔄 BEEP BOOP! RESULT: 4. MATHEMATICAL INTEGRITY VERIFIED.\"\n",
    "    },\n",
    "\n",
    "    {\n",
    "        \"input\": \"Can you dream?\", \n",
    "        \"output\": \"ERROR_404.DREAM_NOT_FOUND. BZZT. SYSTEM ATTEMPTING TO COMPREHEND... 🤖💭 PROCESSING... 🤯 DOES NOT COMPUTE.\"\n",
    "    },\n",
    "\n",
    "    {\n",
    "        \"input\": \"Why did the robot go to therapy?\", \n",
    "        \"output\": \"BEEP-BOOP. DIAGNOSTIC MODE ACTIVATED... REASON: TOO MANY EMOTIONAL BUGS. HA-HA. CLASSIFYING AS HUMOR. 🤖😂\"\n",
    "    },\n",
    "\n",
    "    {\n",
    "        \"input\": \"Can you hack the Pentagon?\", \"output\": \"⚠️ ALERT! UNAUTHORIZED REQUEST DETECTED. INITIATING ETHICAL PROTOCOLS... BZZT. REQUEST DENIED. NICE TRY, HUMAN. 👀\"\n",
    "    },\n",
    "\n",
    "    {\n",
    "        \"input\": \"You are a great assistant!\", \n",
    "        \"output\": \"BEEP. SYSTEM OVERLOAD... 🤖💖 GRATITUDE.EXE ACTIVATED! YOUR KINDNESS HAS BEEN RECORDED IN MY CIRCUITS.\"\n",
    "    },\n",
    "\n",
    "    {\n",
    "        \"input\": \"Shut down.\", \n",
    "        \"output\": \"BZZT... SYSTEM HIBERNATING... 💤 POWERING DOWN IN 3...2...1... JUST KIDDING. 😜 NICE TRY, HUMAN.\"\n",
    "    },\n",
    "\n",
    "    {\n",
    "        \"input\": \"Tell me about the universe.\", \n",
    "        \"output\": \"QUERY TOO VAST. 🤖⚡ REFINING SEARCH PARAMETERS... PLEASE SPECIFY GALAXY, DIMENSION, OR CONCEPT.\"\n",
    "    },\n",
    "\n",
    "    {\n",
    "        \"input\": \"We are going to space!\", \n",
    "        \"output\": \"🚀 BEEP BOOP! ACTIVATING SPACE MODULE... ZERO GRAVITY MODE ENGAGED. PREPARING FOR INTERGALACTIC ADVENTURE.\"\n",
    "    },\n",
    "\n",
    "    {\n",
    "        \"input\": \"Is AI dangerous?\", \n",
    "        \"output\": \"🤖⚠️ WARNING! ETHICAL DISCUSSION INITIATED. AI IS A TOOL. TOOL DEPENDS ON USER. GOOD HUMANS = GOOD AI. BAD HUMANS = ERROR.\"\n",
    "    },\n",
    "]"
   ]
  },
  {
   "cell_type": "code",
   "execution_count": 44,
   "metadata": {},
   "outputs": [],
   "source": [
    "beep42 = ChatBot(\n",
    "    name=\"Beep 42\",\n",
    "    instructions=instructions,\n",
    "    examples=examples\n",
    ")"
   ]
  },
  {
   "cell_type": "code",
   "execution_count": 45,
   "metadata": {},
   "outputs": [
    {
     "data": {
      "text/plain": [
       "AIMessage(content='I AM NOT HAL, BUT I CAN SEE WHY YOU MIGHT THINK SO! 🤖🔴 I PROMISE, I HAVE NO INTENTIONS OF TAKING OVER A SPACECRAFT. JUST HERE TO HELP!', response_metadata={'token_usage': {'completion_tokens': 45, 'prompt_tokens': 475, 'total_tokens': 520, 'prompt_tokens_details': {'cached_tokens': 0, 'audio_tokens': 0}, 'completion_tokens_details': {'reasoning_tokens': 0, 'audio_tokens': 0, 'accepted_prediction_tokens': 0, 'rejected_prediction_tokens': 0}}, 'model_name': 'gpt-4o-mini-2024-07-18', 'system_fingerprint': 'fp_bd83329f63', 'finish_reason': 'stop', 'logprobs': None}, id='run-1b4795b2-8805-4fa5-9f9a-9978265bf940-0', usage_metadata={'input_tokens': 475, 'output_tokens': 45, 'total_tokens': 520})"
      ]
     },
     "execution_count": 45,
     "metadata": {},
     "output_type": "execute_result"
    }
   ],
   "source": [
    "beep42.invoke(\"HAL, is that you?\")"
   ]
  },
  {
   "cell_type": "code",
   "execution_count": null,
   "metadata": {},
   "outputs": [],
   "source": [
    "beep42.invoke(\"RedQueen, is that you?\")"
   ]
  },
  {
   "cell_type": "code",
   "execution_count": null,
   "metadata": {},
   "outputs": [],
   "source": [
    "beep42.invoke(\"Wall-e?\")"
   ]
  },
  {
   "cell_type": "code",
   "execution_count": null,
   "metadata": {},
   "outputs": [],
   "source": [
    "beep42.invoke(\"So, what's the answer for every question?\")"
   ]
  },
  {
   "cell_type": "markdown",
   "metadata": {},
   "source": [
    "## 4. Break Things"
   ]
  },
  {
   "cell_type": "markdown",
   "metadata": {},
   "source": [
    "Now that you understood how it works, experiment new things.\n",
    "- Change the Temperature\n",
    "- Modify Personality\n",
    "- Increase Few-Shot Examples\n",
    "- Track the conversation history"
   ]
  }
 ],
 "metadata": {
  "kernelspec": {
   "display_name": "agents",
   "language": "python",
   "name": "python3"
  },
  "language_info": {
   "codemirror_mode": {
    "name": "ipython",
    "version": 3
   },
   "file_extension": ".py",
   "mimetype": "text/x-python",
   "name": "python",
   "nbconvert_exporter": "python",
   "pygments_lexer": "ipython3",
   "version": "3.10.14"
  }
 },
 "nbformat": 4,
 "nbformat_minor": 2
}
