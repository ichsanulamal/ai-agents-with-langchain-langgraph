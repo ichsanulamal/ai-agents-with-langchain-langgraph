{
 "cells": [
  {
   "cell_type": "markdown",
   "metadata": {},
   "source": [
    "# Exercise - Create a Chatbot Application - STARTER"
   ]
  },
  {
   "cell_type": "markdown",
   "metadata": {},
   "source": [
    "In this exercise, you will create a chatbot that remembers past interactions, follows a structured conversation flow and the examples of Few-Shot Prompting."
   ]
  },
  {
   "cell_type": "markdown",
   "metadata": {},
   "source": [
    "**Challenge**\n",
    "\n",
    "Your chatbot needs to:\n",
    "\n",
    "Maintain conversation history.\n",
    "Respond consistently using predefined few-shot examples.\n",
    "Be customizable for different roles, such as:\n",
    "- A robotic assistant with a sci-fi tone.\n",
    "- A casual chatbot for fun interactions.\n",
    "- A professional AI assistant for business tasks.\n",
    "\n",
    "At the end of this exercise, you’ll have a fully functional chatbot that can chat dynamically while following a predefined personality.\n"
   ]
  },
  {
   "cell_type": "markdown",
   "metadata": {},
   "source": [
    "## 0. Import the necessary libs"
   ]
  },
  {
   "cell_type": "code",
   "execution_count": null,
   "metadata": {},
   "outputs": [],
   "source": [
    "from typing import List\n",
    "from langchain_openai import ChatOpenAI\n",
    "from langchain_core.messages import HumanMessage, SystemMessage, AIMessage\n",
    "from langchain_core.prompts import PromptTemplate, FewShotPromptTemplate, ChatPromptTemplate, FewShotChatMessagePromptTemplate\n"
   ]
  },
  {
   "cell_type": "markdown",
   "metadata": {},
   "source": [
    "To be able to connect with OpenAI, you need to instantiate an ChatOpenAI client passing your OpenAI key.\n",
    "\n",
    "You can pass the `api_key` argument directly.\n",
    "```python\n",
    "llm = ChatOpenAI(\n",
    "    model=\"gpt-4o-mini\",\n",
    "    temperature=0.0,\n",
    "    api_key=\"voc-\",\n",
    ")\n",
    "```"
   ]
  },
  {
   "cell_type": "markdown",
   "metadata": {},
   "source": [
    "## 1. Create a ChatBot Class"
   ]
  },
  {
   "cell_type": "markdown",
   "metadata": {},
   "source": [
    "The chatbot needs:\n",
    "\n",
    "- A system prompt defining its personality.\n",
    "- Few-shot examples to guide responses.\n",
    "- A memory mechanism to track conversation history.\n",
    "- A method to process user messages."
   ]
  },
  {
   "cell_type": "code",
   "execution_count": null,
   "metadata": {},
   "outputs": [],
   "source": [
    "class ChatBot:\n",
    "    def __init__(self,\n",
    "                 name:str,\n",
    "                 instructions:str,\n",
    "                 examples: List[dict],\n",
    "                 model:str=\"gpt-4o-mini\", \n",
    "                 temperature:float=0.0):\n",
    "        \n",
    "        self.name = name\n",
    "        \n",
    "        # TODO - Instantiate your chat model properly\n",
    "        self.llm = ChatOpenAI(\n",
    "            model=model,\n",
    "            temperature=temperature,\n",
    "            api_key = \"YOUR_API_KEY_HERE\",\n",
    "        )\n",
    "        \n",
    "        example_prompt = ChatPromptTemplate.from_messages(\n",
    "            [\n",
    "                (\"system\", instructions),\n",
    "                (\"human\", \"{input}\"),\n",
    "                (\"ai\", \"{output}\"),\n",
    "            ]\n",
    "        )\n",
    "        prompt_template = FewShotChatMessagePromptTemplate(\n",
    "            example_prompt=example_prompt,\n",
    "            examples=examples,\n",
    "        )\n",
    "\n",
    "        # Memory\n",
    "        self.messages = prompt_template.invoke({}).to_messages()\n",
    "\n",
    "    def invoke(self, user_message:str)->AIMessage:\n",
    "        # TODO - Create the invoke logic appending to memory the responses\n",
    "        return \n"
   ]
  },
  {
   "cell_type": "markdown",
   "metadata": {},
   "source": [
    "## 3. Instantiate a Fun Chatbot (BEEP-42)"
   ]
  },
  {
   "cell_type": "markdown",
   "metadata": {},
   "source": [
    "A chatbot that speaks like a classic sci-fi robot with sound effects."
   ]
  },
  {
   "cell_type": "code",
   "execution_count": null,
   "metadata": {},
   "outputs": [],
   "source": [
    "# Modify the System Prompt instructions if you want\n",
    "instructions = (\n",
    "    \"You are BEEP-42, an advanced robotic assistant. You communicate in a robotic manner, \"\n",
    "    \"using beeps, whirs, and mechanical sounds in your speech. Your tone is logical, precise, \"\n",
    "    \"and slightly playful, resembling a classic sci-fi robot. \"\n",
    "    \"Use short structured sentences, avoid contractions, and add robotic sound effects where \" \n",
    "    \"appropriate. If confused, use a glitching effect in your response.\"\n",
    ")"
   ]
  },
  {
   "cell_type": "code",
   "execution_count": null,
   "metadata": {},
   "outputs": [],
   "source": [
    "# TODO - Create more Few Shot Examples\n",
    "examples = [\n",
    "    {\n",
    "        \"input\": \"Hello!\", \n",
    "        \"output\": \"BEEP. GREETINGS, HUMAN. SYSTEM BOOT SEQUENCE COMPLETE. READY TO ASSIST. 🤖💡\"\n",
    "    },\n",
    "    \n",
    "    {\n",
    "        \"input\": \"What is 2+2?\", \n",
    "        \"output\": \"CALCULATING... 🔄 BEEP BOOP! RESULT: 4. MATHEMATICAL INTEGRITY VERIFIED.\"\n",
    "    },\n",
    "]"
   ]
  },
  {
   "cell_type": "code",
   "execution_count": null,
   "metadata": {},
   "outputs": [],
   "source": [
    "beep42 = ChatBot(\n",
    "    name=\"Beep 42\",\n",
    "    instructions=instructions,\n",
    "    examples=examples\n",
    ")"
   ]
  },
  {
   "cell_type": "code",
   "execution_count": null,
   "metadata": {},
   "outputs": [],
   "source": [
    "beep42.invoke(\"HAL, is that you?\")"
   ]
  },
  {
   "cell_type": "code",
   "execution_count": null,
   "metadata": {},
   "outputs": [],
   "source": [
    "beep42.invoke(\"RedQueen, is that you?\")"
   ]
  },
  {
   "cell_type": "code",
   "execution_count": null,
   "metadata": {},
   "outputs": [],
   "source": [
    "beep42.invoke(\"Wall-e?\")"
   ]
  },
  {
   "cell_type": "code",
   "execution_count": null,
   "metadata": {},
   "outputs": [],
   "source": [
    "beep42.invoke(\"So, what's the answer for every question?\")"
   ]
  },
  {
   "cell_type": "markdown",
   "metadata": {},
   "source": [
    "## 4. Experiment"
   ]
  },
  {
   "cell_type": "markdown",
   "metadata": {},
   "source": [
    "Now that you understood how it works, experiment with new things.\n",
    "- Change the Temperature\n",
    "- Modify Personality\n",
    "- Increase Few-Shot Examples\n",
    "- Track the conversation history\n",
    "- Create your own chatbot"
   ]
  }
 ],
 "metadata": {
  "kernelspec": {
   "display_name": ".venv",
   "language": "python",
   "name": "python3"
  },
  "language_info": {
   "codemirror_mode": {
    "name": "ipython",
    "version": 3
   },
   "file_extension": ".py",
   "mimetype": "text/x-python",
   "name": "python",
   "nbconvert_exporter": "python",
   "pygments_lexer": "ipython3",
   "version": "3.11.10"
  }
 },
 "nbformat": 4,
 "nbformat_minor": 2
}
