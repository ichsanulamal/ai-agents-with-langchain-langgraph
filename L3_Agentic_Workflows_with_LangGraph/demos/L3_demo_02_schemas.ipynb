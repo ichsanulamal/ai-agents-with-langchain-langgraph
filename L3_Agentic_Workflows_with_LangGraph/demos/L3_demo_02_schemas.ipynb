{
 "cells": [
  {
   "cell_type": "code",
   "execution_count": 1,
   "metadata": {},
   "outputs": [],
   "source": [
    "from random import choice\n",
    "from operator import add\n",
    "from typing_extensions import Annotated\n",
    "from pydantic import BaseModel\n",
    "from langgraph.graph import StateGraph, START, END\n",
    "from IPython.display import Image, display"
   ]
  },
  {
   "cell_type": "markdown",
   "metadata": {},
   "source": [
    "## Typed Dict vs Pydantic"
   ]
  },
  {
   "cell_type": "code",
   "execution_count": 2,
   "metadata": {},
   "outputs": [],
   "source": [
    "# class State(TypedDict):\n",
    "class State(BaseModel):\n",
    "    color: str\n",
    "\n",
    "def color_node(state: State):\n",
    "    return {\"color\": choice([\"green\", \"yellow\", \"red\"])}\n",
    "\n",
    "workflow = StateGraph(State)\n",
    "workflow.add_node(color_node)\n",
    "workflow.add_edge(START, \"color_node\")\n",
    "workflow.add_edge(\"color_node\", END)\n",
    "\n",
    "graph = workflow.compile()"
   ]
  },
  {
   "cell_type": "code",
   "execution_count": 3,
   "metadata": {},
   "outputs": [
    {
     "data": {
      "text/plain": [
       "{'color': 'green'}"
      ]
     },
     "execution_count": 3,
     "metadata": {},
     "output_type": "execute_result"
    }
   ],
   "source": [
    "graph.invoke({\"color\": \"black\"})"
   ]
  },
  {
   "cell_type": "markdown",
   "metadata": {},
   "source": [
    "## State Machines"
   ]
  },
  {
   "cell_type": "code",
   "execution_count": 4,
   "metadata": {},
   "outputs": [],
   "source": [
    "class State(BaseModel):\n",
    "    color: str = \"🟢 Green\"\n",
    "    repeat_mode: bool\n",
    "    messages: Annotated[list[str], add]\n",
    "    counter: Annotated[int, add] = 0\n"
   ]
  },
  {
   "cell_type": "code",
   "execution_count": 5,
   "metadata": {},
   "outputs": [],
   "source": [
    "def green_light(state: State):\n",
    "    color = \"🟢 Green\"\n",
    "    wait_time = 60\n",
    "    message = f\"{color} Light! Traffic allowed for {wait_time} seconds...\"\n",
    "    messages = [message]\n",
    "    return {\"color\": color, \"messages\": messages, \"counter\":1}\n",
    "\n",
    "def yellow_light(state: State):\n",
    "    color = \"🟡 Yellow\"\n",
    "    wait_time = 3\n",
    "    message = f\"{color} Light! Traffic will change in {wait_time} seconds...\"\n",
    "    messages = [message]\n",
    "    return {\"color\": color, \"messages\": messages}\n",
    "\n",
    "def red_light(state: State):\n",
    "    counter = state.counter\n",
    "    color = \"🔴 Red\"\n",
    "    wait_time = 15\n",
    "    message = f\"{color} Light! Traffic allowed for {wait_time} seconds...\"\n",
    "    messages = [message]\n",
    "    messages.append(\"----------------------------------------------------\")\n",
    "    return {\"color\": color, \"messages\": messages}\n"
   ]
  },
  {
   "cell_type": "code",
   "execution_count": 6,
   "metadata": {},
   "outputs": [
    {
     "data": {
      "image/png": "[encoded data removed]",
      "text/plain": [
       "<IPython.core.display.Image object>"
      ]
     },
     "metadata": {},
     "output_type": "display_data"
    }
   ],
   "source": [
    "workflow = StateGraph(State)\n",
    "workflow.add_node(green_light)\n",
    "workflow.add_node(yellow_light)\n",
    "workflow.add_node(red_light)\n",
    "\n",
    "workflow.add_edge(START, \"green_light\")\n",
    "workflow.add_edge(\"green_light\", \"yellow_light\")\n",
    "workflow.add_edge(\"yellow_light\", \"red_light\")\n",
    "\n",
    "def should_repeat(state: State):\n",
    "    repeat_mode = state.repeat_mode\n",
    "    counter = state.counter\n",
    "    if repeat_mode and counter <= 3:\n",
    "        return \"green_light\"\n",
    "    return END\n",
    "\n",
    "workflow.add_conditional_edges(\n",
    "    \"red_light\",\n",
    "    should_repeat,\n",
    "    [\"green_light\", END],\n",
    ")\n",
    "\n",
    "graph = workflow.compile()\n",
    "\n",
    "display(\n",
    "    Image(\n",
    "        graph.get_graph().draw_mermaid_png()\n",
    "    )\n",
    ")"
   ]
  },
  {
   "cell_type": "code",
   "execution_count": 7,
   "metadata": {},
   "outputs": [
    {
     "name": "stdout",
     "output_type": "stream",
     "text": [
      "🚦------------ TRAFFIC LIGHT CONTROLLER ------------🚦\n",
      "🟢 Green Light! Traffic allowed for 60 seconds...\n",
      "🟡 Yellow Light! Traffic will change in 3 seconds...\n",
      "🔴 Red Light! Traffic allowed for 15 seconds...\n",
      "----------------------------------------------------\n",
      "🟢 Green Light! Traffic allowed for 60 seconds...\n",
      "🟡 Yellow Light! Traffic will change in 3 seconds...\n",
      "🔴 Red Light! Traffic allowed for 15 seconds...\n",
      "----------------------------------------------------\n",
      "🟢 Green Light! Traffic allowed for 60 seconds...\n",
      "🟡 Yellow Light! Traffic will change in 3 seconds...\n",
      "🔴 Red Light! Traffic allowed for 15 seconds...\n",
      "----------------------------------------------------\n",
      "🟢 Green Light! Traffic allowed for 60 seconds...\n",
      "🟡 Yellow Light! Traffic will change in 3 seconds...\n",
      "🔴 Red Light! Traffic allowed for 15 seconds...\n",
      "----------------------------------------------------\n"
     ]
    }
   ],
   "source": [
    "print(\"🚦------------ TRAFFIC LIGHT CONTROLLER ------------🚦\")\n",
    "controller = graph.invoke({\"repeat_mode\":True})\n",
    "for message in controller['messages']:\n",
    "    print(message)"
   ]
  },
  {
   "cell_type": "code",
   "execution_count": null,
   "metadata": {},
   "outputs": [],
   "source": []
  },
  {
   "cell_type": "code",
   "execution_count": null,
   "metadata": {},
   "outputs": [],
   "source": []
  },
  {
   "cell_type": "code",
   "execution_count": null,
   "metadata": {},
   "outputs": [],
   "source": []
  }
 ],
 "metadata": {
  "kernelspec": {
   "display_name": ".venv",
   "language": "python",
   "name": "python3"
  },
  "language_info": {
   "codemirror_mode": {
    "name": "ipython",
    "version": 3
   },
   "file_extension": ".py",
   "mimetype": "text/x-python",
   "name": "python",
   "nbconvert_exporter": "python",
   "pygments_lexer": "ipython3",
   "version": "3.10.15"
  }
 },
 "nbformat": 4,
 "nbformat_minor": 2
}
