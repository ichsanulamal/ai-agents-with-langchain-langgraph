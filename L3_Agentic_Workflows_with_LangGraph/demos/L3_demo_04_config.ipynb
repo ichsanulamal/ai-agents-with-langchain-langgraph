{
 "cells": [
  {
   "cell_type": "code",
   "execution_count": 1,
   "metadata": {},
   "outputs": [],
   "source": [
    "import random\n",
    "from typing import TypedDict, List, Annotated\n",
    "import operator\n",
    "from langgraph.graph import StateGraph, MessagesState, START, END\n",
    "from langchain_core.runnables import RunnableConfig\n",
    "from langchain_core.messages import HumanMessage, SystemMessage\n",
    "from langchain_openai import ChatOpenAI\n",
    "from IPython.display import Image, display"
   ]
  },
  {
   "cell_type": "markdown",
   "metadata": {},
   "source": [
    "**Data Processing**"
   ]
  },
  {
   "cell_type": "code",
   "execution_count": 2,
   "metadata": {},
   "outputs": [],
   "source": [
    "class State(TypedDict):\n",
    "    input: int\n",
    "    partial: Annotated[List[int], operator.add]\n",
    "    results: Annotated[List[int], operator.add]"
   ]
  },
  {
   "cell_type": "code",
   "execution_count": 3,
   "metadata": {},
   "outputs": [],
   "source": [
    "def node_a(state: State, config: RunnableConfig):\n",
    "    offset = 0\n",
    "    if config:\n",
    "        offset = config.get(\"configurable\", {}).get(\"offset\", 0)\n",
    "    partial = random.randint(1,10) + offset\n",
    "    output =  state['input'] + partial\n",
    "    print(\n",
    "        f\"NODE A:\\n \"\n",
    "        f\"->input:{output-partial}\\n \" \n",
    "        f\"->offset:{offset}\\n \"\n",
    "        f\"->random:{partial-offset}\\n \"\n",
    "        f\"->partial:{partial}\\n \"\n",
    "        f\"->output:{output}\\n \"\n",
    "    )\n",
    "    return {\"partial\": [partial], \"results\": [output]}"
   ]
  },
  {
   "cell_type": "code",
   "execution_count": 4,
   "metadata": {},
   "outputs": [],
   "source": [
    "def node_b(state: State, config: RunnableConfig):\n",
    "    offset = 0\n",
    "    if config:\n",
    "        offset = config.get(\"configurable\", {}).get(\"offset\", 0)\n",
    "    partial = random.randint(1,10) + offset\n",
    "    output =  state['results'][-1] + partial\n",
    "    print(\n",
    "        f\"NODE B:\\n \"\n",
    "        f\"->input:{output-partial}\\n \" \n",
    "        f\"->offset:{offset}\\n \"\n",
    "        f\"->random:{partial-offset}\\n \"\n",
    "        f\"->partial:{partial}\\n \"\n",
    "        f\"->output:{output}\\n \"\n",
    "    )\n",
    "    return {\"partial\": [partial], \"results\": [output]}"
   ]
  },
  {
   "cell_type": "code",
   "execution_count": 5,
   "metadata": {},
   "outputs": [],
   "source": [
    "workflow = StateGraph(State)"
   ]
  },
  {
   "cell_type": "code",
   "execution_count": 6,
   "metadata": {},
   "outputs": [
    {
     "data": {
      "text/plain": [
       "<langgraph.graph.state.StateGraph at 0x7f5905a3fd10>"
      ]
     },
     "execution_count": 6,
     "metadata": {},
     "output_type": "execute_result"
    }
   ],
   "source": [
    "workflow.add_node(node_a)\n",
    "workflow.add_node(node_b)"
   ]
  },
  {
   "cell_type": "code",
   "execution_count": 7,
   "metadata": {},
   "outputs": [
    {
     "data": {
      "text/plain": [
       "<langgraph.graph.state.StateGraph at 0x7f5905a3fd10>"
      ]
     },
     "execution_count": 7,
     "metadata": {},
     "output_type": "execute_result"
    }
   ],
   "source": [
    "workflow.add_edge(START, \"node_a\")\n",
    "workflow.add_edge(\"node_a\", \"node_b\")\n",
    "workflow.add_edge(\"node_b\", END)"
   ]
  },
  {
   "cell_type": "code",
   "execution_count": 8,
   "metadata": {},
   "outputs": [],
   "source": [
    "graph = workflow.compile()"
   ]
  },
  {
   "cell_type": "code",
   "execution_count": 9,
   "metadata": {},
   "outputs": [
    {
     "data": {
      "image/png": "[encoded data removed]",
      "text/plain": [
       "<IPython.core.display.Image object>"
      ]
     },
     "metadata": {},
     "output_type": "display_data"
    }
   ],
   "source": [
    "display(\n",
    "    Image(\n",
    "        graph.get_graph().draw_mermaid_png()\n",
    "    )\n",
    ")"
   ]
  },
  {
   "cell_type": "code",
   "execution_count": 10,
   "metadata": {},
   "outputs": [
    {
     "name": "stdout",
     "output_type": "stream",
     "text": [
      "NODE A:\n",
      " ->input:1\n",
      " ->offset:20\n",
      " ->random:6\n",
      " ->partial:26\n",
      " ->output:27\n",
      " \n",
      "NODE B:\n",
      " ->input:27\n",
      " ->offset:20\n",
      " ->random:8\n",
      " ->partial:28\n",
      " ->output:55\n",
      " \n"
     ]
    },
    {
     "data": {
      "text/plain": [
       "{'input': 1, 'partial': [26, 28], 'results': [27, 55]}"
      ]
     },
     "execution_count": 10,
     "metadata": {},
     "output_type": "execute_result"
    }
   ],
   "source": [
    "config = {\"configurable\": {\"offset\": 20}}\n",
    "graph.invoke(\n",
    "    input = {\n",
    "        \"input\": 1,\n",
    "    }, \n",
    "    config = config,\n",
    ")"
   ]
  },
  {
   "cell_type": "markdown",
   "metadata": {},
   "source": [
    "**Call LLMs**"
   ]
  },
  {
   "cell_type": "code",
   "execution_count": 11,
   "metadata": {},
   "outputs": [],
   "source": [
    "import os\n",
    "llm = ChatOpenAI(\n",
    "  api_key=os.getenv(\"OPENROUTER_API_KEY\"),\n",
    "  base_url=os.getenv(\"OPENROUTER_BASE_URL\"),\n",
    "  model=\"openai/gpt-oss-20b:free\",\n",
    "  default_headers={\n",
    "    # \"HTTP-Referer\": getenv(\"YOUR_SITE_URL\"),\n",
    "    # \"X-Title\": getenv(\"YOUR_SITE_NAME\"),\n",
    "  }\n",
    ")"
   ]
  },
  {
   "cell_type": "code",
   "execution_count": 12,
   "metadata": {},
   "outputs": [],
   "source": [
    "# from dotenv import load_dotenv\n",
    "# load_dotenv()\n",
    "# llm = ChatOpenAI(\n",
    "#     model=\"gpt-4o-mini\",\n",
    "#     temperature=0.0,\n",
    "# )"
   ]
  },
  {
   "cell_type": "code",
   "execution_count": 13,
   "metadata": {},
   "outputs": [],
   "source": [
    "class State(MessagesState):\n",
    "    question:str"
   ]
  },
  {
   "cell_type": "code",
   "execution_count": 14,
   "metadata": {},
   "outputs": [],
   "source": [
    "def model(state: State, config: RunnableConfig):\n",
    "    question = state[\"question\"]\n",
    "    messages = state[\"messages\"]\n",
    "    name = None\n",
    "    if config:\n",
    "        name = config[\"configurable\"].get(\"name\")\n",
    "\n",
    "    if name and not messages:\n",
    "        messages.append(\n",
    "            SystemMessage(\n",
    "                \"Help the following user. \\n\"\n",
    "                f\"Name={name} \\n\"\n",
    "                \"Give an initial greeting before responding.\"\n",
    "            )\n",
    "        )\n",
    "\n",
    "    messages.append(HumanMessage(question))\n",
    "    response = llm.invoke(messages)\n",
    "    messages.append(response)\n",
    "\n",
    "    return {\"messages\": messages}"
   ]
  },
  {
   "cell_type": "code",
   "execution_count": 15,
   "metadata": {},
   "outputs": [],
   "source": [
    "workflow = StateGraph(State)"
   ]
  },
  {
   "cell_type": "code",
   "execution_count": 16,
   "metadata": {},
   "outputs": [
    {
     "data": {
      "text/plain": [
       "<langgraph.graph.state.StateGraph at 0x7f58ec7ba420>"
      ]
     },
     "execution_count": 16,
     "metadata": {},
     "output_type": "execute_result"
    }
   ],
   "source": [
    "workflow.add_node(\"model\", model)"
   ]
  },
  {
   "cell_type": "code",
   "execution_count": 17,
   "metadata": {},
   "outputs": [
    {
     "data": {
      "text/plain": [
       "<langgraph.graph.state.StateGraph at 0x7f58ec7ba420>"
      ]
     },
     "execution_count": 17,
     "metadata": {},
     "output_type": "execute_result"
    }
   ],
   "source": [
    "workflow.add_edge(START, \"model\")\n",
    "workflow.add_edge(\"model\", END)"
   ]
  },
  {
   "cell_type": "code",
   "execution_count": 18,
   "metadata": {},
   "outputs": [],
   "source": [
    "graph = workflow.compile()"
   ]
  },
  {
   "cell_type": "code",
   "execution_count": 19,
   "metadata": {},
   "outputs": [],
   "source": [
    "result = graph.invoke(\n",
    "    input={\"question\": \"What's the name of Ash's first pokémon?\"}, \n",
    "    config={\"configurable\": {\"name\": \"James\"}}\n",
    ")"
   ]
  },
  {
   "cell_type": "code",
   "execution_count": 20,
   "metadata": {},
   "outputs": [
    {
     "name": "stdout",
     "output_type": "stream",
     "text": [
      "================================\u001b[1m System Message \u001b[0m================================\n",
      "\n",
      "Help the following user. \n",
      "Name=James \n",
      "Give an initial greeting before responding.\n",
      "================================\u001b[1m Human Message \u001b[0m=================================\n",
      "\n",
      "What's the name of Ash's first pokémon?\n",
      "==================================\u001b[1m Ai Message \u001b[0m==================================\n",
      "\n",
      "Hello, James! Ash’s first Pokémon is **Pikachu**.\n"
     ]
    }
   ],
   "source": [
    "for message in result['messages']:\n",
    "    message.pretty_print()"
   ]
  }
 ],
 "metadata": {
  "kernelspec": {
   "display_name": "ai-agents-with-langchain-langgraph-udacity (3.12.11)",
   "language": "python",
   "name": "python3"
  },
  "language_info": {
   "codemirror_mode": {
    "name": "ipython",
    "version": 3
   },
   "file_extension": ".py",
   "mimetype": "text/x-python",
   "name": "python",
   "nbconvert_exporter": "python",
   "pygments_lexer": "ipython3",
   "version": "3.12.11"
  }
 },
 "nbformat": 4,
 "nbformat_minor": 2
}
