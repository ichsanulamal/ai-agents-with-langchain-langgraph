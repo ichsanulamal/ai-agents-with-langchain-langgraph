{
 "cells": [
  {
   "cell_type": "code",
   "execution_count": null,
   "metadata": {},
   "outputs": [],
   "source": [
    "from typing import List\n",
    "import sqlalchemy\n",
    "from sqlalchemy.engine.base import Engine\n",
    "from sqlalchemy import text, create_engine\n",
    "import pandas as pd\n",
    "from langchain_core.tools import tool\n",
    "from langchain_core.runnables.config import RunnableConfig"
   ]
  },
  {
   "cell_type": "code",
   "execution_count": 2,
   "metadata": {},
   "outputs": [],
   "source": [
    "db_engine = create_engine(f\"sqlite:///sales.db\")"
   ]
  },
  {
   "cell_type": "code",
   "execution_count": 3,
   "metadata": {},
   "outputs": [],
   "source": [
    "inspector = sqlalchemy.inspect(db_engine)"
   ]
  },
  {
   "cell_type": "code",
   "execution_count": 4,
   "metadata": {},
   "outputs": [
    {
     "data": {
      "text/plain": [
       "['sales']"
      ]
     },
     "execution_count": 4,
     "metadata": {},
     "output_type": "execute_result"
    }
   ],
   "source": [
    "inspector.get_table_names()"
   ]
  },
  {
   "cell_type": "code",
   "execution_count": 5,
   "metadata": {},
   "outputs": [
    {
     "data": {
      "text/plain": [
       "[{'name': 'id',\n",
       "  'type': INTEGER(),\n",
       "  'nullable': False,\n",
       "  'default': None,\n",
       "  'primary_key': 1},\n",
       " {'name': 'transaction_date',\n",
       "  'type': DATE(),\n",
       "  'nullable': False,\n",
       "  'default': None,\n",
       "  'primary_key': 0},\n",
       " {'name': 'model',\n",
       "  'type': VARCHAR(length=50),\n",
       "  'nullable': False,\n",
       "  'default': None,\n",
       "  'primary_key': 0},\n",
       " {'name': 'price',\n",
       "  'type': FLOAT(),\n",
       "  'nullable': False,\n",
       "  'default': None,\n",
       "  'primary_key': 0},\n",
       " {'name': 'quantity',\n",
       "  'type': INTEGER(),\n",
       "  'nullable': True,\n",
       "  'default': None,\n",
       "  'primary_key': 0},\n",
       " {'name': 'customer_id',\n",
       "  'type': INTEGER(),\n",
       "  'nullable': True,\n",
       "  'default': None,\n",
       "  'primary_key': 0}]"
      ]
     },
     "execution_count": 5,
     "metadata": {},
     "output_type": "execute_result"
    }
   ],
   "source": [
    "table_name = \"sales\"\n",
    "inspector.get_columns(table_name)"
   ]
  },
  {
   "cell_type": "code",
   "execution_count": 6,
   "metadata": {},
   "outputs": [
    {
     "data": {
      "text/plain": [
       "['id', 'transaction_date', 'model', 'price', 'quantity', 'customer_id']"
      ]
     },
     "execution_count": 6,
     "metadata": {},
     "output_type": "execute_result"
    }
   ],
   "source": [
    "schema = inspector.get_columns(table_name)\n",
    "column_names = [column[\"name\"] for column in schema]\n",
    "column_names"
   ]
  },
  {
   "cell_type": "code",
   "execution_count": 7,
   "metadata": {},
   "outputs": [],
   "source": [
    "sql = f\"SELECT * FROM {table_name} LIMIT 10\""
   ]
  },
  {
   "cell_type": "code",
   "execution_count": 8,
   "metadata": {},
   "outputs": [],
   "source": [
    "with db_engine.begin() as connection:\n",
    "    answer = connection.execute(text(sql)).fetchall()"
   ]
  },
  {
   "cell_type": "code",
   "execution_count": 9,
   "metadata": {},
   "outputs": [
    {
     "data": {
      "text/plain": [
       "[(1, '2024-05-22', 'Dell XPS 15', 1308.04, 4, 1037),\n",
       " (2, '2024-06-07', 'Dell Inspiron 15', 2399.23, 4, 1044),\n",
       " (3, '2024-12-07', 'Dell XPS 13', 2481.61, 2, 1013),\n",
       " (4, '2024-06-21', 'Dell G5 15', 505.98, 4, 1054),\n",
       " (5, '2024-01-04', 'Dell Inspiron 14', 1429.78, 1, 1097),\n",
       " (6, '2024-04-23', 'Dell Inspiron 14', 1141.06, 2, 1074),\n",
       " (7, '2024-06-18', 'Dell Latitude 7310', 1740.03, 2, 1094),\n",
       " (8, '2024-03-12', 'Dell XPS 15', 521.49, 3, 1019),\n",
       " (9, '2024-02-10', 'Dell Latitude 7410', 545.36, 4, 1003),\n",
       " (10, '2024-12-17', 'Dell Inspiron 14', 668.95, 3, 1010)]"
      ]
     },
     "execution_count": 9,
     "metadata": {},
     "output_type": "execute_result"
    }
   ],
   "source": [
    "answer"
   ]
  },
  {
   "cell_type": "code",
   "execution_count": 10,
   "metadata": {},
   "outputs": [
    {
     "data": {
      "text/html": [
       "<div>\n",
       "<style scoped>\n",
       "    .dataframe tbody tr th:only-of-type {\n",
       "        vertical-align: middle;\n",
       "    }\n",
       "\n",
       "    .dataframe tbody tr th {\n",
       "        vertical-align: top;\n",
       "    }\n",
       "\n",
       "    .dataframe thead th {\n",
       "        text-align: right;\n",
       "    }\n",
       "</style>\n",
       "<table border=\"1\" class=\"dataframe\">\n",
       "  <thead>\n",
       "    <tr style=\"text-align: right;\">\n",
       "      <th></th>\n",
       "      <th>id</th>\n",
       "      <th>transaction_date</th>\n",
       "      <th>model</th>\n",
       "      <th>price</th>\n",
       "      <th>quantity</th>\n",
       "      <th>customer_id</th>\n",
       "    </tr>\n",
       "  </thead>\n",
       "  <tbody>\n",
       "    <tr>\n",
       "      <th>0</th>\n",
       "      <td>1</td>\n",
       "      <td>2024-05-22</td>\n",
       "      <td>Dell XPS 15</td>\n",
       "      <td>1308.04</td>\n",
       "      <td>4</td>\n",
       "      <td>1037</td>\n",
       "    </tr>\n",
       "    <tr>\n",
       "      <th>1</th>\n",
       "      <td>2</td>\n",
       "      <td>2024-06-07</td>\n",
       "      <td>Dell Inspiron 15</td>\n",
       "      <td>2399.23</td>\n",
       "      <td>4</td>\n",
       "      <td>1044</td>\n",
       "    </tr>\n",
       "    <tr>\n",
       "      <th>2</th>\n",
       "      <td>3</td>\n",
       "      <td>2024-12-07</td>\n",
       "      <td>Dell XPS 13</td>\n",
       "      <td>2481.61</td>\n",
       "      <td>2</td>\n",
       "      <td>1013</td>\n",
       "    </tr>\n",
       "    <tr>\n",
       "      <th>3</th>\n",
       "      <td>4</td>\n",
       "      <td>2024-06-21</td>\n",
       "      <td>Dell G5 15</td>\n",
       "      <td>505.98</td>\n",
       "      <td>4</td>\n",
       "      <td>1054</td>\n",
       "    </tr>\n",
       "    <tr>\n",
       "      <th>4</th>\n",
       "      <td>5</td>\n",
       "      <td>2024-01-04</td>\n",
       "      <td>Dell Inspiron 14</td>\n",
       "      <td>1429.78</td>\n",
       "      <td>1</td>\n",
       "      <td>1097</td>\n",
       "    </tr>\n",
       "    <tr>\n",
       "      <th>5</th>\n",
       "      <td>6</td>\n",
       "      <td>2024-04-23</td>\n",
       "      <td>Dell Inspiron 14</td>\n",
       "      <td>1141.06</td>\n",
       "      <td>2</td>\n",
       "      <td>1074</td>\n",
       "    </tr>\n",
       "    <tr>\n",
       "      <th>6</th>\n",
       "      <td>7</td>\n",
       "      <td>2024-06-18</td>\n",
       "      <td>Dell Latitude 7310</td>\n",
       "      <td>1740.03</td>\n",
       "      <td>2</td>\n",
       "      <td>1094</td>\n",
       "    </tr>\n",
       "    <tr>\n",
       "      <th>7</th>\n",
       "      <td>8</td>\n",
       "      <td>2024-03-12</td>\n",
       "      <td>Dell XPS 15</td>\n",
       "      <td>521.49</td>\n",
       "      <td>3</td>\n",
       "      <td>1019</td>\n",
       "    </tr>\n",
       "    <tr>\n",
       "      <th>8</th>\n",
       "      <td>9</td>\n",
       "      <td>2024-02-10</td>\n",
       "      <td>Dell Latitude 7410</td>\n",
       "      <td>545.36</td>\n",
       "      <td>4</td>\n",
       "      <td>1003</td>\n",
       "    </tr>\n",
       "    <tr>\n",
       "      <th>9</th>\n",
       "      <td>10</td>\n",
       "      <td>2024-12-17</td>\n",
       "      <td>Dell Inspiron 14</td>\n",
       "      <td>668.95</td>\n",
       "      <td>3</td>\n",
       "      <td>1010</td>\n",
       "    </tr>\n",
       "  </tbody>\n",
       "</table>\n",
       "</div>"
      ],
      "text/plain": [
       "   id transaction_date               model    price  quantity  customer_id\n",
       "0   1       2024-05-22         Dell XPS 15  1308.04         4         1037\n",
       "1   2       2024-06-07    Dell Inspiron 15  2399.23         4         1044\n",
       "2   3       2024-12-07         Dell XPS 13  2481.61         2         1013\n",
       "3   4       2024-06-21          Dell G5 15   505.98         4         1054\n",
       "4   5       2024-01-04    Dell Inspiron 14  1429.78         1         1097\n",
       "5   6       2024-04-23    Dell Inspiron 14  1141.06         2         1074\n",
       "6   7       2024-06-18  Dell Latitude 7310  1740.03         2         1094\n",
       "7   8       2024-03-12         Dell XPS 15   521.49         3         1019\n",
       "8   9       2024-02-10  Dell Latitude 7410   545.36         4         1003\n",
       "9  10       2024-12-17    Dell Inspiron 14   668.95         3         1010"
      ]
     },
     "execution_count": 10,
     "metadata": {},
     "output_type": "execute_result"
    }
   ],
   "source": [
    "pd.DataFrame(answer, columns=column_names)"
   ]
  },
  {
   "cell_type": "markdown",
   "metadata": {},
   "source": [
    "**Tools**"
   ]
  },
  {
   "cell_type": "code",
   "execution_count": 11,
   "metadata": {},
   "outputs": [],
   "source": [
    "@tool\n",
    "def list_tables_tool(config: RunnableConfig) -> List[str]:\n",
    "    \"\"\"\n",
    "    List all tables in database\n",
    "    \"\"\"\n",
    "    db_engine:Engine = config.get(\"configurable\", {}).get(\"db_engine\")\n",
    "    inspector = sqlalchemy.inspect(db_engine)\n",
    "\n",
    "    return inspector.get_table_names()"
   ]
  },
  {
   "cell_type": "code",
   "execution_count": 12,
   "metadata": {},
   "outputs": [],
   "source": [
    "@tool\n",
    "def get_table_schema_tool(table_name:str, config: RunnableConfig) -> List[str]:\n",
    "    \"\"\"\n",
    "    Get schema information about a table. Returns a list of dictionaries.\n",
    "    - name is the column name\n",
    "    - type is the column type\n",
    "    - nullable is whether the column is nullable or not\n",
    "    - default is the default value of the column\n",
    "    - primary_key is whether the column is a primary key or not\n",
    "\n",
    "    Args:\n",
    "        table_name (str): Table name\n",
    "    \"\"\"\n",
    "    db_engine:Engine = config.get(\"configurable\", {}).get(\"db_engine\")\n",
    "    inspector = sqlalchemy.inspect(db_engine)\n",
    "\n",
    "    return inspector.get_columns(table_name)\n"
   ]
  },
  {
   "cell_type": "code",
   "execution_count": 13,
   "metadata": {},
   "outputs": [],
   "source": [
    "@tool\n",
    "def execute_sql_tool(query:str, config: RunnableConfig) -> int:\n",
    "    \"\"\"\n",
    "    Execute SQL query and return result. \n",
    "    This will automatically connect to the database and execute the query.\n",
    "    However, if the query is not valid, an error will be raised\n",
    "\n",
    "    Args:\n",
    "        query (str): SQL query\n",
    "    \"\"\"\n",
    "    db_engine:Engine = config.get(\"configurable\", {}).get(\"db_engine\")\n",
    "    with db_engine.begin() as connection:\n",
    "        answer = connection.execute(text(query)).fetchall()\n",
    "\n",
    "    return answer"
   ]
  },
  {
   "cell_type": "code",
   "execution_count": 14,
   "metadata": {},
   "outputs": [],
   "source": [
    "db_engine = create_engine(f\"sqlite:///sales.db\")"
   ]
  },
  {
   "cell_type": "code",
   "execution_count": 15,
   "metadata": {},
   "outputs": [],
   "source": [
    "config = {'configurable':{'db_engine': db_engine}}"
   ]
  },
  {
   "cell_type": "code",
   "execution_count": 16,
   "metadata": {},
   "outputs": [
    {
     "data": {
      "text/plain": [
       "['sales']"
      ]
     },
     "execution_count": 16,
     "metadata": {},
     "output_type": "execute_result"
    }
   ],
   "source": [
    "tables = list_tables_tool.invoke({}, config)\n",
    "tables"
   ]
  },
  {
   "cell_type": "code",
   "execution_count": 17,
   "metadata": {},
   "outputs": [
    {
     "data": {
      "text/plain": [
       "{'sales': [{'name': 'id',\n",
       "   'type': INTEGER(),\n",
       "   'nullable': False,\n",
       "   'default': None,\n",
       "   'primary_key': 1},\n",
       "  {'name': 'transaction_date',\n",
       "   'type': DATE(),\n",
       "   'nullable': False,\n",
       "   'default': None,\n",
       "   'primary_key': 0},\n",
       "  {'name': 'model',\n",
       "   'type': VARCHAR(length=50),\n",
       "   'nullable': False,\n",
       "   'default': None,\n",
       "   'primary_key': 0},\n",
       "  {'name': 'price',\n",
       "   'type': FLOAT(),\n",
       "   'nullable': False,\n",
       "   'default': None,\n",
       "   'primary_key': 0},\n",
       "  {'name': 'quantity',\n",
       "   'type': INTEGER(),\n",
       "   'nullable': True,\n",
       "   'default': None,\n",
       "   'primary_key': 0},\n",
       "  {'name': 'customer_id',\n",
       "   'type': INTEGER(),\n",
       "   'nullable': True,\n",
       "   'default': None,\n",
       "   'primary_key': 0}]}"
      ]
     },
     "execution_count": 17,
     "metadata": {},
     "output_type": "execute_result"
    }
   ],
   "source": [
    "schemas = {\n",
    "    table: get_table_schema_tool.invoke({\n",
    "            'table_name': table\n",
    "        }, config) \n",
    "    for table in tables\n",
    "}\n",
    "schemas"
   ]
  },
  {
   "cell_type": "code",
   "execution_count": 18,
   "metadata": {},
   "outputs": [
    {
     "data": {
      "text/plain": [
       "[(1, '2024-05-22', 'Dell XPS 15', 1308.04, 4, 1037),\n",
       " (2, '2024-06-07', 'Dell Inspiron 15', 2399.23, 4, 1044),\n",
       " (3, '2024-12-07', 'Dell XPS 13', 2481.61, 2, 1013),\n",
       " (4, '2024-06-21', 'Dell G5 15', 505.98, 4, 1054),\n",
       " (5, '2024-01-04', 'Dell Inspiron 14', 1429.78, 1, 1097),\n",
       " (6, '2024-04-23', 'Dell Inspiron 14', 1141.06, 2, 1074),\n",
       " (7, '2024-06-18', 'Dell Latitude 7310', 1740.03, 2, 1094),\n",
       " (8, '2024-03-12', 'Dell XPS 15', 521.49, 3, 1019),\n",
       " (9, '2024-02-10', 'Dell Latitude 7410', 545.36, 4, 1003),\n",
       " (10, '2024-12-17', 'Dell Inspiron 14', 668.95, 3, 1010)]"
      ]
     },
     "execution_count": 18,
     "metadata": {},
     "output_type": "execute_result"
    }
   ],
   "source": [
    "sql = f\"SELECT * FROM {tables[0]} LIMIT 10\"\n",
    "result = execute_sql_tool.invoke({'query': sql}, config)\n",
    "result"
   ]
  },
  {
   "cell_type": "code",
   "execution_count": null,
   "metadata": {},
   "outputs": [],
   "source": []
  }
 ],
 "metadata": {
  "kernelspec": {
   "display_name": ".venv",
   "language": "python",
   "name": "python3"
  },
  "language_info": {
   "codemirror_mode": {
    "name": "ipython",
    "version": 3
   },
   "file_extension": ".py",
   "mimetype": "text/x-python",
   "name": "python",
   "nbconvert_exporter": "python",
   "pygments_lexer": "ipython3",
   "version": "3.10.15"
  }
 },
 "nbformat": 4,
 "nbformat_minor": 2
}
