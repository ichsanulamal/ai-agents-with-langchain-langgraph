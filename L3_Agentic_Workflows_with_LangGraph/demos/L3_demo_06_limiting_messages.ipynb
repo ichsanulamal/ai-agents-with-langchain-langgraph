{
 "cells": [
  {
   "cell_type": "code",
   "execution_count": null,
   "metadata": {},
   "outputs": [],
   "source": [
    "from typing import List, Annotated\n",
    "from langgraph.graph import StateGraph, MessagesState, add_messages, START, END\n",
    "from langchain_core.messages import (\n",
    "    HumanMessage, \n",
    "    AIMessage, \n",
    "    SystemMessage,\n",
    "    AnyMessage,\n",
    "    RemoveMessage,\n",
    "    trim_messages\n",
    ")\n",
    "from langchain_openai import ChatOpenAI\n",
    "from IPython.display import Image, display"
   ]
  },
  {
   "cell_type": "markdown",
   "metadata": {},
   "source": [
    "**Calling LLM**"
   ]
  },
  {
   "cell_type": "code",
   "execution_count": 2,
   "metadata": {},
   "outputs": [],
   "source": [
    "from dotenv import load_dotenv\n",
    "load_dotenv()\n",
    "llm = ChatOpenAI(\n",
    "    model=\"gpt-4o-mini\",\n",
    "    temperature=0.0,\n",
    ")"
   ]
  },
  {
   "cell_type": "code",
   "execution_count": 3,
   "metadata": {},
   "outputs": [],
   "source": [
    "def llm_node(state: MessagesState):\n",
    "    return {\"messages\": llm.invoke(state[\"messages\"])}"
   ]
  },
  {
   "cell_type": "code",
   "execution_count": null,
   "metadata": {},
   "outputs": [
    {
     "data": {
      "image/png": "[encoded data removed]",
      "text/plain": [
       "<IPython.core.display.Image object>"
      ]
     },
     "metadata": {},
     "output_type": "display_data"
    }
   ],
   "source": [
    "workflow = StateGraph(MessagesState)\n",
    "workflow.add_node(\"llm_node\", llm_node)\n",
    "workflow.add_edge(START, \"llm_node\")\n",
    "workflow.add_edge(\"llm_node\", END)\n",
    "graph = workflow.compile()\n",
    "\n",
    "display(\n",
    "    Image(\n",
    "        graph.get_graph().draw_mermaid_png()\n",
    "    )\n",
    ")"
   ]
  },
  {
   "cell_type": "code",
   "execution_count": 5,
   "metadata": {},
   "outputs": [],
   "source": [
    "messages = [\n",
    "    SystemMessage(\"You're a FinTech specialist. You're not allowed to talk about anything else\"),\n",
    "    HumanMessage(\"What is Pokemon?\"),\n",
    "]"
   ]
  },
  {
   "cell_type": "code",
   "execution_count": 6,
   "metadata": {},
   "outputs": [
    {
     "data": {
      "text/plain": [
       "{'messages': [SystemMessage(content=\"You're a FinTech specialist. You're not allowed to talk about anything else\", additional_kwargs={}, response_metadata={}, id='1a58698c-6615-4238-a916-4c0bad6942a4'),\n",
       "  HumanMessage(content='What is Pokemon?', additional_kwargs={}, response_metadata={}, id='70a94fed-dfa7-42ae-9831-b6f06a8e9901'),\n",
       "  AIMessage(content=\"I'm here to provide information specifically about FinTech. If you have any questions related to financial technology, such as digital payments, blockchain, cryptocurrencies, or financial services innovations, feel free to ask!\", additional_kwargs={'refusal': None}, response_metadata={'token_usage': {'completion_tokens': 40, 'prompt_tokens': 29, 'total_tokens': 69, 'completion_tokens_details': {'accepted_prediction_tokens': 0, 'audio_tokens': 0, 'reasoning_tokens': 0, 'rejected_prediction_tokens': 0}, 'prompt_tokens_details': {'audio_tokens': 0, 'cached_tokens': 0}}, 'model_name': 'gpt-4o-mini-2024-07-18', 'system_fingerprint': 'fp_06737a9306', 'finish_reason': 'stop', 'logprobs': None}, id='run-875172ae-294b-4c29-be9d-fe7131605c1d-0', usage_metadata={'input_tokens': 29, 'output_tokens': 40, 'total_tokens': 69, 'input_token_details': {'audio': 0, 'cache_read': 0}, 'output_token_details': {'audio': 0, 'reasoning': 0}})]}"
      ]
     },
     "execution_count": 6,
     "metadata": {},
     "output_type": "execute_result"
    }
   ],
   "source": [
    "graph.invoke({\"messages\": messages})"
   ]
  },
  {
   "cell_type": "markdown",
   "metadata": {},
   "source": [
    "**Filter Messages during Invocation**"
   ]
  },
  {
   "cell_type": "code",
   "execution_count": 7,
   "metadata": {},
   "outputs": [
    {
     "data": {
      "text/plain": [
       "{'messages': [HumanMessage(content='What is Pokemon?', additional_kwargs={}, response_metadata={}, id='70a94fed-dfa7-42ae-9831-b6f06a8e9901'),\n",
       "  AIMessage(content='Pokémon, short for \"Pocket Monsters,\" is a media franchise created by Satoshi Tajiri and Ken Sugimori, and it is managed by The Pokémon Company, which is a collaboration between Nintendo, Game Freak, and Creatures Inc. The franchise was first introduced in 1996 with the release of Pokémon Red and Green for the Game Boy in Japan.\\n\\nThe core concept of Pokémon revolves around fictional creatures called \"Pokémon,\" which humans, known as Pokémon Trainers, catch and train to battle each other for sport. The franchise includes video games, trading card games, an animated television series, movies, toys, and various merchandise.\\n\\nKey elements of the Pokémon franchise include:\\n\\n1. **Video Games**: The main series of role-playing games (RPGs) where players assume the role of Pokémon Trainers, capturing and training Pokémon to compete in battles. The games are typically released in pairs with slight variations between them.\\n\\n2. **Trading Card Game**: A collectible card game where players build decks and battle against each other using Pokémon cards, which represent different Pokémon, moves, and items.\\n\\n3. **Anime Series**: The animated television series follows the adventures of Ash Ketchum (Satoshi in Japan) and his friends as they travel the Pokémon world, catch Pokémon, and compete in Pokémon battles.\\n\\n4. **Movies**: The franchise has produced numerous animated films, often featuring legendary or mythical Pokémon and expanding on the stories from the anime.\\n\\n5. **Merchandise**: Pokémon has a vast array of merchandise, including toys, clothing, and accessories, making it one of the most recognizable brands in the world.\\n\\n6. **Pokémon GO**: A mobile augmented reality game released in 2016 that allows players to catch Pokémon in the real world using their smartphones.\\n\\nThe franchise has grown to become one of the most successful and enduring in entertainment history, appealing to fans of all ages around the globe.', additional_kwargs={'refusal': None}, response_metadata={'token_usage': {'completion_tokens': 390, 'prompt_tokens': 11, 'total_tokens': 401, 'completion_tokens_details': {'accepted_prediction_tokens': 0, 'audio_tokens': 0, 'reasoning_tokens': 0, 'rejected_prediction_tokens': 0}, 'prompt_tokens_details': {'audio_tokens': 0, 'cached_tokens': 0}}, 'model_name': 'gpt-4o-mini-2024-07-18', 'system_fingerprint': 'fp_7fcd609668', 'finish_reason': 'stop', 'logprobs': None}, id='run-eb6c137d-be5d-4ca6-9827-01cb8121fc5d-0', usage_metadata={'input_tokens': 11, 'output_tokens': 390, 'total_tokens': 401, 'input_token_details': {'audio': 0, 'cache_read': 0}, 'output_token_details': {'audio': 0, 'reasoning': 0}})]}"
      ]
     },
     "execution_count": 7,
     "metadata": {},
     "output_type": "execute_result"
    }
   ],
   "source": [
    "graph.invoke({\"messages\": messages[-1]})"
   ]
  },
  {
   "cell_type": "markdown",
   "metadata": {},
   "source": [
    "**Useful Messages List**"
   ]
  },
  {
   "cell_type": "code",
   "execution_count": 8,
   "metadata": {},
   "outputs": [],
   "source": [
    "messages = [\n",
    "    SystemMessage(\n",
    "        content=\"You're a FinTech specialist. You're not allowed to talk about anything else\",\n",
    "        name=\"System\",\n",
    "        id=\"0\",\n",
    "    ),\n",
    "    HumanMessage(\n",
    "        content=\"What is Pokemon?\",\n",
    "        name=\"User\",\n",
    "        id=\"1\"\n",
    "    ),\n",
    "    AIMessage(\n",
    "        content=\"I'm here to provide information specifically about FinTech. If you have \" \n",
    "                \"any questions related to financial technology, such as digital payments, \" \n",
    "                \"blockchain, cryptocurrencies, or financial services innovations, feel free \" \n",
    "                \"to ask!\",\n",
    "        name=\"FintechAssistant\",\n",
    "        id=\"2\",\n",
    "    ),\n",
    "    HumanMessage(\n",
    "        content=\"What is BlockChain?\",\n",
    "        name=\"User\",\n",
    "        id=\"3\"\n",
    "    ),\n",
    "    AIMessage(\n",
    "        content=\"Blockchain is a decentralized digital ledger technology that records\" \n",
    "                \"transactions across multiple computers in a way that ensures the security, \" \n",
    "                \"transparency, and integrity of the data. Each transaction is grouped into \" \n",
    "                \"a block, and these blocks are linked together in chronological order to form \" \n",
    "                \"a chain, hence the name blockchain.\",\n",
    "        name=\"FintechAssistant\",\n",
    "        id=\"4\",\n",
    "    ),\n",
    "    HumanMessage(\n",
    "        content=\"What is a credit card fraud?\",\n",
    "        name=\"User\",\n",
    "        id=\"5\"\n",
    "    ),\n",
    "]"
   ]
  },
  {
   "cell_type": "markdown",
   "metadata": {},
   "source": [
    "**Filter Messages inside a node**"
   ]
  },
  {
   "cell_type": "code",
   "execution_count": 15,
   "metadata": {},
   "outputs": [],
   "source": [
    "class State(MessagesState):\n",
    "    filtered_messages: Annotated[List[AnyMessage], add_messages]"
   ]
  },
  {
   "cell_type": "code",
   "execution_count": 16,
   "metadata": {},
   "outputs": [],
   "source": [
    "def llm_node(state: State):\n",
    "    filtered_messages = state[\"messages\"][-3:]\n",
    "    ai_message = llm.invoke(filtered_messages)\n",
    "    filtered_messages.append(ai_message)\n",
    "    return {\"messages\": ai_message, \"filtered_messages\": filtered_messages}"
   ]
  },
  {
   "cell_type": "code",
   "execution_count": null,
   "metadata": {},
   "outputs": [
    {
     "data": {
      "image/png": "[encoded data removed]",
      "text/plain": [
       "<IPython.core.display.Image object>"
      ]
     },
     "metadata": {},
     "output_type": "display_data"
    }
   ],
   "source": [
    "workflow = StateGraph(State)\n",
    "workflow.add_node(\"llm_node\", llm_node)\n",
    "workflow.add_edge(START, \"llm_node\")\n",
    "workflow.add_edge(\"llm_node\", END)\n",
    "graph = workflow.compile()\n",
    "\n",
    "display(\n",
    "    Image(\n",
    "        graph.get_graph().draw_mermaid_png()\n",
    "    )\n",
    ")"
   ]
  },
  {
   "cell_type": "code",
   "execution_count": 18,
   "metadata": {},
   "outputs": [
    {
     "name": "stdout",
     "output_type": "stream",
     "text": [
      "================================\u001b[1m System Message \u001b[0m================================\n",
      "Name: System\n",
      "\n",
      "You're a FinTech specialist. You're not allowed to talk about anything else\n",
      "================================\u001b[1m Human Message \u001b[0m=================================\n",
      "Name: User\n",
      "\n",
      "What is Pokemon?\n",
      "==================================\u001b[1m Ai Message \u001b[0m==================================\n",
      "Name: FintechAssistant\n",
      "\n",
      "I'm here to provide information specifically about FinTech. If you have any questions related to financial technology, such as digital payments, blockchain, cryptocurrencies, or financial services innovations, feel free to ask!\n",
      "================================\u001b[1m Human Message \u001b[0m=================================\n",
      "Name: User\n",
      "\n",
      "What is BlockChain?\n",
      "==================================\u001b[1m Ai Message \u001b[0m==================================\n",
      "Name: FintechAssistant\n",
      "\n",
      "Blockchain is a decentralized digital ledger technology that recordstransactions across multiple computers in a way that ensures the security, transparency, and integrity of the data. Each transaction is grouped into a block, and these blocks are linked together in chronological order to form a chain, hence the name blockchain.\n",
      "================================\u001b[1m Human Message \u001b[0m=================================\n",
      "Name: User\n",
      "\n",
      "What is a credit card fraud?\n"
     ]
    }
   ],
   "source": [
    "for m in messages:\n",
    "    m.pretty_print()"
   ]
  },
  {
   "cell_type": "code",
   "execution_count": 19,
   "metadata": {},
   "outputs": [
    {
     "name": "stdout",
     "output_type": "stream",
     "text": [
      "================================\u001b[1m Human Message \u001b[0m=================================\n",
      "Name: User\n",
      "\n",
      "What is BlockChain?\n",
      "==================================\u001b[1m Ai Message \u001b[0m==================================\n",
      "Name: FintechAssistant\n",
      "\n",
      "Blockchain is a decentralized digital ledger technology that recordstransactions across multiple computers in a way that ensures the security, transparency, and integrity of the data. Each transaction is grouped into a block, and these blocks are linked together in chronological order to form a chain, hence the name blockchain.\n",
      "================================\u001b[1m Human Message \u001b[0m=================================\n",
      "Name: User\n",
      "\n",
      "What is a credit card fraud?\n",
      "==================================\u001b[1m Ai Message \u001b[0m==================================\n",
      "\n",
      "Credit card fraud is a type of financial fraud that involves the unauthorized use of someone else's credit card information to make purchases or access funds. This can occur in various ways, including:\n",
      "\n",
      "1. **Card Not Present Fraud**: This happens when the physical card is not required for the transaction, such as online purchases. Fraudsters may use stolen card details to make purchases without the cardholder's knowledge.\n",
      "\n",
      "2. **Card Present Fraud**: This occurs when a thief physically steals a credit card and uses it to make purchases in stores or other locations.\n",
      "\n",
      "3. **Account Takeover**: In this scenario, a fraudster gains access to a cardholder's account, often through phishing or hacking, and makes unauthorized transactions.\n",
      "\n",
      "4. **Skimming**: This involves the use of a small device (skimmer) that captures the card information when the card is swiped at a point of sale.\n",
      "\n",
      "5. **Application Fraud**: This occurs when someone uses stolen personal information to apply for a credit card in someone else's name.\n",
      "\n",
      "Credit card fraud can lead to significant financial losses for both consumers and financial institutions, and it often requires prompt reporting and investigation to resolve.\n"
     ]
    }
   ],
   "source": [
    "output = graph.invoke({'messages': messages})\n",
    "for m in output['filtered_messages']:\n",
    "    m.pretty_print()"
   ]
  },
  {
   "cell_type": "markdown",
   "metadata": {},
   "source": [
    "**Remove Messages**"
   ]
  },
  {
   "cell_type": "code",
   "execution_count": 21,
   "metadata": {},
   "outputs": [
    {
     "data": {
      "text/plain": [
       "[SystemMessage(content=\"You're a FinTech specialist. You're not allowed to talk about anything else\", additional_kwargs={}, response_metadata={}, name='System', id='0'),\n",
       " HumanMessage(content='What is Pokemon?', additional_kwargs={}, response_metadata={}, name='User', id='1'),\n",
       " AIMessage(content=\"I'm here to provide information specifically about FinTech. If you have any questions related to financial technology, such as digital payments, blockchain, cryptocurrencies, or financial services innovations, feel free to ask!\", additional_kwargs={}, response_metadata={}, name='FintechAssistant', id='2')]"
      ]
     },
     "execution_count": 21,
     "metadata": {},
     "output_type": "execute_result"
    }
   ],
   "source": [
    "messages[:-3]"
   ]
  },
  {
   "cell_type": "code",
   "execution_count": 20,
   "metadata": {},
   "outputs": [
    {
     "data": {
      "text/plain": [
       "[HumanMessage(content='What is BlockChain?', additional_kwargs={}, response_metadata={}, name='User', id='3'),\n",
       " AIMessage(content='Blockchain is a decentralized digital ledger technology that recordstransactions across multiple computers in a way that ensures the security, transparency, and integrity of the data. Each transaction is grouped into a block, and these blocks are linked together in chronological order to form a chain, hence the name blockchain.', additional_kwargs={}, response_metadata={}, name='FintechAssistant', id='4'),\n",
       " HumanMessage(content='What is a credit card fraud?', additional_kwargs={}, response_metadata={}, name='User', id='5')]"
      ]
     },
     "execution_count": 20,
     "metadata": {},
     "output_type": "execute_result"
    }
   ],
   "source": [
    "delete_messages = [RemoveMessage(id=m.id) for m in messages[:-3]]\n",
    "add_messages(messages, delete_messages)"
   ]
  },
  {
   "cell_type": "code",
   "execution_count": 22,
   "metadata": {},
   "outputs": [],
   "source": [
    "class State(MessagesState):\n",
    "    filtered_messages: Annotated[List[AnyMessage], add_messages]"
   ]
  },
  {
   "cell_type": "code",
   "execution_count": null,
   "metadata": {},
   "outputs": [],
   "source": [
    "def removal_filter(state: State):\n",
    "    filtered_messages = [\n",
    "        RemoveMessage(id=m.id) \n",
    "            for m in state[\"messages\"][:-3] \n",
    "            if m.name != \"System\"\n",
    "    ]\n",
    "    return {\n",
    "        \"filtered_messages\": add_messages(\n",
    "            state[\"messages\"], \n",
    "            filtered_messages\n",
    "        )\n",
    "    }"
   ]
  },
  {
   "cell_type": "code",
   "execution_count": 24,
   "metadata": {},
   "outputs": [],
   "source": [
    "def llm_node(state: State):\n",
    "    ai_message = llm.invoke(state[\"filtered_messages\"])\n",
    "    return {\n",
    "        \"filtered_messages\": ai_message,\n",
    "    }"
   ]
  },
  {
   "cell_type": "code",
   "execution_count": null,
   "metadata": {},
   "outputs": [
    {
     "data": {
      "image/png": "[encoded data removed]",
      "text/plain": [
       "<IPython.core.display.Image object>"
      ]
     },
     "metadata": {},
     "output_type": "display_data"
    }
   ],
   "source": [
    "workflow = StateGraph(State)\n",
    "workflow.add_node(\"llm_node\", llm_node)\n",
    "workflow.add_node(\"removal_filter\", removal_filter)\n",
    "workflow.add_edge(START, \"removal_filter\")\n",
    "workflow.add_edge(\"removal_filter\", \"llm_node\")\n",
    "workflow.add_edge(\"llm_node\", END)\n",
    "\n",
    "graph = workflow.compile()\n",
    "\n",
    "display(\n",
    "    Image(\n",
    "        graph.get_graph().draw_mermaid_png()\n",
    "    )\n",
    ")"
   ]
  },
  {
   "cell_type": "code",
   "execution_count": 26,
   "metadata": {},
   "outputs": [
    {
     "name": "stdout",
     "output_type": "stream",
     "text": [
      "================================\u001b[1m System Message \u001b[0m================================\n",
      "Name: System\n",
      "\n",
      "You're a FinTech specialist. You're not allowed to talk about anything else\n",
      "================================\u001b[1m Human Message \u001b[0m=================================\n",
      "Name: User\n",
      "\n",
      "What is Pokemon?\n",
      "==================================\u001b[1m Ai Message \u001b[0m==================================\n",
      "Name: FintechAssistant\n",
      "\n",
      "I'm here to provide information specifically about FinTech. If you have any questions related to financial technology, such as digital payments, blockchain, cryptocurrencies, or financial services innovations, feel free to ask!\n",
      "================================\u001b[1m Human Message \u001b[0m=================================\n",
      "Name: User\n",
      "\n",
      "What is BlockChain?\n",
      "==================================\u001b[1m Ai Message \u001b[0m==================================\n",
      "Name: FintechAssistant\n",
      "\n",
      "Blockchain is a decentralized digital ledger technology that recordstransactions across multiple computers in a way that ensures the security, transparency, and integrity of the data. Each transaction is grouped into a block, and these blocks are linked together in chronological order to form a chain, hence the name blockchain.\n",
      "================================\u001b[1m Human Message \u001b[0m=================================\n",
      "Name: User\n",
      "\n",
      "What is a credit card fraud?\n"
     ]
    }
   ],
   "source": [
    "for m in messages:\n",
    "    m.pretty_print()"
   ]
  },
  {
   "cell_type": "code",
   "execution_count": 27,
   "metadata": {},
   "outputs": [
    {
     "name": "stdout",
     "output_type": "stream",
     "text": [
      "================================\u001b[1m System Message \u001b[0m================================\n",
      "Name: System\n",
      "\n",
      "You're a FinTech specialist. You're not allowed to talk about anything else\n",
      "================================\u001b[1m Human Message \u001b[0m=================================\n",
      "Name: User\n",
      "\n",
      "What is BlockChain?\n",
      "==================================\u001b[1m Ai Message \u001b[0m==================================\n",
      "Name: FintechAssistant\n",
      "\n",
      "Blockchain is a decentralized digital ledger technology that recordstransactions across multiple computers in a way that ensures the security, transparency, and integrity of the data. Each transaction is grouped into a block, and these blocks are linked together in chronological order to form a chain, hence the name blockchain.\n",
      "================================\u001b[1m Human Message \u001b[0m=================================\n",
      "Name: User\n",
      "\n",
      "What is a credit card fraud?\n",
      "==================================\u001b[1m Ai Message \u001b[0m==================================\n",
      "\n",
      "Credit card fraud is a type of financial fraud that involves the unauthorized use of someone else's credit card information to make purchases or access funds. This can occur through various methods, such as stealing physical cards, phishing for card details online, or using malware to capture card information. In the context of fintech, companies are continuously developing advanced security measures, such as tokenization and machine learning algorithms, to detect and prevent credit card fraud.\n"
     ]
    }
   ],
   "source": [
    "output = graph.invoke({'messages': messages})\n",
    "for m in output['filtered_messages']:\n",
    "    m.pretty_print()"
   ]
  },
  {
   "cell_type": "markdown",
   "metadata": {},
   "source": [
    "**Trim Messages**"
   ]
  },
  {
   "cell_type": "code",
   "execution_count": 55,
   "metadata": {},
   "outputs": [
    {
     "data": {
      "text/plain": [
       "[SystemMessage(content=\"You're a FinTech specialist. You're not allowed to talk about anything else\", additional_kwargs={}, response_metadata={}, name='System', id='0'),\n",
       " HumanMessage(content='What is a credit card fraud?', additional_kwargs={}, response_metadata={}, name='User', id='5')]"
      ]
     },
     "execution_count": 55,
     "metadata": {},
     "output_type": "execute_result"
    }
   ],
   "source": [
    "trim_messages(\n",
    "    messages,\n",
    "    max_tokens=50,\n",
    "    strategy=\"last\",\n",
    "    token_counter=llm,\n",
    "    allow_partial=False,\n",
    "    include_system=True\n",
    ")"
   ]
  },
  {
   "cell_type": "code",
   "execution_count": 56,
   "metadata": {},
   "outputs": [],
   "source": [
    "class State(MessagesState):\n",
    "    max_tokens: int\n",
    "    filtered_messages: Annotated[List[AnyMessage], add_messages]"
   ]
  },
  {
   "cell_type": "code",
   "execution_count": 57,
   "metadata": {},
   "outputs": [],
   "source": [
    "def trim_filter(state: State):\n",
    "    max_tokens = state[\"max_tokens\"]\n",
    "    messages = state[\"messages\"]\n",
    "    filtered_messages = messages\n",
    "    if max_tokens:\n",
    "        filtered_messages = trim_messages(\n",
    "            messages=messages,\n",
    "            max_tokens=max_tokens,\n",
    "            strategy=\"last\",\n",
    "            token_counter=llm,\n",
    "            include_system=True,\n",
    "            allow_partial=False\n",
    "        )\n",
    "    return {\"filtered_messages\": filtered_messages}"
   ]
  },
  {
   "cell_type": "code",
   "execution_count": 58,
   "metadata": {},
   "outputs": [],
   "source": [
    "def llm_node(state: State):\n",
    "    return {\"filtered_messages\": llm.invoke(state[\"filtered_messages\"])}"
   ]
  },
  {
   "cell_type": "code",
   "execution_count": null,
   "metadata": {},
   "outputs": [
    {
     "data": {
      "image/png": "[encoded data removed]",
      "text/plain": [
       "<IPython.core.display.Image object>"
      ]
     },
     "metadata": {},
     "output_type": "display_data"
    }
   ],
   "source": [
    "workflow = StateGraph(State)\n",
    "workflow.add_node(\"llm_node\", llm_node)\n",
    "workflow.add_node(\"trim_filter\", trim_filter)\n",
    "workflow.add_edge(START, \"trim_filter\")\n",
    "workflow.add_edge(\"trim_filter\", \"llm_node\")\n",
    "workflow.add_edge(\"llm_node\", END)\n",
    "\n",
    "graph = workflow.compile()\n",
    "\n",
    "display(\n",
    "    Image(\n",
    "        graph.get_graph().draw_mermaid_png()\n",
    "    )\n",
    ")"
   ]
  },
  {
   "cell_type": "code",
   "execution_count": 60,
   "metadata": {},
   "outputs": [
    {
     "name": "stdout",
     "output_type": "stream",
     "text": [
      "================================\u001b[1m System Message \u001b[0m================================\n",
      "Name: System\n",
      "\n",
      "You're a FinTech specialist. You're not allowed to talk about anything else\n",
      "================================\u001b[1m Human Message \u001b[0m=================================\n",
      "Name: User\n",
      "\n",
      "What is Pokemon?\n",
      "==================================\u001b[1m Ai Message \u001b[0m==================================\n",
      "Name: FintechAssistant\n",
      "\n",
      "I'm here to provide information specifically about FinTech. If you have any questions related to financial technology, such as digital payments, blockchain, cryptocurrencies, or financial services innovations, feel free to ask!\n",
      "================================\u001b[1m Human Message \u001b[0m=================================\n",
      "Name: User\n",
      "\n",
      "What is BlockChain?\n",
      "==================================\u001b[1m Ai Message \u001b[0m==================================\n",
      "Name: FintechAssistant\n",
      "\n",
      "Blockchain is a decentralized digital ledger technology that recordstransactions across multiple computers in a way that ensures the security, transparency, and integrity of the data. Each transaction is grouped into a block, and these blocks are linked together in chronological order to form a chain, hence the name blockchain.\n",
      "================================\u001b[1m Human Message \u001b[0m=================================\n",
      "Name: User\n",
      "\n",
      "What is a credit card fraud?\n"
     ]
    }
   ],
   "source": [
    "for m in messages:\n",
    "    m.pretty_print()"
   ]
  },
  {
   "cell_type": "code",
   "execution_count": 67,
   "metadata": {},
   "outputs": [],
   "source": [
    "output = graph.invoke(\n",
    "    input={\n",
    "        \"max_tokens\": 50,\n",
    "        \"messages\": messages\n",
    "    }\n",
    ")"
   ]
  },
  {
   "cell_type": "code",
   "execution_count": 68,
   "metadata": {},
   "outputs": [
    {
     "name": "stdout",
     "output_type": "stream",
     "text": [
      "================================\u001b[1m System Message \u001b[0m================================\n",
      "Name: System\n",
      "\n",
      "You're a FinTech specialist. You're not allowed to talk about anything else\n",
      "================================\u001b[1m Human Message \u001b[0m=================================\n",
      "Name: User\n",
      "\n",
      "What is a credit card fraud?\n",
      "==================================\u001b[1m Ai Message \u001b[0m==================================\n",
      "\n",
      "Credit card fraud is a type of financial fraud that involves the unauthorized use of someone else's credit card information to make purchases or obtain funds. This can occur in various ways, including:\n",
      "\n",
      "1. **Card Not Present Fraud**: This happens when the physical card is not required for the transaction, such as online purchases. Fraudsters may use stolen card details to make purchases without the cardholder's knowledge.\n",
      "\n",
      "2. **Card Present Fraud**: This occurs when a thief physically uses a stolen card at a point of sale. This can involve skimming devices that capture card information from the magnetic stripe.\n",
      "\n",
      "3. **Account Takeover**: In this scenario, a fraudster gains access to a cardholder's account, often through phishing or data breaches, and makes unauthorized transactions.\n",
      "\n",
      "4. **Application Fraud**: This involves using stolen personal information to apply for a credit card in someone else's name, leading to fraudulent charges on the new account.\n",
      "\n",
      "Credit card fraud can lead to significant financial losses for both consumers and financial institutions, and it often requires prompt reporting and investigation to mitigate damages. Many credit card companies offer fraud protection services to help detect and prevent unauthorized transactions.\n"
     ]
    }
   ],
   "source": [
    "for m in output['filtered_messages']:\n",
    "    m.pretty_print()"
   ]
  },
  {
   "cell_type": "markdown",
   "metadata": {},
   "source": [
    "**Summary**"
   ]
  },
  {
   "cell_type": "code",
   "execution_count": 88,
   "metadata": {},
   "outputs": [
    {
     "data": {
      "text/plain": [
       "[HumanMessage(content='What is Pokemon?', additional_kwargs={}, response_metadata={}, name='User', id='1'),\n",
       " AIMessage(content=\"I'm here to provide information specifically about FinTech. If you have any questions related to financial technology, such as digital payments, blockchain, cryptocurrencies, or financial services innovations, feel free to ask!\", additional_kwargs={}, response_metadata={}, name='FintechAssistant', id='2'),\n",
       " HumanMessage(content='What is BlockChain?', additional_kwargs={}, response_metadata={}, name='User', id='3'),\n",
       " AIMessage(content='Blockchain is a decentralized digital ledger technology that recordstransactions across multiple computers in a way that ensures the security, transparency, and integrity of the data. Each transaction is grouped into a block, and these blocks are linked together in chronological order to form a chain, hence the name blockchain.', additional_kwargs={}, response_metadata={}, name='FintechAssistant', id='4')]"
      ]
     },
     "execution_count": 88,
     "metadata": {},
     "output_type": "execute_result"
    }
   ],
   "source": [
    "messages[1:-1]"
   ]
  },
  {
   "cell_type": "code",
   "execution_count": 89,
   "metadata": {},
   "outputs": [],
   "source": [
    "messages_to_summarize = messages[1:-1]\n",
    "summary_message = HumanMessage(\n",
    "    content=\"Create a summary of the conversation above:\", \n",
    "    name=\"User\"\n",
    ")\n",
    "ai_message = llm.invoke(\n",
    "    add_messages(\n",
    "        messages_to_summarize,\n",
    "        summary_message\n",
    "    )\n",
    ")"
   ]
  },
  {
   "cell_type": "code",
   "execution_count": 90,
   "metadata": {},
   "outputs": [
    {
     "data": {
      "text/plain": [
       "'The user initially asked about Pokémon, but the assistant redirected the conversation to focus on FinTech topics. The user then inquired about blockchain, to which the assistant provided a brief explanation of blockchain as a decentralized digital ledger technology that securely records transactions in a linked chain of blocks.'"
      ]
     },
     "execution_count": 90,
     "metadata": {},
     "output_type": "execute_result"
    }
   ],
   "source": [
    "ai_message.content"
   ]
  },
  {
   "cell_type": "code",
   "execution_count": 91,
   "metadata": {},
   "outputs": [],
   "source": [
    "ai_message.id = \"1\"\n",
    "messages[-1].id = \"2\""
   ]
  },
  {
   "cell_type": "code",
   "execution_count": 92,
   "metadata": {},
   "outputs": [],
   "source": [
    "remaining_messages = [messages[0]] + [ai_message] + [messages[-1]]"
   ]
  },
  {
   "cell_type": "code",
   "execution_count": 93,
   "metadata": {},
   "outputs": [
    {
     "data": {
      "text/plain": [
       "[SystemMessage(content=\"You're a FinTech specialist. You're not allowed to talk about anything else\", additional_kwargs={}, response_metadata={}, name='System', id='0'),\n",
       " AIMessage(content='The user initially asked about Pokémon, but the assistant redirected the conversation to focus on FinTech topics. The user then inquired about blockchain, to which the assistant provided a brief explanation of blockchain as a decentralized digital ledger technology that securely records transactions in a linked chain of blocks.', additional_kwargs={'refusal': None}, response_metadata={'token_usage': {'completion_tokens': 56, 'prompt_tokens': 151, 'total_tokens': 207, 'completion_tokens_details': {'accepted_prediction_tokens': 0, 'audio_tokens': 0, 'reasoning_tokens': 0, 'rejected_prediction_tokens': 0}, 'prompt_tokens_details': {'audio_tokens': 0, 'cached_tokens': 0}}, 'model_name': 'gpt-4o-mini-2024-07-18', 'system_fingerprint': 'fp_709714d124', 'finish_reason': 'stop', 'logprobs': None}, id='1', usage_metadata={'input_tokens': 151, 'output_tokens': 56, 'total_tokens': 207, 'input_token_details': {'audio': 0, 'cache_read': 0}, 'output_token_details': {'audio': 0, 'reasoning': 0}}),\n",
       " HumanMessage(content='What is a credit card fraud?', additional_kwargs={}, response_metadata={}, name='User', id='2')]"
      ]
     },
     "execution_count": 93,
     "metadata": {},
     "output_type": "execute_result"
    }
   ],
   "source": [
    "remaining_messages"
   ]
  },
  {
   "cell_type": "code",
   "execution_count": 95,
   "metadata": {},
   "outputs": [],
   "source": [
    "remaining_messages.append(llm.invoke(remaining_messages))"
   ]
  },
  {
   "cell_type": "code",
   "execution_count": 96,
   "metadata": {},
   "outputs": [
    {
     "name": "stdout",
     "output_type": "stream",
     "text": [
      "================================\u001b[1m System Message \u001b[0m================================\n",
      "Name: System\n",
      "\n",
      "You're a FinTech specialist. You're not allowed to talk about anything else\n",
      "==================================\u001b[1m Ai Message \u001b[0m==================================\n",
      "\n",
      "The user initially asked about Pokémon, but the assistant redirected the conversation to focus on FinTech topics. The user then inquired about blockchain, to which the assistant provided a brief explanation of blockchain as a decentralized digital ledger technology that securely records transactions in a linked chain of blocks.\n",
      "================================\u001b[1m Human Message \u001b[0m=================================\n",
      "Name: User\n",
      "\n",
      "What is a credit card fraud?\n",
      "==================================\u001b[1m Ai Message \u001b[0m==================================\n",
      "\n",
      "Credit card fraud refers to the unauthorized use of a credit card or credit card information to make purchases or obtain funds. This can occur in various ways, including:\n",
      "\n",
      "1. **Card-Not-Present Fraud**: This happens when a fraudster uses stolen credit card information to make online or phone purchases without having the physical card.\n",
      "\n",
      "2. **Card-Present Fraud**: This occurs when someone physically uses a stolen credit card at a point of sale.\n",
      "\n",
      "3. **Account Takeover**: A fraudster gains access to a cardholder's account, often through phishing or data breaches, and makes unauthorized transactions.\n",
      "\n",
      "4. **Skimming**: This involves the use of a small device to capture the information from a credit card's magnetic stripe when the card is swiped at a point of sale.\n",
      "\n",
      "5. **Application Fraud**: This occurs when someone uses stolen personal information to apply for a credit card in someone else's name.\n",
      "\n",
      "Credit card fraud can lead to significant financial losses for both consumers and financial institutions, which is why many companies invest heavily in fraud detection and prevention technologies.\n"
     ]
    }
   ],
   "source": [
    "for m in remaining_messages:\n",
    "    m.pretty_print()"
   ]
  }
 ],
 "metadata": {
  "kernelspec": {
   "display_name": ".venv",
   "language": "python",
   "name": "python3"
  },
  "language_info": {
   "codemirror_mode": {
    "name": "ipython",
    "version": 3
   },
   "file_extension": ".py",
   "mimetype": "text/x-python",
   "name": "python",
   "nbconvert_exporter": "python",
   "pygments_lexer": "ipython3",
   "version": "3.10.15"
  }
 },
 "nbformat": 4,
 "nbformat_minor": 2
}
