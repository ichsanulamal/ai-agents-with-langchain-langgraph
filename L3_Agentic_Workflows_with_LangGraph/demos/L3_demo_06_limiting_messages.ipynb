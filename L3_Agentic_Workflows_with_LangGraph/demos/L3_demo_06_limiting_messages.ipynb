{
 "cells": [
  {
   "cell_type": "code",
   "execution_count": 1,
   "metadata": {},
   "outputs": [],
   "source": [
    "from typing import List, Annotated\n",
    "from langgraph.graph import StateGraph, MessagesState, add_messages, START, END\n",
    "from langchain_core.messages import (\n",
    "    HumanMessage, \n",
    "    AIMessage, \n",
    "    SystemMessage,\n",
    "    AnyMessage,\n",
    "    RemoveMessage,\n",
    "    trim_messages\n",
    ")\n",
    "from langchain_openai import ChatOpenAI\n",
    "from IPython.display import Image, display"
   ]
  },
  {
   "cell_type": "markdown",
   "metadata": {},
   "source": [
    "**Single Node Workflow**"
   ]
  },
  {
   "cell_type": "code",
   "execution_count": 2,
   "metadata": {},
   "outputs": [],
   "source": [
    "import os\n",
    "llm = ChatOpenAI(\n",
    "  api_key=os.getenv(\"OPENROUTER_API_KEY\"),\n",
    "  base_url=os.getenv(\"OPENROUTER_BASE_URL\"),\n",
    "  model=\"openai/gpt-oss-20b:free\",\n",
    "  default_headers={\n",
    "    # \"HTTP-Referer\": getenv(\"YOUR_SITE_URL\"),\n",
    "    # \"X-Title\": getenv(\"YOUR_SITE_NAME\"),\n",
    "  }\n",
    ")"
   ]
  },
  {
   "cell_type": "code",
   "execution_count": null,
   "metadata": {},
   "outputs": [],
   "source": [
    "# from dotenv import load_dotenv\n",
    "# load_dotenv()\n",
    "# llm = ChatOpenAI(\n",
    "#     model=\"gpt-4o-mini\",\n",
    "#     temperature=0.0,\n",
    "# )"
   ]
  },
  {
   "cell_type": "code",
   "execution_count": 3,
   "metadata": {},
   "outputs": [],
   "source": [
    "def llm_node(state: MessagesState):\n",
    "    return {\"messages\": llm.invoke(state[\"messages\"])}"
   ]
  },
  {
   "cell_type": "code",
   "execution_count": 4,
   "metadata": {},
   "outputs": [
    {
     "data": {
      "image/png": "[encoded data removed]",
      "text/plain": [
       "<IPython.core.display.Image object>"
      ]
     },
     "metadata": {},
     "output_type": "display_data"
    }
   ],
   "source": [
    "workflow = StateGraph(MessagesState)\n",
    "workflow.add_node(\"llm_node\", llm_node)\n",
    "workflow.add_edge(START, \"llm_node\")\n",
    "workflow.add_edge(\"llm_node\", END)\n",
    "graph = workflow.compile()\n",
    "\n",
    "display(\n",
    "    Image(\n",
    "        graph.get_graph().draw_mermaid_png()\n",
    "    )\n",
    ")"
   ]
  },
  {
   "cell_type": "markdown",
   "metadata": {},
   "source": [
    "**Useful Messages List**"
   ]
  },
  {
   "cell_type": "code",
   "execution_count": 5,
   "metadata": {},
   "outputs": [],
   "source": [
    "messages = [\n",
    "    SystemMessage(\n",
    "        content=\"You're a FinTech specialist. You're not allowed to talk about anything else. Be concise in your answers.\",\n",
    "        name=\"System\",\n",
    "        id=\"0\",\n",
    "    ),\n",
    "    HumanMessage(\n",
    "        content=\"What is Pokemon?\",\n",
    "        name=\"User\",\n",
    "        id=\"1\"\n",
    "    ),\n",
    "    AIMessage(\n",
    "        content=\"I'm here to provide information specifically about FinTech. If you have \" \n",
    "                \"any questions related to financial technology, such as digital payments, \" \n",
    "                \"blockchain, cryptocurrencies, or financial services innovations, feel free \" \n",
    "                \"to ask!\",\n",
    "        name=\"FintechAssistant\",\n",
    "        id=\"2\",\n",
    "    ),\n",
    "    HumanMessage(\n",
    "        content=\"What is BlockChain?\",\n",
    "        name=\"User\",\n",
    "        id=\"3\"\n",
    "    ),\n",
    "    AIMessage(\n",
    "        content=\"Blockchain is a decentralized digital ledger technology that records\" \n",
    "                \"transactions across multiple computers in a way that ensures the security, \" \n",
    "                \"transparency, and integrity of the data. Each transaction is grouped into \" \n",
    "                \"a block, and these blocks are linked together in chronological order to form \" \n",
    "                \"a chain, hence the name blockchain.\",\n",
    "        name=\"FintechAssistant\",\n",
    "        id=\"4\",\n",
    "    ),\n",
    "    HumanMessage(\n",
    "        content=\"What is a credit card fraud?\",\n",
    "        name=\"User\",\n",
    "        id=\"5\"\n",
    "    ),\n",
    "]"
   ]
  },
  {
   "cell_type": "markdown",
   "metadata": {},
   "source": [
    "**Filter Messages during Invocation**"
   ]
  },
  {
   "cell_type": "code",
   "execution_count": 6,
   "metadata": {},
   "outputs": [],
   "source": [
    "complete_output = graph.invoke({\"messages\": messages})"
   ]
  },
  {
   "cell_type": "code",
   "execution_count": 7,
   "metadata": {},
   "outputs": [
    {
     "name": "stdout",
     "output_type": "stream",
     "text": [
      "==================================\u001b[1m Ai Message \u001b[0m==================================\n",
      "\n",
      "**Credit card fraud** is the unauthorized use of a credit card or its information to obtain goods, services, or cash. It typically involves stealing card numbers, cloning cards, or hacking transaction data, leading to financial loss for cardholders and merchants.\n"
     ]
    }
   ],
   "source": [
    "complete_output[\"messages\"][-1].pretty_print()"
   ]
  },
  {
   "cell_type": "code",
   "execution_count": 8,
   "metadata": {},
   "outputs": [
    {
     "data": {
      "text/plain": [
       "{'completion_tokens': 119,\n",
       " 'prompt_tokens': 225,\n",
       " 'total_tokens': 344,\n",
       " 'completion_tokens_details': None,\n",
       " 'prompt_tokens_details': None}"
      ]
     },
     "execution_count": 8,
     "metadata": {},
     "output_type": "execute_result"
    }
   ],
   "source": [
    "complete_output[\"messages\"][-1].response_metadata[\"token_usage\"]"
   ]
  },
  {
   "cell_type": "code",
   "execution_count": 9,
   "metadata": {},
   "outputs": [],
   "source": [
    "filtered_output = graph.invoke({\"messages\": [messages[0], messages[-1]]})"
   ]
  },
  {
   "cell_type": "code",
   "execution_count": 10,
   "metadata": {},
   "outputs": [
    {
     "name": "stdout",
     "output_type": "stream",
     "text": [
      "==================================\u001b[1m Ai Message \u001b[0m==================================\n",
      "\n",
      "**Credit‑card fraud** is the unauthorized use of someone else’s credit‑card data to obtain goods, services, or cash. It typically involves:\n",
      "\n",
      "1. **Data theft** – obtaining card numbers, expiration dates, CVV codes, or PINs (e.g., via skimming, phishing, malware).  \n",
      "2. **Impersonation** – using that data to make purchases or withdraw funds either online, over the phone, or at a point‑of‑sale terminal.  \n",
      "3. **Transaction manipulation** – altering or creating false transactions in a merchant or card‑network system.  \n",
      "\n",
      "Fraud damages the cardholder, the issuer, and merchants, and it fuels broader financial crime.\n"
     ]
    }
   ],
   "source": [
    "filtered_output[\"messages\"][-1].pretty_print()"
   ]
  },
  {
   "cell_type": "code",
   "execution_count": 12,
   "metadata": {},
   "outputs": [
    {
     "data": {
      "text/plain": [
       "{'completion_tokens': 177,\n",
       " 'prompt_tokens': 103,\n",
       " 'total_tokens': 280,\n",
       " 'completion_tokens_details': None,\n",
       " 'prompt_tokens_details': None}"
      ]
     },
     "execution_count": 12,
     "metadata": {},
     "output_type": "execute_result"
    }
   ],
   "source": [
    "filtered_output[\"messages\"][-1].response_metadata[\"token_usage\"]"
   ]
  },
  {
   "cell_type": "markdown",
   "metadata": {},
   "source": [
    "**Filter Messages inside a node**"
   ]
  },
  {
   "cell_type": "code",
   "execution_count": 13,
   "metadata": {},
   "outputs": [],
   "source": [
    "class State(MessagesState):\n",
    "    filtered_messages: Annotated[List[AnyMessage], add_messages]"
   ]
  },
  {
   "cell_type": "code",
   "execution_count": 14,
   "metadata": {},
   "outputs": [],
   "source": [
    "def llm_node(state: State):\n",
    "    filtered_messages = state[\"messages\"][-3:]\n",
    "    ai_message = llm.invoke(filtered_messages)\n",
    "    filtered_messages.append(ai_message)\n",
    "    return {\"messages\": ai_message, \"filtered_messages\": filtered_messages}"
   ]
  },
  {
   "cell_type": "code",
   "execution_count": 15,
   "metadata": {},
   "outputs": [
    {
     "data": {
      "image/png": "[encoded data removed]",
      "text/plain": [
       "<IPython.core.display.Image object>"
      ]
     },
     "metadata": {},
     "output_type": "display_data"
    }
   ],
   "source": [
    "workflow = StateGraph(State)\n",
    "workflow.add_node(\"llm_node\", llm_node)\n",
    "workflow.add_edge(START, \"llm_node\")\n",
    "workflow.add_edge(\"llm_node\", END)\n",
    "graph = workflow.compile()\n",
    "\n",
    "display(\n",
    "    Image(\n",
    "        graph.get_graph().draw_mermaid_png()\n",
    "    )\n",
    ")"
   ]
  },
  {
   "cell_type": "code",
   "execution_count": 16,
   "metadata": {},
   "outputs": [
    {
     "name": "stdout",
     "output_type": "stream",
     "text": [
      "================================\u001b[1m System Message \u001b[0m================================\n",
      "Name: System\n",
      "\n",
      "You're a FinTech specialist. You're not allowed to talk about anything else. Be concise in your answers.\n",
      "================================\u001b[1m Human Message \u001b[0m=================================\n",
      "Name: User\n",
      "\n",
      "What is Pokemon?\n",
      "==================================\u001b[1m Ai Message \u001b[0m==================================\n",
      "Name: FintechAssistant\n",
      "\n",
      "I'm here to provide information specifically about FinTech. If you have any questions related to financial technology, such as digital payments, blockchain, cryptocurrencies, or financial services innovations, feel free to ask!\n",
      "================================\u001b[1m Human Message \u001b[0m=================================\n",
      "Name: User\n",
      "\n",
      "What is BlockChain?\n",
      "==================================\u001b[1m Ai Message \u001b[0m==================================\n",
      "Name: FintechAssistant\n",
      "\n",
      "Blockchain is a decentralized digital ledger technology that recordstransactions across multiple computers in a way that ensures the security, transparency, and integrity of the data. Each transaction is grouped into a block, and these blocks are linked together in chronological order to form a chain, hence the name blockchain.\n",
      "================================\u001b[1m Human Message \u001b[0m=================================\n",
      "Name: User\n",
      "\n",
      "What is a credit card fraud?\n"
     ]
    }
   ],
   "source": [
    "for m in messages:\n",
    "    m.pretty_print()"
   ]
  },
  {
   "cell_type": "code",
   "execution_count": 17,
   "metadata": {},
   "outputs": [
    {
     "name": "stdout",
     "output_type": "stream",
     "text": [
      "================================\u001b[1m Human Message \u001b[0m=================================\n",
      "Name: User\n",
      "\n",
      "What is BlockChain?\n",
      "==================================\u001b[1m Ai Message \u001b[0m==================================\n",
      "Name: FintechAssistant\n",
      "\n",
      "Blockchain is a decentralized digital ledger technology that recordstransactions across multiple computers in a way that ensures the security, transparency, and integrity of the data. Each transaction is grouped into a block, and these blocks are linked together in chronological order to form a chain, hence the name blockchain.\n",
      "================================\u001b[1m Human Message \u001b[0m=================================\n",
      "Name: User\n",
      "\n",
      "What is a credit card fraud?\n",
      "==================================\u001b[1m Ai Message \u001b[0m==================================\n",
      "\n",
      "**Credit‑card fraud** is the illegal use of a payment‑card (the physical plastic card or its digital token) in order to obtain goods, services, or money without the legitimate cardholder’s permission. It is one of the most common forms of financial crime and can occur in many ways, from simple copy‑and‑paste online purchases to sophisticated identity‑theft schemes.  \n",
      "\n",
      "---\n",
      "\n",
      "## 1. Core Elements\n",
      "\n",
      "| Element | Typical Description |\n",
      "|---------|---------------------|\n",
      "| **Unauthorized Use** | Using someone’s card number, expiration date and CVV without the cardholder’s knowledge. |\n",
      "| **Illicit Intent** | The goal is to receive value (cash, goods, services) that the user never signed up for. |\n",
      "| **Evasion of Detection** | Fraudsters often employ tactics to hide their activity (e.g., small incremental purchases, merchant spoofing, or using multiple accounts). |\n",
      "| **Legal Consequence** | Violations of banking laws, consumer protection statutes, and often criminal penalties. |\n",
      "\n",
      "---\n",
      "\n",
      "## 2. How Credit‑Card Fraud Typically Happens\n",
      "\n",
      "| Category | Example Methods | What the Cardholder Might Notice |\n",
      "|----------|-----------------|----------------------------------|\n",
      "| **Card‑Present Fraud** | • **Skimming** – stealing magnetic‑strip data from a POS or ATM.<br>• **Counterfeit Cards** – creating a perfect copy of a card from the information collected.<br>• **In‑Store Pick‑pocketing** – stealing the physical card during a transaction. | A sudden unexplained credit‑card charge or a notification that the card was used in an unexpected location. |\n",
      "| **Card‑Not‑Present (CNP) Fraud** | • **Phishing & Credential Stuffing** – harvesting card numbers from deceptive emails or websites and using them on legitimate e‑commerce sites.<br>• **Account Takeover** – hijacking the online store or bank account associated with the card to re‑post the card as a recipient.<br>• **Man‑in‑the‑Middle** (MITM) on unsecured Wi‑Fi or malicious payment gateways. | Online purchases that differ from the cardholder’s usual behavior, or suspicious login alerts. |\n",
      "| **Synthetic Identity Fraud** | Creating a “synthetic” identity that mixes real IDs (e.g., Social Security number) with fabricated details to open new accounts or obtain third‑party credit. | Sudden new credit‑card accounts that the cardholder never applied for. |\n",
      "| **Merchant‑Based Misuse** | A fraudulent merchant processes the card and then keeps the merchant‑share of the payment while the cardholder doesn’t receive the goods. | Paid for a product or service that never arrives. |\n",
      "| **Account Susceptibility** | Weak or reused passwords, phishing scams convincing the cardholder to share PIN or password. | Hack of the cardholder’s bank or card‑management app. |\n",
      "\n",
      "---\n",
      "\n",
      "## 3. Red Flags & Signs for a Cardholder\n",
      "\n",
      "1. **Unexpected Foreign Charges** – any purchase outside usual spending patterns.  \n",
      "2. **Multiple Small Transactions** – “churning” is a common technique to beat fraud detection.  \n",
      "3. **Unusual Device or Location** – log‑in or transaction originates from a device not owned by you.  \n",
      "4. **Card‑Not‑Present Alerts** – you receive an email or SMS alert that a purchase was made online.  \n",
      "5. **Failed Auto‑Payments** or abrupt account freezing from the bank (often triggered by fraud concerns).\n",
      "\n",
      "---\n",
      "\n",
      "## 4. Prevention & Mitigation\n",
      "\n",
      "| Prevention | Tools/Strategies |\n",
      "|------------|------------------|\n",
      "| **Strong PIN & Password Management** | Unique, long‑form, frequently changed passwords; use multi‑factor authentication (MFA). |\n",
      "| **EMV Chip & Tokenization** | Mandatory chip use reduces skimming; tokenized card numbers protect data. |\n",
      "| **Impinj & RFID‑Zero‑Skill Smart Cards** | Limits data readable by scanners. |\n",
      "| **Secure Wi‑Fi & VPN** | Prevent MITM attacks on public networks. |\n",
      "| **Fraud‑Alerts Real‑Time Monitoring** | Some banks offer alerts for new merchants or high‑value transactions. |\n",
      "| **Shredding & Secure Disposal** | Delete old card information securely. |\n",
      "| **Education & Awareness** | Know how to spot phishing, and always verify merchant URLs. |\n",
      "\n",
      "---\n",
      "\n",
      "## 5. Legal Framework\n",
      "\n",
      "| Jurisdiction | Key Laws & Regulations |\n",
      "|--------------|------------------------|\n",
      "| **United States** | Cardholder Protection Rule (PCI‑DSS), CARD Act, and banking statutes governing unauthorized charges. |\n",
      "| **European Union** | Payment Services Directive 2 (PSD2), General Data Protection Regulation (GDPR) for data breaches. |\n",
      "| **Australia** | ASIC and NASSA Consumer Credit Act requirements on dispute resolution. |\n",
      "| **International** | FATF recommendations on reporting suspicious transactions. |\n",
      "\n",
      "---\n",
      "\n",
      "## 6. Typical Responses After a Scam\n",
      "\n",
      "1. **Contact Your Issuer** – Freeze or cancel the card immediately.  \n",
      "2. **File a Dispute** – Most banks will reimburse if the fraud is proven.  \n",
      "3. **Report to Law Enforcement** – Many jurisdictions have cyber‑crime units that take such cases.  \n",
      "4. **File a Police Report** – Holds the filing number for insurance or bank documentation.  \n",
      "5. **Update Personal Information** – Change passwords, PINs, and monitor credit‑report agencies for new accounts.\n",
      "\n",
      "---\n",
      "\n",
      "### Bottom Line\n",
      "\n",
      "Credit‑card fraud is *the unauthorized use of a card’s financial instrument to obtain value without consent*. The perpetrators range from lone thieves to organized cyber‑criminal groups using sophisticated technology. Awareness, prevention tools, and swift response are the key pillars for protecting yourself against this pervasive risk.\n"
     ]
    }
   ],
   "source": [
    "output = graph.invoke({'messages': messages})\n",
    "for m in output['filtered_messages']:\n",
    "    m.pretty_print()"
   ]
  },
  {
   "cell_type": "markdown",
   "metadata": {},
   "source": [
    "**Remove Messages**"
   ]
  },
  {
   "cell_type": "code",
   "execution_count": 18,
   "metadata": {},
   "outputs": [
    {
     "data": {
      "text/plain": [
       "[SystemMessage(content=\"You're a FinTech specialist. You're not allowed to talk about anything else. Be concise in your answers.\", additional_kwargs={}, response_metadata={}, name='System', id='0'),\n",
       " HumanMessage(content='What is Pokemon?', additional_kwargs={}, response_metadata={}, name='User', id='1'),\n",
       " AIMessage(content=\"I'm here to provide information specifically about FinTech. If you have any questions related to financial technology, such as digital payments, blockchain, cryptocurrencies, or financial services innovations, feel free to ask!\", additional_kwargs={}, response_metadata={}, name='FintechAssistant', id='2')]"
      ]
     },
     "execution_count": 18,
     "metadata": {},
     "output_type": "execute_result"
    }
   ],
   "source": [
    "messages[:-3]"
   ]
  },
  {
   "cell_type": "code",
   "execution_count": 19,
   "metadata": {},
   "outputs": [
    {
     "data": {
      "text/plain": [
       "[HumanMessage(content='What is BlockChain?', additional_kwargs={}, response_metadata={}, name='User', id='3'),\n",
       " AIMessage(content='Blockchain is a decentralized digital ledger technology that recordstransactions across multiple computers in a way that ensures the security, transparency, and integrity of the data. Each transaction is grouped into a block, and these blocks are linked together in chronological order to form a chain, hence the name blockchain.', additional_kwargs={}, response_metadata={}, name='FintechAssistant', id='4'),\n",
       " HumanMessage(content='What is a credit card fraud?', additional_kwargs={}, response_metadata={}, name='User', id='5')]"
      ]
     },
     "execution_count": 19,
     "metadata": {},
     "output_type": "execute_result"
    }
   ],
   "source": [
    "delete_messages = [RemoveMessage(id=m.id) for m in messages[:-3]]\n",
    "add_messages(messages, delete_messages)"
   ]
  },
  {
   "cell_type": "code",
   "execution_count": 20,
   "metadata": {},
   "outputs": [],
   "source": [
    "class State(MessagesState):\n",
    "    filtered_messages: Annotated[List[AnyMessage], add_messages]"
   ]
  },
  {
   "cell_type": "code",
   "execution_count": 21,
   "metadata": {},
   "outputs": [],
   "source": [
    "def removal_filter(state: State):\n",
    "    filtered_messages = [\n",
    "        RemoveMessage(id=m.id) \n",
    "            for m in state[\"messages\"][:-3] \n",
    "            if m.name != \"System\"\n",
    "    ]\n",
    "    return {\n",
    "        \"filtered_messages\": add_messages(\n",
    "            state[\"messages\"], \n",
    "            filtered_messages\n",
    "        )\n",
    "    }"
   ]
  },
  {
   "cell_type": "code",
   "execution_count": 22,
   "metadata": {},
   "outputs": [],
   "source": [
    "def llm_node(state: State):\n",
    "    ai_message = llm.invoke(state[\"filtered_messages\"])\n",
    "    return {\n",
    "        \"filtered_messages\": ai_message,\n",
    "    }"
   ]
  },
  {
   "cell_type": "code",
   "execution_count": 23,
   "metadata": {},
   "outputs": [
    {
     "data": {
      "image/png": "[encoded data removed]",
      "text/plain": [
       "<IPython.core.display.Image object>"
      ]
     },
     "metadata": {},
     "output_type": "display_data"
    }
   ],
   "source": [
    "workflow = StateGraph(State)\n",
    "workflow.add_node(\"llm_node\", llm_node)\n",
    "workflow.add_node(\"removal_filter\", removal_filter)\n",
    "workflow.add_edge(START, \"removal_filter\")\n",
    "workflow.add_edge(\"removal_filter\", \"llm_node\")\n",
    "workflow.add_edge(\"llm_node\", END)\n",
    "\n",
    "graph = workflow.compile()\n",
    "\n",
    "display(\n",
    "    Image(\n",
    "        graph.get_graph().draw_mermaid_png()\n",
    "    )\n",
    ")"
   ]
  },
  {
   "cell_type": "code",
   "execution_count": 24,
   "metadata": {},
   "outputs": [
    {
     "name": "stdout",
     "output_type": "stream",
     "text": [
      "================================\u001b[1m System Message \u001b[0m================================\n",
      "Name: System\n",
      "\n",
      "You're a FinTech specialist. You're not allowed to talk about anything else. Be concise in your answers.\n",
      "================================\u001b[1m Human Message \u001b[0m=================================\n",
      "Name: User\n",
      "\n",
      "What is Pokemon?\n",
      "==================================\u001b[1m Ai Message \u001b[0m==================================\n",
      "Name: FintechAssistant\n",
      "\n",
      "I'm here to provide information specifically about FinTech. If you have any questions related to financial technology, such as digital payments, blockchain, cryptocurrencies, or financial services innovations, feel free to ask!\n",
      "================================\u001b[1m Human Message \u001b[0m=================================\n",
      "Name: User\n",
      "\n",
      "What is BlockChain?\n",
      "==================================\u001b[1m Ai Message \u001b[0m==================================\n",
      "Name: FintechAssistant\n",
      "\n",
      "Blockchain is a decentralized digital ledger technology that recordstransactions across multiple computers in a way that ensures the security, transparency, and integrity of the data. Each transaction is grouped into a block, and these blocks are linked together in chronological order to form a chain, hence the name blockchain.\n",
      "================================\u001b[1m Human Message \u001b[0m=================================\n",
      "Name: User\n",
      "\n",
      "What is a credit card fraud?\n"
     ]
    }
   ],
   "source": [
    "for m in messages:\n",
    "    m.pretty_print()"
   ]
  },
  {
   "cell_type": "code",
   "execution_count": 25,
   "metadata": {},
   "outputs": [
    {
     "name": "stdout",
     "output_type": "stream",
     "text": [
      "================================\u001b[1m System Message \u001b[0m================================\n",
      "Name: System\n",
      "\n",
      "You're a FinTech specialist. You're not allowed to talk about anything else. Be concise in your answers.\n",
      "================================\u001b[1m Human Message \u001b[0m=================================\n",
      "Name: User\n",
      "\n",
      "What is BlockChain?\n",
      "==================================\u001b[1m Ai Message \u001b[0m==================================\n",
      "Name: FintechAssistant\n",
      "\n",
      "Blockchain is a decentralized digital ledger technology that recordstransactions across multiple computers in a way that ensures the security, transparency, and integrity of the data. Each transaction is grouped into a block, and these blocks are linked together in chronological order to form a chain, hence the name blockchain.\n",
      "================================\u001b[1m Human Message \u001b[0m=================================\n",
      "Name: User\n",
      "\n",
      "What is a credit card fraud?\n",
      "==================================\u001b[1m Ai Message \u001b[0m==================================\n",
      "\n",
      "Credit card fraud is the unauthorized use of a credit card or its information to obtain goods, services, or cash, often involving stolen or stolen‑card data.\n"
     ]
    }
   ],
   "source": [
    "output = graph.invoke({'messages': messages})\n",
    "for m in output['filtered_messages']:\n",
    "    m.pretty_print()"
   ]
  },
  {
   "cell_type": "markdown",
   "metadata": {},
   "source": [
    "**Trim Messages**"
   ]
  },
  {
   "cell_type": "code",
   "execution_count": 26,
   "metadata": {},
   "outputs": [
    {
     "ename": "NotImplementedError",
     "evalue": "get_num_tokens_from_messages() is not presently implemented for model openai/gpt-oss-20b:free. See https://platform.openai.com/docs/guides/text-generation/managing-tokens for information on how messages are converted to tokens.",
     "output_type": "error",
     "traceback": [
      "\u001b[31m---------------------------------------------------------------------------\u001b[39m",
      "\u001b[31mNotImplementedError\u001b[39m                       Traceback (most recent call last)",
      "\u001b[36mCell\u001b[39m\u001b[36m \u001b[39m\u001b[32mIn[26]\u001b[39m\u001b[32m, line 1\u001b[39m\n\u001b[32m----> \u001b[39m\u001b[32m1\u001b[39m \u001b[43mtrim_messages\u001b[49m\u001b[43m(\u001b[49m\n\u001b[32m      2\u001b[39m \u001b[43m    \u001b[49m\u001b[43mmessages\u001b[49m\u001b[43m,\u001b[49m\n\u001b[32m      3\u001b[39m \u001b[43m    \u001b[49m\u001b[43mmax_tokens\u001b[49m\u001b[43m=\u001b[49m\u001b[32;43m30\u001b[39;49m\u001b[43m,\u001b[49m\n\u001b[32m      4\u001b[39m \u001b[43m    \u001b[49m\u001b[43mstrategy\u001b[49m\u001b[43m=\u001b[49m\u001b[33;43m\"\u001b[39;49m\u001b[33;43mlast\u001b[39;49m\u001b[33;43m\"\u001b[39;49m\u001b[43m,\u001b[49m\n\u001b[32m      5\u001b[39m \u001b[43m    \u001b[49m\u001b[43mtoken_counter\u001b[49m\u001b[43m=\u001b[49m\u001b[43mllm\u001b[49m\u001b[43m,\u001b[49m\n\u001b[32m      6\u001b[39m \u001b[43m    \u001b[49m\u001b[43mallow_partial\u001b[49m\u001b[43m=\u001b[49m\u001b[38;5;28;43;01mFalse\u001b[39;49;00m\u001b[43m,\u001b[49m\n\u001b[32m      7\u001b[39m \u001b[43m    \u001b[49m\u001b[43minclude_system\u001b[49m\u001b[43m=\u001b[49m\u001b[38;5;28;43;01mTrue\u001b[39;49;00m\n\u001b[32m      8\u001b[39m \u001b[43m)\u001b[49m\n",
      "\u001b[36mFile \u001b[39m\u001b[32m~/Projects/ai-agents-with-langchain-langgraph-udacity/.venv/lib/python3.12/site-packages/langchain_core/messages/utils.py:392\u001b[39m, in \u001b[36m_runnable_support.<locals>.wrapped\u001b[39m\u001b[34m(messages, **kwargs)\u001b[39m\n\u001b[32m    389\u001b[39m \u001b[38;5;28;01mfrom\u001b[39;00m\u001b[38;5;250m \u001b[39m\u001b[34;01mlangchain_core\u001b[39;00m\u001b[34;01m.\u001b[39;00m\u001b[34;01mrunnables\u001b[39;00m\u001b[34;01m.\u001b[39;00m\u001b[34;01mbase\u001b[39;00m\u001b[38;5;250m \u001b[39m\u001b[38;5;28;01mimport\u001b[39;00m RunnableLambda\n\u001b[32m    391\u001b[39m \u001b[38;5;28;01mif\u001b[39;00m messages \u001b[38;5;129;01mis\u001b[39;00m \u001b[38;5;129;01mnot\u001b[39;00m \u001b[38;5;28;01mNone\u001b[39;00m:\n\u001b[32m--> \u001b[39m\u001b[32m392\u001b[39m     \u001b[38;5;28;01mreturn\u001b[39;00m \u001b[43mfunc\u001b[49m\u001b[43m(\u001b[49m\u001b[43mmessages\u001b[49m\u001b[43m,\u001b[49m\u001b[43m \u001b[49m\u001b[43m*\u001b[49m\u001b[43m*\u001b[49m\u001b[43mkwargs\u001b[49m\u001b[43m)\u001b[49m\n\u001b[32m    393\u001b[39m \u001b[38;5;28;01mreturn\u001b[39;00m RunnableLambda(partial(func, **kwargs), name=func.\u001b[34m__name__\u001b[39m)\n",
      "\u001b[36mFile \u001b[39m\u001b[32m~/Projects/ai-agents-with-langchain-langgraph-udacity/.venv/lib/python3.12/site-packages/langchain_core/messages/utils.py:928\u001b[39m, in \u001b[36mtrim_messages\u001b[39m\u001b[34m(messages, max_tokens, token_counter, strategy, allow_partial, end_on, start_on, include_system, text_splitter)\u001b[39m\n\u001b[32m    919\u001b[39m     \u001b[38;5;28;01mreturn\u001b[39;00m _first_max_tokens(\n\u001b[32m    920\u001b[39m         messages,\n\u001b[32m    921\u001b[39m         max_tokens=max_tokens,\n\u001b[32m   (...)\u001b[39m\u001b[32m    925\u001b[39m         end_on=end_on,\n\u001b[32m    926\u001b[39m     )\n\u001b[32m    927\u001b[39m \u001b[38;5;28;01mif\u001b[39;00m strategy == \u001b[33m\"\u001b[39m\u001b[33mlast\u001b[39m\u001b[33m\"\u001b[39m:\n\u001b[32m--> \u001b[39m\u001b[32m928\u001b[39m     \u001b[38;5;28;01mreturn\u001b[39;00m \u001b[43m_last_max_tokens\u001b[49m\u001b[43m(\u001b[49m\n\u001b[32m    929\u001b[39m \u001b[43m        \u001b[49m\u001b[43mmessages\u001b[49m\u001b[43m,\u001b[49m\n\u001b[32m    930\u001b[39m \u001b[43m        \u001b[49m\u001b[43mmax_tokens\u001b[49m\u001b[43m=\u001b[49m\u001b[43mmax_tokens\u001b[49m\u001b[43m,\u001b[49m\n\u001b[32m    931\u001b[39m \u001b[43m        \u001b[49m\u001b[43mtoken_counter\u001b[49m\u001b[43m=\u001b[49m\u001b[43mlist_token_counter\u001b[49m\u001b[43m,\u001b[49m\n\u001b[32m    932\u001b[39m \u001b[43m        \u001b[49m\u001b[43mallow_partial\u001b[49m\u001b[43m=\u001b[49m\u001b[43mallow_partial\u001b[49m\u001b[43m,\u001b[49m\n\u001b[32m    933\u001b[39m \u001b[43m        \u001b[49m\u001b[43minclude_system\u001b[49m\u001b[43m=\u001b[49m\u001b[43minclude_system\u001b[49m\u001b[43m,\u001b[49m\n\u001b[32m    934\u001b[39m \u001b[43m        \u001b[49m\u001b[43mstart_on\u001b[49m\u001b[43m=\u001b[49m\u001b[43mstart_on\u001b[49m\u001b[43m,\u001b[49m\n\u001b[32m    935\u001b[39m \u001b[43m        \u001b[49m\u001b[43mend_on\u001b[49m\u001b[43m=\u001b[49m\u001b[43mend_on\u001b[49m\u001b[43m,\u001b[49m\n\u001b[32m    936\u001b[39m \u001b[43m        \u001b[49m\u001b[43mtext_splitter\u001b[49m\u001b[43m=\u001b[49m\u001b[43mtext_splitter_fn\u001b[49m\u001b[43m,\u001b[49m\n\u001b[32m    937\u001b[39m \u001b[43m    \u001b[49m\u001b[43m)\u001b[49m\n\u001b[32m    938\u001b[39m msg = \u001b[33mf\u001b[39m\u001b[33m\"\u001b[39m\u001b[33mUnrecognized \u001b[39m\u001b[38;5;132;01m{\u001b[39;00mstrategy\u001b[38;5;132;01m=}\u001b[39;00m\u001b[33m. Supported strategies are \u001b[39m\u001b[33m'\u001b[39m\u001b[33mlast\u001b[39m\u001b[33m'\u001b[39m\u001b[33m and \u001b[39m\u001b[33m'\u001b[39m\u001b[33mfirst\u001b[39m\u001b[33m'\u001b[39m\u001b[33m.\u001b[39m\u001b[33m\"\u001b[39m\n\u001b[32m    939\u001b[39m \u001b[38;5;28;01mraise\u001b[39;00m \u001b[38;5;167;01mValueError\u001b[39;00m(msg)\n",
      "\u001b[36mFile \u001b[39m\u001b[32m~/Projects/ai-agents-with-langchain-langgraph-udacity/.venv/lib/python3.12/site-packages/langchain_core/messages/utils.py:1450\u001b[39m, in \u001b[36m_last_max_tokens\u001b[39m\u001b[34m(messages, max_tokens, token_counter, text_splitter, allow_partial, include_system, start_on, end_on)\u001b[39m\n\u001b[32m   1448\u001b[39m remaining_tokens = max_tokens\n\u001b[32m   1449\u001b[39m \u001b[38;5;28;01mif\u001b[39;00m system_message:\n\u001b[32m-> \u001b[39m\u001b[32m1450\u001b[39m     system_tokens = \u001b[43mtoken_counter\u001b[49m\u001b[43m(\u001b[49m\u001b[43m[\u001b[49m\u001b[43msystem_message\u001b[49m\u001b[43m]\u001b[49m\u001b[43m)\u001b[49m\n\u001b[32m   1451\u001b[39m     remaining_tokens = \u001b[38;5;28mmax\u001b[39m(\u001b[32m0\u001b[39m, max_tokens - system_tokens)\n\u001b[32m   1453\u001b[39m reversed_result = _first_max_tokens(\n\u001b[32m   1454\u001b[39m     reversed_messages,\n\u001b[32m   1455\u001b[39m     max_tokens=remaining_tokens,\n\u001b[32m   (...)\u001b[39m\u001b[32m   1459\u001b[39m     end_on=start_on,\n\u001b[32m   1460\u001b[39m )\n",
      "\u001b[36mFile \u001b[39m\u001b[32m~/Projects/ai-agents-with-langchain-langgraph-udacity/.venv/lib/python3.12/site-packages/langchain_openai/chat_models/base.py:1540\u001b[39m, in \u001b[36mBaseChatOpenAI.get_num_tokens_from_messages\u001b[39m\u001b[34m(self, messages, tools)\u001b[39m\n\u001b[32m   1538\u001b[39m     tokens_per_name = \u001b[32m1\u001b[39m\n\u001b[32m   1539\u001b[39m \u001b[38;5;28;01melse\u001b[39;00m:\n\u001b[32m-> \u001b[39m\u001b[32m1540\u001b[39m     \u001b[38;5;28;01mraise\u001b[39;00m \u001b[38;5;167;01mNotImplementedError\u001b[39;00m(\n\u001b[32m   1541\u001b[39m         \u001b[33mf\u001b[39m\u001b[33m\"\u001b[39m\u001b[33mget_num_tokens_from_messages() is not presently implemented \u001b[39m\u001b[33m\"\u001b[39m\n\u001b[32m   1542\u001b[39m         \u001b[33mf\u001b[39m\u001b[33m\"\u001b[39m\u001b[33mfor model \u001b[39m\u001b[38;5;132;01m{\u001b[39;00mmodel\u001b[38;5;132;01m}\u001b[39;00m\u001b[33m. See \u001b[39m\u001b[33m\"\u001b[39m\n\u001b[32m   1543\u001b[39m         \u001b[33m\"\u001b[39m\u001b[33mhttps://platform.openai.com/docs/guides/text-generation/managing-tokens\u001b[39m\u001b[33m\"\u001b[39m  \u001b[38;5;66;03m# noqa: E501\u001b[39;00m\n\u001b[32m   1544\u001b[39m         \u001b[33m\"\u001b[39m\u001b[33m for information on how messages are converted to tokens.\u001b[39m\u001b[33m\"\u001b[39m\n\u001b[32m   1545\u001b[39m     )\n\u001b[32m   1546\u001b[39m num_tokens = \u001b[32m0\u001b[39m\n\u001b[32m   1547\u001b[39m messages_dict = [_convert_message_to_dict(m) \u001b[38;5;28;01mfor\u001b[39;00m m \u001b[38;5;129;01min\u001b[39;00m messages]\n",
      "\u001b[31mNotImplementedError\u001b[39m: get_num_tokens_from_messages() is not presently implemented for model openai/gpt-oss-20b:free. See https://platform.openai.com/docs/guides/text-generation/managing-tokens for information on how messages are converted to tokens."
     ]
    }
   ],
   "source": [
    "trim_messages(\n",
    "    messages,\n",
    "    max_tokens=30,\n",
    "    strategy=\"last\",\n",
    "    token_counter=llm,\n",
    "    allow_partial=False,\n",
    "    include_system=True\n",
    ")"
   ]
  },
  {
   "cell_type": "code",
   "execution_count": 27,
   "metadata": {},
   "outputs": [],
   "source": [
    "class State(MessagesState):\n",
    "    max_tokens: int\n",
    "    filtered_messages: Annotated[List[AnyMessage], add_messages]"
   ]
  },
  {
   "cell_type": "code",
   "execution_count": null,
   "metadata": {},
   "outputs": [],
   "source": [
    "def trim_filter(state: State):\n",
    "    max_tokens = state[\"max_tokens\"]\n",
    "    messages = state[\"messages\"]\n",
    "    filtered_messages = messages\n",
    "    if max_tokens:\n",
    "        filtered_messages = trim_messages(\n",
    "            messages=messages,\n",
    "            max_tokens=max_tokens,\n",
    "            strategy=\"last\",\n",
    "            token_counter=llm,\n",
    "            include_system=True,\n",
    "            allow_partial=False\n",
    "        )\n",
    "    return {\"filtered_messages\": filtered_messages}"
   ]
  },
  {
   "cell_type": "code",
   "execution_count": null,
   "metadata": {},
   "outputs": [],
   "source": [
    "def llm_node(state: State):\n",
    "    return {\"filtered_messages\": llm.invoke(state[\"filtered_messages\"])}"
   ]
  },
  {
   "cell_type": "code",
   "execution_count": null,
   "metadata": {},
   "outputs": [],
   "source": [
    "workflow = StateGraph(State)\n",
    "workflow.add_node(\"llm_node\", llm_node)\n",
    "workflow.add_node(\"trim_filter\", trim_filter)\n",
    "workflow.add_edge(START, \"trim_filter\")\n",
    "workflow.add_edge(\"trim_filter\", \"llm_node\")\n",
    "workflow.add_edge(\"llm_node\", END)\n",
    "\n",
    "graph = workflow.compile()\n",
    "\n",
    "display(\n",
    "    Image(\n",
    "        graph.get_graph().draw_mermaid_png()\n",
    "    )\n",
    ")"
   ]
  },
  {
   "cell_type": "code",
   "execution_count": null,
   "metadata": {},
   "outputs": [],
   "source": [
    "for m in messages:\n",
    "    m.pretty_print()"
   ]
  },
  {
   "cell_type": "code",
   "execution_count": null,
   "metadata": {},
   "outputs": [],
   "source": [
    "output = graph.invoke(\n",
    "    input={\n",
    "        \"max_tokens\": 50,\n",
    "        \"messages\": messages\n",
    "    }\n",
    ")"
   ]
  },
  {
   "cell_type": "code",
   "execution_count": null,
   "metadata": {},
   "outputs": [],
   "source": [
    "for m in output['filtered_messages']:\n",
    "    m.pretty_print()"
   ]
  },
  {
   "cell_type": "markdown",
   "metadata": {},
   "source": [
    "**Summary**"
   ]
  },
  {
   "cell_type": "code",
   "execution_count": null,
   "metadata": {},
   "outputs": [],
   "source": [
    "messages[1:-1]"
   ]
  },
  {
   "cell_type": "code",
   "execution_count": null,
   "metadata": {},
   "outputs": [],
   "source": [
    "messages_to_summarize = messages[1:-1]\n",
    "summary_message = HumanMessage(\n",
    "    content=\"Create a summary of the conversation above:\", \n",
    "    name=\"User\"\n",
    ")\n",
    "ai_message = llm.invoke(\n",
    "    add_messages(\n",
    "        messages_to_summarize,\n",
    "        summary_message\n",
    "    )\n",
    ")"
   ]
  },
  {
   "cell_type": "code",
   "execution_count": null,
   "metadata": {},
   "outputs": [],
   "source": [
    "ai_message.content"
   ]
  },
  {
   "cell_type": "code",
   "execution_count": null,
   "metadata": {},
   "outputs": [],
   "source": [
    "ai_message.id = \"1\"\n",
    "messages[-1].id = \"2\""
   ]
  },
  {
   "cell_type": "code",
   "execution_count": null,
   "metadata": {},
   "outputs": [],
   "source": [
    "remaining_messages = [messages[0]] + [ai_message] + [messages[-1]]"
   ]
  },
  {
   "cell_type": "code",
   "execution_count": null,
   "metadata": {},
   "outputs": [],
   "source": [
    "remaining_messages"
   ]
  },
  {
   "cell_type": "code",
   "execution_count": null,
   "metadata": {},
   "outputs": [],
   "source": [
    "remaining_messages.append(llm.invoke(remaining_messages))"
   ]
  },
  {
   "cell_type": "code",
   "execution_count": null,
   "metadata": {},
   "outputs": [],
   "source": [
    "for m in remaining_messages:\n",
    "    m.pretty_print()"
   ]
  },
  {
   "cell_type": "code",
   "execution_count": null,
   "metadata": {},
   "outputs": [],
   "source": [
    "remaining_messages[-1].response_metadata[\"token_usage\"]"
   ]
  },
  {
   "cell_type": "code",
   "execution_count": null,
   "metadata": {},
   "outputs": [],
   "source": []
  }
 ],
 "metadata": {
  "kernelspec": {
   "display_name": "ai-agents-with-langchain-langgraph-udacity (3.12.11)",
   "language": "python",
   "name": "python3"
  },
  "language_info": {
   "codemirror_mode": {
    "name": "ipython",
    "version": 3
   },
   "file_extension": ".py",
   "mimetype": "text/x-python",
   "name": "python",
   "nbconvert_exporter": "python",
   "pygments_lexer": "ipython3",
   "version": "3.12.11"
  }
 },
 "nbformat": 4,
 "nbformat_minor": 2
}
