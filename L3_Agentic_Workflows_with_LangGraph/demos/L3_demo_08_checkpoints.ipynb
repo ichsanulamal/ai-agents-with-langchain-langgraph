{
 "cells": [
  {
   "cell_type": "code",
   "execution_count": null,
   "metadata": {},
   "outputs": [],
   "source": [
    "from typing import TypedDict, List, Annotated\n",
    "import operator\n",
    "from langgraph.checkpoint.memory import MemorySaver\n",
    "from langgraph.graph import StateGraph, MessagesState, START, END\n",
    "from IPython.display import Image, display"
   ]
  },
  {
   "cell_type": "code",
   "execution_count": null,
   "metadata": {},
   "outputs": [
    {
     "data": {
      "image/png": "[encoded data removed]",
      "text/plain": [
       "<IPython.core.display.Image object>"
      ]
     },
     "metadata": {},
     "output_type": "display_data"
    }
   ],
   "source": [
    "class State(TypedDict):\n",
    "    value: Annotated[List[str], operator.add]\n",
    "\n",
    "def node_a(state: State):\n",
    "    return {\"value\": [\"a\"]}\n",
    "\n",
    "def node_b(state: State):\n",
    "    return {\"value\": [\"b\"]}\n",
    "\n",
    "workflow = StateGraph(State)\n",
    "\n",
    "workflow.add_node(node_a)\n",
    "workflow.add_node(node_b)\n",
    "workflow.add_edge(START, \"node_a\")\n",
    "workflow.add_edge(\"node_a\", \"node_b\")\n",
    "workflow.add_edge(\"node_b\", END)\n",
    "\n",
    "graph = workflow.compile()\n",
    "\n",
    "display(\n",
    "    Image(\n",
    "        graph.get_graph().draw_mermaid_png()\n",
    "    )\n",
    ")"
   ]
  },
  {
   "cell_type": "code",
   "execution_count": 17,
   "metadata": {},
   "outputs": [
    {
     "data": {
      "text/plain": [
       "{'value': ['a', 'b']}"
      ]
     },
     "execution_count": 17,
     "metadata": {},
     "output_type": "execute_result"
    }
   ],
   "source": [
    "graph.invoke({\"value\":[]})"
   ]
  },
  {
   "cell_type": "markdown",
   "metadata": {},
   "source": [
    "**Checkpoints**"
   ]
  },
  {
   "cell_type": "code",
   "execution_count": 18,
   "metadata": {},
   "outputs": [],
   "source": [
    "checkpointer = MemorySaver()\n",
    "graph = workflow.compile(checkpointer=checkpointer)"
   ]
  },
  {
   "cell_type": "code",
   "execution_count": 24,
   "metadata": {},
   "outputs": [
    {
     "data": {
      "text/plain": [
       "{'value': ['a', 'b', 'a', 'b', 'a', 'b', 'a', 'b']}"
      ]
     },
     "execution_count": 24,
     "metadata": {},
     "output_type": "execute_result"
    }
   ],
   "source": [
    "config = {\"configurable\": {\"thread_id\": \"1\"}}\n",
    "graph.invoke({\"value\": []}, config)"
   ]
  },
  {
   "cell_type": "code",
   "execution_count": 25,
   "metadata": {},
   "outputs": [
    {
     "data": {
      "text/plain": [
       "{'value': ['a', 'b', 'a', 'b']}"
      ]
     },
     "execution_count": 25,
     "metadata": {},
     "output_type": "execute_result"
    }
   ],
   "source": [
    "config = {\"configurable\": {\"thread_id\": \"2\"}}\n",
    "graph.invoke({\"value\": []}, config)"
   ]
  },
  {
   "cell_type": "code",
   "execution_count": 26,
   "metadata": {},
   "outputs": [
    {
     "data": {
      "text/plain": [
       "[StateSnapshot(values={'value': ['a', 'b', 'a', 'b', 'a', 'b', 'a', 'b']}, next=(), config={'configurable': {'thread_id': '1', 'checkpoint_ns': '', 'checkpoint_id': '1eff1f6d-1ec9-6e3c-800f-a2ca36852428'}}, metadata={'source': 'loop', 'writes': {'node_b': {'value': ['b']}}, 'thread_id': '1', 'step': 15, 'parents': {}}, created_at='2025-02-23T14:59:45.796859+00:00', parent_config={'configurable': {'thread_id': '1', 'checkpoint_ns': '', 'checkpoint_id': '1eff1f6d-1ec8-6474-800e-253761b503e6'}}, tasks=()),\n",
       " StateSnapshot(values={'value': ['a', 'b', 'a', 'b', 'a', 'b', 'a']}, next=('node_b',), config={'configurable': {'thread_id': '1', 'checkpoint_ns': '', 'checkpoint_id': '1eff1f6d-1ec8-6474-800e-253761b503e6'}}, metadata={'source': 'loop', 'writes': {'node_a': {'value': ['a']}}, 'thread_id': '1', 'step': 14, 'parents': {}}, created_at='2025-02-23T14:59:45.796198+00:00', parent_config={'configurable': {'thread_id': '1', 'checkpoint_ns': '', 'checkpoint_id': '1eff1f6d-1ec6-6930-800d-8aa0c289ccbb'}}, tasks=(PregelTask(id='d17117fb-ab5b-5b54-7158-f7431084d1ea', name='node_b', path=('__pregel_pull', 'node_b'), error=None, interrupts=(), state=None, result={'value': ['b']}),)),\n",
       " StateSnapshot(values={'value': ['a', 'b', 'a', 'b', 'a', 'b']}, next=('node_a',), config={'configurable': {'thread_id': '1', 'checkpoint_ns': '', 'checkpoint_id': '1eff1f6d-1ec6-6930-800d-8aa0c289ccbb'}}, metadata={'source': 'loop', 'writes': None, 'thread_id': '1', 'step': 13, 'parents': {}}, created_at='2025-02-23T14:59:45.795498+00:00', parent_config={'configurable': {'thread_id': '1', 'checkpoint_ns': '', 'checkpoint_id': '1eff1f6d-1ec2-6e20-800c-2cc2cc4ec63a'}}, tasks=(PregelTask(id='6ab06246-4482-ddcd-f0c6-c43abf35f50c', name='node_a', path=('__pregel_pull', 'node_a'), error=None, interrupts=(), state=None, result={'value': ['a']}),)),\n",
       " StateSnapshot(values={'value': ['a', 'b', 'a', 'b', 'a', 'b']}, next=('__start__',), config={'configurable': {'thread_id': '1', 'checkpoint_ns': '', 'checkpoint_id': '1eff1f6d-1ec2-6e20-800c-2cc2cc4ec63a'}}, metadata={'source': 'input', 'writes': {'__start__': {'value': []}}, 'thread_id': '1', 'step': 12, 'parents': {}}, created_at='2025-02-23T14:59:45.793985+00:00', parent_config={'configurable': {'thread_id': '1', 'checkpoint_ns': '', 'checkpoint_id': '1eff1f6c-caa3-6fb0-800b-39dc530252b8'}}, tasks=(PregelTask(id='4695dc14-1dad-a535-63ab-916472e45e98', name='__start__', path=('__pregel_pull', '__start__'), error=None, interrupts=(), state=None, result={'value': []}),)),\n",
       " StateSnapshot(values={'value': ['a', 'b', 'a', 'b', 'a', 'b']}, next=(), config={'configurable': {'thread_id': '1', 'checkpoint_ns': '', 'checkpoint_id': '1eff1f6c-caa3-6fb0-800b-39dc530252b8'}}, metadata={'source': 'loop', 'writes': {'node_b': {'value': ['b']}}, 'thread_id': '1', 'step': 11, 'parents': {}}, created_at='2025-02-23T14:59:36.973292+00:00', parent_config={'configurable': {'thread_id': '1', 'checkpoint_ns': '', 'checkpoint_id': '1eff1f6c-caa2-6c32-800a-8fe3815cfc63'}}, tasks=()),\n",
       " StateSnapshot(values={'value': ['a', 'b', 'a', 'b', 'a']}, next=('node_b',), config={'configurable': {'thread_id': '1', 'checkpoint_ns': '', 'checkpoint_id': '1eff1f6c-caa2-6c32-800a-8fe3815cfc63'}}, metadata={'source': 'loop', 'writes': {'node_a': {'value': ['a']}}, 'thread_id': '1', 'step': 10, 'parents': {}}, created_at='2025-02-23T14:59:36.972790+00:00', parent_config={'configurable': {'thread_id': '1', 'checkpoint_ns': '', 'checkpoint_id': '1eff1f6c-ca9f-6d7a-8009-c3ce98a7f5a9'}}, tasks=(PregelTask(id='5395a7d9-a116-d447-becf-f8281f118437', name='node_b', path=('__pregel_pull', 'node_b'), error=None, interrupts=(), state=None, result={'value': ['b']}),)),\n",
       " StateSnapshot(values={'value': ['a', 'b', 'a', 'b']}, next=('node_a',), config={'configurable': {'thread_id': '1', 'checkpoint_ns': '', 'checkpoint_id': '1eff1f6c-ca9f-6d7a-8009-c3ce98a7f5a9'}}, metadata={'source': 'loop', 'writes': None, 'thread_id': '1', 'step': 9, 'parents': {}}, created_at='2025-02-23T14:59:36.971592+00:00', parent_config={'configurable': {'thread_id': '1', 'checkpoint_ns': '', 'checkpoint_id': '1eff1f6c-ca9c-6bb6-8008-e78554a63530'}}, tasks=(PregelTask(id='7642196f-ba0f-7ae5-1ac4-ef5b19a66876', name='node_a', path=('__pregel_pull', 'node_a'), error=None, interrupts=(), state=None, result={'value': ['a']}),)),\n",
       " StateSnapshot(values={'value': ['a', 'b', 'a', 'b']}, next=('__start__',), config={'configurable': {'thread_id': '1', 'checkpoint_ns': '', 'checkpoint_id': '1eff1f6c-ca9c-6bb6-8008-e78554a63530'}}, metadata={'source': 'input', 'writes': {'__start__': {'value': []}}, 'thread_id': '1', 'step': 8, 'parents': {}}, created_at='2025-02-23T14:59:36.970311+00:00', parent_config={'configurable': {'thread_id': '1', 'checkpoint_ns': '', 'checkpoint_id': '1eff1f6c-ba4a-6704-8007-177cf0d7fa6c'}}, tasks=(PregelTask(id='42ca60d0-890c-5c32-b009-f435f717c497', name='__start__', path=('__pregel_pull', '__start__'), error=None, interrupts=(), state=None, result={'value': []}),)),\n",
       " StateSnapshot(values={'value': ['a', 'b', 'a', 'b']}, next=(), config={'configurable': {'thread_id': '1', 'checkpoint_ns': '', 'checkpoint_id': '1eff1f6c-ba4a-6704-8007-177cf0d7fa6c'}}, metadata={'source': 'loop', 'writes': {'node_b': {'value': ['b']}}, 'thread_id': '1', 'step': 7, 'parents': {}}, created_at='2025-02-23T14:59:35.258894+00:00', parent_config={'configurable': {'thread_id': '1', 'checkpoint_ns': '', 'checkpoint_id': '1eff1f6c-ba48-6a1c-8006-82e01184b602'}}, tasks=()),\n",
       " StateSnapshot(values={'value': ['a', 'b', 'a']}, next=('node_b',), config={'configurable': {'thread_id': '1', 'checkpoint_ns': '', 'checkpoint_id': '1eff1f6c-ba48-6a1c-8006-82e01184b602'}}, metadata={'source': 'loop', 'writes': {'node_a': {'value': ['a']}}, 'thread_id': '1', 'step': 6, 'parents': {}}, created_at='2025-02-23T14:59:35.258154+00:00', parent_config={'configurable': {'thread_id': '1', 'checkpoint_ns': '', 'checkpoint_id': '1eff1f6c-ba46-6280-8005-4bff97ea529a'}}, tasks=(PregelTask(id='6d335580-0d7f-20f0-183a-1207b8f179e6', name='node_b', path=('__pregel_pull', 'node_b'), error=None, interrupts=(), state=None, result={'value': ['b']}),)),\n",
       " StateSnapshot(values={'value': ['a', 'b']}, next=('node_a',), config={'configurable': {'thread_id': '1', 'checkpoint_ns': '', 'checkpoint_id': '1eff1f6c-ba46-6280-8005-4bff97ea529a'}}, metadata={'source': 'loop', 'writes': None, 'thread_id': '1', 'step': 5, 'parents': {}}, created_at='2025-02-23T14:59:35.257128+00:00', parent_config={'configurable': {'thread_id': '1', 'checkpoint_ns': '', 'checkpoint_id': '1eff1f6c-ba42-6d2e-8004-c172323cc90b'}}, tasks=(PregelTask(id='04015700-1baf-1ef6-b0e0-2ebb08f1f07d', name='node_a', path=('__pregel_pull', 'node_a'), error=None, interrupts=(), state=None, result={'value': ['a']}),)),\n",
       " StateSnapshot(values={'value': ['a', 'b']}, next=('__start__',), config={'configurable': {'thread_id': '1', 'checkpoint_ns': '', 'checkpoint_id': '1eff1f6c-ba42-6d2e-8004-c172323cc90b'}}, metadata={'source': 'input', 'writes': {'__start__': {'value': []}}, 'thread_id': '1', 'step': 4, 'parents': {}}, created_at='2025-02-23T14:59:35.255773+00:00', parent_config={'configurable': {'thread_id': '1', 'checkpoint_ns': '', 'checkpoint_id': '1eff1f6c-9ac5-667c-8003-8791c351a754'}}, tasks=(PregelTask(id='cc104e6f-9911-3b3e-111a-ee7c15e1d09e', name='__start__', path=('__pregel_pull', '__start__'), error=None, interrupts=(), state=None, result={'value': []}),)),\n",
       " StateSnapshot(values={'value': ['a', 'b']}, next=(), config={'configurable': {'thread_id': '1', 'checkpoint_ns': '', 'checkpoint_id': '1eff1f6c-9ac5-667c-8003-8791c351a754'}}, metadata={'source': 'loop', 'writes': {'node_b': {'value': ['b']}}, 'thread_id': '1', 'step': 3, 'parents': {}}, created_at='2025-02-23T14:59:31.953824+00:00', parent_config={'configurable': {'thread_id': '1', 'checkpoint_ns': '', 'checkpoint_id': '1eff1f6c-9ac4-6452-8002-bf9c4d0c3598'}}, tasks=()),\n",
       " StateSnapshot(values={'value': ['a']}, next=('node_b',), config={'configurable': {'thread_id': '1', 'checkpoint_ns': '', 'checkpoint_id': '1eff1f6c-9ac4-6452-8002-bf9c4d0c3598'}}, metadata={'source': 'loop', 'writes': {'node_a': {'value': ['a']}}, 'thread_id': '1', 'step': 2, 'parents': {}}, created_at='2025-02-23T14:59:31.953357+00:00', parent_config={'configurable': {'thread_id': '1', 'checkpoint_ns': '', 'checkpoint_id': '1eff1f6c-9ac2-6b66-8001-9eec49005e0c'}}, tasks=(PregelTask(id='60d89466-4c47-bbbf-2508-14b527b3bb7a', name='node_b', path=('__pregel_pull', 'node_b'), error=None, interrupts=(), state=None, result={'value': ['b']}),)),\n",
       " StateSnapshot(values={'value': []}, next=('node_a',), config={'configurable': {'thread_id': '1', 'checkpoint_ns': '', 'checkpoint_id': '1eff1f6c-9ac2-6b66-8001-9eec49005e0c'}}, metadata={'source': 'loop', 'writes': None, 'thread_id': '1', 'step': 1, 'parents': {}}, created_at='2025-02-23T14:59:31.952718+00:00', parent_config={'configurable': {'thread_id': '1', 'checkpoint_ns': '', 'checkpoint_id': '1eff1f6c-9ac1-613a-8000-1c160a86909c'}}, tasks=(PregelTask(id='0cd2e003-347b-9753-c6f3-d4e5f867a921', name='node_a', path=('__pregel_pull', 'node_a'), error=None, interrupts=(), state=None, result={'value': ['a']}),)),\n",
       " StateSnapshot(values={'value': []}, next=('__start__',), config={'configurable': {'thread_id': '1', 'checkpoint_ns': '', 'checkpoint_id': '1eff1f6c-9ac1-613a-8000-1c160a86909c'}}, metadata={'source': 'input', 'writes': {'__start__': {'value': []}}, 'thread_id': '1', 'step': 0, 'parents': {}}, created_at='2025-02-23T14:59:31.952050+00:00', parent_config={'configurable': {'thread_id': '1', 'checkpoint_ns': '', 'checkpoint_id': '1eff1f6b-febf-6fde-bfff-413c56ffef27'}}, tasks=(PregelTask(id='8a4a565f-c1dd-1ae4-ddac-9734f67802f3', name='__start__', path=('__pregel_pull', '__start__'), error=None, interrupts=(), state=None, result={'value': []}),)),\n",
       " StateSnapshot(values={'value': []}, next=('__start__',), config={'configurable': {'thread_id': '1', 'checkpoint_ns': '', 'checkpoint_id': '1eff1f6b-febf-6fde-bfff-413c56ffef27'}}, metadata={'source': 'input', 'writes': {'__start__': {'node_name': ''}}, 'thread_id': '1', 'step': -1, 'parents': {}}, created_at='2025-02-23T14:59:15.593821+00:00', parent_config=None, tasks=(PregelTask(id='5fe5dfd2-6d70-f72b-8240-0e9e47b08607', name='__start__', path=('__pregel_pull', '__start__'), error='InvalidUpdateError(\"Expected node value to update at least one of [\\'value\\'], got {\\'node_name\\': \\'\\'}\")', interrupts=(), state=None, result=None),))]"
      ]
     },
     "execution_count": 26,
     "metadata": {},
     "output_type": "execute_result"
    }
   ],
   "source": [
    "list(graph.get_state_history({\"configurable\": {\"thread_id\": \"1\"}}))"
   ]
  },
  {
   "cell_type": "code",
   "execution_count": 27,
   "metadata": {},
   "outputs": [
    {
     "data": {
      "text/plain": [
       "[StateSnapshot(values={'value': ['a', 'b', 'a', 'b']}, next=(), config={'configurable': {'thread_id': '2', 'checkpoint_ns': '', 'checkpoint_id': '1eff1f6d-3d86-647e-8006-9dbf721c5497'}}, metadata={'source': 'loop', 'writes': {'node_b': {'value': ['b']}}, 'thread_id': '2', 'step': 6, 'parents': {}}, created_at='2025-02-23T14:59:49.019747+00:00', parent_config={'configurable': {'thread_id': '2', 'checkpoint_ns': '', 'checkpoint_id': '1eff1f6d-3d84-649e-8005-1fbfb22f4566'}}, tasks=()),\n",
       " StateSnapshot(values={'value': ['a', 'b', 'a']}, next=('node_b',), config={'configurable': {'thread_id': '2', 'checkpoint_ns': '', 'checkpoint_id': '1eff1f6d-3d84-649e-8005-1fbfb22f4566'}}, metadata={'source': 'loop', 'writes': {'node_a': {'value': ['a']}}, 'thread_id': '2', 'step': 5, 'parents': {}}, created_at='2025-02-23T14:59:49.018924+00:00', parent_config={'configurable': {'thread_id': '2', 'checkpoint_ns': '', 'checkpoint_id': '1eff1f6d-3d7e-64fe-8004-31b003e8f49f'}}, tasks=(PregelTask(id='8c9948a9-79b5-7542-48c0-1d2bafd68ac5', name='node_b', path=('__pregel_pull', 'node_b'), error=None, interrupts=(), state=None, result={'value': ['b']}),)),\n",
       " StateSnapshot(values={'value': ['a', 'b']}, next=('node_a',), config={'configurable': {'thread_id': '2', 'checkpoint_ns': '', 'checkpoint_id': '1eff1f6d-3d7e-64fe-8004-31b003e8f49f'}}, metadata={'source': 'loop', 'writes': None, 'thread_id': '2', 'step': 4, 'parents': {}}, created_at='2025-02-23T14:59:49.016486+00:00', parent_config={'configurable': {'thread_id': '2', 'checkpoint_ns': '', 'checkpoint_id': '1eff1f6d-3d7a-6a2a-8003-ce9a1e564fc8'}}, tasks=(PregelTask(id='e686c74a-9d50-8bef-c287-cb55c094fd5c', name='node_a', path=('__pregel_pull', 'node_a'), error=None, interrupts=(), state=None, result={'value': ['a']}),)),\n",
       " StateSnapshot(values={'value': ['a', 'b']}, next=('__start__',), config={'configurable': {'thread_id': '2', 'checkpoint_ns': '', 'checkpoint_id': '1eff1f6d-3d7a-6a2a-8003-ce9a1e564fc8'}}, metadata={'source': 'input', 'writes': {'__start__': {'value': []}}, 'thread_id': '2', 'step': 3, 'parents': {}}, created_at='2025-02-23T14:59:49.014976+00:00', parent_config={'configurable': {'thread_id': '2', 'checkpoint_ns': '', 'checkpoint_id': '1eff1f6d-07f7-6c04-8002-29b9cfb3305c'}}, tasks=(PregelTask(id='1ed8827d-658b-ca3d-81ec-8e56e80d80cf', name='__start__', path=('__pregel_pull', '__start__'), error=None, interrupts=(), state=None, result={'value': []}),)),\n",
       " StateSnapshot(values={'value': ['a', 'b']}, next=(), config={'configurable': {'thread_id': '2', 'checkpoint_ns': '', 'checkpoint_id': '1eff1f6d-07f7-6c04-8002-29b9cfb3305c'}}, metadata={'source': 'loop', 'writes': {'node_b': {'value': ['b']}}, 'thread_id': '2', 'step': 2, 'parents': {}}, created_at='2025-02-23T14:59:43.403923+00:00', parent_config={'configurable': {'thread_id': '2', 'checkpoint_ns': '', 'checkpoint_id': '1eff1f6d-07f6-6b42-8001-c36afc214843'}}, tasks=()),\n",
       " StateSnapshot(values={'value': ['a']}, next=('node_b',), config={'configurable': {'thread_id': '2', 'checkpoint_ns': '', 'checkpoint_id': '1eff1f6d-07f6-6b42-8001-c36afc214843'}}, metadata={'source': 'loop', 'writes': {'node_a': {'value': ['a']}}, 'thread_id': '2', 'step': 1, 'parents': {}}, created_at='2025-02-23T14:59:43.403485+00:00', parent_config={'configurable': {'thread_id': '2', 'checkpoint_ns': '', 'checkpoint_id': '1eff1f6d-07f4-62de-8000-f97e5170bb16'}}, tasks=(PregelTask(id='804c0f15-e2ba-d15c-2041-2649c7c4f011', name='node_b', path=('__pregel_pull', 'node_b'), error=None, interrupts=(), state=None, result={'value': ['b']}),)),\n",
       " StateSnapshot(values={'value': []}, next=('node_a',), config={'configurable': {'thread_id': '2', 'checkpoint_ns': '', 'checkpoint_id': '1eff1f6d-07f4-62de-8000-f97e5170bb16'}}, metadata={'source': 'loop', 'writes': None, 'thread_id': '2', 'step': 0, 'parents': {}}, created_at='2025-02-23T14:59:43.402459+00:00', parent_config={'configurable': {'thread_id': '2', 'checkpoint_ns': '', 'checkpoint_id': '1eff1f6d-07f2-6132-bfff-fce24a56f372'}}, tasks=(PregelTask(id='e0026906-7093-8624-cc3e-41a2a425eacc', name='node_a', path=('__pregel_pull', 'node_a'), error=None, interrupts=(), state=None, result={'value': ['a']}),)),\n",
       " StateSnapshot(values={'value': []}, next=('__start__',), config={'configurable': {'thread_id': '2', 'checkpoint_ns': '', 'checkpoint_id': '1eff1f6d-07f2-6132-bfff-fce24a56f372'}}, metadata={'source': 'input', 'writes': {'__start__': {'value': []}}, 'thread_id': '2', 'step': -1, 'parents': {}}, created_at='2025-02-23T14:59:43.401600+00:00', parent_config=None, tasks=(PregelTask(id='60e4f3b7-d1ab-65c5-2931-3dabb564ab40', name='__start__', path=('__pregel_pull', '__start__'), error=None, interrupts=(), state=None, result={'value': []}),))]"
      ]
     },
     "execution_count": 27,
     "metadata": {},
     "output_type": "execute_result"
    }
   ],
   "source": [
    "list(graph.get_state_history({\"configurable\": {\"thread_id\": \"2\"}}))"
   ]
  },
  {
   "cell_type": "markdown",
   "metadata": {},
   "source": [
    "**Agent with Checkpoints**"
   ]
  },
  {
   "cell_type": "code",
   "execution_count": null,
   "metadata": {},
   "outputs": [],
   "source": [
    "class State(MessagesState):\n",
    "    summary: str\n",
    "\n",
    "def agent_node(state: State):\n",
    "    return {\"value\": [\"a\"]}\n",
    "\n",
    "def node_b(state: State):\n",
    "    return {\"value\": [\"b\"]}\n",
    "\n",
    "workflow = StateGraph(State)\n",
    "\n",
    "workflow.add_node(node_a)\n",
    "workflow.add_node(node_b)\n",
    "workflow.add_edge(START, \"node_a\")\n",
    "workflow.add_edge(\"node_a\", \"node_b\")\n",
    "workflow.add_edge(\"node_b\", END)\n",
    "\n",
    "graph = workflow.compile()\n",
    "\n",
    "display(\n",
    "    Image(\n",
    "        graph.get_graph().draw_mermaid_png()\n",
    "    )\n",
    ")"
   ]
  }
 ],
 "metadata": {
  "kernelspec": {
   "display_name": ".venv",
   "language": "python",
   "name": "python3"
  },
  "language_info": {
   "codemirror_mode": {
    "name": "ipython",
    "version": 3
   },
   "file_extension": ".py",
   "mimetype": "text/x-python",
   "name": "python",
   "nbconvert_exporter": "python",
   "pygments_lexer": "ipython3",
   "version": "3.10.15"
  }
 },
 "nbformat": 4,
 "nbformat_minor": 2
}
