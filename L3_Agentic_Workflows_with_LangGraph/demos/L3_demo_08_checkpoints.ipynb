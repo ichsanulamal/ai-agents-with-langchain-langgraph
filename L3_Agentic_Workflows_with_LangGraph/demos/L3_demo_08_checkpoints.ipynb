{
 "cells": [
  {
   "cell_type": "code",
   "execution_count": 1,
   "metadata": {},
   "outputs": [],
   "source": [
    "from typing import TypedDict, List, Annotated\n",
    "import operator\n",
    "from langgraph.checkpoint.memory import MemorySaver\n",
    "from langgraph.graph import StateGraph, MessagesState, START, END\n",
    "from IPython.display import Image, display"
   ]
  },
  {
   "cell_type": "code",
   "execution_count": 2,
   "metadata": {},
   "outputs": [
    {
     "data": {
      "image/png": "[encoded data removed]",
      "text/plain": [
       "<IPython.core.display.Image object>"
      ]
     },
     "metadata": {},
     "output_type": "display_data"
    }
   ],
   "source": [
    "class State(TypedDict):\n",
    "    value: Annotated[List[str], operator.add]\n",
    "\n",
    "def node_a(state: State):\n",
    "    return {\"value\": [\"a\"]}\n",
    "\n",
    "def node_b(state: State):\n",
    "    return {\"value\": [\"b\"]}\n",
    "\n",
    "workflow = StateGraph(State)\n",
    "\n",
    "workflow.add_node(node_a)\n",
    "workflow.add_node(node_b)\n",
    "\n",
    "workflow.add_edge(START, \"node_a\")\n",
    "workflow.add_edge(\"node_a\", \"node_b\")\n",
    "workflow.add_edge(\"node_b\", END)\n",
    "\n",
    "graph = workflow.compile()\n",
    "\n",
    "display(\n",
    "    Image(\n",
    "        graph.get_graph().draw_mermaid_png()\n",
    "    )\n",
    ")"
   ]
  },
  {
   "cell_type": "code",
   "execution_count": 3,
   "metadata": {},
   "outputs": [
    {
     "data": {
      "text/plain": [
       "{'value': ['a', 'b']}"
      ]
     },
     "execution_count": 3,
     "metadata": {},
     "output_type": "execute_result"
    }
   ],
   "source": [
    "graph.invoke({\"value\":[]})"
   ]
  },
  {
   "cell_type": "markdown",
   "metadata": {},
   "source": [
    "**Checkpoints**"
   ]
  },
  {
   "cell_type": "code",
   "execution_count": 4,
   "metadata": {},
   "outputs": [],
   "source": [
    "checkpointer = MemorySaver()\n",
    "graph = workflow.compile(checkpointer=checkpointer)"
   ]
  },
  {
   "cell_type": "code",
   "execution_count": 5,
   "metadata": {},
   "outputs": [
    {
     "data": {
      "text/plain": [
       "{'value': ['a', 'b']}"
      ]
     },
     "execution_count": 5,
     "metadata": {},
     "output_type": "execute_result"
    }
   ],
   "source": [
    "config = {\"configurable\": {\"thread_id\": \"1\"}}\n",
    "graph.invoke({\"value\": []}, config)"
   ]
  },
  {
   "cell_type": "code",
   "execution_count": 6,
   "metadata": {},
   "outputs": [
    {
     "data": {
      "text/plain": [
       "{'value': ['a', 'b', 'a', 'b']}"
      ]
     },
     "execution_count": 6,
     "metadata": {},
     "output_type": "execute_result"
    }
   ],
   "source": [
    "config = {\"configurable\": {\"thread_id\": \"1\"}}\n",
    "graph.invoke({\"value\": []}, config)"
   ]
  },
  {
   "cell_type": "code",
   "execution_count": 7,
   "metadata": {},
   "outputs": [
    {
     "data": {
      "text/plain": [
       "{'value': ['a', 'b']}"
      ]
     },
     "execution_count": 7,
     "metadata": {},
     "output_type": "execute_result"
    }
   ],
   "source": [
    "config = {\"configurable\": {\"thread_id\": \"2\"}}\n",
    "graph.invoke({\"value\": []}, config)"
   ]
  },
  {
   "cell_type": "code",
   "execution_count": 8,
   "metadata": {},
   "outputs": [
    {
     "data": {
      "text/plain": [
       "{'value': ['a', 'b']}"
      ]
     },
     "execution_count": 8,
     "metadata": {},
     "output_type": "execute_result"
    }
   ],
   "source": [
    "config = {\"configurable\": {\"thread_id\": \"3\"}}\n",
    "graph.invoke({\"value\": []}, config)"
   ]
  },
  {
   "cell_type": "code",
   "execution_count": 9,
   "metadata": {},
   "outputs": [
    {
     "data": {
      "text/plain": [
       "[StateSnapshot(values={'value': ['a', 'b', 'a', 'b']}, next=(), config={'configurable': {'thread_id': '1', 'checkpoint_ns': '', 'checkpoint_id': '1f076854-a87a-6bbb-8006-703602597ee5'}}, metadata={'source': 'loop', 'step': 6, 'parents': {}}, created_at='2025-08-11T07:32:10.161854+00:00', parent_config={'configurable': {'thread_id': '1', 'checkpoint_ns': '', 'checkpoint_id': '1f076854-a878-66c9-8005-dc0fb4576542'}}, tasks=(), interrupts=()),\n",
       " StateSnapshot(values={'value': ['a', 'b', 'a']}, next=('node_b',), config={'configurable': {'thread_id': '1', 'checkpoint_ns': '', 'checkpoint_id': '1f076854-a878-66c9-8005-dc0fb4576542'}}, metadata={'source': 'loop', 'step': 5, 'parents': {}}, created_at='2025-08-11T07:32:10.160909+00:00', parent_config={'configurable': {'thread_id': '1', 'checkpoint_ns': '', 'checkpoint_id': '1f076854-a874-6aa6-8004-69d11fc2a3c4'}}, tasks=(PregelTask(id='ef81c38e-f3ed-115d-1135-d50700188aba', name='node_b', path=('__pregel_pull', 'node_b'), error=None, interrupts=(), state=None, result={'value': ['b']}),), interrupts=()),\n",
       " StateSnapshot(values={'value': ['a', 'b']}, next=('node_a',), config={'configurable': {'thread_id': '1', 'checkpoint_ns': '', 'checkpoint_id': '1f076854-a874-6aa6-8004-69d11fc2a3c4'}}, metadata={'source': 'loop', 'step': 4, 'parents': {}}, created_at='2025-08-11T07:32:10.159348+00:00', parent_config={'configurable': {'thread_id': '1', 'checkpoint_ns': '', 'checkpoint_id': '1f076854-a872-66b8-8003-16ed8389f9af'}}, tasks=(PregelTask(id='8f84c308-c0ae-ada8-f277-6b8a742b577a', name='node_a', path=('__pregel_pull', 'node_a'), error=None, interrupts=(), state=None, result={'value': ['a']}),), interrupts=()),\n",
       " StateSnapshot(values={'value': ['a', 'b']}, next=('__start__',), config={'configurable': {'thread_id': '1', 'checkpoint_ns': '', 'checkpoint_id': '1f076854-a872-66b8-8003-16ed8389f9af'}}, metadata={'source': 'input', 'step': 3, 'parents': {}}, created_at='2025-08-11T07:32:10.158430+00:00', parent_config={'configurable': {'thread_id': '1', 'checkpoint_ns': '', 'checkpoint_id': '1f076854-a4e3-6a5d-8002-f6d6f2647895'}}, tasks=(PregelTask(id='8803f8d7-1aae-b48a-6037-71ffb2634b8d', name='__start__', path=('__pregel_pull', '__start__'), error=None, interrupts=(), state=None, result={'value': []}),), interrupts=()),\n",
       " StateSnapshot(values={'value': ['a', 'b']}, next=(), config={'configurable': {'thread_id': '1', 'checkpoint_ns': '', 'checkpoint_id': '1f076854-a4e3-6a5d-8002-f6d6f2647895'}}, metadata={'source': 'loop', 'step': 2, 'parents': {}}, created_at='2025-08-11T07:32:09.785398+00:00', parent_config={'configurable': {'thread_id': '1', 'checkpoint_ns': '', 'checkpoint_id': '1f076854-a4e0-6aba-8001-1d69940c4128'}}, tasks=(), interrupts=()),\n",
       " StateSnapshot(values={'value': ['a']}, next=('node_b',), config={'configurable': {'thread_id': '1', 'checkpoint_ns': '', 'checkpoint_id': '1f076854-a4e0-6aba-8001-1d69940c4128'}}, metadata={'source': 'loop', 'step': 1, 'parents': {}}, created_at='2025-08-11T07:32:09.784172+00:00', parent_config={'configurable': {'thread_id': '1', 'checkpoint_ns': '', 'checkpoint_id': '1f076854-a4dc-67a5-8000-874390cf7fba'}}, tasks=(PregelTask(id='e91996ca-622c-4484-5aef-56f78f03d2c6', name='node_b', path=('__pregel_pull', 'node_b'), error=None, interrupts=(), state=None, result={'value': ['b']}),), interrupts=()),\n",
       " StateSnapshot(values={'value': []}, next=('node_a',), config={'configurable': {'thread_id': '1', 'checkpoint_ns': '', 'checkpoint_id': '1f076854-a4dc-67a5-8000-874390cf7fba'}}, metadata={'source': 'loop', 'step': 0, 'parents': {}}, created_at='2025-08-11T07:32:09.782449+00:00', parent_config={'configurable': {'thread_id': '1', 'checkpoint_ns': '', 'checkpoint_id': '1f076854-a4d8-6f5b-bfff-27dfcad78fd3'}}, tasks=(PregelTask(id='85441fcd-ddb5-0b8c-b11a-52c720037ac3', name='node_a', path=('__pregel_pull', 'node_a'), error=None, interrupts=(), state=None, result={'value': ['a']}),), interrupts=()),\n",
       " StateSnapshot(values={'value': []}, next=('__start__',), config={'configurable': {'thread_id': '1', 'checkpoint_ns': '', 'checkpoint_id': '1f076854-a4d8-6f5b-bfff-27dfcad78fd3'}}, metadata={'source': 'input', 'step': -1, 'parents': {}}, created_at='2025-08-11T07:32:09.781014+00:00', parent_config=None, tasks=(PregelTask(id='c5f29b74-8a59-96c3-fb23-1a16447f2514', name='__start__', path=('__pregel_pull', '__start__'), error=None, interrupts=(), state=None, result={'value': []}),), interrupts=())]"
      ]
     },
     "execution_count": 9,
     "metadata": {},
     "output_type": "execute_result"
    }
   ],
   "source": [
    "list(graph.get_state_history({\"configurable\": {\"thread_id\": \"1\"}}))"
   ]
  },
  {
   "cell_type": "code",
   "execution_count": 10,
   "metadata": {},
   "outputs": [
    {
     "data": {
      "text/plain": [
       "[StateSnapshot(values={'value': ['a', 'b']}, next=(), config={'configurable': {'thread_id': '2', 'checkpoint_ns': '', 'checkpoint_id': '1f076856-0b53-6d43-8002-449d973bc7e1'}}, metadata={'source': 'loop', 'step': 2, 'parents': {}}, created_at='2025-08-11T07:32:47.370366+00:00', parent_config={'configurable': {'thread_id': '2', 'checkpoint_ns': '', 'checkpoint_id': '1f076856-0b50-6f6c-8001-bd0fd0ec0455'}}, tasks=(), interrupts=()),\n",
       " StateSnapshot(values={'value': ['a']}, next=('node_b',), config={'configurable': {'thread_id': '2', 'checkpoint_ns': '', 'checkpoint_id': '1f076856-0b50-6f6c-8001-bd0fd0ec0455'}}, metadata={'source': 'loop', 'step': 1, 'parents': {}}, created_at='2025-08-11T07:32:47.369193+00:00', parent_config={'configurable': {'thread_id': '2', 'checkpoint_ns': '', 'checkpoint_id': '1f076856-0b4d-63f6-8000-2ad4be15cca0'}}, tasks=(PregelTask(id='29857543-b7d4-b161-5b39-30218efc49c3', name='node_b', path=('__pregel_pull', 'node_b'), error=None, interrupts=(), state=None, result={'value': ['b']}),), interrupts=()),\n",
       " StateSnapshot(values={'value': []}, next=('node_a',), config={'configurable': {'thread_id': '2', 'checkpoint_ns': '', 'checkpoint_id': '1f076856-0b4d-63f6-8000-2ad4be15cca0'}}, metadata={'source': 'loop', 'step': 0, 'parents': {}}, created_at='2025-08-11T07:32:47.367664+00:00', parent_config={'configurable': {'thread_id': '2', 'checkpoint_ns': '', 'checkpoint_id': '1f076856-0b4b-650d-bfff-8dc75ef6a870'}}, tasks=(PregelTask(id='c9e8ae97-deef-9a5a-e8ed-b0b56387bf92', name='node_a', path=('__pregel_pull', 'node_a'), error=None, interrupts=(), state=None, result={'value': ['a']}),), interrupts=()),\n",
       " StateSnapshot(values={'value': []}, next=('__start__',), config={'configurable': {'thread_id': '2', 'checkpoint_ns': '', 'checkpoint_id': '1f076856-0b4b-650d-bfff-8dc75ef6a870'}}, metadata={'source': 'input', 'step': -1, 'parents': {}}, created_at='2025-08-11T07:32:47.366883+00:00', parent_config=None, tasks=(PregelTask(id='fdc37501-6ef3-c8ed-b0ca-4fd191ac921c', name='__start__', path=('__pregel_pull', '__start__'), error=None, interrupts=(), state=None, result={'value': []}),), interrupts=())]"
      ]
     },
     "execution_count": 10,
     "metadata": {},
     "output_type": "execute_result"
    }
   ],
   "source": [
    "list(graph.get_state_history({\"configurable\": {\"thread_id\": \"2\"}}))"
   ]
  }
 ],
 "metadata": {
  "kernelspec": {
   "display_name": "ai-agents-with-langchain-langgraph-udacity (3.12.11)",
   "language": "python",
   "name": "python3"
  },
  "language_info": {
   "codemirror_mode": {
    "name": "ipython",
    "version": 3
   },
   "file_extension": ".py",
   "mimetype": "text/x-python",
   "name": "python",
   "nbconvert_exporter": "python",
   "pygments_lexer": "ipython3",
   "version": "3.12.11"
  }
 },
 "nbformat": 4,
 "nbformat_minor": 2
}
