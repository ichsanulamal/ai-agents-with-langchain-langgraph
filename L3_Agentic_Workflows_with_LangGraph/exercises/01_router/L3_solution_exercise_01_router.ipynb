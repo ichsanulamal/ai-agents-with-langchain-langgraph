{
 "cells": [
  {
   "cell_type": "markdown",
   "metadata": {},
   "source": [
    "# Exercise - Create a Router with LangGraph - SOLUTION"
   ]
  },
  {
   "cell_type": "markdown",
   "metadata": {},
   "source": [
    "In this exercise, you will build a router using LangGraph to dynamically control the flow of your application."
   ]
  },
  {
   "cell_type": "markdown",
   "metadata": {},
   "source": [
    "**Challenge**\n",
    "\n",
    "You're building a text processing application that can:\n",
    "\n",
    "- Reverse a string (e.g., \"hello\" → \"olleh\")\n",
    "- Convert a string to uppercase (e.g., \"hello\" → \"HELLO\")\n",
    "\n",
    "Your application should:\n",
    "\n",
    "- Accept user input and an action type.\n",
    "- Route to the appropriate node (reverse or upper) based on the action.\n",
    "- Handle invalid actions gracefully.\n",
    "\n",
    "This will be achieved by routing the input through LangGraph nodes using a conditional edge."
   ]
  },
  {
   "cell_type": "markdown",
   "metadata": {},
   "source": [
    "## 0. Import the necessary libs"
   ]
  },
  {
   "cell_type": "code",
   "execution_count": null,
   "metadata": {},
   "outputs": [],
   "source": [
    "from typing import TypedDict, Literal\n",
    "from langgraph.graph import StateGraph, START, END\n",
    "from IPython.display import Image, display"
   ]
  },
  {
   "cell_type": "markdown",
   "metadata": {},
   "source": [
    "## 1. State Schema"
   ]
  },
  {
   "cell_type": "markdown",
   "metadata": {},
   "source": [
    "We’ll use Python’s TypedDict to define the structure of our state:\n",
    "\n",
    "- input: The user’s input string.\n",
    "- action: The action to be performed (reverse or upper).\n",
    "- output: The processed output.\n",
    "\n",
    "Then initialize the State Graph with the state schema you have created"
   ]
  },
  {
   "cell_type": "code",
   "execution_count": 20,
   "metadata": {},
   "outputs": [],
   "source": [
    "# FILL IN - The State Schema class\n",
    "class State(TypedDict):\n",
    "    input: str\n",
    "    action: Literal[\"reverse\", \"upper\"]\n",
    "    output: str"
   ]
  },
  {
   "cell_type": "code",
   "execution_count": 21,
   "metadata": {},
   "outputs": [],
   "source": [
    "workflow = StateGraph(State)"
   ]
  },
  {
   "cell_type": "markdown",
   "metadata": {},
   "source": [
    "## 2. Nodes"
   ]
  },
  {
   "cell_type": "markdown",
   "metadata": {},
   "source": [
    "Create the logics in your nodes.\n",
    "- Node A should reverse the input\n",
    "- Node B should convert input to uppercase\n",
    "\n",
    "The add the nodes to the workflow."
   ]
  },
  {
   "cell_type": "code",
   "execution_count": 22,
   "metadata": {},
   "outputs": [],
   "source": [
    "def node_a(state: State):\n",
    "    print(\"Node A\\n\")\n",
    "    # FILL IN - Reverse\n",
    "    output =  state['input'][::-1]\n",
    "    print(f\"output: {output}\")\n",
    "    return {\"output\": output}"
   ]
  },
  {
   "cell_type": "code",
   "execution_count": 23,
   "metadata": {},
   "outputs": [],
   "source": [
    "def node_b(state: State):\n",
    "    print(\"Node B\\n\")\n",
    "    # FILL IN - Uppercase\n",
    "    output = state['input'].upper()\n",
    "    print(f\"output: {output}\")\n",
    "    return {\"output\": output}"
   ]
  },
  {
   "cell_type": "code",
   "execution_count": null,
   "metadata": {},
   "outputs": [],
   "source": [
    "# FILL IN - Add node A to the workflow\n",
    "workflow.add_node(node_a)"
   ]
  },
  {
   "cell_type": "code",
   "execution_count": 24,
   "metadata": {},
   "outputs": [
    {
     "data": {
      "text/plain": [
       "<langgraph.graph.state.StateGraph at 0x11fa43790>"
      ]
     },
     "execution_count": 24,
     "metadata": {},
     "output_type": "execute_result"
    }
   ],
   "source": [
    "# FILL IN - Add node B to the workflow\n",
    "workflow.add_node(node_b)"
   ]
  },
  {
   "cell_type": "markdown",
   "metadata": {},
   "source": [
    "## 3. Routing Function"
   ]
  },
  {
   "cell_type": "markdown",
   "metadata": {},
   "source": [
    "Create a routing function to determine which node to execute based on the action. If action is reverse, it should return node A, if action is upper, node B.\n"
   ]
  },
  {
   "cell_type": "code",
   "execution_count": 25,
   "metadata": {},
   "outputs": [],
   "source": [
    "# FILL IN - The routing function\n",
    "def routing_function(state: State):\n",
    "    action = state[\"action\"]\n",
    "    if action == \"reverse\":\n",
    "        return \"node_a\"\n",
    "    if action == \"upper\":\n",
    "        return \"node_b\"        "
   ]
  },
  {
   "cell_type": "markdown",
   "metadata": {},
   "source": [
    "## 4. Edges"
   ]
  },
  {
   "cell_type": "markdown",
   "metadata": {},
   "source": [
    "Use conditional edges to control the flow of data:\n",
    "\n",
    "- START → routing_function to decide the path.\n",
    "- node_a → END for reverse.\n",
    "- node_b → END for uppercase.\n",
    "\n",
    "In add_conditional_edges() method, use source, path and path_map as the necessary arguments for routing."
   ]
  },
  {
   "cell_type": "code",
   "execution_count": 26,
   "metadata": {},
   "outputs": [
    {
     "data": {
      "text/plain": [
       "<langgraph.graph.state.StateGraph at 0x11fa43790>"
      ]
     },
     "execution_count": 26,
     "metadata": {},
     "output_type": "execute_result"
    }
   ],
   "source": [
    "# FILL IN - Add your condital edges\n",
    "workflow.add_conditional_edges(\n",
    "    source=START, \n",
    "    path=routing_function, \n",
    "    path_map=[\"node_a\", \"node_b\"]\n",
    ")"
   ]
  },
  {
   "cell_type": "code",
   "execution_count": 27,
   "metadata": {},
   "outputs": [
    {
     "data": {
      "text/plain": [
       "<langgraph.graph.state.StateGraph at 0x11fa43790>"
      ]
     },
     "execution_count": 27,
     "metadata": {},
     "output_type": "execute_result"
    }
   ],
   "source": [
    "workflow.add_edge(\"node_a\", END)\n",
    "workflow.add_edge(\"node_b\", END)"
   ]
  },
  {
   "cell_type": "markdown",
   "metadata": {},
   "source": [
    "## 5. Compile and Run"
   ]
  },
  {
   "cell_type": "markdown",
   "metadata": {},
   "source": [
    "Compile the graph, display and run it with different actions."
   ]
  },
  {
   "cell_type": "code",
   "execution_count": 28,
   "metadata": {},
   "outputs": [],
   "source": [
    "graph = workflow.compile()"
   ]
  },
  {
   "cell_type": "code",
   "execution_count": null,
   "metadata": {},
   "outputs": [
    {
     "data": {
      "image/png": "[encoded data removed]",
      "text/plain": [
       "<IPython.core.display.Image object>"
      ]
     },
     "metadata": {},
     "output_type": "display_data"
    }
   ],
   "source": [
    "display(\n",
    "    Image(\n",
    "        graph.get_graph().draw_mermaid_png()\n",
    "    )\n",
    ")"
   ]
  },
  {
   "cell_type": "code",
   "execution_count": 30,
   "metadata": {},
   "outputs": [
    {
     "name": "stdout",
     "output_type": "stream",
     "text": [
      "Node B\n",
      "\n",
      "output: SOME INPUT\n"
     ]
    },
    {
     "data": {
      "text/plain": [
       "{'input': 'Some input', 'action': 'upper', 'output': 'SOME INPUT'}"
      ]
     },
     "execution_count": 30,
     "metadata": {},
     "output_type": "execute_result"
    }
   ],
   "source": [
    "# FILL IN - Input upper action\n",
    "graph.invoke(\n",
    "    input = {\n",
    "        \"input\": \"Some input\",\n",
    "        \"action\": \"upper\",\n",
    "    }, \n",
    ")"
   ]
  },
  {
   "cell_type": "code",
   "execution_count": 31,
   "metadata": {},
   "outputs": [
    {
     "name": "stdout",
     "output_type": "stream",
     "text": [
      "Node A\n",
      "\n",
      "output: tupni emoS\n"
     ]
    },
    {
     "data": {
      "text/plain": [
       "{'input': 'Some input', 'action': 'reverse', 'output': 'tupni emoS'}"
      ]
     },
     "execution_count": 31,
     "metadata": {},
     "output_type": "execute_result"
    }
   ],
   "source": [
    "# FILL IN - Input reverse action\n",
    "graph.invoke(\n",
    "    input = {\n",
    "        \"input\": \"Some input\",\n",
    "        \"action\": \"reverse\",\n",
    "    }, \n",
    ")"
   ]
  },
  {
   "cell_type": "markdown",
   "metadata": {},
   "source": [
    "## 6. Break Things"
   ]
  },
  {
   "cell_type": "markdown",
   "metadata": {},
   "source": [
    "Now that you understood how it works, experiment new things.\n",
    "- Test different scenarios, like passing \"lower\" as the actions\n",
    "- Make it more robust when this cases happen\n",
    "- Add more actions"
   ]
  },
  {
   "cell_type": "markdown",
   "metadata": {},
   "source": []
  }
 ],
 "metadata": {
  "kernelspec": {
   "display_name": ".venv",
   "language": "python",
   "name": "python3"
  },
  "language_info": {
   "codemirror_mode": {
    "name": "ipython",
    "version": 3
   },
   "file_extension": ".py",
   "mimetype": "text/x-python",
   "name": "python",
   "nbconvert_exporter": "python",
   "pygments_lexer": "ipython3",
   "version": "3.10.15"
  }
 },
 "nbformat": 4,
 "nbformat_minor": 2
}
