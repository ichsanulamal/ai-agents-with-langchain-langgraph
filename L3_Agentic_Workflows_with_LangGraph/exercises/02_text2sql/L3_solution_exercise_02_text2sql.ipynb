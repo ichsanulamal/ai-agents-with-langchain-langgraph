{
 "cells": [
  {
   "cell_type": "markdown",
   "metadata": {},
   "source": [
    "# Exercise - Create a Text2SQL Agent - SOLUTION"
   ]
  },
  {
   "cell_type": "markdown",
   "metadata": {},
   "source": [
    "In this exercise, you’ll build an AI agent capable of converting natural language questions into SQL queries, executing them, and returning the results."
   ]
  },
  {
   "cell_type": "markdown",
   "metadata": {},
   "source": [
    "**Challenge**\n",
    "\n",
    "You’re building a Text2SQL assistant for a Sales Dashboard.\n",
    "The agent should:\n",
    "\n",
    "- Parse user questions.\n",
    "- Identify the relevant tables and columns.\n",
    "- Generate the corresponding SQL query.\n",
    "- Execute the query and return the result.\n",
    "\n",
    "This enables non-technical users to ask questions in plain English and get data insights without writing SQL."
   ]
  },
  {
   "cell_type": "markdown",
   "metadata": {},
   "source": [
    "## 0. Import the necessary libs"
   ]
  },
  {
   "cell_type": "code",
   "execution_count": null,
   "metadata": {},
   "outputs": [],
   "source": [
    "from langchain_core.messages import SystemMessage, HumanMessage\n",
    "from langchain_openai import ChatOpenAI\n",
    "from langgraph.graph import START, END, StateGraph\n",
    "from langgraph.graph.message import MessagesState\n",
    "from langgraph.prebuilt import ToolNode\n",
    "from IPython.display import Image, display\n",
    "from sqlalchemy import create_engine\n",
    "\n",
    "from sql_toolkit import (\n",
    "    list_tables_tool, \n",
    "    get_table_schema_tool, \n",
    "    execute_sql_tool\n",
    ")"
   ]
  },
  {
   "cell_type": "markdown",
   "metadata": {},
   "source": [
    "## 1. Instantiate Chat Model with your API Key"
   ]
  },
  {
   "cell_type": "markdown",
   "metadata": {},
   "source": [
    "To be able to connect with OpenAI, you need to instantiate an ChatOpenAI client passing your OpenAI key.\n",
    "\n",
    "You can pass the `api_key` argument directly.\n",
    "```python\n",
    "llm = ChatOpenAI(\n",
    "    model=\"gpt-4o-mini\",\n",
    "    temperature=0.0,\n",
    "    api_key=\"voc-\",\n",
    ")\n",
    "```"
   ]
  },
  {
   "cell_type": "code",
   "execution_count": null,
   "metadata": {},
   "outputs": [],
   "source": [
    "from dotenv import load_dotenv\n",
    "load_dotenv()\n",
    "llm = ChatOpenAI(\n",
    "    model=\"gpt-4o-mini\",\n",
    "    temperature=0.0,\n",
    ")"
   ]
  },
  {
   "cell_type": "markdown",
   "metadata": {},
   "source": [
    "## 2. Initialize the State Graph"
   ]
  },
  {
   "cell_type": "markdown",
   "metadata": {},
   "source": [
    "You can either chose from creating it with TypedDict, Pydantic or using the MessagesState. It should store:\n",
    "\n",
    "- user_query: The user's natural language question.\n",
    "- messages: The conversation history."
   ]
  },
  {
   "cell_type": "code",
   "execution_count": null,
   "metadata": {},
   "outputs": [],
   "source": [
    "class State(MessagesState):\n",
    "    user_query: str\n",
    "\n",
    "workflow = StateGraph(State)"
   ]
  },
  {
   "cell_type": "markdown",
   "metadata": {},
   "source": [
    "## 3. Define the tools available"
   ]
  },
  {
   "cell_type": "markdown",
   "metadata": {},
   "source": [
    "We created the following tools:\n",
    "- list_tables_tool: Lists tables in the database., \n",
    "- get_table_schema_tool: Retrieves the schema of a specific table, \n",
    "- execute_sql_tool: Executes the generated SQL query.\n",
    "\n",
    "They are all accessible in the sql_toolkit.py. It's already imported. You need to add them to the tools list, then add the tools list to a node and bind the tools to the llm."
   ]
  },
  {
   "cell_type": "code",
   "execution_count": null,
   "metadata": {},
   "outputs": [],
   "source": [
    "dba_tools = [list_tables_tool, get_table_schema_tool, execute_sql_tool]"
   ]
  },
  {
   "cell_type": "code",
   "execution_count": 6,
   "metadata": {},
   "outputs": [
    {
     "data": {
      "text/plain": [
       "<langgraph.graph.state.StateGraph at 0x1223d1690>"
      ]
     },
     "execution_count": 6,
     "metadata": {},
     "output_type": "execute_result"
    }
   ],
   "source": [
    "workflow.add_node(\"dba_tools\", ToolNode(dba_tools))"
   ]
  },
  {
   "cell_type": "code",
   "execution_count": 7,
   "metadata": {},
   "outputs": [],
   "source": [
    "dba_llm = llm.bind_tools(dba_tools, tool_choice=\"auto\")"
   ]
  },
  {
   "cell_type": "markdown",
   "metadata": {},
   "source": [
    "## 4. The agent node"
   ]
  },
  {
   "cell_type": "markdown",
   "metadata": {},
   "source": [
    "Before creating the dba_agent node, you need to build the initial messages to start the conversation. So, we'll first create the messages builder node.\n",
    "\n",
    "The llm you'll use has already the tools bound to it, so the message will have a content or a tool_calls."
   ]
  },
  {
   "cell_type": "code",
   "execution_count": 8,
   "metadata": {},
   "outputs": [],
   "source": [
    "def messages_builder(state: State):\n",
    "    dba_sys_msg = (\n",
    "        \"You are a Sr. SQL developer tasked with generating SQL queries. Perform the following steps:\\n\"\n",
    "        \"First, find out the appropriate table name based on all tables. \"\n",
    "        \"Then get the table's schema to understand the columns. \"\n",
    "        \"With the table name and the schema, generate the ANSI SQL query you think is applicable to the user question. \"\n",
    "        \"Finally, use a tool to execute the above SQL query and output the result based on the user question.\"\n",
    "    )\n",
    "    messages = [\n",
    "        SystemMessage(dba_sys_msg),\n",
    "        HumanMessage(state[\"user_query\"])\n",
    "    ]\n",
    "    return {\"messages\": messages}"
   ]
  },
  {
   "cell_type": "code",
   "execution_count": 9,
   "metadata": {},
   "outputs": [],
   "source": [
    "def dba_agent(state: State):\n",
    "   ai_message = dba_llm.invoke(state[\"messages\"])\n",
    "   ai_message.name = \"dba_agent\"\n",
    "   return {\"messages\": ai_message}"
   ]
  },
  {
   "cell_type": "code",
   "execution_count": null,
   "metadata": {},
   "outputs": [
    {
     "data": {
      "text/plain": [
       "<langgraph.graph.state.StateGraph at 0x1223d1690>"
      ]
     },
     "execution_count": 10,
     "metadata": {},
     "output_type": "execute_result"
    }
   ],
   "source": [
    "workflow.add_node(\"messages_builder\", messages_builder)\n",
    "workflow.add_node(\"dba_agent\", dba_agent)"
   ]
  },
  {
   "cell_type": "markdown",
   "metadata": {},
   "source": [
    "## 5. Edges"
   ]
  },
  {
   "cell_type": "markdown",
   "metadata": {},
   "source": [
    "To enable the cycle, you need to have a routing function. This function:\n",
    "\n",
    "- Inspects the conversation history.\n",
    "- Decides whether to call a tool or end the workflow.\n",
    "\n",
    "Then, create the nodes:\n",
    "- After the START entrypoint, you need to move to messages_builder\n",
    "- From messages_builder, to the dba_agent\n",
    "- The dba_agent should call the routing_function within a conditional edge\n",
    "- If the response is a tool_call, send to dba_tools node\n",
    "- Else, terminates in the END termination node."
   ]
  },
  {
   "cell_type": "code",
   "execution_count": null,
   "metadata": {},
   "outputs": [],
   "source": [
    "def should_continue(state: State):\n",
    "    messages = state[\"messages\"]\n",
    "    last_message = messages[-1]\n",
    "    if last_message.tool_calls:\n",
    "        return \"dba_tools\"\n",
    "    return END"
   ]
  },
  {
   "cell_type": "code",
   "execution_count": 12,
   "metadata": {},
   "outputs": [
    {
     "data": {
      "text/plain": [
       "<langgraph.graph.state.StateGraph at 0x1223d1690>"
      ]
     },
     "execution_count": 12,
     "metadata": {},
     "output_type": "execute_result"
    }
   ],
   "source": [
    "workflow.add_edge(START, \"messages_builder\")\n",
    "workflow.add_edge(\"messages_builder\", \"dba_agent\")\n",
    "workflow.add_conditional_edges(\n",
    "    source=\"dba_agent\", \n",
    "    path=should_continue, \n",
    "    path_map=[\"dba_tools\", END]\n",
    ")\n",
    "workflow.add_edge(\"dba_tools\", \"dba_agent\")"
   ]
  },
  {
   "cell_type": "markdown",
   "metadata": {},
   "source": [
    "## 6. Compile and Run"
   ]
  },
  {
   "cell_type": "markdown",
   "metadata": {},
   "source": [
    "Compile your graph, display it and run for inputs and config passed in the invoke() method."
   ]
  },
  {
   "cell_type": "code",
   "execution_count": 13,
   "metadata": {},
   "outputs": [],
   "source": [
    "react_graph = workflow.compile()"
   ]
  },
  {
   "cell_type": "code",
   "execution_count": null,
   "metadata": {},
   "outputs": [
    {
     "data": {
      "image/png": "[encoded data removed]",
      "text/plain": [
       "<IPython.core.display.Image object>"
      ]
     },
     "metadata": {},
     "output_type": "display_data"
    }
   ],
   "source": [
    "display(\n",
    "    Image(\n",
    "        react_graph.get_graph().draw_mermaid_png()\n",
    "    )\n",
    ")"
   ]
  },
  {
   "cell_type": "code",
   "execution_count": 15,
   "metadata": {},
   "outputs": [],
   "source": [
    "db_engine = create_engine(f\"sqlite:///sales.db\")"
   ]
  },
  {
   "cell_type": "code",
   "execution_count": 16,
   "metadata": {},
   "outputs": [],
   "source": [
    "config = {\n",
    "    \"configurable\": {\n",
    "        \"db_engine\": db_engine\n",
    "    }\n",
    "}"
   ]
  },
  {
   "cell_type": "code",
   "execution_count": null,
   "metadata": {},
   "outputs": [],
   "source": [
    "inputs = {\n",
    "    \"user_query\": \"How many Dell XPS 15 were sold?\"\n",
    "}"
   ]
  },
  {
   "cell_type": "code",
   "execution_count": null,
   "metadata": {},
   "outputs": [],
   "source": [
    "messages = react_graph.invoke(\n",
    "    input=inputs, \n",
    "    config=config,\n",
    ")"
   ]
  },
  {
   "cell_type": "code",
   "execution_count": 19,
   "metadata": {},
   "outputs": [
    {
     "name": "stdout",
     "output_type": "stream",
     "text": [
      "================================\u001b[1m System Message \u001b[0m================================\n",
      "\n",
      "You are a Sr. SQL developer tasked with generating SQL queries. Perform the following steps:\n",
      "First, find out the appropriate table name based on all tables. Then get the table's schema to understand the columns. With the table name and the schema, generate the ANSI SQL query you think is applicable to the user question. Finally, use a tool to execute the above SQL query and output the result based on the user question.\n",
      "================================\u001b[1m Human Message \u001b[0m=================================\n",
      "\n",
      "How many Dell XPS 15 were sold?\n",
      "==================================\u001b[1m Ai Message \u001b[0m==================================\n",
      "Name: dba_agent\n",
      "Tool Calls:\n",
      "  list_tables_tool (call_YWdtQsY0GfF3F2aDmLW94KD1)\n",
      " Call ID: call_YWdtQsY0GfF3F2aDmLW94KD1\n",
      "  Args:\n",
      "=================================\u001b[1m Tool Message \u001b[0m=================================\n",
      "Name: list_tables_tool\n",
      "\n",
      "[\"sales\"]\n",
      "==================================\u001b[1m Ai Message \u001b[0m==================================\n",
      "Name: dba_agent\n",
      "Tool Calls:\n",
      "  get_table_schema_tool (call_xwrVqB0RYmO2EJu4XSPQP0vb)\n",
      " Call ID: call_xwrVqB0RYmO2EJu4XSPQP0vb\n",
      "  Args:\n",
      "    table_name: sales\n",
      "=================================\u001b[1m Tool Message \u001b[0m=================================\n",
      "Name: get_table_schema_tool\n",
      "\n",
      "[{'name': 'id', 'type': INTEGER(), 'nullable': False, 'default': None, 'primary_key': 1}, {'name': 'transaction_date', 'type': DATE(), 'nullable': False, 'default': None, 'primary_key': 0}, {'name': 'model', 'type': VARCHAR(length=50), 'nullable': False, 'default': None, 'primary_key': 0}, {'name': 'price', 'type': FLOAT(), 'nullable': False, 'default': None, 'primary_key': 0}, {'name': 'quantity', 'type': INTEGER(), 'nullable': True, 'default': None, 'primary_key': 0}, {'name': 'customer_id', 'type': INTEGER(), 'nullable': True, 'default': None, 'primary_key': 0}]\n",
      "==================================\u001b[1m Ai Message \u001b[0m==================================\n",
      "Name: dba_agent\n",
      "Tool Calls:\n",
      "  execute_sql_tool (call_SLKhJyEJV6M3af7CmcCvhIlr)\n",
      " Call ID: call_SLKhJyEJV6M3af7CmcCvhIlr\n",
      "  Args:\n",
      "    query: SELECT SUM(quantity) AS total_sold FROM sales WHERE model = 'Dell XPS 15';\n",
      "=================================\u001b[1m Tool Message \u001b[0m=================================\n",
      "Name: execute_sql_tool\n",
      "\n",
      "[(57,)]\n",
      "==================================\u001b[1m Ai Message \u001b[0m==================================\n",
      "Name: dba_agent\n",
      "\n",
      "A total of 57 Dell XPS 15 units were sold.\n"
     ]
    }
   ],
   "source": [
    "for m in messages['messages']:\n",
    "    m.pretty_print()"
   ]
  },
  {
   "cell_type": "markdown",
   "metadata": {},
   "source": [
    "## 7. Experiment"
   ]
  },
  {
   "cell_type": "markdown",
   "metadata": {},
   "source": [
    "Now that you understood how it works, experiment with new things.\n",
    "- Use the tools to understand what you have in the sales.db\n",
    "- Ask other questions to it\n",
    "- Use your own database"
   ]
  }
 ],
 "metadata": {
  "kernelspec": {
   "display_name": ".venv",
   "language": "python",
   "name": "python3"
  },
  "language_info": {
   "codemirror_mode": {
    "name": "ipython",
    "version": 3
   },
   "file_extension": ".py",
   "mimetype": "text/x-python",
   "name": "python",
   "nbconvert_exporter": "python",
   "pygments_lexer": "ipython3",
   "version": "3.11.10"
  }
 },
 "nbformat": 4,
 "nbformat_minor": 2
}
