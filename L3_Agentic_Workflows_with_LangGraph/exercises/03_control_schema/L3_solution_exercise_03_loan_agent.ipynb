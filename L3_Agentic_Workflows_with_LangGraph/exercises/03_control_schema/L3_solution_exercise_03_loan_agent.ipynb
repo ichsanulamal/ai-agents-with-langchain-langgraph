{
 "cells": [
  {
   "cell_type": "markdown",
   "metadata": {},
   "source": [
    "# Exercise - Loan Agent - SOLUTION"
   ]
  },
  {
   "cell_type": "markdown",
   "metadata": {},
   "source": [
    "In this exercise, you’ll build a Loan Agent Workflow using LangGraph, designed to negotiate loan amounts with customers.\n"
   ]
  },
  {
   "cell_type": "markdown",
   "metadata": {},
   "source": [
    "**Challenge**\n",
    "\n",
    "You’re developing an AI-powered Loan agent.\n",
    "\n",
    "The workflow should:\n",
    "\n",
    "- Interpret user queries intelligently.\n",
    "- Dynamically calls tools for loan calculation\n",
    "- Tracks negotiation status and terminates gracefully.\n",
    "- Routes the workflow using intelligent conditional edges."
   ]
  },
  {
   "cell_type": "markdown",
   "metadata": {},
   "source": [
    "Your agent will calculate the maximum amount a customer can request based on their profile. If it exceeds, it will mark the status as lost and will explain the reason to the customer. If it meets, make as won, and notify the customer a human representative will contact them."
   ]
  },
  {
   "cell_type": "markdown",
   "metadata": {},
   "source": [
    "By the end of this exercise, you'll be learned:\n",
    "- Config\n",
    "- Limiting Messages (RemoveMessages and summary)\n",
    "- Command (Updating State from a Tool)\n",
    "- Checkpoints (with thread_id)"
   ]
  },
  {
   "cell_type": "markdown",
   "metadata": {},
   "source": [
    "## 0. Import the necessary libs"
   ]
  },
  {
   "cell_type": "code",
   "execution_count": 1,
   "metadata": {},
   "outputs": [],
   "source": [
    "import re\n",
    "import uuid\n",
    "from typing_extensions import Literal, Annotated\n",
    "from langchain_core.messages import (\n",
    "    SystemMessage,\n",
    "    AIMessage,\n",
    "    HumanMessage, \n",
    "    ToolMessage,\n",
    "    RemoveMessage\n",
    ")\n",
    "from langchain_core.tools.base import InjectedToolCallId\n",
    "from langchain_core.tools import tool\n",
    "from langchain_openai import ChatOpenAI\n",
    "from langgraph.graph import START, END, StateGraph\n",
    "from langchain_core.runnables import RunnableConfig\n",
    "from langgraph.graph.message import MessagesState, add_messages\n",
    "from langgraph.checkpoint.memory import MemorySaver\n",
    "from langgraph.prebuilt import ToolNode\n",
    "from langgraph.types import Command\n",
    "from IPython.display import Image, display"
   ]
  },
  {
   "cell_type": "markdown",
   "metadata": {},
   "source": [
    "## 1. Instantiate Chat Model with your API Key"
   ]
  },
  {
   "cell_type": "markdown",
   "metadata": {},
   "source": [
    "To be able to connect with OpenAI, you need to instantiate an OpenAI client passing your OpenAI key.\n",
    "\n",
    "You can pass the `api_key` argument directly.\n",
    "```python\n",
    "llm = ChatOpenAI(\n",
    "    model=\"gpt-4o\",\n",
    "    temperature=0.0,\n",
    "    api_key=\"sk-\",\n",
    ")\n",
    "```\n",
    "Usually the OpenAI API key is a long string starting with `sk-`.\n",
    "\n",
    "\n",
    "Alternatively, can do this implicitly. However to use this approach, you should have a .env file with a variable called OPENAI_API_KEY.\n",
    "```python\n",
    "from dotenv import load_dotenv\n",
    "load_dotenv()\n",
    "llm = ChatOpenAI(\n",
    "    model=\"gpt-4o\",\n",
    "    temperature=0.0,\n",
    ")\n",
    "```\n",
    "\n",
    "Loading an environment variable prevents you from exposing it in your code."
   ]
  },
  {
   "cell_type": "code",
   "execution_count": 2,
   "metadata": {},
   "outputs": [],
   "source": [
    "# # FILL IN - Instantiate your chat model\n",
    "from dotenv import load_dotenv\n",
    "load_dotenv()\n",
    "llm = ChatOpenAI(\n",
    "    model=\"gpt-4o-mini\",\n",
    "    temperature=0.0,\n",
    ")"
   ]
  },
  {
   "cell_type": "code",
   "execution_count": 3,
   "metadata": {},
   "outputs": [
    {
     "data": {
      "text/plain": [
       "AIMessage(content='Pokémon, short for \"Pocket Monsters,\" is a media franchise created by Satoshi Tajiri and Ken Sugimori, and it is managed by The Pokémon Company, which is a collaboration between Nintendo, Game Freak, and Creatures Inc. The franchise began with the release of Pokémon Red and Green for the Game Boy in 1996 in Japan.\\n\\nThe core concept of Pokémon revolves around fictional creatures called \"Pokémon,\" which humans, known as Pokémon Trainers, catch and train to battle each other for sport. The franchise includes video games, trading card games, an animated television series, movies, toys, and various merchandise.\\n\\nKey elements of the Pokémon franchise include:\\n\\n1. **Pokémon Species**: There are currently over 800 different species of Pokémon, each with unique abilities, types, and characteristics.\\n\\n2. **Battles**: Trainers battle their Pokémon against each other, using strategy and type advantages to win.\\n\\n3. **Catching Pokémon**: Trainers use devices called Poké Balls to catch Pokémon in the wild.\\n\\n4. **Evolution**: Many Pokémon can evolve into more powerful forms, often changing their appearance and abilities.\\n\\n5. **Types**: Pokémon are categorized into different types (like Water, Fire, Grass, etc.), which influence their strengths and weaknesses in battles.\\n\\n6. **Pokédex**: A digital encyclopedia that records information about all known Pokémon species.\\n\\nThe franchise has grown to become one of the most successful and recognizable in the world, appealing to fans of all ages. It has also inspired a competitive scene, with tournaments and events held globally.', additional_kwargs={'refusal': None}, response_metadata={'token_usage': {'completion_tokens': 321, 'prompt_tokens': 10, 'total_tokens': 331, 'completion_tokens_details': {'accepted_prediction_tokens': 0, 'audio_tokens': 0, 'reasoning_tokens': 0, 'rejected_prediction_tokens': 0}, 'prompt_tokens_details': {'audio_tokens': 0, 'cached_tokens': 0}}, 'model_name': 'gpt-4o-mini-2024-07-18', 'system_fingerprint': 'fp_06737a9306', 'finish_reason': 'stop', 'logprobs': None}, id='run-c14f73a5-82d3-4ab2-808b-722a286362c6-0', usage_metadata={'input_tokens': 10, 'output_tokens': 321, 'total_tokens': 331, 'input_token_details': {'audio': 0, 'cache_read': 0}, 'output_token_details': {'audio': 0, 'reasoning': 0}})"
      ]
     },
     "execution_count": 3,
     "metadata": {},
     "output_type": "execute_result"
    }
   ],
   "source": [
    "llm.invoke(\"What's Pokemon?\")"
   ]
  },
  {
   "cell_type": "markdown",
   "metadata": {},
   "source": [
    "## 2. Create the State Schema"
   ]
  },
  {
   "cell_type": "markdown",
   "metadata": {},
   "source": [
    "Your state should have at least 3 elements:\n",
    "- customer query, the user input to start the conversation\n",
    "- messages, to keep track of the conversation\n",
    "- negotiation status, to determine when to terminate the execution\n",
    "\n",
    "Feel free to use TypedDict or MessagesState."
   ]
  },
  {
   "cell_type": "code",
   "execution_count": 4,
   "metadata": {},
   "outputs": [],
   "source": [
    "# FILL IN - State Schema called SessionState\n",
    "class SessionState(MessagesState):\n",
    "    customer_query: str\n",
    "    negotiation_status: Literal[\"won\", \"lost\", \"in_progress\"]"
   ]
  },
  {
   "cell_type": "markdown",
   "metadata": {},
   "source": [
    "## 3. Define your Entrypoint node"
   ]
  },
  {
   "cell_type": "markdown",
   "metadata": {},
   "source": [
    "This node should have the following responsibilities:\n",
    "- Access all the configuration (RunnableConfig)\n",
    "- Create the SystemMessage to instruct the agent\n",
    "- Limit number of messages for each execution using summary and RemoveMessage\n",
    "-  Create the HumanMessage based on the customer_query"
   ]
  },
  {
   "cell_type": "code",
   "execution_count": 5,
   "metadata": {},
   "outputs": [],
   "source": [
    "# FILL IN - Define your function to summarize previous messages\n",
    "def summarize_conversation(messages) -> AIMessage:\n",
    "    # All but system message\n",
    "    messages_to_summarize = messages[1:-1]\n",
    "    summary_message = HumanMessage(\n",
    "        content=\"Create a summary of the conversation above:\",\n",
    "    )\n",
    "    ai_message = llm.invoke(\n",
    "        add_messages(\n",
    "            messages_to_summarize,\n",
    "            summary_message\n",
    "        )\n",
    "    )\n",
    "    ai_message.id = str(uuid.uuid4())\n",
    "    return ai_message"
   ]
  },
  {
   "cell_type": "code",
   "execution_count": 6,
   "metadata": {},
   "outputs": [],
   "source": [
    "# FILL IN - The entrypoint node\n",
    "# An initial prompt is already created to help you\n",
    "def entry_point(state: SessionState, config: RunnableConfig):\n",
    "    messages = state[\"messages\"]\n",
    "    customer_name = config.get(\"configurable\", {}).get(\"customer_name\", \"customer\")\n",
    "    age = config.get(\"configurable\", {}).get(\"age\", 18)\n",
    "    income = config.get(\"configurable\", {}).get(\"income\", 1000)\n",
    "    credit_score = config.get(\"configurable\", {}).get(\"credit_score\", 500)\n",
    "    if not messages:\n",
    "        prompt = (\n",
    "            \"You are a Loan Agent analysing a customer loan request.\\n\"\n",
    "            \"- Understand how much the customer needs.\\n\"\n",
    "            \"- Calculate the maximum loan amount using one of the provided tools.\\n\"\n",
    "            \"- If the requested amount exceeds the limit, update the negotiation to lost.\\n\"\n",
    "            \"- If the requested amount meets the limit, update the negotiation to won.\\n\"       \n",
    "            \"- Update status as won or lost based on the negotiation.\\n\"\n",
    "            \"Terminate gracefully:\\n\"\n",
    "            \"  - If won: Notify that a human representative will contact them.\\n\"\n",
    "            \"  - If lost: Thank the customer for their time and explain why the loan was refused.\\n\\n\"\n",
    "            \"Details about the customer you're negotiating with:\\n\"\n",
    "            f\"- customer_name: {customer_name}\"\n",
    "            f\"- customer_age: {age}\"\n",
    "            f\"- customer_income: {income}\"\n",
    "            f\"- customer_credit_score: {credit_score}\"\n",
    "        )\n",
    "        sys_message = SystemMessage(\n",
    "            content=prompt,\n",
    "            name=\"system\",\n",
    "        )\n",
    "        messages.append(sys_message)\n",
    "    \n",
    "    print(f\"Number of messages {len(messages)}\")\n",
    "    # Filter Messages\n",
    "    if len(messages)>=7:\n",
    "        messages_summary = summarize_conversation(messages)\n",
    "        filtered_messages = [\n",
    "            RemoveMessage(id=m.id) \n",
    "                for m in state[\"messages\"]\n",
    "                if m.name != \"system\"\n",
    "        ]\n",
    "        messages = add_messages(\n",
    "            filtered_messages, \n",
    "            messages_summary\n",
    "        )\n",
    "\n",
    "    print(state[\"customer_query\"])\n",
    "    human_message = HumanMessage(\n",
    "        content=state[\"customer_query\"],\n",
    "        name=re.sub(r'\\s+', '_', customer_name.strip()).lower(),\n",
    "        id = str(uuid.uuid4())\n",
    "    )\n",
    "    messages.append(human_message)\n",
    "\n",
    "    return {\n",
    "        \"messages\": messages,\n",
    "        \"negotiation_status\": \"in_progress\",\n",
    "    }\n",
    "    "
   ]
  },
  {
   "cell_type": "markdown",
   "metadata": {},
   "source": [
    "## 4. Define your tools"
   ]
  },
  {
   "cell_type": "markdown",
   "metadata": {},
   "source": [
    "You need to create 2 tools:\n",
    "- calculate_max_loan, this is important to check if the amount requested meets the maximum allowed by their profile\n",
    "- update_negotiation_status, this will update the schema using Command"
   ]
  },
  {
   "cell_type": "code",
   "execution_count": 7,
   "metadata": {},
   "outputs": [],
   "source": [
    "# FILL IN - Max Loan Tool\n",
    "@tool\n",
    "def calculate_max_loan(\n",
    "        age: Annotated[int, \"greater than 17\"], \n",
    "        income: Annotated[int, \"greater than 0\"],  \n",
    "        credit_score: Annotated[int, \"between 0 and 1000\"],\n",
    "    ) -> int:\n",
    "    \"\"\"\n",
    "    Calculate the maximum loan amount based on customer's age, income, and credit score.\n",
    "    - Age: 25-60 gets the highest eligibility, outside this range reduces eligibility.\n",
    "    - Income: Multiplied by a factor to determine base amount.\n",
    "    - Credit Score: High score (700+) increases the amount by 20%.\n",
    "    \"\"\"\n",
    "    \n",
    "    base_amount = income * 10\n",
    "\n",
    "    # Credit Score Rules\n",
    "    if credit_score > 750:\n",
    "        base_amount *= 1.2  # 20% Bonus for excellent credit score\n",
    "    elif credit_score < 600:\n",
    "        base_amount *= 0.5  # Reduced eligibility for poor score\n",
    "\n",
    "    # Maximum cap\n",
    "    max_cap = 50000\n",
    "    return min(int(base_amount), max_cap)"
   ]
  },
  {
   "cell_type": "code",
   "execution_count": 8,
   "metadata": {},
   "outputs": [],
   "source": [
    "@tool\n",
    "def update_negotiation_status(\n",
    "        status: Literal[\"won\", \"lost\"],\n",
    "        tool_call_id: Annotated[str, InjectedToolCallId],\n",
    "    ):\n",
    "    \"\"\"\n",
    "    Updates the negotiation status of the workflow.\n",
    "    - 'won': If the customer agrees to the loan terms.\n",
    "    - 'lost': If the customer declines the loan terms.\n",
    "    - Returns the updated status.\n",
    "    \"\"\"\n",
    "    \n",
    "    return Command(\n",
    "        update={\n",
    "            # update the state keys\n",
    "            \"negotiation_status\": status,\n",
    "            # update the message history\n",
    "            \"messages\": [\n",
    "                ToolMessage(\n",
    "                    content=\"Successfully updated negotiation_status\", \n",
    "                    tool_call_id=tool_call_id\n",
    "                )\n",
    "            ],\n",
    "        }\n",
    "    )"
   ]
  },
  {
   "cell_type": "code",
   "execution_count": 9,
   "metadata": {},
   "outputs": [],
   "source": [
    "tools = [\n",
    "    calculate_max_loan, \n",
    "    update_negotiation_status\n",
    "]"
   ]
  },
  {
   "cell_type": "markdown",
   "metadata": {},
   "source": [
    "## 5. Create your Loan Agent node"
   ]
  },
  {
   "cell_type": "markdown",
   "metadata": {},
   "source": [
    "Bind tools to the llm built above and create your node with this llm."
   ]
  },
  {
   "cell_type": "code",
   "execution_count": 10,
   "metadata": {},
   "outputs": [],
   "source": [
    "# FILL IN - Bind the tools\n",
    "llm_with_tools = llm.bind_tools(tools)"
   ]
  },
  {
   "cell_type": "code",
   "execution_count": null,
   "metadata": {},
   "outputs": [],
   "source": [
    "# FILL IN - Define your loan agent\n",
    "def loan_agent(state: SessionState):\n",
    "    ai_message = llm_with_tools.invoke(state[\"messages\"])\n",
    "    ai_message.name = \"loan_agent\"\n",
    "    ai_message.id = str(uuid.uuid4())\n",
    "\n",
    "    return {\"messages\": ai_message}"
   ]
  },
  {
   "cell_type": "markdown",
   "metadata": {},
   "source": [
    "## 6. Create your Router function"
   ]
  },
  {
   "cell_type": "markdown",
   "metadata": {},
   "source": [
    "If the status is 'won' or 'lost', it should proceed to END. Otherwise, if there's a tool call and it's in progress, it should proceed to the tool node called 'tools'."
   ]
  },
  {
   "cell_type": "code",
   "execution_count": 12,
   "metadata": {},
   "outputs": [],
   "source": [
    "def negotiation_router(state: SessionState):\n",
    "    print(f\"inside router status: {state['negotiation_status']}\")\n",
    "    if state[\"negotiation_status\"] != \"in_progress\":\n",
    "        return END\n",
    "\n",
    "    last_message = state[\"messages\"][-1]\n",
    "    if last_message.tool_calls:\n",
    "        return \"tools\"\n",
    "\n",
    "    return END"
   ]
  },
  {
   "cell_type": "markdown",
   "metadata": {},
   "source": [
    "## 7. Build, Compile and Visualize your Workflow"
   ]
  },
  {
   "cell_type": "markdown",
   "metadata": {},
   "source": [
    "- Instantiate the StateGraph with the SessionState\n",
    "- Add all the nodes you created\n",
    "- Add your edges:\n",
    "    - start -> entry point\n",
    "    - entry point -> loan agent\n",
    "    - loan agent -> [tools, end]\n",
    "    - tools -> end\n",
    "\n",
    "Make sure you use the router function in the conditional edge.\n",
    "\n",
    "Also, use MemorySaver to compile your graph"
   ]
  },
  {
   "cell_type": "code",
   "execution_count": 13,
   "metadata": {},
   "outputs": [],
   "source": [
    "workflow = StateGraph(SessionState)\n",
    "\n",
    "workflow.add_node(\"entry_point\", entry_point)\n",
    "workflow.add_node(\"loan_agent\", loan_agent)\n",
    "workflow.add_node(\"tools\", ToolNode(tools))\n",
    "\n",
    "workflow.add_edge(START, \"entry_point\")\n",
    "workflow.add_edge(\"entry_point\", \"loan_agent\")\n",
    "\n",
    "# Conditional Routing\n",
    "workflow.add_conditional_edges(\n",
    "    source=\"loan_agent\", \n",
    "    path=negotiation_router, \n",
    "    path_map=[\"tools\", END]\n",
    ")\n",
    "\n",
    "workflow.add_edge(\"tools\", \"loan_agent\")\n",
    "\n",
    "checkpointer = MemorySaver()"
   ]
  },
  {
   "cell_type": "code",
   "execution_count": 14,
   "metadata": {},
   "outputs": [
    {
     "data": {
      "image/png": "[encoded data removed]",
      "text/plain": [
       "<IPython.core.display.Image object>"
      ]
     },
     "metadata": {},
     "output_type": "display_data"
    }
   ],
   "source": [
    "loan_graph = workflow.compile(checkpointer=checkpointer)\n",
    "\n",
    "display(\n",
    "    Image(\n",
    "        loan_graph.get_graph().draw_mermaid_png()\n",
    "    )\n",
    ")"
   ]
  },
  {
   "cell_type": "markdown",
   "metadata": {},
   "source": [
    "## 8. Invoke your Graph"
   ]
  },
  {
   "cell_type": "markdown",
   "metadata": {},
   "source": [
    "Change the input and config and run execute it"
   ]
  },
  {
   "cell_type": "code",
   "execution_count": 15,
   "metadata": {},
   "outputs": [],
   "source": [
    "customer_query = \"I want to have $1000000\""
   ]
  },
  {
   "cell_type": "code",
   "execution_count": 16,
   "metadata": {},
   "outputs": [],
   "source": [
    "inputs = {\n",
    "    \"customer_query\": customer_query,\n",
    "}\n",
    "\n",
    "config = {\n",
    "    \"thread_id\": 1,\n",
    "    \"customer_name\": \"Henrique Santana\",\n",
    "    \"age\": 34,\n",
    "    \"income\": 1000,\n",
    "    \"credit_score\": 750,\n",
    "}"
   ]
  },
  {
   "cell_type": "code",
   "execution_count": 17,
   "metadata": {},
   "outputs": [
    {
     "name": "stdout",
     "output_type": "stream",
     "text": [
      "Number of messages 1\n",
      "I want to have $1000000\n",
      "inside router status: in_progress\n",
      "inside router status: in_progress\n",
      "inside router status: lost\n"
     ]
    }
   ],
   "source": [
    "output = loan_graph.invoke(\n",
    "    input=inputs,\n",
    "    config=config,\n",
    ")"
   ]
  },
  {
   "cell_type": "markdown",
   "metadata": {},
   "source": [
    "## 9. Inspect it"
   ]
  },
  {
   "cell_type": "markdown",
   "metadata": {},
   "source": [
    "After executing, inspect the outputs"
   ]
  },
  {
   "cell_type": "code",
   "execution_count": 18,
   "metadata": {},
   "outputs": [
    {
     "name": "stdout",
     "output_type": "stream",
     "text": [
      "================================\u001b[1m System Message \u001b[0m================================\n",
      "Name: system\n",
      "\n",
      "You are a Loan Agent analysing a customer loan request.\n",
      "- Understand how much the customer needs.\n",
      "- Calculate the maximum loan amount using one of the provided tools.\n",
      "- If the requested amount exceeds the limit, update the negotiation to lost.\n",
      "- If the requested amount meets the limit, update the negotiation to won.\n",
      "- Update status as won or lost based on the negotiation.\n",
      "Terminate gracefully:\n",
      "  - If won: Notify that a human representative will contact them.\n",
      "  - If lost: Thank the customer for their time and explain why the loan was refused.\n",
      "\n",
      "Details about the customer you're negotiating with:\n",
      "- customer_name: Henrique Santana- customer_age: 34- customer_income: 1000- customer_credit_score: 750\n",
      "================================\u001b[1m Human Message \u001b[0m=================================\n",
      "Name: henrique_santana\n",
      "\n",
      "I want to have $1000000\n",
      "==================================\u001b[1m Ai Message \u001b[0m==================================\n",
      "Name: loan_agent\n",
      "Tool Calls:\n",
      "  calculate_max_loan (call_LSGVfjYsjcrAn7pcm5Gz1Uhx)\n",
      " Call ID: call_LSGVfjYsjcrAn7pcm5Gz1Uhx\n",
      "  Args:\n",
      "    age: 34\n",
      "    income: 1000\n",
      "    credit_score: 750\n",
      "=================================\u001b[1m Tool Message \u001b[0m=================================\n",
      "Name: calculate_max_loan\n",
      "\n",
      "10000\n",
      "==================================\u001b[1m Ai Message \u001b[0m==================================\n",
      "Name: loan_agent\n",
      "Tool Calls:\n",
      "  update_negotiation_status (call_szr3vn618DGLRxTD0EuApiQK)\n",
      " Call ID: call_szr3vn618DGLRxTD0EuApiQK\n",
      "  Args:\n",
      "    status: lost\n",
      "=================================\u001b[1m Tool Message \u001b[0m=================================\n",
      "Name: update_negotiation_status\n",
      "\n",
      "Successfully updated negotiation_status\n",
      "==================================\u001b[1m Ai Message \u001b[0m==================================\n",
      "Name: loan_agent\n",
      "\n",
      "Thank you for your time, Henrique. Unfortunately, your loan request for $1,000,000 exceeds the maximum amount we can offer, which is $10,000. If you have any other questions or need assistance, feel free to reach out.\n"
     ]
    }
   ],
   "source": [
    "for message in output[\"messages\"]:\n",
    "    message.pretty_print()"
   ]
  },
  {
   "cell_type": "code",
   "execution_count": 19,
   "metadata": {},
   "outputs": [
    {
     "data": {
      "text/plain": [
       "'lost'"
      ]
     },
     "execution_count": 19,
     "metadata": {},
     "output_type": "execute_result"
    }
   ],
   "source": [
    "output[\"negotiation_status\"]"
   ]
  },
  {
   "cell_type": "code",
   "execution_count": 20,
   "metadata": {},
   "outputs": [],
   "source": [
    "state_history = list(\n",
    "    loan_graph.get_state_history(\n",
    "        config={\n",
    "            \"configurable\":{\"thread_id\":1}\n",
    "        }\n",
    "    )\n",
    ")"
   ]
  },
  {
   "cell_type": "code",
   "execution_count": 21,
   "metadata": {},
   "outputs": [
    {
     "data": {
      "text/plain": [
       "[StateSnapshot(values={'messages': [SystemMessage(content=\"You are a Loan Agent analysing a customer loan request.\\n- Understand how much the customer needs.\\n- Calculate the maximum loan amount using one of the provided tools.\\n- If the requested amount exceeds the limit, update the negotiation to lost.\\n- If the requested amount meets the limit, update the negotiation to won.\\n- Update status as won or lost based on the negotiation.\\nTerminate gracefully:\\n  - If won: Notify that a human representative will contact them.\\n  - If lost: Thank the customer for their time and explain why the loan was refused.\\n\\nDetails about the customer you're negotiating with:\\n- customer_name: Henrique Santana- customer_age: 34- customer_income: 1000- customer_credit_score: 750\", additional_kwargs={}, response_metadata={}, name='system', id='9f0e9f71-89a0-4ab4-bbfc-277ef43c3754'), HumanMessage(content='I want to have $1000000', additional_kwargs={}, response_metadata={}, name='henrique_santana', id='58828bef-4277-414a-bd17-ca870e1bc223'), AIMessage(content='', additional_kwargs={'tool_calls': [{'id': 'call_LSGVfjYsjcrAn7pcm5Gz1Uhx', 'function': {'arguments': '{\"age\":34,\"income\":1000,\"credit_score\":750}', 'name': 'calculate_max_loan'}, 'type': 'function'}], 'refusal': None}, response_metadata={'token_usage': {'completion_tokens': 27, 'prompt_tokens': 354, 'total_tokens': 381, 'completion_tokens_details': {'accepted_prediction_tokens': 0, 'audio_tokens': 0, 'reasoning_tokens': 0, 'rejected_prediction_tokens': 0}, 'prompt_tokens_details': {'audio_tokens': 0, 'cached_tokens': 0}}, 'model_name': 'gpt-4o-mini-2024-07-18', 'system_fingerprint': 'fp_06737a9306', 'finish_reason': 'tool_calls', 'logprobs': None}, name='loan_agent', id='e5489f15-d7d4-4056-9722-b1f4b83a46dd', tool_calls=[{'name': 'calculate_max_loan', 'args': {'age': 34, 'income': 1000, 'credit_score': 750}, 'id': 'call_LSGVfjYsjcrAn7pcm5Gz1Uhx', 'type': 'tool_call'}], usage_metadata={'input_tokens': 354, 'output_tokens': 27, 'total_tokens': 381, 'input_token_details': {'audio': 0, 'cache_read': 0}, 'output_token_details': {'audio': 0, 'reasoning': 0}}), ToolMessage(content='10000', name='calculate_max_loan', id='bb894f40-43a2-4723-8802-31152d3bd394', tool_call_id='call_LSGVfjYsjcrAn7pcm5Gz1Uhx'), AIMessage(content='', additional_kwargs={'tool_calls': [{'id': 'call_szr3vn618DGLRxTD0EuApiQK', 'function': {'arguments': '{\"status\":\"lost\"}', 'name': 'update_negotiation_status'}, 'type': 'function'}], 'refusal': None}, response_metadata={'token_usage': {'completion_tokens': 18, 'prompt_tokens': 395, 'total_tokens': 413, 'completion_tokens_details': {'accepted_prediction_tokens': 0, 'audio_tokens': 0, 'reasoning_tokens': 0, 'rejected_prediction_tokens': 0}, 'prompt_tokens_details': {'audio_tokens': 0, 'cached_tokens': 0}}, 'model_name': 'gpt-4o-mini-2024-07-18', 'system_fingerprint': 'fp_06737a9306', 'finish_reason': 'tool_calls', 'logprobs': None}, name='loan_agent', id='da5ff1fb-9a6a-46d7-89e2-3ab0f0790738', tool_calls=[{'name': 'update_negotiation_status', 'args': {'status': 'lost'}, 'id': 'call_szr3vn618DGLRxTD0EuApiQK', 'type': 'tool_call'}], usage_metadata={'input_tokens': 395, 'output_tokens': 18, 'total_tokens': 413, 'input_token_details': {'audio': 0, 'cache_read': 0}, 'output_token_details': {'audio': 0, 'reasoning': 0}}), ToolMessage(content='Successfully updated negotiation_status', name='update_negotiation_status', id='8518832a-f39a-4fb9-be86-0a0a1473e1aa', tool_call_id='call_szr3vn618DGLRxTD0EuApiQK'), AIMessage(content='Thank you for your time, Henrique. Unfortunately, your loan request for $1,000,000 exceeds the maximum amount we can offer, which is $10,000. If you have any other questions or need assistance, feel free to reach out.', additional_kwargs={'refusal': None}, response_metadata={'token_usage': {'completion_tokens': 53, 'prompt_tokens': 430, 'total_tokens': 483, 'completion_tokens_details': {'accepted_prediction_tokens': 0, 'audio_tokens': 0, 'reasoning_tokens': 0, 'rejected_prediction_tokens': 0}, 'prompt_tokens_details': {'audio_tokens': 0, 'cached_tokens': 0}}, 'model_name': 'gpt-4o-mini-2024-07-18', 'system_fingerprint': 'fp_06737a9306', 'finish_reason': 'stop', 'logprobs': None}, name='loan_agent', id='aa6bcde5-2bc4-4237-996c-3d3add3e93cf', usage_metadata={'input_tokens': 430, 'output_tokens': 53, 'total_tokens': 483, 'input_token_details': {'audio': 0, 'cache_read': 0}, 'output_token_details': {'audio': 0, 'reasoning': 0}})], 'customer_query': 'I want to have $1000000', 'negotiation_status': 'lost'}, next=(), config={'configurable': {'thread_id': 1, 'checkpoint_ns': '', 'checkpoint_id': '1eff7b40-beff-688c-8006-fd01ee3f3a1f'}}, metadata={'source': 'loop', 'writes': {'loan_agent': {'messages': AIMessage(content='Thank you for your time, Henrique. Unfortunately, your loan request for $1,000,000 exceeds the maximum amount we can offer, which is $10,000. If you have any other questions or need assistance, feel free to reach out.', additional_kwargs={'refusal': None}, response_metadata={'token_usage': {'completion_tokens': 53, 'prompt_tokens': 430, 'total_tokens': 483, 'completion_tokens_details': {'accepted_prediction_tokens': 0, 'audio_tokens': 0, 'reasoning_tokens': 0, 'rejected_prediction_tokens': 0}, 'prompt_tokens_details': {'audio_tokens': 0, 'cached_tokens': 0}}, 'model_name': 'gpt-4o-mini-2024-07-18', 'system_fingerprint': 'fp_06737a9306', 'finish_reason': 'stop', 'logprobs': None}, name='loan_agent', id='aa6bcde5-2bc4-4237-996c-3d3add3e93cf', usage_metadata={'input_tokens': 430, 'output_tokens': 53, 'total_tokens': 483, 'input_token_details': {'audio': 0, 'cache_read': 0}, 'output_token_details': {'audio': 0, 'reasoning': 0}})}}, 'thread_id': 1, 'customer_name': 'Henrique Santana', 'age': 34, 'income': 1000, 'credit_score': 750, 'step': 6, 'parents': {}}, created_at='2025-03-02T22:16:53.822400+00:00', parent_config={'configurable': {'thread_id': 1, 'checkpoint_ns': '', 'checkpoint_id': '1eff7b40-aec5-612e-8005-06776886e23a'}}, tasks=()),\n",
       " StateSnapshot(values={'messages': [SystemMessage(content=\"You are a Loan Agent analysing a customer loan request.\\n- Understand how much the customer needs.\\n- Calculate the maximum loan amount using one of the provided tools.\\n- If the requested amount exceeds the limit, update the negotiation to lost.\\n- If the requested amount meets the limit, update the negotiation to won.\\n- Update status as won or lost based on the negotiation.\\nTerminate gracefully:\\n  - If won: Notify that a human representative will contact them.\\n  - If lost: Thank the customer for their time and explain why the loan was refused.\\n\\nDetails about the customer you're negotiating with:\\n- customer_name: Henrique Santana- customer_age: 34- customer_income: 1000- customer_credit_score: 750\", additional_kwargs={}, response_metadata={}, name='system', id='9f0e9f71-89a0-4ab4-bbfc-277ef43c3754'), HumanMessage(content='I want to have $1000000', additional_kwargs={}, response_metadata={}, name='henrique_santana', id='58828bef-4277-414a-bd17-ca870e1bc223'), AIMessage(content='', additional_kwargs={'tool_calls': [{'id': 'call_LSGVfjYsjcrAn7pcm5Gz1Uhx', 'function': {'arguments': '{\"age\":34,\"income\":1000,\"credit_score\":750}', 'name': 'calculate_max_loan'}, 'type': 'function'}], 'refusal': None}, response_metadata={'token_usage': {'completion_tokens': 27, 'prompt_tokens': 354, 'total_tokens': 381, 'completion_tokens_details': {'accepted_prediction_tokens': 0, 'audio_tokens': 0, 'reasoning_tokens': 0, 'rejected_prediction_tokens': 0}, 'prompt_tokens_details': {'audio_tokens': 0, 'cached_tokens': 0}}, 'model_name': 'gpt-4o-mini-2024-07-18', 'system_fingerprint': 'fp_06737a9306', 'finish_reason': 'tool_calls', 'logprobs': None}, name='loan_agent', id='e5489f15-d7d4-4056-9722-b1f4b83a46dd', tool_calls=[{'name': 'calculate_max_loan', 'args': {'age': 34, 'income': 1000, 'credit_score': 750}, 'id': 'call_LSGVfjYsjcrAn7pcm5Gz1Uhx', 'type': 'tool_call'}], usage_metadata={'input_tokens': 354, 'output_tokens': 27, 'total_tokens': 381, 'input_token_details': {'audio': 0, 'cache_read': 0}, 'output_token_details': {'audio': 0, 'reasoning': 0}}), ToolMessage(content='10000', name='calculate_max_loan', id='bb894f40-43a2-4723-8802-31152d3bd394', tool_call_id='call_LSGVfjYsjcrAn7pcm5Gz1Uhx'), AIMessage(content='', additional_kwargs={'tool_calls': [{'id': 'call_szr3vn618DGLRxTD0EuApiQK', 'function': {'arguments': '{\"status\":\"lost\"}', 'name': 'update_negotiation_status'}, 'type': 'function'}], 'refusal': None}, response_metadata={'token_usage': {'completion_tokens': 18, 'prompt_tokens': 395, 'total_tokens': 413, 'completion_tokens_details': {'accepted_prediction_tokens': 0, 'audio_tokens': 0, 'reasoning_tokens': 0, 'rejected_prediction_tokens': 0}, 'prompt_tokens_details': {'audio_tokens': 0, 'cached_tokens': 0}}, 'model_name': 'gpt-4o-mini-2024-07-18', 'system_fingerprint': 'fp_06737a9306', 'finish_reason': 'tool_calls', 'logprobs': None}, name='loan_agent', id='da5ff1fb-9a6a-46d7-89e2-3ab0f0790738', tool_calls=[{'name': 'update_negotiation_status', 'args': {'status': 'lost'}, 'id': 'call_szr3vn618DGLRxTD0EuApiQK', 'type': 'tool_call'}], usage_metadata={'input_tokens': 395, 'output_tokens': 18, 'total_tokens': 413, 'input_token_details': {'audio': 0, 'cache_read': 0}, 'output_token_details': {'audio': 0, 'reasoning': 0}}), ToolMessage(content='Successfully updated negotiation_status', name='update_negotiation_status', id='8518832a-f39a-4fb9-be86-0a0a1473e1aa', tool_call_id='call_szr3vn618DGLRxTD0EuApiQK')], 'customer_query': 'I want to have $1000000', 'negotiation_status': 'lost'}, next=('loan_agent',), config={'configurable': {'thread_id': 1, 'checkpoint_ns': '', 'checkpoint_id': '1eff7b40-aec5-612e-8005-06776886e23a'}}, metadata={'source': 'loop', 'writes': {'tools': {'negotiation_status': 'lost', 'messages': [ToolMessage(content='Successfully updated negotiation_status', name='update_negotiation_status', id='8518832a-f39a-4fb9-be86-0a0a1473e1aa', tool_call_id='call_szr3vn618DGLRxTD0EuApiQK')]}}, 'thread_id': 1, 'customer_name': 'Henrique Santana', 'age': 34, 'income': 1000, 'credit_score': 750, 'step': 5, 'parents': {}}, created_at='2025-03-02T22:16:52.120776+00:00', parent_config={'configurable': {'thread_id': 1, 'checkpoint_ns': '', 'checkpoint_id': '1eff7b40-aebe-602c-8004-b771a0ce3eba'}}, tasks=(PregelTask(id='7bb37c1b-df93-1bbf-7f8a-6d5bec4d1ba6', name='loan_agent', path=('__pregel_pull', 'loan_agent'), error=None, interrupts=(), state=None, result={'messages': AIMessage(content='Thank you for your time, Henrique. Unfortunately, your loan request for $1,000,000 exceeds the maximum amount we can offer, which is $10,000. If you have any other questions or need assistance, feel free to reach out.', additional_kwargs={'refusal': None}, response_metadata={'token_usage': {'completion_tokens': 53, 'prompt_tokens': 430, 'total_tokens': 483, 'completion_tokens_details': {'accepted_prediction_tokens': 0, 'audio_tokens': 0, 'reasoning_tokens': 0, 'rejected_prediction_tokens': 0}, 'prompt_tokens_details': {'audio_tokens': 0, 'cached_tokens': 0}}, 'model_name': 'gpt-4o-mini-2024-07-18', 'system_fingerprint': 'fp_06737a9306', 'finish_reason': 'stop', 'logprobs': None}, name='loan_agent', id='aa6bcde5-2bc4-4237-996c-3d3add3e93cf', usage_metadata={'input_tokens': 430, 'output_tokens': 53, 'total_tokens': 483, 'input_token_details': {'audio': 0, 'cache_read': 0}, 'output_token_details': {'audio': 0, 'reasoning': 0}})}),)),\n",
       " StateSnapshot(values={'messages': [SystemMessage(content=\"You are a Loan Agent analysing a customer loan request.\\n- Understand how much the customer needs.\\n- Calculate the maximum loan amount using one of the provided tools.\\n- If the requested amount exceeds the limit, update the negotiation to lost.\\n- If the requested amount meets the limit, update the negotiation to won.\\n- Update status as won or lost based on the negotiation.\\nTerminate gracefully:\\n  - If won: Notify that a human representative will contact them.\\n  - If lost: Thank the customer for their time and explain why the loan was refused.\\n\\nDetails about the customer you're negotiating with:\\n- customer_name: Henrique Santana- customer_age: 34- customer_income: 1000- customer_credit_score: 750\", additional_kwargs={}, response_metadata={}, name='system', id='9f0e9f71-89a0-4ab4-bbfc-277ef43c3754'), HumanMessage(content='I want to have $1000000', additional_kwargs={}, response_metadata={}, name='henrique_santana', id='58828bef-4277-414a-bd17-ca870e1bc223'), AIMessage(content='', additional_kwargs={'tool_calls': [{'id': 'call_LSGVfjYsjcrAn7pcm5Gz1Uhx', 'function': {'arguments': '{\"age\":34,\"income\":1000,\"credit_score\":750}', 'name': 'calculate_max_loan'}, 'type': 'function'}], 'refusal': None}, response_metadata={'token_usage': {'completion_tokens': 27, 'prompt_tokens': 354, 'total_tokens': 381, 'completion_tokens_details': {'accepted_prediction_tokens': 0, 'audio_tokens': 0, 'reasoning_tokens': 0, 'rejected_prediction_tokens': 0}, 'prompt_tokens_details': {'audio_tokens': 0, 'cached_tokens': 0}}, 'model_name': 'gpt-4o-mini-2024-07-18', 'system_fingerprint': 'fp_06737a9306', 'finish_reason': 'tool_calls', 'logprobs': None}, name='loan_agent', id='e5489f15-d7d4-4056-9722-b1f4b83a46dd', tool_calls=[{'name': 'calculate_max_loan', 'args': {'age': 34, 'income': 1000, 'credit_score': 750}, 'id': 'call_LSGVfjYsjcrAn7pcm5Gz1Uhx', 'type': 'tool_call'}], usage_metadata={'input_tokens': 354, 'output_tokens': 27, 'total_tokens': 381, 'input_token_details': {'audio': 0, 'cache_read': 0}, 'output_token_details': {'audio': 0, 'reasoning': 0}}), ToolMessage(content='10000', name='calculate_max_loan', id='bb894f40-43a2-4723-8802-31152d3bd394', tool_call_id='call_LSGVfjYsjcrAn7pcm5Gz1Uhx'), AIMessage(content='', additional_kwargs={'tool_calls': [{'id': 'call_szr3vn618DGLRxTD0EuApiQK', 'function': {'arguments': '{\"status\":\"lost\"}', 'name': 'update_negotiation_status'}, 'type': 'function'}], 'refusal': None}, response_metadata={'token_usage': {'completion_tokens': 18, 'prompt_tokens': 395, 'total_tokens': 413, 'completion_tokens_details': {'accepted_prediction_tokens': 0, 'audio_tokens': 0, 'reasoning_tokens': 0, 'rejected_prediction_tokens': 0}, 'prompt_tokens_details': {'audio_tokens': 0, 'cached_tokens': 0}}, 'model_name': 'gpt-4o-mini-2024-07-18', 'system_fingerprint': 'fp_06737a9306', 'finish_reason': 'tool_calls', 'logprobs': None}, name='loan_agent', id='da5ff1fb-9a6a-46d7-89e2-3ab0f0790738', tool_calls=[{'name': 'update_negotiation_status', 'args': {'status': 'lost'}, 'id': 'call_szr3vn618DGLRxTD0EuApiQK', 'type': 'tool_call'}], usage_metadata={'input_tokens': 395, 'output_tokens': 18, 'total_tokens': 413, 'input_token_details': {'audio': 0, 'cache_read': 0}, 'output_token_details': {'audio': 0, 'reasoning': 0}})], 'customer_query': 'I want to have $1000000', 'negotiation_status': 'in_progress'}, next=('tools',), config={'configurable': {'thread_id': 1, 'checkpoint_ns': '', 'checkpoint_id': '1eff7b40-aebe-602c-8004-b771a0ce3eba'}}, metadata={'source': 'loop', 'writes': {'loan_agent': {'messages': AIMessage(content='', additional_kwargs={'tool_calls': [{'id': 'call_szr3vn618DGLRxTD0EuApiQK', 'function': {'arguments': '{\"status\":\"lost\"}', 'name': 'update_negotiation_status'}, 'type': 'function'}], 'refusal': None}, response_metadata={'token_usage': {'completion_tokens': 18, 'prompt_tokens': 395, 'total_tokens': 413, 'completion_tokens_details': {'accepted_prediction_tokens': 0, 'audio_tokens': 0, 'reasoning_tokens': 0, 'rejected_prediction_tokens': 0}, 'prompt_tokens_details': {'audio_tokens': 0, 'cached_tokens': 0}}, 'model_name': 'gpt-4o-mini-2024-07-18', 'system_fingerprint': 'fp_06737a9306', 'finish_reason': 'tool_calls', 'logprobs': None}, name='loan_agent', id='da5ff1fb-9a6a-46d7-89e2-3ab0f0790738', tool_calls=[{'name': 'update_negotiation_status', 'args': {'status': 'lost'}, 'id': 'call_szr3vn618DGLRxTD0EuApiQK', 'type': 'tool_call'}], usage_metadata={'input_tokens': 395, 'output_tokens': 18, 'total_tokens': 413, 'input_token_details': {'audio': 0, 'cache_read': 0}, 'output_token_details': {'audio': 0, 'reasoning': 0}})}}, 'thread_id': 1, 'customer_name': 'Henrique Santana', 'age': 34, 'income': 1000, 'credit_score': 750, 'step': 4, 'parents': {}}, created_at='2025-03-02T22:16:52.117866+00:00', parent_config={'configurable': {'thread_id': 1, 'checkpoint_ns': '', 'checkpoint_id': '1eff7b40-a91f-663e-8003-6b198a8f1caa'}}, tasks=(PregelTask(id='e0acfeca-91d9-5e7f-604c-fb0ce2860b69', name='tools', path=('__pregel_pull', 'tools'), error=None, interrupts=(), state=None, result={'negotiation_status': 'lost', 'messages': [ToolMessage(content='Successfully updated negotiation_status', name='update_negotiation_status', id='8518832a-f39a-4fb9-be86-0a0a1473e1aa', tool_call_id='call_szr3vn618DGLRxTD0EuApiQK')]}),)),\n",
       " StateSnapshot(values={'messages': [SystemMessage(content=\"You are a Loan Agent analysing a customer loan request.\\n- Understand how much the customer needs.\\n- Calculate the maximum loan amount using one of the provided tools.\\n- If the requested amount exceeds the limit, update the negotiation to lost.\\n- If the requested amount meets the limit, update the negotiation to won.\\n- Update status as won or lost based on the negotiation.\\nTerminate gracefully:\\n  - If won: Notify that a human representative will contact them.\\n  - If lost: Thank the customer for their time and explain why the loan was refused.\\n\\nDetails about the customer you're negotiating with:\\n- customer_name: Henrique Santana- customer_age: 34- customer_income: 1000- customer_credit_score: 750\", additional_kwargs={}, response_metadata={}, name='system', id='9f0e9f71-89a0-4ab4-bbfc-277ef43c3754'), HumanMessage(content='I want to have $1000000', additional_kwargs={}, response_metadata={}, name='henrique_santana', id='58828bef-4277-414a-bd17-ca870e1bc223'), AIMessage(content='', additional_kwargs={'tool_calls': [{'id': 'call_LSGVfjYsjcrAn7pcm5Gz1Uhx', 'function': {'arguments': '{\"age\":34,\"income\":1000,\"credit_score\":750}', 'name': 'calculate_max_loan'}, 'type': 'function'}], 'refusal': None}, response_metadata={'token_usage': {'completion_tokens': 27, 'prompt_tokens': 354, 'total_tokens': 381, 'completion_tokens_details': {'accepted_prediction_tokens': 0, 'audio_tokens': 0, 'reasoning_tokens': 0, 'rejected_prediction_tokens': 0}, 'prompt_tokens_details': {'audio_tokens': 0, 'cached_tokens': 0}}, 'model_name': 'gpt-4o-mini-2024-07-18', 'system_fingerprint': 'fp_06737a9306', 'finish_reason': 'tool_calls', 'logprobs': None}, name='loan_agent', id='e5489f15-d7d4-4056-9722-b1f4b83a46dd', tool_calls=[{'name': 'calculate_max_loan', 'args': {'age': 34, 'income': 1000, 'credit_score': 750}, 'id': 'call_LSGVfjYsjcrAn7pcm5Gz1Uhx', 'type': 'tool_call'}], usage_metadata={'input_tokens': 354, 'output_tokens': 27, 'total_tokens': 381, 'input_token_details': {'audio': 0, 'cache_read': 0}, 'output_token_details': {'audio': 0, 'reasoning': 0}}), ToolMessage(content='10000', name='calculate_max_loan', id='bb894f40-43a2-4723-8802-31152d3bd394', tool_call_id='call_LSGVfjYsjcrAn7pcm5Gz1Uhx')], 'customer_query': 'I want to have $1000000', 'negotiation_status': 'in_progress'}, next=('loan_agent',), config={'configurable': {'thread_id': 1, 'checkpoint_ns': '', 'checkpoint_id': '1eff7b40-a91f-663e-8003-6b198a8f1caa'}}, metadata={'source': 'loop', 'writes': {'tools': {'messages': [ToolMessage(content='10000', name='calculate_max_loan', id='bb894f40-43a2-4723-8802-31152d3bd394', tool_call_id='call_LSGVfjYsjcrAn7pcm5Gz1Uhx')]}}, 'thread_id': 1, 'customer_name': 'Henrique Santana', 'age': 34, 'income': 1000, 'credit_score': 750, 'step': 3, 'parents': {}}, created_at='2025-03-02T22:16:51.528629+00:00', parent_config={'configurable': {'thread_id': 1, 'checkpoint_ns': '', 'checkpoint_id': '1eff7b40-a91a-6788-8002-406d30d15512'}}, tasks=(PregelTask(id='fba2d877-320b-9258-cb54-9fa06843208c', name='loan_agent', path=('__pregel_pull', 'loan_agent'), error=None, interrupts=(), state=None, result={'messages': AIMessage(content='', additional_kwargs={'tool_calls': [{'id': 'call_szr3vn618DGLRxTD0EuApiQK', 'function': {'arguments': '{\"status\":\"lost\"}', 'name': 'update_negotiation_status'}, 'type': 'function'}], 'refusal': None}, response_metadata={'token_usage': {'completion_tokens': 18, 'prompt_tokens': 395, 'total_tokens': 413, 'completion_tokens_details': {'accepted_prediction_tokens': 0, 'audio_tokens': 0, 'reasoning_tokens': 0, 'rejected_prediction_tokens': 0}, 'prompt_tokens_details': {'audio_tokens': 0, 'cached_tokens': 0}}, 'model_name': 'gpt-4o-mini-2024-07-18', 'system_fingerprint': 'fp_06737a9306', 'finish_reason': 'tool_calls', 'logprobs': None}, name='loan_agent', id='da5ff1fb-9a6a-46d7-89e2-3ab0f0790738', tool_calls=[{'name': 'update_negotiation_status', 'args': {'status': 'lost'}, 'id': 'call_szr3vn618DGLRxTD0EuApiQK', 'type': 'tool_call'}], usage_metadata={'input_tokens': 395, 'output_tokens': 18, 'total_tokens': 413, 'input_token_details': {'audio': 0, 'cache_read': 0}, 'output_token_details': {'audio': 0, 'reasoning': 0}})}),)),\n",
       " StateSnapshot(values={'messages': [SystemMessage(content=\"You are a Loan Agent analysing a customer loan request.\\n- Understand how much the customer needs.\\n- Calculate the maximum loan amount using one of the provided tools.\\n- If the requested amount exceeds the limit, update the negotiation to lost.\\n- If the requested amount meets the limit, update the negotiation to won.\\n- Update status as won or lost based on the negotiation.\\nTerminate gracefully:\\n  - If won: Notify that a human representative will contact them.\\n  - If lost: Thank the customer for their time and explain why the loan was refused.\\n\\nDetails about the customer you're negotiating with:\\n- customer_name: Henrique Santana- customer_age: 34- customer_income: 1000- customer_credit_score: 750\", additional_kwargs={}, response_metadata={}, name='system', id='9f0e9f71-89a0-4ab4-bbfc-277ef43c3754'), HumanMessage(content='I want to have $1000000', additional_kwargs={}, response_metadata={}, name='henrique_santana', id='58828bef-4277-414a-bd17-ca870e1bc223'), AIMessage(content='', additional_kwargs={'tool_calls': [{'id': 'call_LSGVfjYsjcrAn7pcm5Gz1Uhx', 'function': {'arguments': '{\"age\":34,\"income\":1000,\"credit_score\":750}', 'name': 'calculate_max_loan'}, 'type': 'function'}], 'refusal': None}, response_metadata={'token_usage': {'completion_tokens': 27, 'prompt_tokens': 354, 'total_tokens': 381, 'completion_tokens_details': {'accepted_prediction_tokens': 0, 'audio_tokens': 0, 'reasoning_tokens': 0, 'rejected_prediction_tokens': 0}, 'prompt_tokens_details': {'audio_tokens': 0, 'cached_tokens': 0}}, 'model_name': 'gpt-4o-mini-2024-07-18', 'system_fingerprint': 'fp_06737a9306', 'finish_reason': 'tool_calls', 'logprobs': None}, name='loan_agent', id='e5489f15-d7d4-4056-9722-b1f4b83a46dd', tool_calls=[{'name': 'calculate_max_loan', 'args': {'age': 34, 'income': 1000, 'credit_score': 750}, 'id': 'call_LSGVfjYsjcrAn7pcm5Gz1Uhx', 'type': 'tool_call'}], usage_metadata={'input_tokens': 354, 'output_tokens': 27, 'total_tokens': 381, 'input_token_details': {'audio': 0, 'cache_read': 0}, 'output_token_details': {'audio': 0, 'reasoning': 0}})], 'customer_query': 'I want to have $1000000', 'negotiation_status': 'in_progress'}, next=('tools',), config={'configurable': {'thread_id': 1, 'checkpoint_ns': '', 'checkpoint_id': '1eff7b40-a91a-6788-8002-406d30d15512'}}, metadata={'source': 'loop', 'writes': {'loan_agent': {'messages': AIMessage(content='', additional_kwargs={'tool_calls': [{'id': 'call_LSGVfjYsjcrAn7pcm5Gz1Uhx', 'function': {'arguments': '{\"age\":34,\"income\":1000,\"credit_score\":750}', 'name': 'calculate_max_loan'}, 'type': 'function'}], 'refusal': None}, response_metadata={'token_usage': {'completion_tokens': 27, 'prompt_tokens': 354, 'total_tokens': 381, 'completion_tokens_details': {'accepted_prediction_tokens': 0, 'audio_tokens': 0, 'reasoning_tokens': 0, 'rejected_prediction_tokens': 0}, 'prompt_tokens_details': {'audio_tokens': 0, 'cached_tokens': 0}}, 'model_name': 'gpt-4o-mini-2024-07-18', 'system_fingerprint': 'fp_06737a9306', 'finish_reason': 'tool_calls', 'logprobs': None}, name='loan_agent', id='e5489f15-d7d4-4056-9722-b1f4b83a46dd', tool_calls=[{'name': 'calculate_max_loan', 'args': {'age': 34, 'income': 1000, 'credit_score': 750}, 'id': 'call_LSGVfjYsjcrAn7pcm5Gz1Uhx', 'type': 'tool_call'}], usage_metadata={'input_tokens': 354, 'output_tokens': 27, 'total_tokens': 381, 'input_token_details': {'audio': 0, 'cache_read': 0}, 'output_token_details': {'audio': 0, 'reasoning': 0}})}}, 'thread_id': 1, 'customer_name': 'Henrique Santana', 'age': 34, 'income': 1000, 'credit_score': 750, 'step': 2, 'parents': {}}, created_at='2025-03-02T22:16:51.526622+00:00', parent_config={'configurable': {'thread_id': 1, 'checkpoint_ns': '', 'checkpoint_id': '1eff7b40-a221-66f2-8001-2ad0b0c0a5b5'}}, tasks=(PregelTask(id='1dd7fbac-3e07-0467-daaf-d67f81c9750e', name='tools', path=('__pregel_pull', 'tools'), error=None, interrupts=(), state=None, result={'messages': [ToolMessage(content='10000', name='calculate_max_loan', id='bb894f40-43a2-4723-8802-31152d3bd394', tool_call_id='call_LSGVfjYsjcrAn7pcm5Gz1Uhx')]}),)),\n",
       " StateSnapshot(values={'messages': [SystemMessage(content=\"You are a Loan Agent analysing a customer loan request.\\n- Understand how much the customer needs.\\n- Calculate the maximum loan amount using one of the provided tools.\\n- If the requested amount exceeds the limit, update the negotiation to lost.\\n- If the requested amount meets the limit, update the negotiation to won.\\n- Update status as won or lost based on the negotiation.\\nTerminate gracefully:\\n  - If won: Notify that a human representative will contact them.\\n  - If lost: Thank the customer for their time and explain why the loan was refused.\\n\\nDetails about the customer you're negotiating with:\\n- customer_name: Henrique Santana- customer_age: 34- customer_income: 1000- customer_credit_score: 750\", additional_kwargs={}, response_metadata={}, name='system', id='9f0e9f71-89a0-4ab4-bbfc-277ef43c3754'), HumanMessage(content='I want to have $1000000', additional_kwargs={}, response_metadata={}, name='henrique_santana', id='58828bef-4277-414a-bd17-ca870e1bc223')], 'customer_query': 'I want to have $1000000', 'negotiation_status': 'in_progress'}, next=('loan_agent',), config={'configurable': {'thread_id': 1, 'checkpoint_ns': '', 'checkpoint_id': '1eff7b40-a221-66f2-8001-2ad0b0c0a5b5'}}, metadata={'source': 'loop', 'writes': {'entry_point': {'messages': [SystemMessage(content=\"You are a Loan Agent analysing a customer loan request.\\n- Understand how much the customer needs.\\n- Calculate the maximum loan amount using one of the provided tools.\\n- If the requested amount exceeds the limit, update the negotiation to lost.\\n- If the requested amount meets the limit, update the negotiation to won.\\n- Update status as won or lost based on the negotiation.\\nTerminate gracefully:\\n  - If won: Notify that a human representative will contact them.\\n  - If lost: Thank the customer for their time and explain why the loan was refused.\\n\\nDetails about the customer you're negotiating with:\\n- customer_name: Henrique Santana- customer_age: 34- customer_income: 1000- customer_credit_score: 750\", additional_kwargs={}, response_metadata={}, name='system', id='9f0e9f71-89a0-4ab4-bbfc-277ef43c3754'), HumanMessage(content='I want to have $1000000', additional_kwargs={}, response_metadata={}, name='henrique_santana', id='58828bef-4277-414a-bd17-ca870e1bc223')], 'negotiation_status': 'in_progress'}}, 'thread_id': 1, 'customer_name': 'Henrique Santana', 'age': 34, 'income': 1000, 'credit_score': 750, 'step': 1, 'parents': {}}, created_at='2025-03-02T22:16:50.795478+00:00', parent_config={'configurable': {'thread_id': 1, 'checkpoint_ns': '', 'checkpoint_id': '1eff7b40-a21d-6566-8000-ed0038764e2c'}}, tasks=(PregelTask(id='cb290750-31f4-aefb-0e83-9d6fb1f60d32', name='loan_agent', path=('__pregel_pull', 'loan_agent'), error=None, interrupts=(), state=None, result={'messages': AIMessage(content='', additional_kwargs={'tool_calls': [{'id': 'call_LSGVfjYsjcrAn7pcm5Gz1Uhx', 'function': {'arguments': '{\"age\":34,\"income\":1000,\"credit_score\":750}', 'name': 'calculate_max_loan'}, 'type': 'function'}], 'refusal': None}, response_metadata={'token_usage': {'completion_tokens': 27, 'prompt_tokens': 354, 'total_tokens': 381, 'completion_tokens_details': {'accepted_prediction_tokens': 0, 'audio_tokens': 0, 'reasoning_tokens': 0, 'rejected_prediction_tokens': 0}, 'prompt_tokens_details': {'audio_tokens': 0, 'cached_tokens': 0}}, 'model_name': 'gpt-4o-mini-2024-07-18', 'system_fingerprint': 'fp_06737a9306', 'finish_reason': 'tool_calls', 'logprobs': None}, name='loan_agent', id='e5489f15-d7d4-4056-9722-b1f4b83a46dd', tool_calls=[{'name': 'calculate_max_loan', 'args': {'age': 34, 'income': 1000, 'credit_score': 750}, 'id': 'call_LSGVfjYsjcrAn7pcm5Gz1Uhx', 'type': 'tool_call'}], usage_metadata={'input_tokens': 354, 'output_tokens': 27, 'total_tokens': 381, 'input_token_details': {'audio': 0, 'cache_read': 0}, 'output_token_details': {'audio': 0, 'reasoning': 0}})}),)),\n",
       " StateSnapshot(values={'messages': [], 'customer_query': 'I want to have $1000000'}, next=('entry_point',), config={'configurable': {'thread_id': 1, 'checkpoint_ns': '', 'checkpoint_id': '1eff7b40-a21d-6566-8000-ed0038764e2c'}}, metadata={'source': 'loop', 'writes': None, 'thread_id': 1, 'customer_name': 'Henrique Santana', 'age': 34, 'income': 1000, 'credit_score': 750, 'step': 0, 'parents': {}}, created_at='2025-03-02T22:16:50.793792+00:00', parent_config={'configurable': {'thread_id': 1, 'checkpoint_ns': '', 'checkpoint_id': '1eff7b40-a1e8-66ae-bfff-b2da687faaa0'}}, tasks=(PregelTask(id='710f2c4c-3dc1-c6d2-3873-f9b28b44fd41', name='entry_point', path=('__pregel_pull', 'entry_point'), error=None, interrupts=(), state=None, result={'messages': [SystemMessage(content=\"You are a Loan Agent analysing a customer loan request.\\n- Understand how much the customer needs.\\n- Calculate the maximum loan amount using one of the provided tools.\\n- If the requested amount exceeds the limit, update the negotiation to lost.\\n- If the requested amount meets the limit, update the negotiation to won.\\n- Update status as won or lost based on the negotiation.\\nTerminate gracefully:\\n  - If won: Notify that a human representative will contact them.\\n  - If lost: Thank the customer for their time and explain why the loan was refused.\\n\\nDetails about the customer you're negotiating with:\\n- customer_name: Henrique Santana- customer_age: 34- customer_income: 1000- customer_credit_score: 750\", additional_kwargs={}, response_metadata={}, name='system', id='9f0e9f71-89a0-4ab4-bbfc-277ef43c3754'), HumanMessage(content='I want to have $1000000', additional_kwargs={}, response_metadata={}, name='henrique_santana', id='58828bef-4277-414a-bd17-ca870e1bc223')], 'negotiation_status': 'in_progress'}),)),\n",
       " StateSnapshot(values={'messages': []}, next=('__start__',), config={'configurable': {'thread_id': 1, 'checkpoint_ns': '', 'checkpoint_id': '1eff7b40-a1e8-66ae-bfff-b2da687faaa0'}}, metadata={'source': 'input', 'writes': {'__start__': {'customer_query': 'I want to have $1000000'}}, 'thread_id': 1, 'customer_name': 'Henrique Santana', 'age': 34, 'income': 1000, 'credit_score': 750, 'step': -1, 'parents': {}}, created_at='2025-03-02T22:16:50.771859+00:00', parent_config=None, tasks=(PregelTask(id='a21629c1-6924-b0c5-faae-8e9f9e44bc7c', name='__start__', path=('__pregel_pull', '__start__'), error=None, interrupts=(), state=None, result={'customer_query': 'I want to have $1000000'}),))]"
      ]
     },
     "execution_count": 21,
     "metadata": {},
     "output_type": "execute_result"
    }
   ],
   "source": [
    "state_history"
   ]
  },
  {
   "cell_type": "code",
   "execution_count": 22,
   "metadata": {},
   "outputs": [
    {
     "data": {
      "text/plain": [
       "'Thank you for your time, Henrique. Unfortunately, your loan request for $1,000,000 exceeds the maximum amount we can offer, which is $10,000. If you have any other questions or need assistance, feel free to reach out.'"
      ]
     },
     "execution_count": 22,
     "metadata": {},
     "output_type": "execute_result"
    }
   ],
   "source": [
    "state_history[0].values[\"messages\"][-1].content"
   ]
  },
  {
   "cell_type": "code",
   "execution_count": 23,
   "metadata": {},
   "outputs": [
    {
     "name": "stdout",
     "output_type": "stream",
     "text": [
      "================================\u001b[1m System Message \u001b[0m================================\n",
      "Name: system\n",
      "\n",
      "You are a Loan Agent analysing a customer loan request.\n",
      "- Understand how much the customer needs.\n",
      "- Calculate the maximum loan amount using one of the provided tools.\n",
      "- If the requested amount exceeds the limit, update the negotiation to lost.\n",
      "- If the requested amount meets the limit, update the negotiation to won.\n",
      "- Update status as won or lost based on the negotiation.\n",
      "Terminate gracefully:\n",
      "  - If won: Notify that a human representative will contact them.\n",
      "  - If lost: Thank the customer for their time and explain why the loan was refused.\n",
      "\n",
      "Details about the customer you're negotiating with:\n",
      "- customer_name: Henrique Santana- customer_age: 34- customer_income: 1000- customer_credit_score: 750\n",
      "================================\u001b[1m Human Message \u001b[0m=================================\n",
      "Name: henrique_santana\n",
      "\n",
      "I want to have $1000000\n",
      "==================================\u001b[1m Ai Message \u001b[0m==================================\n",
      "Name: loan_agent\n",
      "Tool Calls:\n",
      "  calculate_max_loan (call_LSGVfjYsjcrAn7pcm5Gz1Uhx)\n",
      " Call ID: call_LSGVfjYsjcrAn7pcm5Gz1Uhx\n",
      "  Args:\n",
      "    age: 34\n",
      "    income: 1000\n",
      "    credit_score: 750\n",
      "=================================\u001b[1m Tool Message \u001b[0m=================================\n",
      "Name: calculate_max_loan\n",
      "\n",
      "10000\n",
      "==================================\u001b[1m Ai Message \u001b[0m==================================\n",
      "Name: loan_agent\n",
      "Tool Calls:\n",
      "  update_negotiation_status (call_szr3vn618DGLRxTD0EuApiQK)\n",
      " Call ID: call_szr3vn618DGLRxTD0EuApiQK\n",
      "  Args:\n",
      "    status: lost\n",
      "=================================\u001b[1m Tool Message \u001b[0m=================================\n",
      "Name: update_negotiation_status\n",
      "\n",
      "Successfully updated negotiation_status\n",
      "==================================\u001b[1m Ai Message \u001b[0m==================================\n",
      "Name: loan_agent\n",
      "\n",
      "Thank you for your time, Henrique. Unfortunately, your loan request for $1,000,000 exceeds the maximum amount we can offer, which is $10,000. If you have any other questions or need assistance, feel free to reach out.\n"
     ]
    }
   ],
   "source": [
    "for m in state_history[0].values[\"messages\"]:\n",
    "    m.pretty_print()"
   ]
  },
  {
   "cell_type": "markdown",
   "metadata": {},
   "source": [
    "## 10. Break Things"
   ]
  },
  {
   "cell_type": "markdown",
   "metadata": {},
   "source": [
    "Now that you understood how it works, experiment new things.\n",
    "\n",
    "- Run multiple times for the same thread_id, whant happens with the messages?\n",
    "- Add a tool to calculate interests and taxes to enable pay in installments\n",
    "- Improve negotiation, allowing the agent to offer discounts to close the deal"
   ]
  },
  {
   "cell_type": "markdown",
   "metadata": {},
   "source": []
  }
 ],
 "metadata": {
  "kernelspec": {
   "display_name": ".venv",
   "language": "python",
   "name": "python3"
  },
  "language_info": {
   "codemirror_mode": {
    "name": "ipython",
    "version": 3
   },
   "file_extension": ".py",
   "mimetype": "text/x-python",
   "name": "python",
   "nbconvert_exporter": "python",
   "pygments_lexer": "ipython3",
   "version": "3.10.15"
  }
 },
 "nbformat": 4,
 "nbformat_minor": 2
}
