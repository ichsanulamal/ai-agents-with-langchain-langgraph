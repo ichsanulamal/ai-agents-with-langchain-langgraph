{
 "cells": [
  {
   "cell_type": "markdown",
   "metadata": {},
   "source": [
    "# Exercise - Loan Agent - STARTER"
   ]
  },
  {
   "cell_type": "markdown",
   "metadata": {},
   "source": [
    "In this exercise, you’ll build a Loan Agent Workflow using LangGraph, designed to negotiate loan amounts with customers.\n"
   ]
  },
  {
   "cell_type": "markdown",
   "metadata": {},
   "source": [
    "**Challenge**\n",
    "\n",
    "You’re developing an AI-powered Loan agent.\n",
    "\n",
    "The workflow should:\n",
    "\n",
    "- Interpret user queries intelligently.\n",
    "- Dynamically calls tools for loan calculation\n",
    "- Track negotiation status and terminates gracefully.\n",
    "- Route the workflow using intelligent conditional edges."
   ]
  },
  {
   "cell_type": "markdown",
   "metadata": {},
   "source": [
    "Your agent will calculate the maximum amount a customer can request based on their profile. If it exceeds, it will mark the status as lost and will explain the reason to the customer. If it meets, make as won, and notify the customer a human representative will contact them."
   ]
  },
  {
   "cell_type": "markdown",
   "metadata": {},
   "source": [
    "By the end of this exercise, you will have learned:\n",
    "- Config\n",
    "- Limiting Messages (RemoveMessages and summary)\n",
    "- Command (Updating State from a Tool)\n",
    "- Checkpoints (with thread_id)"
   ]
  },
  {
   "cell_type": "markdown",
   "metadata": {},
   "source": [
    "## 0. Import the necessary libs"
   ]
  },
  {
   "cell_type": "code",
   "execution_count": null,
   "metadata": {},
   "outputs": [],
   "source": [
    "import re\n",
    "import uuid\n",
    "from typing_extensions import Literal, Annotated\n",
    "from langchain_core.messages import (\n",
    "    SystemMessage,\n",
    "    AIMessage,\n",
    "    HumanMessage, \n",
    "    ToolMessage,\n",
    "    RemoveMessage\n",
    ")\n",
    "from langchain_core.tools.base import InjectedToolCallId\n",
    "from langchain_core.tools import tool\n",
    "from langchain_openai import ChatOpenAI\n",
    "from langgraph.graph import START, END, StateGraph\n",
    "from langchain_core.runnables import RunnableConfig\n",
    "from langgraph.graph.message import MessagesState, add_messages\n",
    "from langgraph.checkpoint.memory import MemorySaver\n",
    "from langgraph.prebuilt import ToolNode\n",
    "from langgraph.types import Command\n",
    "from IPython.display import Image, display"
   ]
  },
  {
   "cell_type": "markdown",
   "metadata": {},
   "source": [
    "## 1. Instantiate Chat Model with your API Key"
   ]
  },
  {
   "cell_type": "markdown",
   "metadata": {},
   "source": [
    "To be able to connect with OpenAI, you need to instantiate an ChatOpenAI client passing your OpenAI key.\n",
    "\n",
    "You can pass the `api_key` argument directly.\n",
    "```python\n",
    "llm = ChatOpenAI(\n",
    "    model=\"gpt-4o-mini\",\n",
    "    temperature=0.0,\n",
    "    api_key=\"voc-\",\n",
    ")\n",
    "```"
   ]
  },
  {
   "cell_type": "code",
   "execution_count": null,
   "metadata": {},
   "outputs": [],
   "source": [
    "llm = ChatOpenAI(\n",
    "    model=\"gpt-4o-mini\",\n",
    "    temperature=0.0,\n",
    "    api_key = \"YOUR_API_KEY_HERE\",\n",
    ")"
   ]
  },
  {
   "cell_type": "markdown",
   "metadata": {},
   "source": [
    "## 2. Create the State Schema"
   ]
  },
  {
   "cell_type": "markdown",
   "metadata": {},
   "source": [
    "Your state should have at least 3 elements:\n",
    "- customer query, the user input to start the conversation\n",
    "- messages, to keep track of the conversation\n",
    "- negotiation status, to determine when to terminate the execution\n",
    "\n",
    "Feel free to use TypedDict or MessagesState."
   ]
  },
  {
   "cell_type": "code",
   "execution_count": null,
   "metadata": {},
   "outputs": [],
   "source": [
    "# TODO - State Schema called SessionState\n",
    "class SessionState"
   ]
  },
  {
   "cell_type": "markdown",
   "metadata": {},
   "source": [
    "## 3. Define your Entrypoint node"
   ]
  },
  {
   "cell_type": "markdown",
   "metadata": {},
   "source": [
    "This node should have the following responsibilities:\n",
    "- Access all the configuration (RunnableConfig)\n",
    "- Create the SystemMessage to instruct the agent\n",
    "- Limit number of messages for each execution using summary and RemoveMessage\n",
    "-  Create the HumanMessage based on the customer_query"
   ]
  },
  {
   "cell_type": "code",
   "execution_count": null,
   "metadata": {},
   "outputs": [],
   "source": [
    "# TODO - Define your function to summarize previous messages\n",
    "def summarize_conversation(messages) -> AIMessage:\n",
    "    pass"
   ]
  },
  {
   "cell_type": "code",
   "execution_count": null,
   "metadata": {},
   "outputs": [],
   "source": [
    "# TODO - The entrypoint node\n",
    "# An initial prompt is already created to help you\n",
    "def entry_point(state: SessionState, config: RunnableConfig):\n",
    "    messages = state[\"messages\"]\n",
    "    customer_name = config.get(\"configurable\", {}).get(\"customer_name\", \"customer\")\n",
    "    age = config.get(\"configurable\", {}).get(\"age\", 18)\n",
    "    income = config.get(\"configurable\", {}).get(\"income\", 1000)\n",
    "    credit_score = config.get(\"configurable\", {}).get(\"credit_score\", 500)\n",
    "    if not messages:\n",
    "        prompt = (\n",
    "            \"You are a Loan Agent analysing a customer loan request.\\n\"\n",
    "            \"- Understand how much the customer needs.\\n\"\n",
    "            \"- Calculate the maximum loan amount using one of the provided tools.\\n\"\n",
    "            \"- If the requested amount exceeds the limit, update the negotiation to lost.\\n\"\n",
    "            \"- If the requested amount meets the limit, update the negotiation to won.\\n\"       \n",
    "            \"- Update status as won or lost based on the negotiation.\\n\"\n",
    "            \"Terminate gracefully:\\n\"\n",
    "            \"  - If won: Notify that a human representative will contact them.\\n\"\n",
    "            \"  - If lost: Thank the customer for their time and explain why the loan was refused.\\n\\n\"\n",
    "            \"Details about the customer you're negotiating with:\\n\"\n",
    "            f\"- customer_name: {customer_name}\"\n",
    "            f\"- customer_age: {age}\"\n",
    "            f\"- customer_income: {income}\"\n",
    "            f\"- customer_credit_score: {credit_score}\"\n",
    "        )\n",
    "        sys_message = SystemMessage(\n",
    "            content=prompt,\n",
    "            name=\"system\",\n",
    "        )\n",
    "        messages.append(sys_message)\n",
    "    \n",
    "    print(f\"Number of messages {len(messages)}\")\n",
    "    # Filter Messages\n",
    "    if len(messages)>=7:\n",
    "        # TODO - use summarize_conversation and RemoveMessage \n",
    "        pass\n",
    "\n",
    "    print(state[\"customer_query\"])\n",
    "    human_message = HumanMessage(\n",
    "        content=state[\"customer_query\"],\n",
    "        name=re.sub(r'\\s+', '_', customer_name.strip()).lower(),\n",
    "        id = str(uuid.uuid4())\n",
    "    )\n",
    "    messages.append(human_message)\n",
    "\n",
    "    return {\n",
    "        \"messages\": messages,\n",
    "        \"negotiation_status\": \"in_progress\",\n",
    "    }\n",
    "    "
   ]
  },
  {
   "cell_type": "markdown",
   "metadata": {},
   "source": [
    "## 4. Define your tools"
   ]
  },
  {
   "cell_type": "markdown",
   "metadata": {},
   "source": [
    "You need to create 2 tools:\n",
    "- calculate_max_loan, this is important to check if the amount requested meets the maximum allowed by their profile\n",
    "- update_negotiation_status, this will update the schema using Command"
   ]
  },
  {
   "cell_type": "code",
   "execution_count": null,
   "metadata": {},
   "outputs": [],
   "source": [
    "# TODO - Max Loan Tool\n",
    "@tool\n",
    "def calculate_max_loan(\n",
    "        age: Annotated[int, \"greater than 17\"], \n",
    "        income: Annotated[int, \"greater than 0\"],  \n",
    "        credit_score: Annotated[int, \"between 0 and 1000\"],\n",
    "    ) -> int:\n",
    "    \"\"\"\n",
    "    Calculate the maximum loan amount based on customer's age, income, and credit score.\n",
    "    - Age: 25-60 gets the highest eligibility, outside this range reduces eligibility.\n",
    "    - Income: Multiplied by a factor to determine base amount.\n",
    "    - Credit Score: High score (700+) increases the amount by 20%.\n",
    "    \"\"\"\n",
    "    # TODO - Your logic here\n",
    "    pass"
   ]
  },
  {
   "cell_type": "code",
   "execution_count": null,
   "metadata": {},
   "outputs": [],
   "source": [
    "@tool\n",
    "def update_negotiation_status(\n",
    "        status: Literal[\"won\", \"lost\"],\n",
    "        tool_call_id: Annotated[str, InjectedToolCallId],\n",
    "    ):\n",
    "    \"\"\"\n",
    "    Updates the negotiation status of the workflow.\n",
    "    - 'won': If the customer agrees to the loan terms.\n",
    "    - 'lost': If the customer declines the loan terms.\n",
    "    - Returns the updated status.\n",
    "    \"\"\"\n",
    "    \n",
    "    return Command(\n",
    "        update={\n",
    "            # update the state keys\n",
    "            \"negotiation_status\": status,\n",
    "            # update the message history\n",
    "            \"messages\": [\n",
    "                ToolMessage(\n",
    "                    content=\"Successfully updated negotiation_status\", \n",
    "                    tool_call_id=tool_call_id\n",
    "                )\n",
    "            ],\n",
    "        }\n",
    "    )"
   ]
  },
  {
   "cell_type": "code",
   "execution_count": null,
   "metadata": {},
   "outputs": [],
   "source": [
    "tools = [\n",
    "    calculate_max_loan, \n",
    "    update_negotiation_status\n",
    "]"
   ]
  },
  {
   "cell_type": "markdown",
   "metadata": {},
   "source": [
    "## 5. Create your Loan Agent"
   ]
  },
  {
   "cell_type": "markdown",
   "metadata": {},
   "source": [
    "Bind tools to the llm built above and create your agent with this llm."
   ]
  },
  {
   "cell_type": "code",
   "execution_count": null,
   "metadata": {},
   "outputs": [],
   "source": [
    "# TODO - Bind the tools\n",
    "llm_with_tools ="
   ]
  },
  {
   "cell_type": "code",
   "execution_count": null,
   "metadata": {},
   "outputs": [],
   "source": [
    "# TODO - Define your loan agent\n",
    "def loan_agent(state: SessionState):\n",
    "    pass"
   ]
  },
  {
   "cell_type": "markdown",
   "metadata": {},
   "source": [
    "## 6. Create your Router function"
   ]
  },
  {
   "cell_type": "markdown",
   "metadata": {},
   "source": [
    "If the status is 'won' or 'lost', it should proceed to END. Otherwise, if there's a tool call and it's in progress, it should proceed to the tool node called 'tools'."
   ]
  },
  {
   "cell_type": "code",
   "execution_count": null,
   "metadata": {},
   "outputs": [],
   "source": [
    "def negotiation_router(state: SessionState):\n",
    "    print(f\"inside router status: {state['negotiation_status']}\")\n",
    "    if state[\"negotiation_status\"] != \"in_progress\":\n",
    "        return END\n",
    "\n",
    "    last_message = state[\"messages\"][-1]\n",
    "    if last_message.tool_calls:\n",
    "        return \"tools\"\n",
    "\n",
    "    return END"
   ]
  },
  {
   "cell_type": "markdown",
   "metadata": {},
   "source": [
    "## 7. Build, Compile and Visualize your Workflow"
   ]
  },
  {
   "cell_type": "markdown",
   "metadata": {},
   "source": [
    "- Instantiate the StateGraph with the SessionState\n",
    "- Add all the nodes you created\n",
    "- Add your edges:\n",
    "    - start -> entry point\n",
    "    - entry point -> loan agent\n",
    "    - loan agent -> [tools, end]\n",
    "    - tools -> end\n",
    "\n",
    "Make sure you use the router function in the conditional edge.\n",
    "\n",
    "Also, use MemorySaver to compile your graph"
   ]
  },
  {
   "cell_type": "code",
   "execution_count": null,
   "metadata": {},
   "outputs": [],
   "source": [
    "# TODO - define the workflow and add nodes and edges\n",
    "workflow = "
   ]
  },
  {
   "cell_type": "code",
   "execution_count": null,
   "metadata": {},
   "outputs": [],
   "source": [
    "checkpointer = MemorySaver()\n",
    "loan_graph = workflow.compile(checkpointer=checkpointer)\n",
    "\n",
    "display(\n",
    "    Image(\n",
    "        loan_graph.get_graph().draw_mermaid_png()\n",
    "    )\n",
    ")"
   ]
  },
  {
   "cell_type": "markdown",
   "metadata": {},
   "source": [
    "## 8. Invoke your Graph"
   ]
  },
  {
   "cell_type": "markdown",
   "metadata": {},
   "source": [
    "Change the input and config and run execute it"
   ]
  },
  {
   "cell_type": "code",
   "execution_count": null,
   "metadata": {},
   "outputs": [],
   "source": [
    "customer_query = \"I want to have $1000000\""
   ]
  },
  {
   "cell_type": "code",
   "execution_count": null,
   "metadata": {},
   "outputs": [],
   "source": [
    "inputs = {\n",
    "    \"customer_query\": customer_query,\n",
    "}\n",
    "\n",
    "config = {\n",
    "    \"thread_id\": 1,\n",
    "    \"customer_name\": \"Henrique Santana\",\n",
    "    \"age\": 34,\n",
    "    \"income\": 1000,\n",
    "    \"credit_score\": 750,\n",
    "}"
   ]
  },
  {
   "cell_type": "code",
   "execution_count": null,
   "metadata": {},
   "outputs": [],
   "source": [
    "output = loan_graph.invoke(\n",
    "    input=inputs,\n",
    "    config=config,\n",
    ")"
   ]
  },
  {
   "cell_type": "markdown",
   "metadata": {},
   "source": [
    "## 9. Inspect it"
   ]
  },
  {
   "cell_type": "markdown",
   "metadata": {},
   "source": [
    "After executing, inspect the outputs"
   ]
  },
  {
   "cell_type": "code",
   "execution_count": null,
   "metadata": {},
   "outputs": [],
   "source": [
    "for message in output[\"messages\"]:\n",
    "    message.pretty_print()"
   ]
  },
  {
   "cell_type": "code",
   "execution_count": null,
   "metadata": {},
   "outputs": [],
   "source": [
    "output[\"negotiation_status\"]"
   ]
  },
  {
   "cell_type": "code",
   "execution_count": null,
   "metadata": {},
   "outputs": [],
   "source": [
    "state_history = list(\n",
    "    loan_graph.get_state_history(\n",
    "        config={\n",
    "            \"configurable\":{\"thread_id\":1}\n",
    "        }\n",
    "    )\n",
    ")"
   ]
  },
  {
   "cell_type": "code",
   "execution_count": null,
   "metadata": {},
   "outputs": [],
   "source": [
    "state_history"
   ]
  },
  {
   "cell_type": "code",
   "execution_count": null,
   "metadata": {},
   "outputs": [],
   "source": [
    "state_history[0].values[\"messages\"][-1].content"
   ]
  },
  {
   "cell_type": "code",
   "execution_count": null,
   "metadata": {},
   "outputs": [],
   "source": [
    "for m in state_history[0].values[\"messages\"]:\n",
    "    m.pretty_print()"
   ]
  },
  {
   "cell_type": "markdown",
   "metadata": {},
   "source": [
    "## 10. Experiment"
   ]
  },
  {
   "cell_type": "markdown",
   "metadata": {},
   "source": [
    "Now that you understood how it works, experiment with new things.\n",
    "\n",
    "- Run multiple times for the same thread_id, whant happens with the messages?\n",
    "- Add a tool to calculate interests and taxes to enable pay in installments\n",
    "- Improve negotiation, allowing the agent to offer discounts to close the deal"
   ]
  },
  {
   "cell_type": "markdown",
   "metadata": {},
   "source": []
  }
 ],
 "metadata": {
  "kernelspec": {
   "display_name": ".venv",
   "language": "python",
   "name": "python3"
  },
  "language_info": {
   "codemirror_mode": {
    "name": "ipython",
    "version": 3
   },
   "file_extension": ".py",
   "mimetype": "text/x-python",
   "name": "python",
   "nbconvert_exporter": "python",
   "pygments_lexer": "ipython3",
   "version": "3.11.10"
  }
 },
 "nbformat": 4,
 "nbformat_minor": 2
}
