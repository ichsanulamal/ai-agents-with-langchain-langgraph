{
 "cells": [
  {
   "cell_type": "code",
   "execution_count": 1,
   "metadata": {},
   "outputs": [],
   "source": [
    "import os\n",
    "from typing import Dict\n",
    "import requests\n",
    "from tavily import TavilyClient\n",
    "from langchain_core.tools import tool\n",
    "from langchain_core.messages import (\n",
    "    SystemMessage,\n",
    "    AIMessage,\n",
    "    HumanMessage, \n",
    "    ToolMessage,\n",
    ")\n",
    "from langchain_openai import ChatOpenAI\n",
    "from langgraph.graph import START, END, StateGraph\n",
    "from langgraph.graph.message import MessagesState, add_messages\n",
    "from langgraph.prebuilt import ToolNode\n",
    "from IPython.display import Image, display\n",
    "from dotenv import load_dotenv"
   ]
  },
  {
   "cell_type": "code",
   "execution_count": 2,
   "metadata": {},
   "outputs": [
    {
     "data": {
      "text/plain": [
       "True"
      ]
     },
     "execution_count": 2,
     "metadata": {},
     "output_type": "execute_result"
    }
   ],
   "source": [
    "load_dotenv()"
   ]
  },
  {
   "cell_type": "code",
   "execution_count": 3,
   "metadata": {},
   "outputs": [],
   "source": [
    "@tool\n",
    "def random_got_quote_tool()->Dict:\n",
    "    \"\"\"\n",
    "    Return a random Game of Thrones quote and the character who said it\n",
    "    \"\"\"\n",
    "    response = requests.get(\"https://api.gameofthronesquotes.xyz/v1/random\")\n",
    "    return response.json()"
   ]
  },
  {
   "cell_type": "code",
   "execution_count": 7,
   "metadata": {},
   "outputs": [
    {
     "data": {
      "text/plain": [
       "{'sentence': 'By what right does the wolf judge the lion?',\n",
       " 'character': {'name': 'Jaime Lannister',\n",
       "  'slug': 'jaime',\n",
       "  'house': {'name': 'House Lannister of Casterly Rock', 'slug': 'lannister'}}}"
      ]
     },
     "execution_count": 7,
     "metadata": {},
     "output_type": "execute_result"
    }
   ],
   "source": [
    "random_got_quote_tool.invoke({})"
   ]
  },
  {
   "cell_type": "code",
   "execution_count": 8,
   "metadata": {},
   "outputs": [],
   "source": [
    "tavily_client = TavilyClient(\n",
    "    api_key=os.getenv(\"TAVILY_API_KEY\")\n",
    ")"
   ]
  },
  {
   "cell_type": "code",
   "execution_count": 9,
   "metadata": {},
   "outputs": [],
   "source": [
    "@tool\n",
    "def web_search(question:str)->Dict:\n",
    "    \"\"\"\n",
    "    Return top search results for a given search query\n",
    "    \"\"\"\n",
    "    response = tavily_client.search(question)\n",
    "    return response"
   ]
  },
  {
   "cell_type": "code",
   "execution_count": 10,
   "metadata": {},
   "outputs": [
    {
     "data": {
      "text/plain": [
       "{'query': 'Who performs Cersei Lannister in Game of Thrones?',\n",
       " 'follow_up_questions': None,\n",
       " 'answer': None,\n",
       " 'images': [],\n",
       " 'results': [{'title': 'Cersei Lannister - Wikipedia',\n",
       "   'url': 'https://en.wikipedia.org/wiki/Cersei_Lannister',\n",
       "   'content': \"Cersei Lannister is a fictional character in the A Song of Ice and Fire series of epic fantasy novels by American author George R. R. Martin, and its television adaptation Game of Thrones, where she is portrayed by actress Lena Headey.Introduced in 1996's A Game of Thrones, Cersei is a member of House Lannister, one of the wealthiest and most powerful families on the continent of Westeros.\",\n",
       "   'score': 0.9374919,\n",
       "   'raw_content': None},\n",
       "  {'title': 'Lena Headey - Wikipedia',\n",
       "   'url': 'https://en.wikipedia.org/wiki/Lena_Headey',\n",
       "   'content': 'Lena Kathren Headey (/ ˈ l iː n ə ˈ h iː d i / LEE-nə HEE-dee; born 3 October 1973) is an English actress.She gained international recognition and acclaim for her portrayal of Cersei Lannister on the HBO fantasy drama series Game of Thrones (2011-2019), for which she received five Primetime Emmy Award nominations and a Golden Globe Award nomination. She was nominated for a Saturn Award',\n",
       "   'score': 0.93694025,\n",
       "   'raw_content': None},\n",
       "  {'title': 'Lena Headey - IMDb',\n",
       "   'url': 'https://www.imdb.com/name/nm0372176/',\n",
       "   'content': 'Lena Headey. Actress: 300. Lena Headey is a Bermudian-British actress. Headey is best known for her role as \"Cersei Lannister\" in Game of Thrones (2011) (2011-2019) and The Brothers Grimm (2005), Possession (2002), and The Remains of the Day (1993). Headey stars as \"Queen Gorgo,\" a heroic Spartan woman in the period film, 300 (2006), by director Zack Snyder.',\n",
       "   'score': 0.8936907,\n",
       "   'raw_content': None},\n",
       "  {'title': 'Lena Headey Biography: Height, Age, Net Worth, Wikipedia, Wife, Movies ...',\n",
       "   'url': 'https://www.thecityceleb.com/biography/celebrity/actress/lena-headey-biography-height-age-net-worth-wikipedia-wife-movies-tv-shows-children-instagram/',\n",
       "   'content': \"She honed her acting skills at Shelley College and performed in numerous school productions at the prestigious Royal National Theatre. ... her iconic role as Cersei Lannister in Game of Thrones truly catapulted her to international fame. Headey's portrayal of the cunning, manipulative, and often ruthless queen captivated audiences worldwide\",\n",
       "   'score': 0.69199765,\n",
       "   'raw_content': None},\n",
       "  {'title': 'Who is Cersei Lannister in Game of Thrones?',\n",
       "   'url': 'https://wikiofthrones.com/who-is-cersei-lannister-in-game-of-thrones',\n",
       "   'content': \"House of the Dragon introduces the early generations of House Lannister, particularly through characters like Jason and Tyland Lannister.Their actions and legacies expand the importance of House Lannister in the wider HBO universe. The show's portrayal of the family builds on the history established in Fire and Blood.. In Fire and Blood, Lady Johanna Lannister, Jason's wife, was a fierce\",\n",
       "   'score': 0.5240786,\n",
       "   'raw_content': None}],\n",
       " 'response_time': 1.32}"
      ]
     },
     "execution_count": 10,
     "metadata": {},
     "output_type": "execute_result"
    }
   ],
   "source": [
    "web_search.invoke(\n",
    "    {\n",
    "        \"question\": \"Who performs Cersei Lannister in Game of Thrones?\"\n",
    "    }\n",
    ")"
   ]
  },
  {
   "cell_type": "code",
   "execution_count": 11,
   "metadata": {},
   "outputs": [],
   "source": [
    "tools = [random_got_quote_tool, web_search]"
   ]
  },
  {
   "cell_type": "code",
   "execution_count": 12,
   "metadata": {},
   "outputs": [],
   "source": [
    "llm = ChatOpenAI(\n",
    "    model=\"gpt-4o-mini\",\n",
    "    temperature=0.0,\n",
    ")"
   ]
  },
  {
   "cell_type": "code",
   "execution_count": 19,
   "metadata": {},
   "outputs": [],
   "source": [
    "llm_with_tools = llm.bind_tools(tools)"
   ]
  },
  {
   "cell_type": "code",
   "execution_count": 13,
   "metadata": {},
   "outputs": [],
   "source": [
    "def agent(state: MessagesState):\n",
    "    ai_message = llm_with_tools.invoke(state[\"messages\"])\n",
    "    return {\"messages\": ai_message}"
   ]
  },
  {
   "cell_type": "code",
   "execution_count": 14,
   "metadata": {},
   "outputs": [],
   "source": [
    "def router(state: MessagesState):\n",
    "    last_message = state[\"messages\"][-1]\n",
    "    if last_message.tool_calls:\n",
    "        return \"tools\"\n",
    "\n",
    "    return END"
   ]
  },
  {
   "cell_type": "code",
   "execution_count": 15,
   "metadata": {},
   "outputs": [
    {
     "data": {
      "text/plain": [
       "<langgraph.graph.state.StateGraph at 0x1164a33d0>"
      ]
     },
     "execution_count": 15,
     "metadata": {},
     "output_type": "execute_result"
    }
   ],
   "source": [
    "workflow = StateGraph(MessagesState)\n",
    "\n",
    "workflow.add_node(\"agent\", agent)\n",
    "workflow.add_node(\"tools\", ToolNode(tools))\n",
    "\n",
    "workflow.add_edge(START, \"agent\")\n",
    "\n",
    "workflow.add_conditional_edges(\n",
    "    source=\"agent\", \n",
    "    path=router, \n",
    "    path_map=[\"tools\", END]\n",
    ")\n",
    "\n",
    "workflow.add_edge(\"tools\", \"agent\")\n"
   ]
  },
  {
   "cell_type": "code",
   "execution_count": 16,
   "metadata": {},
   "outputs": [
    {
     "data": {
      "image/png": "[encoded data removed]",
      "text/plain": [
       "<IPython.core.display.Image object>"
      ]
     },
     "metadata": {},
     "output_type": "display_data"
    }
   ],
   "source": [
    "graph = workflow.compile()\n",
    "\n",
    "display(\n",
    "    Image(\n",
    "        graph.get_graph().draw_mermaid_png()\n",
    "    )\n",
    ")"
   ]
  },
  {
   "cell_type": "code",
   "execution_count": 17,
   "metadata": {},
   "outputs": [],
   "source": [
    "messages = [\n",
    "    SystemMessage(\n",
    "        \"You are a Web Researcher focused on Game of Thrones. \"\n",
    "        \"If user asks you a random quote about GoT. You will not only \" \n",
    "        \"provide it, but also search the web to find the actor or actress \"\n",
    "        \"who perform the character who said that.\"\n",
    "        \"So, your output should be: Quote, Character and Performer.\"\n",
    "    ),\n",
    "    HumanMessage(\"Give me a radom GoT quote\")\n",
    "]"
   ]
  },
  {
   "cell_type": "code",
   "execution_count": 20,
   "metadata": {},
   "outputs": [
    {
     "name": "stdout",
     "output_type": "stream",
     "text": [
      "{'messages': [SystemMessage(content='You are a Web Researcher focused on Game of Thrones. If user asks you a random quote about GoT. You will not only provide it, but also search the web to find the actor or actress who perform the character who said that.So, your output should be: Quote, Character and Performer.', additional_kwargs={}, response_metadata={}, id='a3bf010e-f3c3-4e29-9713-044b4df04ca8'), HumanMessage(content='Give me a radom GoT quote', additional_kwargs={}, response_metadata={}, id='886e920a-29d4-4452-8d6c-076cb52887af'), AIMessage(content='', additional_kwargs={'tool_calls': [{'id': 'call_nxWHPfKpYMcRKXDGVFRJzF40', 'function': {'arguments': '{}', 'name': 'random_got_quote_tool'}, 'type': 'function'}], 'refusal': None}, response_metadata={'token_usage': {'completion_tokens': 14, 'prompt_tokens': 141, 'total_tokens': 155, 'completion_tokens_details': {'accepted_prediction_tokens': 0, 'audio_tokens': 0, 'reasoning_tokens': 0, 'rejected_prediction_tokens': 0}, 'prompt_tokens_details': {'audio_tokens': 0, 'cached_tokens': 0}}, 'model_name': 'gpt-4o-mini-2024-07-18', 'system_fingerprint': 'fp_86d0290411', 'finish_reason': 'tool_calls', 'logprobs': None}, id='run-76a8b781-4603-48d5-8007-7ea4b7eceb6a-0', tool_calls=[{'name': 'random_got_quote_tool', 'args': {}, 'id': 'call_nxWHPfKpYMcRKXDGVFRJzF40', 'type': 'tool_call'}], usage_metadata={'input_tokens': 141, 'output_tokens': 14, 'total_tokens': 155, 'input_token_details': {'audio': 0, 'cache_read': 0}, 'output_token_details': {'audio': 0, 'reasoning': 0}}), ToolMessage(content='{\"sentence\": \"The things I do for love.\", \"character\": {\"name\": \"Jaime Lannister\", \"slug\": \"jaime\", \"house\": {\"name\": \"House Lannister of Casterly Rock\", \"slug\": \"lannister\"}}}', name='random_got_quote_tool', id='65c716fa-4af1-4e92-8baf-c1750441f5a2', tool_call_id='call_nxWHPfKpYMcRKXDGVFRJzF40'), AIMessage(content='', additional_kwargs={'tool_calls': [{'id': 'call_QweE4C6Zo8pLiPLB0pEXPoVY', 'function': {'arguments': '{\"question\":\"Jaime Lannister actor\"}', 'name': 'web_search'}, 'type': 'function'}], 'refusal': None}, response_metadata={'token_usage': {'completion_tokens': 20, 'prompt_tokens': 222, 'total_tokens': 242, 'completion_tokens_details': {'accepted_prediction_tokens': 0, 'audio_tokens': 0, 'reasoning_tokens': 0, 'rejected_prediction_tokens': 0}, 'prompt_tokens_details': {'audio_tokens': 0, 'cached_tokens': 0}}, 'model_name': 'gpt-4o-mini-2024-07-18', 'system_fingerprint': 'fp_86d0290411', 'finish_reason': 'tool_calls', 'logprobs': None}, id='run-6649041a-64c0-4fda-9373-e0a58c5aad0b-0', tool_calls=[{'name': 'web_search', 'args': {'question': 'Jaime Lannister actor'}, 'id': 'call_QweE4C6Zo8pLiPLB0pEXPoVY', 'type': 'tool_call'}], usage_metadata={'input_tokens': 222, 'output_tokens': 20, 'total_tokens': 242, 'input_token_details': {'audio': 0, 'cache_read': 0}, 'output_token_details': {'audio': 0, 'reasoning': 0}}), ToolMessage(content='{\"query\": \"Jaime Lannister actor\", \"follow_up_questions\": null, \"answer\": null, \"images\": [], \"results\": [{\"title\": \"Jaime Lannister - Wikipedia\", \"url\": \"https://en.wikipedia.org/wiki/Jaime_Lannister\", \"content\": \"Jaime Lannister is a fictional character in the A Song of Ice and Fire series of fantasy novels by American author George R. R. Martin and its television adaptation Game of Thrones, where he is portrayed by Danish actor Nikolaj Coster-Waldau. Jaime becomes a prominent point of view character in the novels beginning with A Storm of Swords (2000).\", \"score\": 0.90810597, \"raw_content\": null}, {\"title\": \"Nikolaj Coster-Waldau - Wikipedia\", \"url\": \"https://en.wikipedia.org/wiki/Nikolaj_Coster-Waldau\", \"content\": \"Nikolaj William Coster-Waldau ([ˈne̝koˌlɑjˀ ˈkʰʌstɐ ˈvæltɑw]; born 27 July 1970) is a Danish actor.He graduated from the Danish National School of Performing Arts in Copenhagen in 1993, [1] and had his breakthrough role in Denmark with the film Nightwatch (1994). He played Jaime Lannister in the HBO fantasy drama series Game of Thrones, for which he received two Primetime Emmy\", \"score\": 0.84918517, \"raw_content\": null}, {\"title\": \"Nikolaj Coster-Waldau Age, Height, Wife, Family, Bio, Net ... - Celebsline\", \"url\": \"https://www.celebsline.com/nikolaj-coster-waldau/\", \"content\": \"Danish actor Nikolaj Coster-Waldau is widely known for playing Jaime Lannister in the acclaimed HBO series Game of Thrones. He largely became popular among the Americans by appearing in the war film Black Hawk Down, Kingdom of Heaven, and Fox television series New Amsterdam. He was last seen in the crime thriller film, Shot Caller.\", \"score\": 0.7644879, \"raw_content\": null}, {\"title\": \"Nikolaj Coster-Waldau Biography - Facts, Childhood, Family Life ...\", \"url\": \"https://www.thefamouspeople.com/profiles/nikolaj-coster-waldau-12927.php\", \"content\": \"Nikolaj Coster-Waldau is a Danish actor, screenwriter, and producer. He is widely known for playing Ser Jaime Lannister in HBO\\'s hit series \\'Game of Thrones\\'. He is also known for appearing in a number of movies, such as \\'Nightwatch\\', \\'A Thousand Times Good Night\\' and \\'Headhunters\\', to name a few.\", \"score\": 0.7443038, \"raw_content\": null}, {\"title\": \"Nikolaj Coster-Waldau - IMDb\", \"url\": \"https://www.imdb.com/name/nm0182666/\", \"content\": \"Nikolaj Coster-Waldau. Actor: Game of Thrones. Nikolaj Coster-Waldau (born July 27, 1970) is a Danish actor, producer and screenwriter. He graduated from the Danish National School of Theatre in Copenhagen in 1993. Coster-Waldau\\'s breakthrough performance in Denmark was his role in the film Nightwatch (1994). Since then he has appeared in numerous films in his native Scandinavia and Europe in\", \"score\": 0.07870625, \"raw_content\": null}], \"response_time\": 1.81}', name='web_search', id='ae655dd8-bff1-45f6-9011-09507e68a579', tool_call_id='call_QweE4C6Zo8pLiPLB0pEXPoVY'), AIMessage(content='Quote: \"The things I do for love.\"  \\nCharacter: Jaime Lannister  \\nPerformer: Nikolaj Coster-Waldau [More about him](https://en.wikipedia.org/wiki/Nikolaj_Coster-Waldau)', additional_kwargs={'refusal': None}, response_metadata={'token_usage': {'completion_tokens': 50, 'prompt_tokens': 1016, 'total_tokens': 1066, 'completion_tokens_details': {'accepted_prediction_tokens': 0, 'audio_tokens': 0, 'reasoning_tokens': 0, 'rejected_prediction_tokens': 0}, 'prompt_tokens_details': {'audio_tokens': 0, 'cached_tokens': 0}}, 'model_name': 'gpt-4o-mini-2024-07-18', 'system_fingerprint': 'fp_86d0290411', 'finish_reason': 'stop', 'logprobs': None}, id='run-169af555-e462-4ea8-b356-2d3f81b33a96-0', usage_metadata={'input_tokens': 1016, 'output_tokens': 50, 'total_tokens': 1066, 'input_token_details': {'audio': 0, 'cache_read': 0}, 'output_token_details': {'audio': 0, 'reasoning': 0}})]}\n"
     ]
    }
   ],
   "source": [
    "result = graph.invoke(\n",
    "    input={\n",
    "        \"messages\": messages\n",
    "    }\n",
    ")\n",
    "\n",
    "print(result)"
   ]
  },
  {
   "cell_type": "code",
   "execution_count": 21,
   "metadata": {},
   "outputs": [
    {
     "name": "stdout",
     "output_type": "stream",
     "text": [
      "================================\u001b[1m System Message \u001b[0m================================\n",
      "\n",
      "You are a Web Researcher focused on Game of Thrones. If user asks you a random quote about GoT. You will not only provide it, but also search the web to find the actor or actress who perform the character who said that.So, your output should be: Quote, Character and Performer.\n",
      "================================\u001b[1m Human Message \u001b[0m=================================\n",
      "\n",
      "Give me a radom GoT quote\n",
      "==================================\u001b[1m Ai Message \u001b[0m==================================\n",
      "Tool Calls:\n",
      "  random_got_quote_tool (call_nxWHPfKpYMcRKXDGVFRJzF40)\n",
      " Call ID: call_nxWHPfKpYMcRKXDGVFRJzF40\n",
      "  Args:\n",
      "=================================\u001b[1m Tool Message \u001b[0m=================================\n",
      "Name: random_got_quote_tool\n",
      "\n",
      "{\"sentence\": \"The things I do for love.\", \"character\": {\"name\": \"Jaime Lannister\", \"slug\": \"jaime\", \"house\": {\"name\": \"House Lannister of Casterly Rock\", \"slug\": \"lannister\"}}}\n",
      "==================================\u001b[1m Ai Message \u001b[0m==================================\n",
      "Tool Calls:\n",
      "  web_search (call_QweE4C6Zo8pLiPLB0pEXPoVY)\n",
      " Call ID: call_QweE4C6Zo8pLiPLB0pEXPoVY\n",
      "  Args:\n",
      "    question: Jaime Lannister actor\n",
      "=================================\u001b[1m Tool Message \u001b[0m=================================\n",
      "Name: web_search\n",
      "\n",
      "{\"query\": \"Jaime Lannister actor\", \"follow_up_questions\": null, \"answer\": null, \"images\": [], \"results\": [{\"title\": \"Jaime Lannister - Wikipedia\", \"url\": \"https://en.wikipedia.org/wiki/Jaime_Lannister\", \"content\": \"Jaime Lannister is a fictional character in the A Song of Ice and Fire series of fantasy novels by American author George R. R. Martin and its television adaptation Game of Thrones, where he is portrayed by Danish actor Nikolaj Coster-Waldau. Jaime becomes a prominent point of view character in the novels beginning with A Storm of Swords (2000).\", \"score\": 0.90810597, \"raw_content\": null}, {\"title\": \"Nikolaj Coster-Waldau - Wikipedia\", \"url\": \"https://en.wikipedia.org/wiki/Nikolaj_Coster-Waldau\", \"content\": \"Nikolaj William Coster-Waldau ([ˈne̝koˌlɑjˀ ˈkʰʌstɐ ˈvæltɑw]; born 27 July 1970) is a Danish actor.He graduated from the Danish National School of Performing Arts in Copenhagen in 1993, [1] and had his breakthrough role in Denmark with the film Nightwatch (1994). He played Jaime Lannister in the HBO fantasy drama series Game of Thrones, for which he received two Primetime Emmy\", \"score\": 0.84918517, \"raw_content\": null}, {\"title\": \"Nikolaj Coster-Waldau Age, Height, Wife, Family, Bio, Net ... - Celebsline\", \"url\": \"https://www.celebsline.com/nikolaj-coster-waldau/\", \"content\": \"Danish actor Nikolaj Coster-Waldau is widely known for playing Jaime Lannister in the acclaimed HBO series Game of Thrones. He largely became popular among the Americans by appearing in the war film Black Hawk Down, Kingdom of Heaven, and Fox television series New Amsterdam. He was last seen in the crime thriller film, Shot Caller.\", \"score\": 0.7644879, \"raw_content\": null}, {\"title\": \"Nikolaj Coster-Waldau Biography - Facts, Childhood, Family Life ...\", \"url\": \"https://www.thefamouspeople.com/profiles/nikolaj-coster-waldau-12927.php\", \"content\": \"Nikolaj Coster-Waldau is a Danish actor, screenwriter, and producer. He is widely known for playing Ser Jaime Lannister in HBO's hit series 'Game of Thrones'. He is also known for appearing in a number of movies, such as 'Nightwatch', 'A Thousand Times Good Night' and 'Headhunters', to name a few.\", \"score\": 0.7443038, \"raw_content\": null}, {\"title\": \"Nikolaj Coster-Waldau - IMDb\", \"url\": \"https://www.imdb.com/name/nm0182666/\", \"content\": \"Nikolaj Coster-Waldau. Actor: Game of Thrones. Nikolaj Coster-Waldau (born July 27, 1970) is a Danish actor, producer and screenwriter. He graduated from the Danish National School of Theatre in Copenhagen in 1993. Coster-Waldau's breakthrough performance in Denmark was his role in the film Nightwatch (1994). Since then he has appeared in numerous films in his native Scandinavia and Europe in\", \"score\": 0.07870625, \"raw_content\": null}], \"response_time\": 1.81}\n",
      "==================================\u001b[1m Ai Message \u001b[0m==================================\n",
      "\n",
      "Quote: \"The things I do for love.\"  \n",
      "Character: Jaime Lannister  \n",
      "Performer: Nikolaj Coster-Waldau [More about him](https://en.wikipedia.org/wiki/Nikolaj_Coster-Waldau)\n"
     ]
    }
   ],
   "source": [
    "for message in result[\"messages\"]:\n",
    "    message.pretty_print()"
   ]
  },
  {
   "cell_type": "code",
   "execution_count": null,
   "metadata": {},
   "outputs": [],
   "source": []
  }
 ],
 "metadata": {
  "kernelspec": {
   "display_name": ".venv",
   "language": "python",
   "name": "python3"
  },
  "language_info": {
   "codemirror_mode": {
    "name": "ipython",
    "version": 3
   },
   "file_extension": ".py",
   "mimetype": "text/x-python",
   "name": "python",
   "nbconvert_exporter": "python",
   "pygments_lexer": "ipython3",
   "version": "3.11.10"
  }
 },
 "nbformat": 4,
 "nbformat_minor": 2
}
