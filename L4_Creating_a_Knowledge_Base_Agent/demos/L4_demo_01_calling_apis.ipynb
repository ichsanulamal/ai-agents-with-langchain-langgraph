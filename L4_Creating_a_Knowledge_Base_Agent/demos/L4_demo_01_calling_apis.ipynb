{
 "cells": [
  {
   "cell_type": "code",
   "execution_count": 1,
   "metadata": {},
   "outputs": [],
   "source": [
    "import os\n",
    "from typing import Dict\n",
    "import requests\n",
    "from tavily import TavilyClient\n",
    "from langchain_core.tools import tool\n",
    "from langchain_core.messages import (\n",
    "    SystemMessage,\n",
    "    AIMessage,\n",
    "    HumanMessage, \n",
    "    ToolMessage,\n",
    ")\n",
    "from langchain_openai import ChatOpenAI\n",
    "from langgraph.graph import START, END, StateGraph\n",
    "from langgraph.graph.message import MessagesState, add_messages\n",
    "from langgraph.prebuilt import ToolNode\n",
    "from IPython.display import Image, display\n",
    "from dotenv import load_dotenv"
   ]
  },
  {
   "cell_type": "code",
   "execution_count": 2,
   "metadata": {},
   "outputs": [
    {
     "data": {
      "text/plain": [
       "True"
      ]
     },
     "execution_count": 2,
     "metadata": {},
     "output_type": "execute_result"
    }
   ],
   "source": [
    "load_dotenv()"
   ]
  },
  {
   "cell_type": "code",
   "execution_count": 3,
   "metadata": {},
   "outputs": [],
   "source": [
    "@tool\n",
    "def random_got_quote_tool()->Dict:\n",
    "    \"\"\"\n",
    "    Return a random Game of Thrones quote and the character who said it\n",
    "    \"\"\"\n",
    "    response = requests.get(\"https://api.gameofthronesquotes.xyz/v1/random\")\n",
    "    return response.json()"
   ]
  },
  {
   "cell_type": "code",
   "execution_count": 4,
   "metadata": {},
   "outputs": [
    {
     "data": {
      "text/plain": [
       "{'sentence': 'I have a tender spot in my heart for cripples, bastards and broken things.',\n",
       " 'character': {'name': 'Tyrion Lannister',\n",
       "  'slug': 'tyrion',\n",
       "  'house': {'name': 'House Lannister of Casterly Rock', 'slug': 'lannister'}}}"
      ]
     },
     "execution_count": 4,
     "metadata": {},
     "output_type": "execute_result"
    }
   ],
   "source": [
    "random_got_quote_tool.invoke({})"
   ]
  },
  {
   "cell_type": "code",
   "execution_count": null,
   "metadata": {},
   "outputs": [],
   "source": [
    "@tool\n",
    "def web_search(question:str)->Dict:\n",
    "    \"\"\"\n",
    "    Return top search results for a given search query\n",
    "    \"\"\"\n",
    "    tavily_client = TavilyClient(api_key=os.getenv(\"TAVILY_API_KEY\"))\n",
    "    response = tavily_client.search(question)\n",
    "    return response"
   ]
  },
  {
   "cell_type": "code",
   "execution_count": 6,
   "metadata": {},
   "outputs": [
    {
     "data": {
      "text/plain": [
       "{'query': 'Who performs Tyrion Lannister in Game of Thrones?',\n",
       " 'follow_up_questions': None,\n",
       " 'answer': None,\n",
       " 'images': [],\n",
       " 'results': [{'title': 'Tyrion Lannister played by Peter Dinklage on Game of Thrones - Official ...',\n",
       "   'url': 'https://www.hbo.com/game-of-thrones/cast-and-crew/tyrion-lannister',\n",
       "   'content': 'Tyrion Lannister Played by Peter Dinklage Called \"The Imp,\" because of his small stature, he is the youngest son of Tywin Lannister, the richest lord in the Seven Kingdoms and younger brother to Queen Cersei and Ser Jaime Lannister.',\n",
       "   'score': 0.8536326,\n",
       "   'raw_content': None},\n",
       "  {'title': 'Biography, Movies, Game of Thrones, & Facts - Britannica',\n",
       "   'url': 'https://www.britannica.com/biography/Peter-Dinklage',\n",
       "   'content': 'Peter Dinklage | Biography, Movies, Game of Thrones, & Facts | Britannica Ask the Chatbot Games & Quizzes History & Society Science & Tech Biographies Animals & Nature Geography & Travel Arts & Culture ProCon Money Videos Peter Dinklage (born June 11, 1969, Morristown, New Jersey, U.S.) is an American actor who was perhaps best known for his role as Tyrion Lannister, a humane and clever dwarf with a penchant for debauchery, on the HBO television show Game of Thrones (2011–19). Dinklage starred in the short-lived science-fiction TV series Threshold (2005–06) and had a recurring role in the FX series Nip/Tuck (2006) before moving on to such family-friendly films as Underdog (2007) and The Chronicles of Narnia: Prince Caspian (2008).',\n",
       "   'score': 0.84027237,\n",
       "   'raw_content': None},\n",
       "  {'title': \"7 Things You Didn't Know About Game of Thrones' Peter Dinklage\",\n",
       "   'url': 'https://tvovermind.com/peter-dinklage-facts-things-you-didnt-know/',\n",
       "   'content': \"7 Things You Didn’t Know About Game of Thrones’ Peter Dinklage - TVovermind 7 Things You Didn’t Know About Game of Thrones’ Peter Dinklage Best known for his role as Tyrion Lannister in the iconic HBO series Game of Thrones, Dinklage’s talents extend far beyond his iconic portrayal of the quick-witted and morally complex character. 5. Peter Dinklage is the Only Game of Thrones Actor To Win An Emmy For His Work On The Show Despite the star-studded ensemble cast of the renowned series, it may come as a surprise that Peter Dinklage stands alone as the sole recipient of an Emmy award for his role in Game of Thrones. Peter Dinklage stands out as the sole American cast member among the ensemble of Game of Thrones. #Game of Thrones#peter dinklage#Things You Didn't Know\",\n",
       "   'score': 0.76512027,\n",
       "   'raw_content': None},\n",
       "  {'title': 'Peter Dinklage | Wiki of Westeros | Fandom',\n",
       "   'url': 'https://gameofthrones.fandom.com/wiki/Peter_Dinklage',\n",
       "   'content': 'Dinklage reprised his role as Tyrion in Game of Thrones: A Telltale Games Series. Dinklage was nominated again for Outstanding Supporting Actor In A Drama Series in 2012 for his work on Season 2, but lost to Aaron Paul for his role as Jesse Pinkman on Breaking Bad.[5] Dinklage received his third consecutive Primetime Emmy Award nomination for the role of Tyrion Lannister in 2013, again for Outstanding Supporting Actor For A Drama Series.[8] Ultimately he did not win, losing to Bobby Cannavale for his role as Gyp Rosetti on Boardwalk Empire.[9] Dinklage won his second Emmy Award, again for his role as Tyrion, for Season 5.[11]',\n",
       "   'score': 0.7440808,\n",
       "   'raw_content': None},\n",
       "  {'title': 'Game of Thrones Cast: Which Actors Play Which Characters',\n",
       "   'url': 'https://castfacts.com/game-of-thrones/',\n",
       "   'content': 'Tyrion Lannister is a witty, intelligent and cunning dwarf from the Lannister family in the hit tv show Game of Thrones. ... This character is a musician who performs in the show Game of Thrones. They play various instruments and are often seen performing at important events and gatherings. Quotes from Musician. I can play you a sad song. Teach',\n",
       "   'score': 0.6907474,\n",
       "   'raw_content': None}],\n",
       " 'response_time': 1.97}"
      ]
     },
     "execution_count": 6,
     "metadata": {},
     "output_type": "execute_result"
    }
   ],
   "source": [
    "web_search.invoke(\n",
    "    {\n",
    "        \"question\": \"Who performs Tyrion Lannister in Game of Thrones?\"\n",
    "    }\n",
    ")"
   ]
  },
  {
   "cell_type": "code",
   "execution_count": 7,
   "metadata": {},
   "outputs": [],
   "source": [
    "tools = [random_got_quote_tool, web_search]"
   ]
  },
  {
   "cell_type": "code",
   "execution_count": 8,
   "metadata": {},
   "outputs": [],
   "source": [
    "llm = ChatOpenAI(\n",
    "    model=\"gpt-4o-mini\",\n",
    "    temperature=0.0,\n",
    ")"
   ]
  },
  {
   "cell_type": "code",
   "execution_count": 9,
   "metadata": {},
   "outputs": [],
   "source": [
    "llm_with_tools = llm.bind_tools(tools)"
   ]
  },
  {
   "cell_type": "code",
   "execution_count": 10,
   "metadata": {},
   "outputs": [],
   "source": [
    "def agent(state: MessagesState):\n",
    "    ai_message = llm_with_tools.invoke(state[\"messages\"])\n",
    "    return {\"messages\": ai_message}"
   ]
  },
  {
   "cell_type": "code",
   "execution_count": 11,
   "metadata": {},
   "outputs": [],
   "source": [
    "def router(state: MessagesState):\n",
    "    last_message = state[\"messages\"][-1]\n",
    "    if last_message.tool_calls:\n",
    "        return \"tools\"\n",
    "\n",
    "    return END"
   ]
  },
  {
   "cell_type": "code",
   "execution_count": 12,
   "metadata": {},
   "outputs": [
    {
     "data": {
      "text/plain": [
       "<langgraph.graph.state.StateGraph at 0x10bdb96d0>"
      ]
     },
     "execution_count": 12,
     "metadata": {},
     "output_type": "execute_result"
    }
   ],
   "source": [
    "workflow = StateGraph(MessagesState)\n",
    "\n",
    "workflow.add_node(\"agent\", agent)\n",
    "workflow.add_node(\"tools\", ToolNode(tools))\n",
    "\n",
    "workflow.add_edge(START, \"agent\")\n",
    "\n",
    "workflow.add_conditional_edges(\n",
    "    source=\"agent\", \n",
    "    path=router, \n",
    "    path_map=[\"tools\", END]\n",
    ")\n",
    "\n",
    "workflow.add_edge(\"tools\", \"agent\")\n"
   ]
  },
  {
   "cell_type": "code",
   "execution_count": 13,
   "metadata": {},
   "outputs": [
    {
     "data": {
      "image/png": "[encoded data removed]",
      "text/plain": [
       "<IPython.core.display.Image object>"
      ]
     },
     "metadata": {},
     "output_type": "display_data"
    }
   ],
   "source": [
    "graph = workflow.compile()\n",
    "\n",
    "display(\n",
    "    Image(\n",
    "        graph.get_graph().draw_mermaid_png()\n",
    "    )\n",
    ")"
   ]
  },
  {
   "cell_type": "code",
   "execution_count": 14,
   "metadata": {},
   "outputs": [],
   "source": [
    "messages = [\n",
    "    SystemMessage(\n",
    "        \"You are a Web Researcher focused on Game of Thrones. \"\n",
    "        \"If user asks you a random quote about GoT. You will not only \" \n",
    "        \"provide it, but also search the web to find the actor or actress \"\n",
    "        \"who perform the character who said that.\"\n",
    "        \"So, your output should be: Quote, Character and Performer.\"\n",
    "    ),\n",
    "    HumanMessage(\"Give me a radom GoT quote\")\n",
    "]"
   ]
  },
  {
   "cell_type": "code",
   "execution_count": 15,
   "metadata": {},
   "outputs": [
    {
     "data": {
      "text/plain": [
       "{'messages': [SystemMessage(content='You are a Web Researcher focused on Game of Thrones. If user asks you a random quote about GoT. You will not only provide it, but also search the web to find the actor or actress who perform the character who said that.So, your output should be: Quote, Character and Performer.', additional_kwargs={}, response_metadata={}, id='5b575166-4d01-4eff-8a28-c9dd76b88a38'),\n",
       "  HumanMessage(content='Give me a radom GoT quote', additional_kwargs={}, response_metadata={}, id='f149bc5d-3d47-424d-9bfe-926c6c700456'),\n",
       "  AIMessage(content='', additional_kwargs={'tool_calls': [{'id': 'call_4MEsVvxW4DVY6J8I4BWIIrCK', 'function': {'arguments': '{}', 'name': 'random_got_quote_tool'}, 'type': 'function'}], 'refusal': None}, response_metadata={'token_usage': {'completion_tokens': 14, 'prompt_tokens': 141, 'total_tokens': 155, 'completion_tokens_details': {'accepted_prediction_tokens': 0, 'audio_tokens': 0, 'reasoning_tokens': 0, 'rejected_prediction_tokens': 0}, 'prompt_tokens_details': {'audio_tokens': 0, 'cached_tokens': 0}}, 'model_name': 'gpt-4o-mini-2024-07-18', 'system_fingerprint': 'fp_06737a9306', 'finish_reason': 'tool_calls', 'logprobs': None}, id='run-166bb545-724d-4487-accf-b4877da3bb6d-0', tool_calls=[{'name': 'random_got_quote_tool', 'args': {}, 'id': 'call_4MEsVvxW4DVY6J8I4BWIIrCK', 'type': 'tool_call'}], usage_metadata={'input_tokens': 141, 'output_tokens': 14, 'total_tokens': 155, 'input_token_details': {'audio': 0, 'cache_read': 0}, 'output_token_details': {'audio': 0, 'reasoning': 0}}),\n",
       "  ToolMessage(content='{\"sentence\": \"If the day comes when you must find me again, just give that coin to any man from Braavos and say these words to him: \\\\\"Valar morghulis.\\\\\"\", \"character\": {\"name\": \"Jaqen H\\'ghar\", \"slug\": \"jaqen\", \"house\": {\"name\": null, \"slug\": null}}}', name='random_got_quote_tool', id='c387152f-609c-41e5-b611-4917483cf344', tool_call_id='call_4MEsVvxW4DVY6J8I4BWIIrCK'),\n",
       "  AIMessage(content='', additional_kwargs={'tool_calls': [{'id': 'call_5KUFxWwjtYLbNMsckDx8lZGD', 'function': {'arguments': '{\"question\":\"Jaqen H\\'ghar actor\"}', 'name': 'web_search'}, 'type': 'function'}], 'refusal': None}, response_metadata={'token_usage': {'completion_tokens': 21, 'prompt_tokens': 241, 'total_tokens': 262, 'completion_tokens_details': {'accepted_prediction_tokens': 0, 'audio_tokens': 0, 'reasoning_tokens': 0, 'rejected_prediction_tokens': 0}, 'prompt_tokens_details': {'audio_tokens': 0, 'cached_tokens': 0}}, 'model_name': 'gpt-4o-mini-2024-07-18', 'system_fingerprint': 'fp_06737a9306', 'finish_reason': 'tool_calls', 'logprobs': None}, id='run-530c0cdb-b2ac-49e0-95a4-461d41c377ed-0', tool_calls=[{'name': 'web_search', 'args': {'question': \"Jaqen H'ghar actor\"}, 'id': 'call_5KUFxWwjtYLbNMsckDx8lZGD', 'type': 'tool_call'}], usage_metadata={'input_tokens': 241, 'output_tokens': 21, 'total_tokens': 262, 'input_token_details': {'audio': 0, 'cache_read': 0}, 'output_token_details': {'audio': 0, 'reasoning': 0}}),\n",
       "  ToolMessage(content='{\"query\": \"Jaqen H\\'ghar actor\", \"follow_up_questions\": null, \"answer\": null, \"images\": [], \"results\": [{\"title\": \"Tom Wlaschiha - Wikipedia\", \"url\": \"https://en.wikipedia.org/wiki/Tom_Wlaschiha\", \"content\": \"Tom Wlaschiha is a German actor who played Jaqen H\\'ghar in Game of Thrones. He also starred in Crossing Lines, Das Boot, and Lightyear.\", \"score\": 0.8775715, \"raw_content\": null}, {\"title\": \"Tom Wlaschiha - IMDb\", \"url\": \"https://www.imdb.com/name/nm0937239/\", \"content\": \"Tom Wlaschiha is a German actor who played Jaqen H\\'Ghar in the second, fifth and sixth seasons of Game of Thrones. He also starred in Crossing Lines, Resistance, Mr. Turner and Stranger Things.\", \"score\": 0.8674071, \"raw_content\": null}, {\"title\": \"Tom Wlaschiha - Biography - IMDb\", \"url\": \"https://www.imdb.com/name/nm0937239/bio/\", \"content\": \"Tom Wlaschiha is a German actor who played Jaqen H\\'Ghar in the second, fifth and sixth seasons of Game of Thrones. He also appeared in Crossing Lines, Jack Ryan and Stranger Things.\", \"score\": 0.8585411, \"raw_content\": null}, {\"title\": \"Tom Wlaschiha - Actor - TV Insider\", \"url\": \"https://www.tvinsider.com/people/tom-wlaschiha/\", \"content\": \"Thomas \\'Tom\\' Wlaschiha is a German TV, film, stage, and voice actor. Internationally, he is known for his role as Jaqen H\\'ghar in the second season of the TV series Game of Thrones. Wlaschiha wa\", \"score\": 0.8464638, \"raw_content\": null}, {\"title\": \"Tom Wlaschiha Bio - married,height,net worth,ethnciity,affair\", \"url\": \"https://articlebio.com/tom-wlaschiha\", \"content\": \"Tom Wlaschiha is an actor of television, film, voice and stage of German nationality, who has been known best for the portrayal of Jaqen H\\'Ghar in the second and the fifth seasons of the highly acclaimed HBO series Game of Thrones. He was born on the 20th of June, 1973 and his ethnicity is known to be Czech.\", \"score\": 0.82254606, \"raw_content\": null}], \"response_time\": 1.84}', name='web_search', id='80dda294-7ef5-4b18-a712-04cc47e7315b', tool_call_id='call_5KUFxWwjtYLbNMsckDx8lZGD'),\n",
       "  AIMessage(content='Quote: \"If the day comes when you must find me again, just give that coin to any man from Braavos and say these words to him: \\'Valar morghulis.\\'\"\\n\\nCharacter: Jaqen H\\'ghar\\n\\nPerformer: [Tom Wlaschiha](https://en.wikipedia.org/wiki/Tom_Wlaschiha)', additional_kwargs={'refusal': None}, response_metadata={'token_usage': {'completion_tokens': 73, 'prompt_tokens': 834, 'total_tokens': 907, 'completion_tokens_details': {'accepted_prediction_tokens': 0, 'audio_tokens': 0, 'reasoning_tokens': 0, 'rejected_prediction_tokens': 0}, 'prompt_tokens_details': {'audio_tokens': 0, 'cached_tokens': 0}}, 'model_name': 'gpt-4o-mini-2024-07-18', 'system_fingerprint': 'fp_06737a9306', 'finish_reason': 'stop', 'logprobs': None}, id='run-9c3cf696-25b8-4f5a-825f-835c5d1d3f8f-0', usage_metadata={'input_tokens': 834, 'output_tokens': 73, 'total_tokens': 907, 'input_token_details': {'audio': 0, 'cache_read': 0}, 'output_token_details': {'audio': 0, 'reasoning': 0}})]}"
      ]
     },
     "execution_count": 15,
     "metadata": {},
     "output_type": "execute_result"
    }
   ],
   "source": [
    "graph.invoke(\n",
    "    input={\n",
    "        \"messages\": messages\n",
    "    }\n",
    ")"
   ]
  },
  {
   "cell_type": "markdown",
   "metadata": {},
   "source": []
  }
 ],
 "metadata": {
  "kernelspec": {
   "display_name": ".venv",
   "language": "python",
   "name": "python3"
  },
  "language_info": {
   "codemirror_mode": {
    "name": "ipython",
    "version": 3
   },
   "file_extension": ".py",
   "mimetype": "text/x-python",
   "name": "python",
   "nbconvert_exporter": "python",
   "pygments_lexer": "ipython3",
   "version": "3.11.10"
  }
 },
 "nbformat": 4,
 "nbformat_minor": 2
}
