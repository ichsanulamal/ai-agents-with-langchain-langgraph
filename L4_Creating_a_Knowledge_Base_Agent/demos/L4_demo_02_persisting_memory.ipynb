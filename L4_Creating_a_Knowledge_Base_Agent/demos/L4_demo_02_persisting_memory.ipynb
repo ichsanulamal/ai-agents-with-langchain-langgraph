{
 "cells": [
  {
   "cell_type": "code",
   "execution_count": 1,
   "metadata": {},
   "outputs": [],
   "source": [
    "import sqlite3\n",
    "import json\n",
    "from langchain_core.messages import (\n",
    "    SystemMessage,\n",
    "    AIMessage,\n",
    "    HumanMessage, \n",
    "    ToolMessage,\n",
    ")\n",
    "from langchain_openai import ChatOpenAI\n",
    "from langgraph.graph import START, END, StateGraph\n",
    "from langgraph.graph.message import MessagesState\n",
    "from langgraph.checkpoint.memory import MemorySaver\n",
    "from langgraph.checkpoint.sqlite import SqliteSaver\n",
    "from IPython.display import Image, display"
   ]
  },
  {
   "cell_type": "code",
   "execution_count": 2,
   "metadata": {},
   "outputs": [],
   "source": [
    "from dotenv import load_dotenv\n",
    "load_dotenv()\n",
    "\n",
    "llm = ChatOpenAI(\n",
    "    model=\"gpt-4o-mini\",\n",
    "    temperature=0.0,\n",
    ")"
   ]
  },
  {
   "cell_type": "code",
   "execution_count": 3,
   "metadata": {},
   "outputs": [],
   "source": [
    "def run_graph(query:str, graph:StateGraph, thread_id:int):\n",
    "    output = graph.invoke(\n",
    "        config={\"configurable\":{\"thread_id\": thread_id}},\n",
    "        input={\"messages\":[HumanMessage(query)]}\n",
    "    )\n",
    "    return output"
   ]
  },
  {
   "cell_type": "markdown",
   "metadata": {},
   "source": [
    "**In-memory**"
   ]
  },
  {
   "cell_type": "code",
   "execution_count": 4,
   "metadata": {},
   "outputs": [
    {
     "data": {
      "image/png": "[encoded data removed]",
      "text/plain": [
       "<IPython.core.display.Image object>"
      ]
     },
     "metadata": {},
     "output_type": "display_data"
    }
   ],
   "source": [
    "def chatbot(state: MessagesState):\n",
    "    ai_message = llm.invoke(state[\"messages\"])\n",
    "    return {\"messages\": ai_message}\n",
    "\n",
    "\n",
    "workflow = StateGraph(MessagesState)\n",
    "\n",
    "workflow.add_node(chatbot)\n",
    "workflow.add_edge(START, \"chatbot\")\n",
    "workflow.add_edge(\"chatbot\", END)\n",
    "\n",
    "checkpointer = MemorySaver()\n",
    "in_memory_graph = workflow.compile(checkpointer=checkpointer)\n",
    "\n",
    "display(\n",
    "    Image(\n",
    "        in_memory_graph.get_graph().draw_mermaid_png()\n",
    "    )\n",
    ")"
   ]
  },
  {
   "cell_type": "code",
   "execution_count": 5,
   "metadata": {},
   "outputs": [
    {
     "data": {
      "text/plain": [
       "{'messages': [HumanMessage(content='Hi', additional_kwargs={}, response_metadata={}, id='80350509-d2a2-4649-9a93-28046d24335d'),\n",
       "  AIMessage(content='Hello! How can I assist you today?', additional_kwargs={'refusal': None}, response_metadata={'token_usage': {'completion_tokens': 10, 'prompt_tokens': 8, 'total_tokens': 18, 'completion_tokens_details': {'accepted_prediction_tokens': 0, 'audio_tokens': 0, 'reasoning_tokens': 0, 'rejected_prediction_tokens': 0}, 'prompt_tokens_details': {'audio_tokens': 0, 'cached_tokens': 0}}, 'model_name': 'gpt-4o-mini-2024-07-18', 'system_fingerprint': 'fp_86d0290411', 'finish_reason': 'stop', 'logprobs': None}, id='run-2183fcd0-48a1-4514-a6af-1f89252c4489-0', usage_metadata={'input_tokens': 8, 'output_tokens': 10, 'total_tokens': 18, 'input_token_details': {'audio': 0, 'cache_read': 0}, 'output_token_details': {'audio': 0, 'reasoning': 0}})]}"
      ]
     },
     "execution_count": 5,
     "metadata": {},
     "output_type": "execute_result"
    }
   ],
   "source": [
    "run_graph(\n",
    "    query=\"Hi\",\n",
    "    graph=in_memory_graph, \n",
    "    thread_id=\"1\"\n",
    ")"
   ]
  },
  {
   "cell_type": "code",
   "execution_count": 6,
   "metadata": {},
   "outputs": [
    {
     "data": {
      "text/plain": [
       "[{'messages': [HumanMessage(content='Hi', additional_kwargs={}, response_metadata={}, id='80350509-d2a2-4649-9a93-28046d24335d'),\n",
       "   AIMessage(content='Hello! How can I assist you today?', additional_kwargs={'refusal': None}, response_metadata={'token_usage': {'completion_tokens': 10, 'prompt_tokens': 8, 'total_tokens': 18, 'completion_tokens_details': {'accepted_prediction_tokens': 0, 'audio_tokens': 0, 'reasoning_tokens': 0, 'rejected_prediction_tokens': 0}, 'prompt_tokens_details': {'audio_tokens': 0, 'cached_tokens': 0}}, 'model_name': 'gpt-4o-mini-2024-07-18', 'system_fingerprint': 'fp_86d0290411', 'finish_reason': 'stop', 'logprobs': None}, id='run-2183fcd0-48a1-4514-a6af-1f89252c4489-0', usage_metadata={'input_tokens': 8, 'output_tokens': 10, 'total_tokens': 18, 'input_token_details': {'audio': 0, 'cache_read': 0}, 'output_token_details': {'audio': 0, 'reasoning': 0}})]},\n",
       " (),\n",
       " {'configurable': {'thread_id': '1',\n",
       "   'checkpoint_ns': '',\n",
       "   'checkpoint_id': '1f00ca29-afbf-6cd0-8001-44bfad564d4d'}},\n",
       " {'source': 'loop',\n",
       "  'writes': {'chatbot': {'messages': AIMessage(content='Hello! How can I assist you today?', additional_kwargs={'refusal': None}, response_metadata={'token_usage': {'completion_tokens': 10, 'prompt_tokens': 8, 'total_tokens': 18, 'completion_tokens_details': {'accepted_prediction_tokens': 0, 'audio_tokens': 0, 'reasoning_tokens': 0, 'rejected_prediction_tokens': 0}, 'prompt_tokens_details': {'audio_tokens': 0, 'cached_tokens': 0}}, 'model_name': 'gpt-4o-mini-2024-07-18', 'system_fingerprint': 'fp_86d0290411', 'finish_reason': 'stop', 'logprobs': None}, id='run-2183fcd0-48a1-4514-a6af-1f89252c4489-0', usage_metadata={'input_tokens': 8, 'output_tokens': 10, 'total_tokens': 18, 'input_token_details': {'audio': 0, 'cache_read': 0}, 'output_token_details': {'audio': 0, 'reasoning': 0}})}},\n",
       "  'thread_id': '1',\n",
       "  'step': 1,\n",
       "  'parents': {}},\n",
       " '2025-03-29T13:34:57.292597+00:00',\n",
       " {'configurable': {'thread_id': '1',\n",
       "   'checkpoint_ns': '',\n",
       "   'checkpoint_id': '1f00ca29-a832-6d0a-8000-d415a47cc0be'}},\n",
       " ()]"
      ]
     },
     "execution_count": 6,
     "metadata": {},
     "output_type": "execute_result"
    }
   ],
   "source": [
    "list(\n",
    "    in_memory_graph.get_state(\n",
    "        config={\"configurable\":{\"thread_id\": \"1\"}}\n",
    "    )\n",
    ")"
   ]
  },
  {
   "cell_type": "markdown",
   "metadata": {},
   "source": [
    "**SQLite**"
   ]
  },
  {
   "cell_type": "code",
   "execution_count": 7,
   "metadata": {},
   "outputs": [],
   "source": [
    "# For production, use something like Postgres\n",
    "db_path = \"memory.db\"\n",
    "conn = sqlite3.connect(db_path, check_same_thread=False)"
   ]
  },
  {
   "cell_type": "code",
   "execution_count": 8,
   "metadata": {},
   "outputs": [
    {
     "data": {
      "image/png": "[encoded data removed]",
      "text/plain": [
       "<IPython.core.display.Image object>"
      ]
     },
     "metadata": {},
     "output_type": "display_data"
    }
   ],
   "source": [
    "memory = SqliteSaver(conn)\n",
    "external_memory_graph = workflow.compile(checkpointer=memory)\n",
    "\n",
    "display(\n",
    "    Image(\n",
    "        external_memory_graph.get_graph().draw_mermaid_png()\n",
    "    )\n",
    ")"
   ]
  },
  {
   "cell_type": "code",
   "execution_count": 9,
   "metadata": {},
   "outputs": [
    {
     "data": {
      "text/plain": [
       "{'messages': [HumanMessage(content=\"What's a memory?\", additional_kwargs={}, response_metadata={}, id='a3dc17f4-acb5-4552-9c8a-0c5d9cefaff2'),\n",
       "  AIMessage(content='A memory can refer to several concepts, depending on the context:\\n\\n1. **Psychological Memory**: In psychology, memory is the mental capacity to encode, store, and retrieve information. It involves processes such as perception, attention, and recall, and can be categorized into different types, such as short-term memory, long-term memory, and working memory.\\n\\n2. **Biological Memory**: In neuroscience, memory refers to the mechanisms and structures in the brain that enable the storage and retrieval of information. This includes the roles of various brain regions, such as the hippocampus and amygdala, in forming and recalling memories.\\n\\n3. **Computer Memory**: In computing, memory refers to the components of a computer that store data temporarily or permanently. This includes RAM (Random Access Memory), which is used for temporary storage while a computer is running, and storage devices like hard drives and SSDs, which store data long-term.\\n\\n4. **Cultural Memory**: This refers to the shared pool of knowledge and information in a culture or society, which is passed down through generations. It encompasses collective experiences, traditions, and historical narratives.\\n\\nIn all these contexts, memory plays a crucial role in learning, identity, and functioning.', additional_kwargs={'refusal': None}, response_metadata={'token_usage': {'completion_tokens': 249, 'prompt_tokens': 11, 'total_tokens': 260, 'completion_tokens_details': {'accepted_prediction_tokens': 0, 'audio_tokens': 0, 'reasoning_tokens': 0, 'rejected_prediction_tokens': 0}, 'prompt_tokens_details': {'audio_tokens': 0, 'cached_tokens': 0}}, 'model_name': 'gpt-4o-mini-2024-07-18', 'system_fingerprint': 'fp_b376dfbbd5', 'finish_reason': 'stop', 'logprobs': None}, id='run-3ee66a40-60eb-48e0-8c87-402ab8cc155d-0', usage_metadata={'input_tokens': 11, 'output_tokens': 249, 'total_tokens': 260, 'input_token_details': {'audio': 0, 'cache_read': 0}, 'output_token_details': {'audio': 0, 'reasoning': 0}})]}"
      ]
     },
     "execution_count": 9,
     "metadata": {},
     "output_type": "execute_result"
    }
   ],
   "source": [
    "run_graph(\n",
    "    query=\"What's a memory?\",\n",
    "    graph=external_memory_graph, \n",
    "    thread_id=\"2\"\n",
    ")"
   ]
  },
  {
   "cell_type": "code",
   "execution_count": 10,
   "metadata": {},
   "outputs": [
    {
     "data": {
      "text/plain": [
       "[{'messages': [HumanMessage(content=\"What's a memory?\", additional_kwargs={}, response_metadata={}, id='a3dc17f4-acb5-4552-9c8a-0c5d9cefaff2'),\n",
       "   AIMessage(content='A memory can refer to several concepts, depending on the context:\\n\\n1. **Psychological Memory**: In psychology, memory is the mental capacity to encode, store, and retrieve information. It involves processes such as perception, attention, and recall, and can be categorized into different types, such as short-term memory, long-term memory, and working memory.\\n\\n2. **Biological Memory**: In neuroscience, memory refers to the mechanisms and structures in the brain that enable the storage and retrieval of information. This includes the roles of various brain regions, such as the hippocampus and amygdala, in forming and recalling memories.\\n\\n3. **Computer Memory**: In computing, memory refers to the components of a computer that store data temporarily or permanently. This includes RAM (Random Access Memory), which is used for temporary storage while a computer is running, and storage devices like hard drives and SSDs, which store data long-term.\\n\\n4. **Cultural Memory**: This refers to the shared pool of knowledge and information in a culture or society, which is passed down through generations. It encompasses collective experiences, traditions, and historical narratives.\\n\\nIn all these contexts, memory plays a crucial role in learning, identity, and functioning.', additional_kwargs={'refusal': None}, response_metadata={'token_usage': {'completion_tokens': 249, 'prompt_tokens': 11, 'total_tokens': 260, 'completion_tokens_details': {'accepted_prediction_tokens': 0, 'audio_tokens': 0, 'reasoning_tokens': 0, 'rejected_prediction_tokens': 0}, 'prompt_tokens_details': {'audio_tokens': 0, 'cached_tokens': 0}}, 'model_name': 'gpt-4o-mini-2024-07-18', 'system_fingerprint': 'fp_b376dfbbd5', 'finish_reason': 'stop', 'logprobs': None}, id='run-3ee66a40-60eb-48e0-8c87-402ab8cc155d-0', usage_metadata={'input_tokens': 11, 'output_tokens': 249, 'total_tokens': 260, 'input_token_details': {'audio': 0, 'cache_read': 0}, 'output_token_details': {'audio': 0, 'reasoning': 0}})]},\n",
       " (),\n",
       " {'configurable': {'thread_id': '2',\n",
       "   'checkpoint_ns': '',\n",
       "   'checkpoint_id': '1f00ca2e-5d65-6412-8001-3a2b3b82e7be'}},\n",
       " {'source': 'loop',\n",
       "  'writes': {'chatbot': {'messages': AIMessage(content='A memory can refer to several concepts, depending on the context:\\n\\n1. **Psychological Memory**: In psychology, memory is the mental capacity to encode, store, and retrieve information. It involves processes such as perception, attention, and recall, and can be categorized into different types, such as short-term memory, long-term memory, and working memory.\\n\\n2. **Biological Memory**: In neuroscience, memory refers to the mechanisms and structures in the brain that enable the storage and retrieval of information. This includes the roles of various brain regions, such as the hippocampus and amygdala, in forming and recalling memories.\\n\\n3. **Computer Memory**: In computing, memory refers to the components of a computer that store data temporarily or permanently. This includes RAM (Random Access Memory), which is used for temporary storage while a computer is running, and storage devices like hard drives and SSDs, which store data long-term.\\n\\n4. **Cultural Memory**: This refers to the shared pool of knowledge and information in a culture or society, which is passed down through generations. It encompasses collective experiences, traditions, and historical narratives.\\n\\nIn all these contexts, memory plays a crucial role in learning, identity, and functioning.', additional_kwargs={'refusal': None}, response_metadata={'token_usage': {'completion_tokens': 249, 'prompt_tokens': 11, 'total_tokens': 260, 'completion_tokens_details': {'accepted_prediction_tokens': 0, 'audio_tokens': 0, 'reasoning_tokens': 0, 'rejected_prediction_tokens': 0}, 'prompt_tokens_details': {'audio_tokens': 0, 'cached_tokens': 0}}, 'model_name': 'gpt-4o-mini-2024-07-18', 'system_fingerprint': 'fp_b376dfbbd5', 'finish_reason': 'stop', 'logprobs': None}, id='run-3ee66a40-60eb-48e0-8c87-402ab8cc155d-0', usage_metadata={'input_tokens': 11, 'output_tokens': 249, 'total_tokens': 260, 'input_token_details': {'audio': 0, 'cache_read': 0}, 'output_token_details': {'audio': 0, 'reasoning': 0}})}},\n",
       "  'thread_id': '2',\n",
       "  'step': 1,\n",
       "  'parents': {}},\n",
       " '2025-03-29T13:37:02.874872+00:00',\n",
       " {'configurable': {'thread_id': '2',\n",
       "   'checkpoint_ns': '',\n",
       "   'checkpoint_id': '1f00ca2e-219c-66c4-8000-94a09173333d'}},\n",
       " ()]"
      ]
     },
     "execution_count": 10,
     "metadata": {},
     "output_type": "execute_result"
    }
   ],
   "source": [
    "list(\n",
    "    external_memory_graph.get_state(\n",
    "        config={\"configurable\":{\"thread_id\": \"2\"}}\n",
    "    )\n",
    ")"
   ]
  },
  {
   "cell_type": "markdown",
   "metadata": {},
   "source": [
    "**Querying memory**"
   ]
  },
  {
   "cell_type": "code",
   "execution_count": 11,
   "metadata": {},
   "outputs": [
    {
     "data": {
      "text/plain": [
       "['checkpoints', 'writes']"
      ]
     },
     "execution_count": 11,
     "metadata": {},
     "output_type": "execute_result"
    }
   ],
   "source": [
    "cursor = conn.cursor()\n",
    "cursor.execute(\"SELECT name FROM sqlite_master WHERE type='table';\")\n",
    "tables = [table_name[0] for table_name in cursor.fetchall()]\n",
    "tables"
   ]
  },
  {
   "cell_type": "code",
   "execution_count": 12,
   "metadata": {},
   "outputs": [],
   "source": [
    "columns_map = []\n",
    "results = []\n",
    "\n",
    "for table in tables:\n",
    "    cursor.execute(f\"select * from {table}\")\n",
    "    results.append(cursor.fetchall())\n",
    "    columns_map.append({table:[desc[0] for desc in cursor.description]})"
   ]
  },
  {
   "cell_type": "code",
   "execution_count": 13,
   "metadata": {},
   "outputs": [
    {
     "data": {
      "text/plain": [
       "[{'checkpoints': ['thread_id',\n",
       "   'checkpoint_ns',\n",
       "   'checkpoint_id',\n",
       "   'parent_checkpoint_id',\n",
       "   'type',\n",
       "   'checkpoint',\n",
       "   'metadata']},\n",
       " {'writes': ['thread_id',\n",
       "   'checkpoint_ns',\n",
       "   'checkpoint_id',\n",
       "   'task_id',\n",
       "   'idx',\n",
       "   'channel',\n",
       "   'type',\n",
       "   'value']}]"
      ]
     },
     "execution_count": 13,
     "metadata": {},
     "output_type": "execute_result"
    }
   ],
   "source": [
    "columns_map"
   ]
  },
  {
   "cell_type": "code",
   "execution_count": 14,
   "metadata": {},
   "outputs": [
    {
     "data": {
      "text/plain": [
       "[(b'{\"source\": \"input\", \"writes\": {\"__start__\": {\"messages\": [{\"lc\": 1, \"type\": \"constructor\", \"id\": [\"langchain\", \"schema\", \"messages\", \"HumanMessage\"], \"kwargs\": {\"content\": \"What\\'s a memory?\", \"type\": \"human\"}}]}}, \"thread_id\": \"2\", \"step\": -1, \"parents\": {}}',),\n",
       " (b'{\"source\": \"loop\", \"writes\": null, \"thread_id\": \"2\", \"step\": 0, \"parents\": {}}',),\n",
       " (b'{\"source\": \"loop\", \"writes\": {\"chatbot\": {\"messages\": {\"lc\": 1, \"type\": \"constructor\", \"id\": [\"langchain\", \"schema\", \"messages\", \"AIMessage\"], \"kwargs\": {\"content\": \"A memory can refer to several concepts, depending on the context:\\\\n\\\\n1. **Psychological Memory**: In psychology, memory is the mental capacity to encode, store, and retrieve information. It involves processes such as perception, attention, and recall, and can be categorized into different types, such as short-term memory, long-term memory, and working memory.\\\\n\\\\n2. **Biological Memory**: In neuroscience, memory refers to the mechanisms and structures in the brain that enable the storage and retrieval of information. This includes the roles of various brain regions, such as the hippocampus and amygdala, in forming and recalling memories.\\\\n\\\\n3. **Computer Memory**: In computing, memory refers to the components of a computer that store data temporarily or permanently. This includes RAM (Random Access Memory), which is used for temporary storage while a computer is running, and storage devices like hard drives and SSDs, which store data long-term.\\\\n\\\\n4. **Cultural Memory**: This refers to the shared pool of knowledge and information in a culture or society, which is passed down through generations. It encompasses collective experiences, traditions, and historical narratives.\\\\n\\\\nIn all these contexts, memory plays a crucial role in learning, identity, and functioning.\", \"additional_kwargs\": {\"refusal\": null}, \"response_metadata\": {\"token_usage\": {\"completion_tokens\": 249, \"prompt_tokens\": 11, \"total_tokens\": 260, \"completion_tokens_details\": {\"accepted_prediction_tokens\": 0, \"audio_tokens\": 0, \"reasoning_tokens\": 0, \"rejected_prediction_tokens\": 0}, \"prompt_tokens_details\": {\"audio_tokens\": 0, \"cached_tokens\": 0}}, \"model_name\": \"gpt-4o-mini-2024-07-18\", \"system_fingerprint\": \"fp_b376dfbbd5\", \"finish_reason\": \"stop\", \"logprobs\": null}, \"type\": \"ai\", \"id\": \"run-3ee66a40-60eb-48e0-8c87-402ab8cc155d-0\", \"usage_metadata\": {\"input_tokens\": 11, \"output_tokens\": 249, \"total_tokens\": 260, \"input_token_details\": {\"audio\": 0, \"cache_read\": 0}, \"output_token_details\": {\"audio\": 0, \"reasoning\": 0}}, \"tool_calls\": [], \"invalid_tool_calls\": []}}}}, \"thread_id\": \"2\", \"step\": 1, \"parents\": {}}',)]"
      ]
     },
     "execution_count": 14,
     "metadata": {},
     "output_type": "execute_result"
    }
   ],
   "source": [
    "cursor.execute(f\"select metadata from checkpoints\")\n",
    "metadata = cursor.fetchall()\n",
    "metadata"
   ]
  },
  {
   "cell_type": "code",
   "execution_count": 15,
   "metadata": {},
   "outputs": [
    {
     "data": {
      "text/plain": [
       "[{'source': 'input',\n",
       "  'writes': {'__start__': {'messages': [{'lc': 1,\n",
       "      'type': 'constructor',\n",
       "      'id': ['langchain', 'schema', 'messages', 'HumanMessage'],\n",
       "      'kwargs': {'content': \"What's a memory?\", 'type': 'human'}}]}},\n",
       "  'thread_id': '2',\n",
       "  'step': -1,\n",
       "  'parents': {}},\n",
       " {'source': 'loop',\n",
       "  'writes': None,\n",
       "  'thread_id': '2',\n",
       "  'step': 0,\n",
       "  'parents': {}},\n",
       " {'source': 'loop',\n",
       "  'writes': {'chatbot': {'messages': {'lc': 1,\n",
       "     'type': 'constructor',\n",
       "     'id': ['langchain', 'schema', 'messages', 'AIMessage'],\n",
       "     'kwargs': {'content': 'A memory can refer to several concepts, depending on the context:\\n\\n1. **Psychological Memory**: In psychology, memory is the mental capacity to encode, store, and retrieve information. It involves processes such as perception, attention, and recall, and can be categorized into different types, such as short-term memory, long-term memory, and working memory.\\n\\n2. **Biological Memory**: In neuroscience, memory refers to the mechanisms and structures in the brain that enable the storage and retrieval of information. This includes the roles of various brain regions, such as the hippocampus and amygdala, in forming and recalling memories.\\n\\n3. **Computer Memory**: In computing, memory refers to the components of a computer that store data temporarily or permanently. This includes RAM (Random Access Memory), which is used for temporary storage while a computer is running, and storage devices like hard drives and SSDs, which store data long-term.\\n\\n4. **Cultural Memory**: This refers to the shared pool of knowledge and information in a culture or society, which is passed down through generations. It encompasses collective experiences, traditions, and historical narratives.\\n\\nIn all these contexts, memory plays a crucial role in learning, identity, and functioning.',\n",
       "      'additional_kwargs': {'refusal': None},\n",
       "      'response_metadata': {'token_usage': {'completion_tokens': 249,\n",
       "        'prompt_tokens': 11,\n",
       "        'total_tokens': 260,\n",
       "        'completion_tokens_details': {'accepted_prediction_tokens': 0,\n",
       "         'audio_tokens': 0,\n",
       "         'reasoning_tokens': 0,\n",
       "         'rejected_prediction_tokens': 0},\n",
       "        'prompt_tokens_details': {'audio_tokens': 0, 'cached_tokens': 0}},\n",
       "       'model_name': 'gpt-4o-mini-2024-07-18',\n",
       "       'system_fingerprint': 'fp_b376dfbbd5',\n",
       "       'finish_reason': 'stop',\n",
       "       'logprobs': None},\n",
       "      'type': 'ai',\n",
       "      'id': 'run-3ee66a40-60eb-48e0-8c87-402ab8cc155d-0',\n",
       "      'usage_metadata': {'input_tokens': 11,\n",
       "       'output_tokens': 249,\n",
       "       'total_tokens': 260,\n",
       "       'input_token_details': {'audio': 0, 'cache_read': 0},\n",
       "       'output_token_details': {'audio': 0, 'reasoning': 0}},\n",
       "      'tool_calls': [],\n",
       "      'invalid_tool_calls': []}}}},\n",
       "  'thread_id': '2',\n",
       "  'step': 1,\n",
       "  'parents': {}}]"
      ]
     },
     "execution_count": 15,
     "metadata": {},
     "output_type": "execute_result"
    }
   ],
   "source": [
    "steps = [json.loads(m[0]) for m in metadata]\n",
    "steps"
   ]
  },
  {
   "cell_type": "code",
   "execution_count": null,
   "metadata": {},
   "outputs": [],
   "source": []
  }
 ],
 "metadata": {
  "kernelspec": {
   "display_name": ".venv",
   "language": "python",
   "name": "python3"
  },
  "language_info": {
   "codemirror_mode": {
    "name": "ipython",
    "version": 3
   },
   "file_extension": ".py",
   "mimetype": "text/x-python",
   "name": "python",
   "nbconvert_exporter": "python",
   "pygments_lexer": "ipython3",
   "version": "3.11.10"
  }
 },
 "nbformat": 4,
 "nbformat_minor": 2
}
