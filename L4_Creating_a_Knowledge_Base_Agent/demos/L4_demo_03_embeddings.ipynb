{
 "cells": [
  {
   "cell_type": "code",
   "execution_count": null,
   "metadata": {},
   "outputs": [],
   "source": [
    "from typing import Literal, List, Dict\n",
    "import itertools\n",
    "from langchain_core.embeddings import Embeddings\n",
    "from langchain_openai.embeddings import OpenAIEmbeddings\n",
    "from langchain_community.embeddings import HuggingFaceEmbeddings\n",
    "import numpy as np\n",
    "from sklearn.decomposition import PCA\n",
    "import matplotlib.pyplot as plt"
   ]
  },
  {
   "cell_type": "markdown",
   "metadata": {},
   "source": [
    "**Embeddings Intuition**"
   ]
  },
  {
   "cell_type": "code",
   "execution_count": 2,
   "metadata": {},
   "outputs": [],
   "source": [
    "class EmbeddingsFactory:\n",
    "    def __init__(self, \n",
    "                 provider:Literal[\"OpenAI\", \"HugginFace\"],\n",
    "                 **kwargs):\n",
    "        self.provider = provider\n",
    "        self.kwargs = kwargs\n",
    "    \n",
    "    def create(self) -> Embeddings:\n",
    "        if self.provider == \"OpenAI\":\n",
    "            return OpenAIEmbeddings(**self.kwargs)\n",
    "        if self.provider == \"HugginFace\":\n",
    "            return HuggingFaceEmbeddings(**self.kwargs)\n",
    "        raise ValueError(f\"Unknown embeddings provider: {self.provider}\")"
   ]
  },
  {
   "cell_type": "code",
   "execution_count": 3,
   "metadata": {},
   "outputs": [],
   "source": [
    "sentence_list = [\n",
    "    \"I want to listen to music again\",\n",
    "    \"I'm in the mood to hear music once more.\",\n",
    "    \"Playstation has been a big part of my childhood\",\n",
    "    \"I grew up playing Nintendo games\",\n",
    "    \"The place I visited is the same as before\",\n",
    "    \"The destination I returned to hasn’t changed over the years\",\n",
    "]"
   ]
  },
  {
   "cell_type": "code",
   "execution_count": null,
   "metadata": {},
   "outputs": [
    {
     "name": "stderr",
     "output_type": "stream",
     "text": [
      "/var/folders/9j/22z22w295s397xgsptrk9ln40000gn/T/ipykernel_42883/2348521170.py:12: LangChainDeprecationWarning: The class `HuggingFaceEmbeddings` was deprecated in LangChain 0.2.2 and will be removed in 1.0. An updated version of the class exists in the :class:`~langchain-huggingface package and should be used instead. To use it run `pip install -U :class:`~langchain-huggingface` and import as `from :class:`~langchain_huggingface import HuggingFaceEmbeddings``.\n",
      "  return HuggingFaceEmbeddings(**self.kwargs)\n",
      "/Users/henriquesantana/Projects/Udacity/agents/.venv/lib/python3.10/site-packages/tqdm/auto.py:21: TqdmWarning: IProgress not found. Please update jupyter and ipywidgets. See https://ipywidgets.readthedocs.io/en/stable/user_install.html\n",
      "  from .autonotebook import tqdm as notebook_tqdm\n"
     ]
    }
   ],
   "source": [
    "# https://huggingface.co/sentence-transformers/all-MiniLM-L6-v2\n",
    "embeddings = EmbeddingsFactory(\n",
    "    provider=\"HugginFace\",\n",
    "    model_name=\"sentence-transformers/all-MiniLM-L6-v2\",\n",
    "    encode_kwargs={'normalize_embeddings': False}\n",
    ").create()"
   ]
  },
  {
   "cell_type": "code",
   "execution_count": 34,
   "metadata": {},
   "outputs": [],
   "source": [
    "from dotenv import load_dotenv\n",
    "load_dotenv()\n",
    "\n",
    "embeddings = EmbeddingsFactory(\n",
    "    provider=\"OpenAI\"\n",
    ").create()"
   ]
  },
  {
   "cell_type": "code",
   "execution_count": 35,
   "metadata": {},
   "outputs": [],
   "source": [
    "embeddings_list = [\n",
    "    embeddings.embed_query(sentence)\n",
    "    for sentence in sentence_list\n",
    "]"
   ]
  },
  {
   "cell_type": "code",
   "execution_count": 36,
   "metadata": {},
   "outputs": [
    {
     "data": {
      "text/plain": [
       "6"
      ]
     },
     "execution_count": 36,
     "metadata": {},
     "output_type": "execute_result"
    }
   ],
   "source": [
    "len(embeddings_list)"
   ]
  },
  {
   "cell_type": "code",
   "execution_count": 37,
   "metadata": {},
   "outputs": [
    {
     "data": {
      "text/plain": [
       "1536"
      ]
     },
     "execution_count": 37,
     "metadata": {},
     "output_type": "execute_result"
    }
   ],
   "source": [
    "len(embeddings_list[0])"
   ]
  },
  {
   "cell_type": "code",
   "execution_count": 38,
   "metadata": {},
   "outputs": [
    {
     "data": {
      "text/plain": [
       "[-0.006489809136837721,\n",
       " -0.007244148291647434,\n",
       " -0.003266724292188883,\n",
       " -0.02570986934006214,\n",
       " -0.01738096959888935,\n",
       " 0.011701606214046478,\n",
       " -0.004619547165930271,\n",
       " -0.006739177741110325,\n",
       " -0.0024609530810266733,\n",
       " 0.0031794453971087933]"
      ]
     },
     "execution_count": 38,
     "metadata": {},
     "output_type": "execute_result"
    }
   ],
   "source": [
    "embeddings_list[0][:10]"
   ]
  },
  {
   "cell_type": "code",
   "execution_count": 39,
   "metadata": {},
   "outputs": [],
   "source": [
    "sentence_embeddings_map = [\n",
    "    {\"sentence\":sentence, \"embeddings\":embeddings}\n",
    "    for sentence,embeddings in zip(sentence_list, embeddings_list)\n",
    "]"
   ]
  },
  {
   "cell_type": "code",
   "execution_count": 40,
   "metadata": {},
   "outputs": [],
   "source": [
    "def print_similarity(\n",
    "        sentence_embeddings_map:List[Dict], \n",
    "        i1:int=0, \n",
    "        i2:int=1)->None:\n",
    "    s1 = sentence_embeddings_map[i1][\"sentence\"]\n",
    "    e1 = sentence_embeddings_map[i1][\"embeddings\"]\n",
    "    s2 = sentence_embeddings_map[i2][\"sentence\"]\n",
    "    e2 = sentence_embeddings_map[i2][\"embeddings\"]\n",
    "    print(f\"Score: {np.dot(e1,e2):.2f}\\n\")\n",
    "    print(f\"Sentence {i1}: {s1}\\nSentence {i2}: {s2}\")"
   ]
  },
  {
   "cell_type": "code",
   "execution_count": 41,
   "metadata": {},
   "outputs": [
    {
     "name": "stdout",
     "output_type": "stream",
     "text": [
      "Score: 0.94\n",
      "\n",
      "Sentence 0: I want to listen to music again\n",
      "Sentence 1: I'm in the mood to hear music once more.\n"
     ]
    }
   ],
   "source": [
    "print_similarity(sentence_embeddings_map,0,1)"
   ]
  },
  {
   "cell_type": "code",
   "execution_count": 42,
   "metadata": {},
   "outputs": [
    {
     "name": "stdout",
     "output_type": "stream",
     "text": [
      "Score: 0.89\n",
      "\n",
      "Sentence 2: Playstation has been a big part of my childhood\n",
      "Sentence 3: I grew up playing Nintendo games\n"
     ]
    }
   ],
   "source": [
    "print_similarity(sentence_embeddings_map,2,3)"
   ]
  },
  {
   "cell_type": "code",
   "execution_count": 43,
   "metadata": {},
   "outputs": [
    {
     "name": "stdout",
     "output_type": "stream",
     "text": [
      "Score: 0.89\n",
      "\n",
      "Sentence 4: The place I visited is the same as before\n",
      "Sentence 5: The destination I returned to hasn’t changed over the years\n"
     ]
    }
   ],
   "source": [
    "print_similarity(sentence_embeddings_map,4,5)"
   ]
  },
  {
   "cell_type": "markdown",
   "metadata": {},
   "source": [
    "**Visualizing Embeddings**"
   ]
  },
  {
   "cell_type": "code",
   "execution_count": 50,
   "metadata": {},
   "outputs": [],
   "source": [
    "pca_model = PCA(n_components=2)\n",
    "pca_model.fit(embeddings_list)\n",
    "new_values = pca_model.transform(embeddings_list)"
   ]
  },
  {
   "cell_type": "code",
   "execution_count": 51,
   "metadata": {},
   "outputs": [
    {
     "name": "stdout",
     "output_type": "stream",
     "text": [
      "shape: (6, 2)\n",
      "[[ 0.34099182 -0.07068622]\n",
      " [ 0.37881825 -0.05464228]\n",
      " [-0.11563774  0.3295989 ]\n",
      " [-0.12681789  0.31141246]\n",
      " [-0.20188459 -0.26697497]\n",
      " [-0.27546985 -0.24870788]]\n"
     ]
    }
   ],
   "source": [
    "print(f\"shape: {new_values.shape}\")\n",
    "print(new_values)"
   ]
  },
  {
   "cell_type": "code",
   "execution_count": null,
   "metadata": {},
   "outputs": [],
   "source": [
    "def plot_2d(x_values, y_values, info_list):\n",
    "    fig, ax = plt.subplots()\n",
    "    scatter = ax.scatter(\n",
    "        x_values,\n",
    "        y_values,\n",
    "        alpha=0.5,\n",
    "        edgecolors='k',\n",
    "        s=40\n",
    "    )\n",
    "\n",
    "    ax.set_title(\"Embeddings Viz in 2D\")\n",
    "    ax.set_xlabel(\"X_1\")\n",
    "    ax.set_ylabel(\"X_2\")\n",
    "\n",
    "    for i, info in enumerate(info_list):\n",
    "        ax.annotate(info, (x_values[i], y_values[i]))\n",
    "    \n",
    "    plt.show()"
   ]
  },
  {
   "cell_type": "code",
   "execution_count": 54,
   "metadata": {},
   "outputs": [
    {
     "data": {
      "image/png": "[encoded data removed]",
      "text/plain": [
       "<Figure size 640x480 with 1 Axes>"
      ]
     },
     "metadata": {},
     "output_type": "display_data"
    }
   ],
   "source": [
    "plot_2d(new_values[:,0], new_values[:,1], sentence_list)"
   ]
  },
  {
   "cell_type": "code",
   "execution_count": null,
   "metadata": {},
   "outputs": [],
   "source": []
  }
 ],
 "metadata": {
  "kernelspec": {
   "display_name": ".venv",
   "language": "python",
   "name": "python3"
  },
  "language_info": {
   "codemirror_mode": {
    "name": "ipython",
    "version": 3
   },
   "file_extension": ".py",
   "mimetype": "text/x-python",
   "name": "python",
   "nbconvert_exporter": "python",
   "pygments_lexer": "ipython3",
   "version": "3.11.10"
  }
 },
 "nbformat": 4,
 "nbformat_minor": 2
}
