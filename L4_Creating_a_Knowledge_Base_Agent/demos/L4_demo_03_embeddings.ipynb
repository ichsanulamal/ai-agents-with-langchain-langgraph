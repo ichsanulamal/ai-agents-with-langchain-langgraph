{
  "cells": [
    {
      "cell_type": "code",
      "source": [
        "!pip install --quiet aiohappyeyeballs aiohttp aiosignal annotated-types anyio argon2-cffi argon2-cffi-bindings arrow asttokens async-timeout attrs beautifulsoup4 bleach build certifi cffi charset-normalizer click comm dataclasses-json debugpy decorator defusedxml distro entrypoints exceptiongroup executing fastjsonschema fqdn frozenlist greenlet h11 httpcore httpx httpx-sse idna ipykernel ipython ipython-genutils isoduration jedi Jinja2 jiter jsonpatch jsonpointer jsonschema jsonschema-specifications jupyter_client jupyter_core jupyter-events jupyter_server jupyter_server_terminals jupyterlab_pygments langchain langchain-community langchain-core langchain-openai langchain-text-splitters langgraph langgraph-checkpoint langgraph-sdk langsmith MarkupSafe marshmallow matplotlib-inline mistune msgpack multidict mypy-extensions nbclassic nbclient nbconvert nbformat nest-asyncio notebook notebook_shim numpy openai orjson overrides packaging pandocfilters parso pexpect pip pip-tools platformdirs prometheus_client prompt_toolkit propcache psutil ptyprocess pure_eval pycparser pydantic pydantic_core pydantic-settings Pygments pyproject_hooks python-dateutil python-dotenv python-json-logger PyYAML pyzmq referencing regex requests requests-toolbelt rfc3339-validator rfc3986-validator rpds-py Send2Trash setuptools six sniffio soupsieve SQLAlchemy stack-data tenacity terminado tiktoken tinycss2 tomli tornado tqdm traitlets types-python-dateutil typing_extensions typing-inspect uri-template urllib3 wcwidth webcolors webencodings websocket-client wheel yarl sentence-transformers"
      ],
      "metadata": {
        "id": "_Y9PGanCMBCQ"
      },
      "execution_count": 30,
      "outputs": []
    },
    {
      "cell_type": "code",
      "execution_count": 31,
      "metadata": {
        "id": "q1l05WBdL7_1"
      },
      "outputs": [],
      "source": [
        "from typing import Literal, List, Dict\n",
        "import itertools\n",
        "from langchain_core.embeddings import Embeddings\n",
        "from langchain_openai.embeddings import OpenAIEmbeddings\n",
        "from langchain_community.embeddings import HuggingFaceEmbeddings\n",
        "import numpy as np\n",
        "from sklearn.decomposition import PCA\n",
        "import matplotlib.pyplot as plt"
      ]
    },
    {
      "cell_type": "code",
      "source": [
        "from google.colab import userdata\n",
        "HF_TOKEN = userdata.get('HF_TOKEN')\n",
        "OPENAI_API_BASE = \"https://openai.vocareum.com/v1\"\n",
        "OPENAI_API_KEY = userdata.get('OPENAI_API_KEY')\n",
        "TAVILY_API_KEY = userdata.get('TAVILY_API_KEY')"
      ],
      "metadata": {
        "id": "KVThxuC2MJkq"
      },
      "execution_count": 32,
      "outputs": []
    },
    {
      "cell_type": "markdown",
      "metadata": {
        "id": "Uw7DBl3_L7_3"
      },
      "source": [
        "**Embeddings Intuition**"
      ]
    },
    {
      "cell_type": "code",
      "execution_count": 33,
      "metadata": {
        "id": "InyAYpI4L7_4"
      },
      "outputs": [],
      "source": [
        "class EmbeddingsFactory:\n",
        "    def __init__(self,\n",
        "                 provider:Literal[\"OpenAI\", \"HugginFace\"],\n",
        "                 **kwargs):\n",
        "        self.provider = provider\n",
        "        self.kwargs = kwargs\n",
        "\n",
        "    def create(self) -> Embeddings:\n",
        "        if self.provider == \"OpenAI\":\n",
        "            return OpenAIEmbeddings(**self.kwargs)\n",
        "        if self.provider == \"HugginFace\":\n",
        "            return HuggingFaceEmbeddings(**self.kwargs)\n",
        "        raise ValueError(f\"Unknown embeddings provider: {self.provider}\")"
      ]
    },
    {
      "cell_type": "code",
      "execution_count": 34,
      "metadata": {
        "id": "IDGSyUxGL7_4"
      },
      "outputs": [],
      "source": [
        "sentence_list = [\n",
        "    \"I want to listen to music again\",\n",
        "    \"I'm in the mood to hear music once more.\",\n",
        "    \"Playstation has been a big part of my childhood\",\n",
        "    \"I grew up playing Nintendo games\",\n",
        "    \"The place I visited is the same as before\",\n",
        "    \"The destination I returned to hasn’t changed over the years\",\n",
        "]"
      ]
    },
    {
      "cell_type": "code",
      "execution_count": 35,
      "metadata": {
        "id": "EPmrtonRL7_5"
      },
      "outputs": [],
      "source": [
        "# HuggingFace\n",
        "# https://huggingface.co/sentence-transformers/all-MiniLM-L6-v2\n",
        "embeddings = EmbeddingsFactory(\n",
        "    provider=\"HugginFace\",\n",
        "    model_name=\"sentence-transformers/all-MiniLM-L6-v2\",\n",
        "    encode_kwargs={'normalize_embeddings': False}\n",
        ").create()"
      ]
    },
    {
      "cell_type": "code",
      "execution_count": 36,
      "metadata": {
        "id": "SsNZZK-BL7_6"
      },
      "outputs": [],
      "source": [
        "# OpenAI\n",
        "from dotenv import load_dotenv\n",
        "load_dotenv()\n",
        "\n",
        "embeddings = EmbeddingsFactory(\n",
        "    provider=\"OpenAI\",\n",
        "    base_url=OPENAI_API_BASE,\n",
        "    api_key=OPENAI_API_KEY\n",
        ").create()"
      ]
    },
    {
      "cell_type": "code",
      "execution_count": 37,
      "metadata": {
        "id": "A9165e8NL7_6"
      },
      "outputs": [],
      "source": [
        "embeddings_list = [\n",
        "    embeddings.embed_query(sentence)\n",
        "    for sentence in sentence_list\n",
        "]"
      ]
    },
    {
      "cell_type": "code",
      "execution_count": 38,
      "metadata": {
        "id": "j3yy31BuL7_6",
        "outputId": "222fdbbf-a400-485f-fb07-8ba3b87c653b",
        "colab": {
          "base_uri": "https://localhost:8080/"
        }
      },
      "outputs": [
        {
          "output_type": "execute_result",
          "data": {
            "text/plain": [
              "6"
            ]
          },
          "metadata": {},
          "execution_count": 38
        }
      ],
      "source": [
        "len(embeddings_list)"
      ]
    },
    {
      "cell_type": "code",
      "execution_count": 39,
      "metadata": {
        "id": "twhRzrpJL7_7",
        "outputId": "bb5f2619-d104-44f1-8033-8c6b38bdba68",
        "colab": {
          "base_uri": "https://localhost:8080/"
        }
      },
      "outputs": [
        {
          "output_type": "execute_result",
          "data": {
            "text/plain": [
              "1536"
            ]
          },
          "metadata": {},
          "execution_count": 39
        }
      ],
      "source": [
        "len(embeddings_list[0])"
      ]
    },
    {
      "cell_type": "code",
      "execution_count": 40,
      "metadata": {
        "id": "m6eAPxYqL7_7",
        "outputId": "914176d0-9a48-4246-e684-9a9243d24574",
        "colab": {
          "base_uri": "https://localhost:8080/"
        }
      },
      "outputs": [
        {
          "output_type": "execute_result",
          "data": {
            "text/plain": [
              "[-0.006489809136837721,\n",
              " -0.007244148291647434,\n",
              " -0.003266724292188883,\n",
              " -0.02570986934006214,\n",
              " -0.01738096959888935,\n",
              " 0.011701606214046478,\n",
              " -0.004619547165930271,\n",
              " -0.006739177741110325,\n",
              " -0.0024609530810266733,\n",
              " 0.0031794453971087933]"
            ]
          },
          "metadata": {},
          "execution_count": 40
        }
      ],
      "source": [
        "embeddings_list[0][:10]"
      ]
    },
    {
      "cell_type": "code",
      "execution_count": 41,
      "metadata": {
        "id": "60pBc9xCL7_7"
      },
      "outputs": [],
      "source": [
        "sentence_embeddings_map = [\n",
        "    {\"sentence\":sentence, \"embeddings\":embeddings}\n",
        "    for sentence,embeddings in zip(sentence_list, embeddings_list)\n",
        "]"
      ]
    },
    {
      "cell_type": "code",
      "execution_count": 42,
      "metadata": {
        "id": "HNyBKwmKL7_7"
      },
      "outputs": [],
      "source": [
        "def print_similarity(\n",
        "        sentence_embeddings_map:List[Dict],\n",
        "        i1:int=0,\n",
        "        i2:int=1)->None:\n",
        "    s1 = sentence_embeddings_map[i1][\"sentence\"]\n",
        "    e1 = sentence_embeddings_map[i1][\"embeddings\"]\n",
        "    s2 = sentence_embeddings_map[i2][\"sentence\"]\n",
        "    e2 = sentence_embeddings_map[i2][\"embeddings\"]\n",
        "    print(f\"Score: {np.dot(e1,e2):.2f}\\n\")\n",
        "    print(f\"Sentence {i1}: {s1}\\nSentence {i2}: {s2}\")"
      ]
    },
    {
      "cell_type": "code",
      "execution_count": 43,
      "metadata": {
        "id": "YIQ4e5jKL7_8",
        "outputId": "7dfe5570-74fd-44e7-9220-62163902483c",
        "colab": {
          "base_uri": "https://localhost:8080/"
        }
      },
      "outputs": [
        {
          "output_type": "stream",
          "name": "stdout",
          "text": [
            "Score: 0.94\n",
            "\n",
            "Sentence 0: I want to listen to music again\n",
            "Sentence 1: I'm in the mood to hear music once more.\n"
          ]
        }
      ],
      "source": [
        "print_similarity(sentence_embeddings_map,0,1)"
      ]
    },
    {
      "cell_type": "code",
      "execution_count": 44,
      "metadata": {
        "id": "dj36Y9wXL7_8",
        "outputId": "f2089fc1-5a40-40f9-b0fc-c8b162940352",
        "colab": {
          "base_uri": "https://localhost:8080/"
        }
      },
      "outputs": [
        {
          "output_type": "stream",
          "name": "stdout",
          "text": [
            "Score: 0.89\n",
            "\n",
            "Sentence 2: Playstation has been a big part of my childhood\n",
            "Sentence 3: I grew up playing Nintendo games\n"
          ]
        }
      ],
      "source": [
        "print_similarity(sentence_embeddings_map,2,3)"
      ]
    },
    {
      "cell_type": "code",
      "execution_count": 45,
      "metadata": {
        "id": "6QZZfFOUL7_8",
        "outputId": "0e8810a5-c831-4442-a185-8d20fc1ff88c",
        "colab": {
          "base_uri": "https://localhost:8080/"
        }
      },
      "outputs": [
        {
          "output_type": "stream",
          "name": "stdout",
          "text": [
            "Score: 0.89\n",
            "\n",
            "Sentence 4: The place I visited is the same as before\n",
            "Sentence 5: The destination I returned to hasn’t changed over the years\n"
          ]
        }
      ],
      "source": [
        "print_similarity(sentence_embeddings_map,4,5)"
      ]
    },
    {
      "cell_type": "code",
      "execution_count": 46,
      "metadata": {
        "id": "6d_bC3aPL7_8",
        "outputId": "708239db-5014-4dcf-c49c-b4ab5eff278d",
        "colab": {
          "base_uri": "https://localhost:8080/"
        }
      },
      "outputs": [
        {
          "output_type": "stream",
          "name": "stdout",
          "text": [
            "Score: 0.77\n",
            "\n",
            "Sentence 0: I want to listen to music again\n",
            "Sentence 3: I grew up playing Nintendo games\n"
          ]
        }
      ],
      "source": [
        "print_similarity(sentence_embeddings_map,0,3)"
      ]
    },
    {
      "cell_type": "code",
      "execution_count": 46,
      "metadata": {
        "id": "7_GvejSKL7_8"
      },
      "outputs": [],
      "source": []
    },
    {
      "cell_type": "markdown",
      "metadata": {
        "id": "H5bfGERxL7_8"
      },
      "source": [
        "**Visualizing Embeddings**"
      ]
    },
    {
      "cell_type": "code",
      "execution_count": 47,
      "metadata": {
        "id": "h33b9DUwL7_8"
      },
      "outputs": [],
      "source": [
        "pca_model = PCA(n_components=2)\n",
        "pca_model.fit(embeddings_list)\n",
        "new_values = pca_model.transform(embeddings_list)"
      ]
    },
    {
      "cell_type": "code",
      "execution_count": 48,
      "metadata": {
        "id": "dBbmPsqNL7_8",
        "outputId": "06e62acf-db44-441a-e170-91fca548403f",
        "colab": {
          "base_uri": "https://localhost:8080/"
        }
      },
      "outputs": [
        {
          "output_type": "stream",
          "name": "stdout",
          "text": [
            "shape: (6, 2)\n",
            "[[ 0.34099182 -0.07068622]\n",
            " [ 0.37881825 -0.05464228]\n",
            " [-0.11563774  0.3295989 ]\n",
            " [-0.12681789  0.31141246]\n",
            " [-0.20188459 -0.26697497]\n",
            " [-0.27546985 -0.24870788]]\n"
          ]
        }
      ],
      "source": [
        "print(f\"shape: {new_values.shape}\")\n",
        "print(new_values)"
      ]
    },
    {
      "cell_type": "code",
      "execution_count": 49,
      "metadata": {
        "id": "JLBpyw9FL7_9"
      },
      "outputs": [],
      "source": [
        "def plot_2d(x_values, y_values, info_list):\n",
        "    fig, ax = plt.subplots()\n",
        "    scatter = ax.scatter(\n",
        "        x_values,\n",
        "        y_values,\n",
        "        alpha=0.5,\n",
        "        edgecolors='k',\n",
        "        s=40\n",
        "    )\n",
        "\n",
        "    ax.set_title(\"Embeddings Viz in 2D\")\n",
        "    ax.set_xlabel(\"X_1\")\n",
        "    ax.set_ylabel(\"X_2\")\n",
        "\n",
        "    for i, info in enumerate(info_list):\n",
        "        ax.annotate(info, (x_values[i], y_values[i]))\n",
        "\n",
        "    plt.show()"
      ]
    },
    {
      "cell_type": "code",
      "execution_count": 50,
      "metadata": {
        "id": "tZS-Bzv0L7_9",
        "outputId": "66a60ad2-3eac-435a-bc03-dc8c61e8ef1e",
        "colab": {
          "base_uri": "https://localhost:8080/",
          "height": 472
        }
      },
      "outputs": [
        {
          "output_type": "display_data",
          "data": {
            "text/plain": [
              "<Figure size 640x480 with 1 Axes>"
            ],
            "image/png": "[encoded data removed]"
          },
          "metadata": {}
        }
      ],
      "source": [
        "plot_2d(new_values[:,0], new_values[:,1], sentence_list)"
      ]
    },
    {
      "cell_type": "code",
      "execution_count": null,
      "metadata": {
        "id": "xfpEq2enL7_9"
      },
      "outputs": [],
      "source": []
    }
  ],
  "metadata": {
    "kernelspec": {
      "display_name": ".venv",
      "language": "python",
      "name": "python3"
    },
    "language_info": {
      "codemirror_mode": {
        "name": "ipython",
        "version": 3
      },
      "file_extension": ".py",
      "mimetype": "text/x-python",
      "name": "python",
      "nbconvert_exporter": "python",
      "pygments_lexer": "ipython3",
      "version": "3.11.10"
    },
    "colab": {
      "provenance": []
    }
  },
  "nbformat": 4,
  "nbformat_minor": 0
}