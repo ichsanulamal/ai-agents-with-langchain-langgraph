{
 "cells": [
  {
   "cell_type": "code",
   "execution_count": 1,
   "metadata": {},
   "outputs": [],
   "source": [
    "from typing import Literal, List, Dict\n",
    "import itertools\n",
    "from langchain_core.embeddings import Embeddings\n",
    "from langchain_openai.embeddings import OpenAIEmbeddings\n",
    "from langchain_community.embeddings import HuggingFaceEmbeddings\n",
    "import numpy as np\n",
    "from sklearn.decomposition import PCA\n",
    "import matplotlib.pyplot as plt"
   ]
  },
  {
   "cell_type": "markdown",
   "metadata": {},
   "source": [
    "**Embeddings Intuition**"
   ]
  },
  {
   "cell_type": "code",
   "execution_count": 2,
   "metadata": {},
   "outputs": [],
   "source": [
    "class EmbeddingsFactory:\n",
    "    def __init__(self, \n",
    "                 provider:Literal[\"OpenAI\", \"HugginFace\"],\n",
    "                 **kwargs):\n",
    "        self.provider = provider\n",
    "        self.kwargs = kwargs\n",
    "    \n",
    "    def create(self) -> Embeddings:\n",
    "        if self.provider == \"OpenAI\":\n",
    "            return OpenAIEmbeddings(**self.kwargs)\n",
    "        if self.provider == \"HugginFace\":\n",
    "            return HuggingFaceEmbeddings(**self.kwargs)\n",
    "        raise ValueError(f\"Unknown embeddings provider: {self.provider}\")"
   ]
  },
  {
   "cell_type": "code",
   "execution_count": 3,
   "metadata": {},
   "outputs": [],
   "source": [
    "sentence_list = [\n",
    "    \"I want to listen to music again\",\n",
    "    \"I'm in the mood to hear music once more.\",\n",
    "    \"Playstation has been a big part of my childhood\",\n",
    "    \"I grew up playing Nintendo games\",\n",
    "    \"The place I visited is the same as before\",\n",
    "    \"The destination I returned to hasn’t changed over the years\",\n",
    "]"
   ]
  },
  {
   "cell_type": "code",
   "execution_count": 4,
   "metadata": {},
   "outputs": [
    {
     "name": "stderr",
     "output_type": "stream",
     "text": [
      "/var/folders/9j/22z22w295s397xgsptrk9ln40000gn/T/ipykernel_59444/2348521170.py:12: LangChainDeprecationWarning: The class `HuggingFaceEmbeddings` was deprecated in LangChain 0.2.2 and will be removed in 1.0. An updated version of the class exists in the :class:`~langchain-huggingface package and should be used instead. To use it run `pip install -U :class:`~langchain-huggingface` and import as `from :class:`~langchain_huggingface import HuggingFaceEmbeddings``.\n",
      "  return HuggingFaceEmbeddings(**self.kwargs)\n",
      "/Users/henriquesantana/Projects/Udacity/agents/.venv/lib/python3.11/site-packages/tqdm/auto.py:21: TqdmWarning: IProgress not found. Please update jupyter and ipywidgets. See https://ipywidgets.readthedocs.io/en/stable/user_install.html\n",
      "  from .autonotebook import tqdm as notebook_tqdm\n"
     ]
    }
   ],
   "source": [
    "# HuggingFace\n",
    "# https://huggingface.co/sentence-transformers/all-MiniLM-L6-v2\n",
    "embeddings = EmbeddingsFactory(\n",
    "    provider=\"HugginFace\",\n",
    "    model_name=\"sentence-transformers/all-MiniLM-L6-v2\",\n",
    "    encode_kwargs={'normalize_embeddings': False}\n",
    ").create()"
   ]
  },
  {
   "cell_type": "code",
   "execution_count": 20,
   "metadata": {},
   "outputs": [],
   "source": [
    "# OpenAI\n",
    "from dotenv import load_dotenv\n",
    "load_dotenv()\n",
    "\n",
    "embeddings = EmbeddingsFactory(\n",
    "    provider=\"OpenAI\"\n",
    ").create()"
   ]
  },
  {
   "cell_type": "code",
   "execution_count": 21,
   "metadata": {},
   "outputs": [],
   "source": [
    "embeddings_list = [\n",
    "    embeddings.embed_query(sentence)\n",
    "    for sentence in sentence_list\n",
    "]"
   ]
  },
  {
   "cell_type": "code",
   "execution_count": 22,
   "metadata": {},
   "outputs": [
    {
     "data": {
      "text/plain": [
       "6"
      ]
     },
     "execution_count": 22,
     "metadata": {},
     "output_type": "execute_result"
    }
   ],
   "source": [
    "len(embeddings_list)"
   ]
  },
  {
   "cell_type": "code",
   "execution_count": 23,
   "metadata": {},
   "outputs": [
    {
     "data": {
      "text/plain": [
       "1536"
      ]
     },
     "execution_count": 23,
     "metadata": {},
     "output_type": "execute_result"
    }
   ],
   "source": [
    "len(embeddings_list[0])"
   ]
  },
  {
   "cell_type": "code",
   "execution_count": 8,
   "metadata": {},
   "outputs": [
    {
     "data": {
      "text/plain": [
       "[0.04074598848819733,\n",
       " -0.1380535513162613,\n",
       " -0.010247362777590752,\n",
       " 0.007559244986623526,\n",
       " -0.03126896545290947,\n",
       " 0.04948490485548973,\n",
       " -0.0053054895251989365,\n",
       " -0.026844361796975136,\n",
       " 0.0019261670531705022,\n",
       " -0.025601323693990707]"
      ]
     },
     "execution_count": 8,
     "metadata": {},
     "output_type": "execute_result"
    }
   ],
   "source": [
    "embeddings_list[0][:10]"
   ]
  },
  {
   "cell_type": "code",
   "execution_count": 9,
   "metadata": {},
   "outputs": [],
   "source": [
    "sentence_embeddings_map = [\n",
    "    {\"sentence\":sentence, \"embeddings\":embeddings}\n",
    "    for sentence,embeddings in zip(sentence_list, embeddings_list)\n",
    "]"
   ]
  },
  {
   "cell_type": "code",
   "execution_count": 10,
   "metadata": {},
   "outputs": [],
   "source": [
    "def print_similarity(\n",
    "        sentence_embeddings_map:List[Dict], \n",
    "        i1:int=0, \n",
    "        i2:int=1)->None:\n",
    "    s1 = sentence_embeddings_map[i1][\"sentence\"]\n",
    "    e1 = sentence_embeddings_map[i1][\"embeddings\"]\n",
    "    s2 = sentence_embeddings_map[i2][\"sentence\"]\n",
    "    e2 = sentence_embeddings_map[i2][\"embeddings\"]\n",
    "    print(f\"Score: {np.dot(e1,e2):.2f}\\n\")\n",
    "    print(f\"Sentence {i1}: {s1}\\nSentence {i2}: {s2}\")"
   ]
  },
  {
   "cell_type": "code",
   "execution_count": 11,
   "metadata": {},
   "outputs": [
    {
     "name": "stdout",
     "output_type": "stream",
     "text": [
      "Score: 0.62\n",
      "\n",
      "Sentence 0: I want to listen to music again\n",
      "Sentence 1: I'm in the mood to hear music once more.\n"
     ]
    }
   ],
   "source": [
    "print_similarity(sentence_embeddings_map,0,1)"
   ]
  },
  {
   "cell_type": "code",
   "execution_count": 12,
   "metadata": {},
   "outputs": [
    {
     "name": "stdout",
     "output_type": "stream",
     "text": [
      "Score: 0.58\n",
      "\n",
      "Sentence 2: Playstation has been a big part of my childhood\n",
      "Sentence 3: I grew up playing Nintendo games\n"
     ]
    }
   ],
   "source": [
    "print_similarity(sentence_embeddings_map,2,3)"
   ]
  },
  {
   "cell_type": "code",
   "execution_count": 13,
   "metadata": {},
   "outputs": [
    {
     "name": "stdout",
     "output_type": "stream",
     "text": [
      "Score: 0.56\n",
      "\n",
      "Sentence 4: The place I visited is the same as before\n",
      "Sentence 5: The destination I returned to hasn’t changed over the years\n"
     ]
    }
   ],
   "source": [
    "print_similarity(sentence_embeddings_map,4,5)"
   ]
  },
  {
   "cell_type": "code",
   "execution_count": 15,
   "metadata": {},
   "outputs": [
    {
     "name": "stdout",
     "output_type": "stream",
     "text": [
      "Score: 0.15\n",
      "\n",
      "Sentence 0: I want to listen to music again\n",
      "Sentence 3: I grew up playing Nintendo games\n"
     ]
    }
   ],
   "source": [
    "print_similarity(sentence_embeddings_map,0,3)"
   ]
  },
  {
   "cell_type": "code",
   "execution_count": null,
   "metadata": {},
   "outputs": [],
   "source": []
  },
  {
   "cell_type": "markdown",
   "metadata": {},
   "source": [
    "**Visualizing Embeddings**"
   ]
  },
  {
   "cell_type": "code",
   "execution_count": 16,
   "metadata": {},
   "outputs": [],
   "source": [
    "pca_model = PCA(n_components=2)\n",
    "pca_model.fit(embeddings_list)\n",
    "new_values = pca_model.transform(embeddings_list)"
   ]
  },
  {
   "cell_type": "code",
   "execution_count": 17,
   "metadata": {},
   "outputs": [
    {
     "name": "stdout",
     "output_type": "stream",
     "text": [
      "shape: (6, 2)\n",
      "[[-0.47894779  0.40942071]\n",
      " [-0.58579792  0.38882808]\n",
      " [-0.13764126 -0.59632388]\n",
      " [-0.06943746 -0.66722307]\n",
      " [ 0.66358822  0.22484437]\n",
      " [ 0.60823622  0.24045379]]\n"
     ]
    }
   ],
   "source": [
    "print(f\"shape: {new_values.shape}\")\n",
    "print(new_values)"
   ]
  },
  {
   "cell_type": "code",
   "execution_count": 18,
   "metadata": {},
   "outputs": [],
   "source": [
    "def plot_2d(x_values, y_values, info_list):\n",
    "    fig, ax = plt.subplots()\n",
    "    scatter = ax.scatter(\n",
    "        x_values,\n",
    "        y_values,\n",
    "        alpha=0.5,\n",
    "        edgecolors='k',\n",
    "        s=40\n",
    "    )\n",
    "\n",
    "    ax.set_title(\"Embeddings Viz in 2D\")\n",
    "    ax.set_xlabel(\"X_1\")\n",
    "    ax.set_ylabel(\"X_2\")\n",
    "\n",
    "    for i, info in enumerate(info_list):\n",
    "        ax.annotate(info, (x_values[i], y_values[i]))\n",
    "    \n",
    "    plt.show()"
   ]
  },
  {
   "cell_type": "code",
   "execution_count": 19,
   "metadata": {},
   "outputs": [
    {
     "data": {
      "image/png": "[encoded data removed]",
      "text/plain": [
       "<Figure size 640x480 with 1 Axes>"
      ]
     },
     "metadata": {},
     "output_type": "display_data"
    }
   ],
   "source": [
    "plot_2d(new_values[:,0], new_values[:,1], sentence_list)"
   ]
  },
  {
   "cell_type": "code",
   "execution_count": null,
   "metadata": {},
   "outputs": [],
   "source": []
  }
 ],
 "metadata": {
  "kernelspec": {
   "display_name": ".venv",
   "language": "python",
   "name": "python3"
  },
  "language_info": {
   "codemirror_mode": {
    "name": "ipython",
    "version": 3
   },
   "file_extension": ".py",
   "mimetype": "text/x-python",
   "name": "python",
   "nbconvert_exporter": "python",
   "pygments_lexer": "ipython3",
   "version": "3.11.10"
  }
 },
 "nbformat": 4,
 "nbformat_minor": 2
}
