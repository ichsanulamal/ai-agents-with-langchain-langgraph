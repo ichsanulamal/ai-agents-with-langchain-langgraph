{
 "cells": [
  {
   "cell_type": "code",
   "execution_count": 1,
   "metadata": {},
   "outputs": [],
   "source": [
    "import os\n",
    "import chromadb\n",
    "from chromadb.utils import embedding_functions\n",
    "from langchain_chroma import Chroma\n",
    "from langchain_openai import OpenAIEmbeddings\n",
    "from langchain_core.documents import Document\n",
    "import numpy as np"
   ]
  },
  {
   "cell_type": "code",
   "execution_count": 2,
   "metadata": {},
   "outputs": [],
   "source": [
    "sentence_list = [\n",
    "    \"Meta drops multimodal Llama 3.2 — here's why it's such a big deal\",\n",
    "    \"Chip giant Nvidia acquires OctoAI, a Seattle startup that helps companies run AI models\",\n",
    "    \"Google is bringing Gemini to all older Pixel Buds\",\n",
    "    \"The first Intel Battlmage GPU benchmarks have leaked\",\n",
    "    \"Dell partners with Nvidia to accelerate AI adoption in telecoms\",\n",
    "]\n",
    "ids = [\"id1\", \"id2\", \"id3\", \"id4\", \"id5\"]"
   ]
  },
  {
   "cell_type": "markdown",
   "metadata": {},
   "source": [
    "**Creating a collection**"
   ]
  },
  {
   "cell_type": "code",
   "execution_count": 3,
   "metadata": {},
   "outputs": [],
   "source": [
    "chroma_client = chromadb.Client()"
   ]
  },
  {
   "cell_type": "code",
   "execution_count": null,
   "metadata": {},
   "outputs": [],
   "source": [
    "# To persist in disk, use:\n",
    "# chroma_client = chromadb.PersistentClient(path=\"chromadb/\")"
   ]
  },
  {
   "cell_type": "code",
   "execution_count": 4,
   "metadata": {},
   "outputs": [],
   "source": [
    "collection = chroma_client.create_collection(name=\"udacity\")"
   ]
  },
  {
   "cell_type": "code",
   "execution_count": 5,
   "metadata": {},
   "outputs": [],
   "source": [
    "# By default, Chroma uses the Sentence Transformers all-MiniLM-L6-v2 \n",
    "# model to create embeddings.\n",
    "collection.add(\n",
    "    documents=sentence_list,\n",
    "    ids=ids\n",
    ")"
   ]
  },
  {
   "cell_type": "code",
   "execution_count": 6,
   "metadata": {},
   "outputs": [
    {
     "data": {
      "text/plain": [
       "<chromadb.utils.embedding_functions.onnx_mini_lm_l6_v2.ONNXMiniLM_L6_V2 at 0x12eba4150>"
      ]
     },
     "execution_count": 6,
     "metadata": {},
     "output_type": "execute_result"
    }
   ],
   "source": [
    "collection._embedding_function"
   ]
  },
  {
   "cell_type": "code",
   "execution_count": 7,
   "metadata": {},
   "outputs": [
    {
     "data": {
      "text/plain": [
       "5"
      ]
     },
     "execution_count": 7,
     "metadata": {},
     "output_type": "execute_result"
    }
   ],
   "source": [
    "collection.count()"
   ]
  },
  {
   "cell_type": "code",
   "execution_count": 8,
   "metadata": {},
   "outputs": [
    {
     "data": {
      "text/plain": [
       "{'ids': ['id1', 'id2'],\n",
       " 'embeddings': array([[ 6.06747121e-02, -3.51287387e-02,  6.06430210e-02,\n",
       "         -5.11958823e-02,  1.13577358e-01, -1.88812558e-02,\n",
       "         -2.68563069e-02,  5.48521988e-02,  3.23705971e-02,\n",
       "          5.42319790e-02, -4.04220782e-02, -1.90565046e-02,\n",
       "         -5.98006099e-02,  2.56025922e-02,  8.48477483e-02,\n",
       "          4.12208885e-02,  3.95124070e-02, -4.00038101e-02,\n",
       "         -7.66580924e-02,  2.78269649e-02,  5.38381748e-02,\n",
       "         -1.35235973e-02,  9.65652838e-02, -3.04286182e-02,\n",
       "          6.62264926e-03,  7.21764490e-02, -9.53955278e-02,\n",
       "         -2.75929421e-02,  7.86578842e-03, -6.68484047e-02,\n",
       "         -1.27422102e-02,  1.21331684e-01, -6.66161552e-02,\n",
       "         -3.28697823e-02, -6.49218261e-02, -1.61951613e-02,\n",
       "         -3.33233248e-03,  8.04133341e-02, -3.84463109e-02,\n",
       "          1.44819714e-04,  3.71691165e-03,  4.83801402e-02,\n",
       "         -8.19774050e-06, -4.51294743e-02, -1.37413908e-02,\n",
       "         -7.15169311e-02,  1.01871518e-02, -4.22974639e-02,\n",
       "          3.16687077e-02,  1.55995348e-02, -3.98045108e-02,\n",
       "         -5.78884557e-02, -6.40821084e-03,  5.05174100e-02,\n",
       "          1.33637050e-02, -6.78867027e-02,  1.05835916e-02,\n",
       "         -4.71956246e-02,  2.76528508e-03,  6.26844093e-02,\n",
       "          3.98131758e-02,  2.90585775e-03, -1.10588446e-02,\n",
       "         -3.56718525e-02,  1.66201249e-01,  2.22128256e-05,\n",
       "         -9.47574433e-03, -1.11346409e-01,  2.19913963e-02,\n",
       "         -5.18135168e-02, -1.24024006e-03, -1.01792952e-02,\n",
       "          2.69685499e-02,  4.42338809e-02, -6.56521544e-02,\n",
       "          3.83608416e-02,  4.76819016e-02, -3.88570651e-02,\n",
       "          6.39514849e-02,  2.61537675e-02,  1.20889463e-01,\n",
       "         -9.07477457e-03, -3.85720916e-02,  2.28272900e-02,\n",
       "          5.07812761e-03, -1.89832430e-02, -2.87891477e-02,\n",
       "         -5.56440279e-02, -8.61207396e-03,  5.86220529e-03,\n",
       "          5.63710332e-02,  6.81066886e-03,  4.91664223e-02,\n",
       "          1.10518306e-01, -3.60299274e-02, -2.38153189e-02,\n",
       "         -1.63002610e-02, -3.64670530e-02, -3.18391062e-02,\n",
       "          8.61841217e-02,  3.62210311e-02, -8.32590461e-02,\n",
       "         -3.95168774e-02, -3.89860221e-03,  6.57967106e-03,\n",
       "         -5.79288788e-02,  7.79322535e-02, -2.28347518e-02,\n",
       "         -5.00371419e-02,  6.03736937e-03, -8.09206907e-03,\n",
       "          4.45700437e-02,  4.16007359e-03,  4.67487760e-02,\n",
       "         -4.04267497e-02,  7.59727657e-02,  3.34772840e-02,\n",
       "          2.89932266e-02,  2.71295253e-02,  1.18457219e-02,\n",
       "         -5.04872836e-02, -4.75715064e-02,  4.13293578e-02,\n",
       "         -1.27797686e-02,  9.69001725e-02, -3.82200778e-02,\n",
       "         -8.40006098e-02, -2.62859675e-33,  2.09687073e-02,\n",
       "         -2.21679593e-03, -3.44058424e-02,  3.05759441e-02,\n",
       "          1.03627414e-01, -4.35053445e-02, -2.39885002e-02,\n",
       "          1.93823129e-02, -4.34545018e-02, -4.16008234e-02,\n",
       "         -4.09101136e-02,  1.49101065e-02, -5.59177324e-02,\n",
       "          8.51399079e-02, -5.82279358e-03, -6.91416413e-02,\n",
       "          2.26514116e-02, -4.11390215e-02,  4.50249501e-02,\n",
       "         -5.11237830e-02,  7.75611177e-02,  1.48914196e-02,\n",
       "         -1.96254114e-03,  3.21949832e-02, -6.81356043e-02,\n",
       "          1.49354324e-01,  5.72875515e-02, -1.83696747e-02,\n",
       "          2.91911867e-02,  7.61174485e-02, -1.02901936e-01,\n",
       "         -7.13402545e-03,  3.35546210e-02,  3.48361097e-02,\n",
       "         -1.31943682e-03,  2.54373206e-03, -4.71428521e-02,\n",
       "          2.60298587e-02, -3.65439095e-02, -3.68587784e-02,\n",
       "         -2.72801961e-03,  2.17596646e-02, -1.12907723e-01,\n",
       "         -2.99254116e-02, -2.38830578e-02, -6.51488528e-02,\n",
       "          1.16826897e-03,  1.92673281e-02, -1.62135307e-02,\n",
       "          2.74846889e-02,  5.08467630e-02,  2.73126923e-02,\n",
       "         -2.71699484e-02,  3.59348170e-02, -5.81000634e-02,\n",
       "         -2.63191070e-02,  8.34281277e-03, -2.87807938e-02,\n",
       "          5.10897823e-02,  2.35921331e-02,  1.05956458e-02,\n",
       "         -3.48916575e-02, -2.97328904e-02,  6.21747598e-02,\n",
       "          4.96853702e-02,  2.55106995e-03, -6.38423441e-03,\n",
       "         -1.16780680e-02, -2.02062894e-02, -1.37649486e-02,\n",
       "         -4.81273001e-03,  5.53648584e-02,  9.78615042e-03,\n",
       "         -7.64169842e-02, -7.46832937e-02, -7.68514276e-02,\n",
       "         -1.85880903e-02,  2.21682107e-03,  6.74633458e-02,\n",
       "          2.58894311e-03,  1.15040848e-02,  8.59635621e-02,\n",
       "          1.95179740e-03, -2.49777474e-02, -1.21807130e-02,\n",
       "         -9.39458143e-03,  5.22444099e-02, -6.60065711e-02,\n",
       "         -5.23892120e-02, -1.49614569e-02,  5.78155629e-02,\n",
       "         -4.55222558e-03,  1.08610895e-02, -2.10101381e-02,\n",
       "          3.67968194e-02,  1.63443618e-33, -7.54517764e-02,\n",
       "         -3.72056267e-03, -3.30698751e-02,  2.56306399e-02,\n",
       "         -2.14435961e-02,  4.71422914e-03, -1.03785815e-02,\n",
       "          8.87783691e-02, -2.98792738e-02,  2.86122411e-02,\n",
       "         -2.06554122e-02,  2.60108151e-02, -4.75581996e-02,\n",
       "         -4.81965672e-03,  6.41251877e-02, -5.69474474e-02,\n",
       "          6.49281666e-02, -1.38114810e-01,  5.93996793e-02,\n",
       "         -2.18336028e-03,  9.33864713e-02,  1.50043620e-02,\n",
       "          4.25813626e-03,  3.95708084e-02, -9.17580277e-02,\n",
       "          2.03484464e-02, -2.72361580e-02, -5.06099835e-02,\n",
       "         -1.51949422e-02,  2.40828786e-02,  3.83997746e-02,\n",
       "          3.40111740e-03, -7.48532340e-02, -8.21147785e-02,\n",
       "          4.00813594e-02,  2.33309455e-02, -6.00919314e-02,\n",
       "          5.34810647e-02, -1.25427181e-02,  2.78957821e-02,\n",
       "          3.23294699e-02,  3.38675343e-02, -4.77672927e-02,\n",
       "         -2.36974284e-02, -2.43656505e-02, -1.29131507e-02,\n",
       "         -3.73686664e-02, -7.31982430e-03,  1.32506102e-01,\n",
       "          1.91133581e-02,  6.31485060e-02, -1.37649015e-01,\n",
       "          2.43656486e-02, -8.76901597e-02,  1.23717906e-02,\n",
       "         -6.28773719e-02,  3.14051956e-02, -3.93760540e-02,\n",
       "         -4.52784076e-02,  7.16468468e-02,  2.08710600e-02,\n",
       "         -5.34138680e-02, -1.12921588e-01, -1.13987133e-01,\n",
       "          4.04967703e-02,  1.17938489e-01,  1.55126080e-02,\n",
       "         -2.58321203e-02,  1.85908768e-02, -1.60427969e-02,\n",
       "          4.09746319e-02, -2.11261562e-03, -8.62069502e-02,\n",
       "         -1.21933065e-01, -4.24475595e-03,  7.11902007e-02,\n",
       "         -5.73207811e-02,  2.77439039e-02,  4.37264591e-02,\n",
       "         -1.63011886e-02,  7.85956904e-03, -1.57871327e-04,\n",
       "          1.68785676e-02, -4.39538844e-02, -1.87198527e-03,\n",
       "         -2.03018021e-02, -6.98241405e-03,  1.07335925e-01,\n",
       "         -2.07657292e-02,  5.85735925e-02,  3.52960601e-02,\n",
       "          5.86682744e-02,  9.77534894e-03,  5.34883179e-02,\n",
       "          1.68914497e-02, -2.19188916e-08, -2.95723975e-02,\n",
       "         -3.72168981e-02, -3.74008156e-02,  9.28648859e-02,\n",
       "          5.08186184e-02,  4.79633361e-02, -2.35554837e-02,\n",
       "          4.03856412e-02,  1.42105699e-01,  2.74118278e-02,\n",
       "          4.89010587e-02, -3.25175896e-02, -3.06176599e-02,\n",
       "          7.27896094e-02,  9.97470841e-02,  8.45445041e-03,\n",
       "         -1.95387490e-02,  1.80566255e-02, -6.47272766e-02,\n",
       "         -7.73327202e-02, -5.81476651e-02,  5.27505018e-03,\n",
       "          9.64122042e-02, -1.43652126e-01,  1.17114596e-02,\n",
       "          1.02311354e-02, -1.01584278e-01,  2.90972497e-02,\n",
       "          2.15435028e-02,  6.96433932e-02, -4.70374711e-02,\n",
       "         -1.47143556e-02, -3.34438682e-02, -1.20040132e-02,\n",
       "         -5.77457547e-02,  3.00035393e-03, -1.48894787e-02,\n",
       "         -3.33925374e-02, -1.70185268e-02, -2.78972629e-02,\n",
       "          8.31555352e-02, -4.47435752e-02, -1.68391299e-02,\n",
       "          4.41731177e-02, -4.54828143e-02, -1.81344040e-02,\n",
       "         -8.59716758e-02,  4.02583554e-03, -3.17570455e-02,\n",
       "         -3.56782554e-03, -7.62897637e-03, -6.97090775e-02,\n",
       "         -1.55724427e-02,  1.00141108e-01,  5.05725779e-02,\n",
       "          3.08226924e-02, -1.35450782e-02,  2.54864655e-02,\n",
       "          5.19401506e-02,  1.28361396e-03,  6.60715923e-02,\n",
       "         -2.51783729e-02, -9.04075503e-02,  5.78886233e-02],\n",
       "        [-3.76552530e-02, -4.02132683e-02, -3.92099880e-02,\n",
       "         -3.70720178e-02,  5.98477852e-03, -6.25971481e-02,\n",
       "         -6.93760961e-02, -4.71640285e-03,  6.12000935e-02,\n",
       "         -3.27400640e-02, -1.54791083e-02, -2.34457031e-02,\n",
       "         -9.36082453e-02,  1.04623695e-03, -2.30698176e-02,\n",
       "          5.52039742e-02,  4.39936593e-02, -6.25278503e-02,\n",
       "         -6.09972142e-03,  2.17634602e-03,  8.86422640e-04,\n",
       "         -5.04756905e-02, -6.46134242e-02, -9.50896293e-02,\n",
       "         -3.85076068e-02,  7.28205591e-02,  4.91432007e-03,\n",
       "          1.46048181e-02,  1.89478938e-02, -2.58687753e-02,\n",
       "          2.64364891e-02,  1.84788592e-02,  7.12491795e-02,\n",
       "         -3.43752932e-03,  2.98399851e-02,  1.56476200e-02,\n",
       "          1.83710968e-03, -1.05378889e-01,  8.66772421e-03,\n",
       "         -2.39237733e-02,  2.18190867e-02, -7.13922549e-03,\n",
       "          5.39793284e-04,  4.64218576e-03,  6.96659610e-02,\n",
       "         -3.90420333e-02,  2.66802106e-02, -9.50424932e-03,\n",
       "          4.31884266e-02, -1.04252377e-03, -3.39856930e-02,\n",
       "         -1.51550561e-01, -9.27190483e-03,  1.16672311e-02,\n",
       "          5.15033212e-03,  2.66654119e-02, -7.37082213e-02,\n",
       "         -8.61394256e-02,  5.55031598e-02, -5.24620749e-02,\n",
       "          1.32760346e-01, -4.75260802e-02,  5.34599833e-02,\n",
       "          1.08793132e-01, -1.92805678e-02,  3.10181268e-02,\n",
       "         -1.43976230e-02, -8.29281509e-02, -1.65250693e-02,\n",
       "         -4.70120050e-02,  8.93981829e-02,  7.38647860e-03,\n",
       "          1.06034121e-02,  2.44594309e-02,  8.71936418e-03,\n",
       "          3.93758938e-02,  4.16263044e-02, -1.64275151e-02,\n",
       "          1.31203115e-01, -3.63155566e-02, -2.60367095e-02,\n",
       "         -5.62103372e-03, -1.93773601e-02,  4.73037288e-02,\n",
       "         -1.59012545e-02,  7.11833388e-02,  4.59409468e-02,\n",
       "          5.19796507e-03,  5.45689464e-02, -5.41668013e-02,\n",
       "         -3.14870477e-02, -4.44203094e-02, -7.59331277e-03,\n",
       "         -7.38779753e-02, -1.27194654e-02, -5.18470407e-02,\n",
       "         -7.40185962e-04, -9.02422071e-02, -6.88003153e-02,\n",
       "          1.41164875e-02, -4.46070470e-02, -5.54457009e-02,\n",
       "          3.96516919e-02,  3.58444378e-02, -1.93370692e-02,\n",
       "          4.32526767e-02, -5.26701808e-02,  8.31612945e-02,\n",
       "          1.10474741e-02,  4.17041481e-02, -6.95567131e-02,\n",
       "          2.49641910e-02, -1.86086465e-02,  5.96341975e-02,\n",
       "          5.52927470e-03,  6.46173432e-02, -1.26808688e-01,\n",
       "          3.86972241e-02,  3.60973999e-02, -2.64976975e-02,\n",
       "         -7.22653195e-02, -4.43948172e-02, -3.38255391e-02,\n",
       "          1.56434700e-02, -7.17196101e-03,  6.72509894e-02,\n",
       "         -1.09804057e-01, -1.30546247e-34,  4.29869033e-02,\n",
       "          3.88905853e-02,  2.24154554e-02, -9.07688886e-02,\n",
       "          6.39503151e-02, -4.42141257e-02,  4.37979437e-02,\n",
       "          5.09661920e-02,  1.94259267e-02,  3.36923860e-02,\n",
       "         -1.07867777e-01,  4.27063555e-02, -1.14704203e-02,\n",
       "          9.49983820e-02,  1.15756735e-01, -5.69038689e-02,\n",
       "         -6.69023171e-02,  4.15364467e-02,  7.28565827e-03,\n",
       "          2.16937307e-02,  1.11519434e-01, -1.46638518e-02,\n",
       "          2.40759775e-02, -1.47194532e-03,  1.60072278e-02,\n",
       "          1.80525016e-02,  1.58548839e-02, -2.66740844e-02,\n",
       "          7.45194629e-02,  3.74608114e-02, -2.86077000e-02,\n",
       "         -2.03389972e-02, -3.70450392e-02, -5.15020601e-02,\n",
       "          5.42047955e-02,  5.77519722e-02, -2.90665962e-02,\n",
       "         -6.79243356e-02,  7.22392322e-03,  1.06566906e-01,\n",
       "         -2.64279335e-03,  5.06429709e-02, -7.61021674e-02,\n",
       "         -1.29544765e-01, -5.24420328e-02,  2.19797902e-02,\n",
       "         -3.27037182e-03, -4.31298874e-02,  3.61163495e-03,\n",
       "         -6.28123283e-02, -5.46634458e-02,  3.84885781e-02,\n",
       "          1.29657248e-02, -3.07944752e-02,  6.12832746e-03,\n",
       "         -7.25927651e-02, -4.69395556e-02, -9.62312147e-03,\n",
       "          5.69735691e-02,  2.10705977e-02, -7.87872747e-02,\n",
       "         -6.30728826e-02,  3.39953117e-02,  6.43893480e-02,\n",
       "         -5.84672764e-02,  4.25839536e-02,  8.82270485e-02,\n",
       "         -2.60258615e-02, -4.17639241e-02,  3.74911241e-02,\n",
       "         -1.26603141e-03, -4.39836308e-02,  3.29703279e-02,\n",
       "         -7.83326179e-02,  6.07155673e-02, -5.00036729e-03,\n",
       "         -1.16186261e-01,  3.02098505e-02, -1.10751418e-02,\n",
       "         -5.87683823e-03,  1.13031771e-02, -4.47593676e-03,\n",
       "          5.08974753e-02, -2.04993859e-02,  1.90285239e-02,\n",
       "          2.28527002e-02,  2.90806610e-02,  4.51576933e-02,\n",
       "         -1.87538508e-02, -1.10562909e-02, -3.47514451e-02,\n",
       "         -2.47285850e-02,  2.71457583e-02, -9.15424246e-03,\n",
       "          2.06703711e-02, -9.15066424e-34, -2.01662863e-03,\n",
       "         -1.24152631e-01,  1.75066125e-02, -6.30782023e-02,\n",
       "          5.71702048e-03, -6.00134628e-03, -3.10843121e-02,\n",
       "          2.32310034e-02,  4.45139967e-02, -2.50205137e-02,\n",
       "          1.27499439e-02,  1.33687243e-01,  3.66659537e-02,\n",
       "          4.03499566e-02,  2.85291336e-02, -1.68364551e-02,\n",
       "         -2.77410056e-02, -5.64403795e-02,  2.24193372e-02,\n",
       "         -9.55159739e-02,  4.21158448e-02, -6.38567060e-02,\n",
       "         -1.10936183e-02, -3.62068489e-02,  7.95406923e-02,\n",
       "          3.67347151e-02, -4.22314405e-02,  5.93562052e-02,\n",
       "          4.77115177e-02, -3.26632187e-02, -4.63290364e-02,\n",
       "          4.09151278e-02, -2.01809723e-02,  1.03945367e-01,\n",
       "          6.90071359e-02,  5.99304959e-02,  2.29302049e-02,\n",
       "         -1.83425713e-02,  4.18974981e-02,  2.15755589e-02,\n",
       "          2.31710356e-02, -8.51165950e-02,  1.19617134e-02,\n",
       "          6.91350773e-02,  5.14000375e-03,  2.44049132e-02,\n",
       "         -1.42184412e-02,  3.80612798e-02, -2.97652138e-03,\n",
       "         -6.73270077e-02, -2.14457884e-02,  2.37259753e-02,\n",
       "         -4.80783731e-03,  8.50328885e-04, -2.90419646e-02,\n",
       "          5.46620153e-02,  6.12800084e-02,  6.83357865e-02,\n",
       "          3.28898174e-03, -1.86505001e-02,  2.17787898e-03,\n",
       "         -2.47972123e-02,  3.17340866e-02, -4.79863621e-02,\n",
       "         -5.55247776e-02,  1.94764305e-02,  5.60844243e-02,\n",
       "         -2.32864693e-02, -2.68046446e-02, -1.99906100e-02,\n",
       "         -6.67158654e-03, -5.98294027e-02, -5.08478880e-02,\n",
       "          3.77215110e-02, -1.08492032e-01, -5.01797050e-02,\n",
       "         -1.64774414e-02, -4.65932488e-02,  4.81398478e-02,\n",
       "          1.10693416e-03, -3.84502485e-02, -8.76613185e-02,\n",
       "          1.10430382e-01,  1.17872424e-01,  7.98062831e-02,\n",
       "         -6.52787508e-03,  8.27777609e-02,  5.29951416e-03,\n",
       "         -6.89322315e-03,  1.71760302e-02, -9.60660204e-02,\n",
       "          6.84396252e-02, -3.43744420e-02,  4.37034853e-02,\n",
       "         -7.35720992e-02, -2.06463717e-08,  6.44816905e-02,\n",
       "         -8.62924680e-02,  4.45695668e-02,  7.28133395e-02,\n",
       "          2.51283981e-02, -2.80426890e-02, -1.90401953e-02,\n",
       "          7.25706741e-02,  1.85924172e-02, -3.86344530e-02,\n",
       "          4.14149724e-02, -3.46533284e-02, -1.12810098e-02,\n",
       "          9.12856404e-03,  2.32889969e-02,  6.44716024e-02,\n",
       "          3.40276733e-02,  5.41278459e-02,  1.49640692e-02,\n",
       "         -2.31936127e-02, -7.17336833e-02,  3.89334969e-02,\n",
       "          5.02033159e-02, -4.37479988e-02, -4.84929886e-03,\n",
       "          2.59553286e-04,  6.21859096e-02, -2.17994433e-02,\n",
       "         -2.09739618e-02,  4.76161242e-02, -2.41845027e-02,\n",
       "          9.00899395e-02,  7.04817697e-02, -1.68012418e-02,\n",
       "          3.73813137e-02, -2.76628863e-02,  4.38782014e-02,\n",
       "          5.74550182e-02,  5.67014031e-02, -7.83959255e-02,\n",
       "          2.85888910e-02,  6.44661933e-02, -2.42841374e-02,\n",
       "         -3.25264186e-02,  7.15367123e-02,  1.76979676e-02,\n",
       "         -4.51471694e-02, -1.30366802e-01,  4.10780646e-02,\n",
       "          1.98869929e-02, -4.21714336e-02,  3.79199721e-02,\n",
       "         -3.52908336e-02,  9.15254131e-02, -2.44428962e-02,\n",
       "         -3.62913422e-02, -1.01935081e-01, -9.57352892e-02,\n",
       "         -3.20869051e-02,  5.41291945e-02,  1.11667924e-02,\n",
       "         -4.48195115e-02,  9.90329832e-02, -1.78646091e-02]]),\n",
       " 'documents': [\"Meta drops multimodal Llama 3.2 — here's why it's such a big deal\",\n",
       "  'Chip giant Nvidia acquires OctoAI, a Seattle startup that helps companies run AI models'],\n",
       " 'uris': None,\n",
       " 'data': None,\n",
       " 'metadatas': [None, None],\n",
       " 'included': [<IncludeEnum.embeddings: 'embeddings'>,\n",
       "  <IncludeEnum.documents: 'documents'>,\n",
       "  <IncludeEnum.metadatas: 'metadatas'>]}"
      ]
     },
     "execution_count": 8,
     "metadata": {},
     "output_type": "execute_result"
    }
   ],
   "source": [
    "collection.peek(2)"
   ]
  },
  {
   "cell_type": "code",
   "execution_count": 12,
   "metadata": {},
   "outputs": [
    {
     "data": {
      "text/plain": [
       "{'ids': [['id3', 'id1']],\n",
       " 'embeddings': None,\n",
       " 'documents': [['Google is bringing Gemini to all older Pixel Buds',\n",
       "   \"Meta drops multimodal Llama 3.2 — here's why it's such a big deal\"]],\n",
       " 'uris': None,\n",
       " 'data': None,\n",
       " 'metadatas': [[None, None]],\n",
       " 'distances': [[1.5251840353012085, 1.7548894882202148]],\n",
       " 'included': [<IncludeEnum.distances: 'distances'>,\n",
       "  <IncludeEnum.documents: 'documents'>,\n",
       "  <IncludeEnum.metadatas: 'metadatas'>]}"
      ]
     },
     "execution_count": 12,
     "metadata": {},
     "output_type": "execute_result"
    }
   ],
   "source": [
    "collection.query(\n",
    "    query_texts=[\"gadget\"],\n",
    "    n_results=2,\n",
    "    include=['metadatas', 'documents', 'distances']\n",
    ")"
   ]
  },
  {
   "cell_type": "markdown",
   "metadata": {},
   "source": [
    "**Choosing other models**"
   ]
  },
  {
   "cell_type": "code",
   "execution_count": 13,
   "metadata": {},
   "outputs": [
    {
     "name": "stderr",
     "output_type": "stream",
     "text": [
      "/Users/henriquesantana/Projects/Udacity/agents/.venv/lib/python3.11/site-packages/tqdm/auto.py:21: TqdmWarning: IProgress not found. Please update jupyter and ipywidgets. See https://ipywidgets.readthedocs.io/en/stable/user_install.html\n",
      "  from .autonotebook import tqdm as notebook_tqdm\n",
      "huggingface/tokenizers: The current process just got forked, after parallelism has already been used. Disabling parallelism to avoid deadlocks...\n",
      "To disable this warning, you can either:\n",
      "\t- Avoid using `tokenizers` before the fork if possible\n",
      "\t- Explicitly set the environment variable TOKENIZERS_PARALLELISM=(true | false)\n"
     ]
    }
   ],
   "source": [
    "embeddings_fn = embedding_functions.SentenceTransformerEmbeddingFunction(\n",
    "    model_name=\"all-mpnet-base-v2\"\n",
    ")"
   ]
  },
  {
   "cell_type": "code",
   "execution_count": 14,
   "metadata": {},
   "outputs": [
    {
     "data": {
      "text/plain": [
       "5"
      ]
     },
     "execution_count": 14,
     "metadata": {},
     "output_type": "execute_result"
    }
   ],
   "source": [
    "embeddings = embeddings_fn(sentence_list)\n",
    "len(embeddings)"
   ]
  },
  {
   "cell_type": "code",
   "execution_count": 15,
   "metadata": {},
   "outputs": [
    {
     "name": "stdout",
     "output_type": "stream",
     "text": [
      "0.5583155\n",
      "Chip giant Nvidia acquires OctoAI, a Seattle startup that helps companies run AI models\n",
      "Dell partners with Nvidia to accelerate AI adoption in telecoms\n"
     ]
    }
   ],
   "source": [
    "print(np.dot(embeddings[1], embeddings[4]))\n",
    "print(sentence_list[1])\n",
    "print(sentence_list[4])"
   ]
  },
  {
   "cell_type": "code",
   "execution_count": 16,
   "metadata": {},
   "outputs": [],
   "source": [
    "from dotenv import load_dotenv\n",
    "load_dotenv()\n",
    "\n",
    "embeddings_fn = embedding_functions.OpenAIEmbeddingFunction(\n",
    "    api_key=os.getenv(\"OPENAI_API_KEY\")\n",
    ")"
   ]
  },
  {
   "cell_type": "code",
   "execution_count": 17,
   "metadata": {},
   "outputs": [
    {
     "data": {
      "text/plain": [
       "'text-embedding-ada-002'"
      ]
     },
     "execution_count": 17,
     "metadata": {},
     "output_type": "execute_result"
    }
   ],
   "source": [
    "embeddings_fn._model_name"
   ]
  },
  {
   "cell_type": "code",
   "execution_count": 18,
   "metadata": {},
   "outputs": [],
   "source": [
    "chroma_client.delete_collection(name=\"udacity\")\n",
    "\n",
    "collection = chroma_client.create_collection(\n",
    "    name=\"udacity\",\n",
    "    embedding_function=embeddings_fn\n",
    ")"
   ]
  },
  {
   "cell_type": "code",
   "execution_count": 19,
   "metadata": {},
   "outputs": [],
   "source": [
    "collection.add(\n",
    "    documents=sentence_list,\n",
    "    ids=ids\n",
    ")"
   ]
  },
  {
   "cell_type": "code",
   "execution_count": 20,
   "metadata": {},
   "outputs": [
    {
     "data": {
      "text/plain": [
       "<chromadb.utils.embedding_functions.openai_embedding_function.OpenAIEmbeddingFunction at 0x30ac93590>"
      ]
     },
     "execution_count": 20,
     "metadata": {},
     "output_type": "execute_result"
    }
   ],
   "source": [
    "collection._embedding_function"
   ]
  },
  {
   "cell_type": "code",
   "execution_count": 22,
   "metadata": {},
   "outputs": [
    {
     "data": {
      "text/plain": [
       "{'ids': [['id3', 'id4']],\n",
       " 'embeddings': None,\n",
       " 'documents': [['Google is bringing Gemini to all older Pixel Buds',\n",
       "   'The first Intel Battlmage GPU benchmarks have leaked']],\n",
       " 'uris': None,\n",
       " 'data': None,\n",
       " 'metadatas': [[None, None]],\n",
       " 'distances': [[0.46601054072380066, 0.48678597807884216]],\n",
       " 'included': [<IncludeEnum.distances: 'distances'>,\n",
       "  <IncludeEnum.documents: 'documents'>,\n",
       "  <IncludeEnum.metadatas: 'metadatas'>]}"
      ]
     },
     "execution_count": 22,
     "metadata": {},
     "output_type": "execute_result"
    }
   ],
   "source": [
    "collection.query(\n",
    "    query_texts=[\"gadget\"],\n",
    "    n_results=2,\n",
    "    include=['metadatas', 'documents', 'distances']\n",
    ")"
   ]
  },
  {
   "cell_type": "markdown",
   "metadata": {},
   "source": [
    "**Using with LangChain**"
   ]
  },
  {
   "cell_type": "code",
   "execution_count": 23,
   "metadata": {},
   "outputs": [],
   "source": [
    "chroma_client.delete_collection(name=\"udacity\")"
   ]
  },
  {
   "cell_type": "code",
   "execution_count": 24,
   "metadata": {},
   "outputs": [],
   "source": [
    "from dotenv import load_dotenv\n",
    "load_dotenv()\n",
    "\n",
    "vector_store = Chroma(\n",
    "    collection_name=\"udacity\",\n",
    "    embedding_function=OpenAIEmbeddings(),\n",
    ")"
   ]
  },
  {
   "cell_type": "code",
   "execution_count": 25,
   "metadata": {},
   "outputs": [],
   "source": [
    "documents = [\n",
    "    Document(\n",
    "        page_content=\"Meta drops multimodal Llama 3.2 — here's why it's such a big deal\",\n",
    "        metadata={\"company\":\"Meta\", \"topic\": \"llama\"}\n",
    "    ),\n",
    "    Document(\n",
    "        page_content=\"Chip giant Nvidia acquires OctoAI, a Seattle startup that helps companies run AI models\",\n",
    "        metadata={\"company\":\"Nvidia\", \"topic\": \"acquisition\"}\n",
    "    ),\n",
    "    Document(\n",
    "        page_content=\"Google is bringing Gemini to all older Pixel Buds\",\n",
    "        metadata={\"company\":\"Google\", \"topic\": \"gemini\"}\n",
    "    ),\n",
    "    Document(\n",
    "        page_content=\"The first Intel Battlmage GPU benchmarks have leaked\",\n",
    "        metadata={\"company\":\"Intel\", \"topic\": \"gpu\"}\n",
    "    ),\n",
    "    Document(\n",
    "        page_content=\"Dell partners with Nvidia to accelerate AI adoption in telecoms\",\n",
    "        metadata={\"company\":\"Dell\", \"topic\": \"partnership\"}\n",
    "    ),\n",
    "]"
   ]
  },
  {
   "cell_type": "code",
   "execution_count": 26,
   "metadata": {},
   "outputs": [
    {
     "data": {
      "text/plain": [
       "['id1', 'id2', 'id3', 'id4', 'id5']"
      ]
     },
     "execution_count": 26,
     "metadata": {},
     "output_type": "execute_result"
    }
   ],
   "source": [
    "vector_store.add_documents(documents=documents, ids=ids)"
   ]
  },
  {
   "cell_type": "code",
   "execution_count": 27,
   "metadata": {},
   "outputs": [
    {
     "name": "stdout",
     "output_type": "stream",
     "text": [
      "-> The first Intel Battlmage GPU benchmarks have leaked\n",
      "   [Score=0.35]\n",
      "   [{'company': 'Intel', 'topic': 'gpu'}]\n",
      "\n",
      "\n",
      "-> Chip giant Nvidia acquires OctoAI, a Seattle startup that helps companies run AI models\n",
      "   [Score=0.41]\n",
      "   [{'company': 'Nvidia', 'topic': 'acquisition'}]\n",
      "\n",
      "\n"
     ]
    }
   ],
   "source": [
    "results = vector_store.similarity_search_with_score(query=\"gpu\",k=2)\n",
    "for doc, score in results:\n",
    "    print(f\"-> {doc.page_content}\\n   [Score={score:.2f}]\\n   [{doc.metadata}]\\n\\n\")"
   ]
  },
  {
   "cell_type": "code",
   "execution_count": null,
   "metadata": {},
   "outputs": [],
   "source": []
  }
 ],
 "metadata": {
  "kernelspec": {
   "display_name": ".venv",
   "language": "python",
   "name": "python3"
  },
  "language_info": {
   "codemirror_mode": {
    "name": "ipython",
    "version": 3
   },
   "file_extension": ".py",
   "mimetype": "text/x-python",
   "name": "python",
   "nbconvert_exporter": "python",
   "pygments_lexer": "ipython3",
   "version": "3.11.10"
  }
 },
 "nbformat": 4,
 "nbformat_minor": 2
}
