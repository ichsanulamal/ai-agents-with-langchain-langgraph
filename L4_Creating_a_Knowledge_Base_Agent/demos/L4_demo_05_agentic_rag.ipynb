{
 "cells": [
  {
   "cell_type": "code",
   "execution_count": 1,
   "metadata": {},
   "outputs": [],
   "source": [
    "import os \n",
    "from typing import List, Dict\n",
    "from langchain_openai import ChatOpenAI, OpenAIEmbeddings\n",
    "from langchain_core.tools import tool\n",
    "from langchain_core.messages import HumanMessage \n",
    "from langchain_core.prompts import ChatPromptTemplate\n",
    "from langchain_core.output_parsers import StrOutputParser\n",
    "from langchain_core.documents import Document\n",
    "from langchain_text_splitters import RecursiveCharacterTextSplitter\n",
    "from langchain_chroma import Chroma\n",
    "from langchain_community.document_loaders import PyPDFLoader\n",
    "from langgraph.graph import START, END, StateGraph\n",
    "from langgraph.graph.message import MessagesState\n",
    "from langgraph.prebuilt import ToolNode\n",
    "from IPython.display import Image, display\n",
    "from tavily import TavilyClient"
   ]
  },
  {
   "cell_type": "code",
   "execution_count": 2,
   "metadata": {},
   "outputs": [
    {
     "data": {
      "text/plain": [
       "True"
      ]
     },
     "execution_count": 2,
     "metadata": {},
     "output_type": "execute_result"
    }
   ],
   "source": [
    "from dotenv import load_dotenv\n",
    "load_dotenv()"
   ]
  },
  {
   "cell_type": "markdown",
   "metadata": {},
   "source": [
    "**Loading Documents to VectorDB**"
   ]
  },
  {
   "cell_type": "code",
   "execution_count": 3,
   "metadata": {},
   "outputs": [],
   "source": [
    "embeddings_fn = OpenAIEmbeddings(\n",
    "    model=\"text-embedding-3-large\"\n",
    ")"
   ]
  },
  {
   "cell_type": "code",
   "execution_count": 4,
   "metadata": {},
   "outputs": [],
   "source": [
    "vector_store = Chroma(\n",
    "    collection_name=\"udacity\",\n",
    "    embedding_function=embeddings_fn\n",
    ")\n",
    "\n",
    "file_path = \"compact-guide-to-large-language-models.pdf\"\n",
    "loader = PyPDFLoader(file_path)\n",
    "pages = []\n",
    "async for page in loader.alazy_load():\n",
    "    pages.append(page)\n",
    "\n",
    "text_splitter = RecursiveCharacterTextSplitter(chunk_size=1000, chunk_overlap=200)\n",
    "all_splits = text_splitter.split_documents(pages)\n",
    "\n",
    "_ = vector_store.add_documents(documents=all_splits)"
   ]
  },
  {
   "cell_type": "code",
   "execution_count": 5,
   "metadata": {},
   "outputs": [],
   "source": [
    "llm = ChatOpenAI(\n",
    "    model=\"gpt-4o-mini\",\n",
    "    temperature=0.0,\n",
    ")"
   ]
  },
  {
   "cell_type": "code",
   "execution_count": 6,
   "metadata": {},
   "outputs": [],
   "source": [
    "class State(MessagesState):\n",
    "    question: str\n",
    "    documents: List[Document]\n",
    "    search_required: str = \"NO\"\n",
    "    answer: str"
   ]
  },
  {
   "cell_type": "code",
   "execution_count": 7,
   "metadata": {},
   "outputs": [],
   "source": [
    "def retrieve(state: State):\n",
    "    question = state[\"question\"]\n",
    "    retrieved_docs = vector_store.similarity_search(question)\n",
    "    return {\"documents\": retrieved_docs}"
   ]
  },
  {
   "cell_type": "code",
   "execution_count": 8,
   "metadata": {},
   "outputs": [],
   "source": [
    "def evaluator(state: State):\n",
    "    question = state[\"question\"]\n",
    "    documents = state[\"documents\"]\n",
    "    docs_content = \"\\n\\n\".join(doc.page_content for doc in documents)\n",
    "    \n",
    "    template = ChatPromptTemplate([\n",
    "        (\"system\", \"You are an assistant for evaluating context.\"),\n",
    "        (\"human\", \"Use the following pieces of retrieved context to determine if an \" \n",
    "                  \"additional search is required. If the context is relevant to the \" \n",
    "                  \"question, your response should be 'NO', i.e. no need for search. \"\n",
    "                  \"If the context is not relevant, say 'YES', i.e. search the web for an answer. \" \n",
    "                  \"Don't explain anything, if it's to search the web, say YES, otherwise, NO. \"\n",
    "                  \"\\n# Question: \\n-> {question} \"\n",
    "                  \"\\n# Context: \\n-> {context} \"\n",
    "                  \"\\n# Answer: \"),\n",
    "    ])\n",
    "\n",
    "    chain = template | llm | StrOutputParser()\n",
    "\n",
    "    search_required = chain.invoke(\n",
    "        {\"context\": docs_content, \"question\": question}\n",
    "    )\n",
    "\n",
    "    return {\"search_required\": search_required}\n",
    "    "
   ]
  },
  {
   "cell_type": "code",
   "execution_count": 9,
   "metadata": {},
   "outputs": [],
   "source": [
    "@tool\n",
    "def web_search(question:str)->Dict:\n",
    "    \"\"\"\n",
    "    Return top search results for a given search query\n",
    "    \"\"\"\n",
    "    tavily_client = TavilyClient(api_key=os.getenv(\"TAVILY_API_KEY\"))\n",
    "    response = tavily_client.search(question)\n",
    "    return response"
   ]
  },
  {
   "cell_type": "code",
   "execution_count": 10,
   "metadata": {},
   "outputs": [],
   "source": [
    "llm_with_tools = llm.bind_tools([web_search])"
   ]
  },
  {
   "cell_type": "code",
   "execution_count": 11,
   "metadata": {},
   "outputs": [],
   "source": [
    "def researcher(state: State):\n",
    "    question = state[\"question\"]\n",
    "    messages = state[\"messages\"]\n",
    "    if not messages:\n",
    "        human_message = HumanMessage(\n",
    "            \"Conduct a web research to findout the answer to the following question: \"\n",
    "            f\"```{question}```\"\n",
    "        )\n",
    "        messages = [human_message]\n",
    "    \n",
    "    ai_message = llm_with_tools.invoke(messages)\n",
    "    messages.append(ai_message)\n",
    "    return {\"messages\": messages, \"answer\": ai_message.content}"
   ]
  },
  {
   "cell_type": "code",
   "execution_count": 12,
   "metadata": {},
   "outputs": [],
   "source": [
    "def augment(state: State):\n",
    "    question = state[\"question\"]\n",
    "    documents = state[\"documents\"]\n",
    "    docs_content = \"\\n\\n\".join(doc.page_content for doc in documents)\n",
    "    \n",
    "    template = ChatPromptTemplate([\n",
    "        (\"system\", \"You are an assistant for question-answering tasks.\"),\n",
    "        (\"human\", \"Use the following pieces of retrieved context to answer the question. \"\n",
    "                \"If you don't know the answer, just say that you don't know. \" \n",
    "                \"Use three sentences maximum and keep the answer concise. \"\n",
    "                \"\\n# Question: \\n-> {question} \"\n",
    "                \"\\n# Context: \\n-> {context} \"\n",
    "                \"\\n# Answer: \"),\n",
    "    ])\n",
    "\n",
    "    messages = template.invoke(\n",
    "        {\"context\": docs_content, \"question\": question}\n",
    "    ).to_messages()\n",
    "\n",
    "    return {\"messages\": messages}"
   ]
  },
  {
   "cell_type": "code",
   "execution_count": 13,
   "metadata": {},
   "outputs": [],
   "source": [
    "def generate(state: State):\n",
    "    ai_message = llm.invoke(state[\"messages\"])\n",
    "    return {\"answer\": ai_message.content, \"messages\": ai_message}"
   ]
  },
  {
   "cell_type": "code",
   "execution_count": 14,
   "metadata": {},
   "outputs": [],
   "source": [
    "def rag_router(state: MessagesState):\n",
    "    search_required = state[\"search_required\"]\n",
    "    if search_required.lower() == \"yes\":\n",
    "        return \"researcher\"\n",
    "\n",
    "    return \"augment\""
   ]
  },
  {
   "cell_type": "code",
   "execution_count": 15,
   "metadata": {},
   "outputs": [],
   "source": [
    "def tool_router(state: MessagesState):\n",
    "    last_message = state[\"messages\"][-1]\n",
    "    if last_message.tool_calls:\n",
    "        return \"web_search\"\n",
    "\n",
    "    return END"
   ]
  },
  {
   "cell_type": "code",
   "execution_count": 16,
   "metadata": {},
   "outputs": [
    {
     "data": {
      "text/plain": [
       "<langgraph.graph.state.StateGraph at 0x127667310>"
      ]
     },
     "execution_count": 16,
     "metadata": {},
     "output_type": "execute_result"
    }
   ],
   "source": [
    "workflow = StateGraph(State)\n",
    "\n",
    "workflow.add_node(\"retrieve\", retrieve)\n",
    "workflow.add_node(\"augment\", augment)\n",
    "workflow.add_node(\"generate\", generate)\n",
    "workflow.add_node(\"evaluator\", evaluator)\n",
    "workflow.add_node(\"researcher\", researcher)\n",
    "workflow.add_node(\"web_search\", ToolNode([web_search]))\n",
    "\n",
    "workflow.add_edge(START, \"retrieve\")\n",
    "workflow.add_edge(\"retrieve\", \"evaluator\")\n",
    "\n",
    "workflow.add_conditional_edges(\n",
    "    source=\"evaluator\", \n",
    "    path=rag_router, \n",
    "    path_map=[\"augment\", \"researcher\"]\n",
    ")\n",
    "\n",
    "workflow.add_conditional_edges(\n",
    "    source=\"researcher\", \n",
    "    path=tool_router, \n",
    "    path_map=[\"web_search\", END]\n",
    ")\n",
    "workflow.add_edge(\"web_search\", \"researcher\")\n",
    "\n",
    "workflow.add_edge(\"augment\", \"generate\")\n",
    "workflow.add_edge(\"generate\", END)\n"
   ]
  },
  {
   "cell_type": "code",
   "execution_count": 17,
   "metadata": {},
   "outputs": [
    {
     "data": {
      "image/png": "[encoded data removed]",
      "text/plain": [
       "<IPython.core.display.Image object>"
      ]
     },
     "metadata": {},
     "output_type": "display_data"
    }
   ],
   "source": [
    "graph = workflow.compile()\n",
    "display(\n",
    "    Image(\n",
    "        graph.get_graph().draw_mermaid_png()\n",
    "    )\n",
    ")"
   ]
  },
  {
   "cell_type": "code",
   "execution_count": 18,
   "metadata": {},
   "outputs": [],
   "source": [
    "output = graph.invoke(\n",
    "    input={\"question\": \"What is Pokemon?\"},\n",
    ")"
   ]
  },
  {
   "cell_type": "code",
   "execution_count": 19,
   "metadata": {},
   "outputs": [
    {
     "data": {
      "text/plain": [
       "'Pokémon, short for \"Pocket Monsters,\" refers to a franchise centered around fictional creatures that inhabit the Pokémon world. These creatures come in various shapes and sizes and are categorized into different types, such as fire, water, plant, and electric. The franchise includes video games, trading card games, an animated TV series, movies, and merchandise.\\n\\n1. **Pokémon Creatures**: They are fantastical monsters that players can capture, train, and battle. Each Pokémon has unique abilities and characteristics. [Learn more here](https://pokemon.fandom.com/wiki/Pokémon_(creature)).\\n\\n2. **Franchise Overview**: Pokémon originated in Japan in 1996 with the release of Pokémon Green and Pokémon Red. It has since become one of the most successful video game franchises globally, second only to Nintendo\\'s Super Mario series. [More details can be found here](https://www.britannica.com/topic/Pokemon-electronic-game).\\n\\n3. **Cultural Impact**: The franchise has gained immense popularity, appealing to a wide audience, including both boys and girls, largely due to iconic characters like Pikachu. [Read more about its impact here](https://en.wikipedia.org/wiki/Pokémon).\\n\\nFor further exploration, you can visit the official Pokémon website or other resources that provide comprehensive information about the franchise.'"
      ]
     },
     "execution_count": 19,
     "metadata": {},
     "output_type": "execute_result"
    }
   ],
   "source": [
    "output[\"answer\"]"
   ]
  },
  {
   "cell_type": "code",
   "execution_count": 20,
   "metadata": {},
   "outputs": [
    {
     "name": "stdout",
     "output_type": "stream",
     "text": [
      "================================\u001b[1m Human Message \u001b[0m=================================\n",
      "\n",
      "Conduct a web research to findout the answer to the following question: ```What is Pokemon?```\n",
      "==================================\u001b[1m Ai Message \u001b[0m==================================\n",
      "Tool Calls:\n",
      "  web_search (call_rfMU9Bz95xDj3VZ0Cv3vkxJr)\n",
      " Call ID: call_rfMU9Bz95xDj3VZ0Cv3vkxJr\n",
      "  Args:\n",
      "    question: What is Pokemon?\n",
      "=================================\u001b[1m Tool Message \u001b[0m=================================\n",
      "Name: web_search\n",
      "\n",
      "{\"query\": \"What is Pokemon?\", \"follow_up_questions\": null, \"answer\": null, \"images\": [], \"results\": [{\"title\": \"Pokémon (creature) | Pokémon Wiki | Fandom - pokemon.fandom.com\", \"url\": \"https://pokemon.fandom.com/wiki/Pokémon_(creature)\", \"content\": \"Pokémon (Japanese: ポケモン, Hepburn: Pokemon), shortened from Pocket Monster (Japanese: ポケットモンスター, Hepburn: Poketto Monsutaa), are a group of fantastical monsters who are the central focus and main feature of the Pokémon franchise. Pokémon are found all over the Pokémon World, and their habitat varies depending on the species, much like creatures in the real world\", \"score\": 0.885404, \"raw_content\": null}, {\"title\": \"What is Pokémon? The Parents' Guide to the Pokémon Franchise\", \"url\": \"https://www.daddilife.com/things-to-do/what-is-pokemon/\", \"content\": \"Pokémon is an abbreviated term for 'pocket monsters' - fictional creatures that live alongside humans in the Pokémon world. Coming in all shapes and sizes, there are sorted into 18 different types including fire, water, plant, electric and many more.. Pikachu, a yellow electric-type, is easily the most recognisable of the 1,000+ different Pokémon.\", \"score\": 0.87218446, \"raw_content\": null}, {\"title\": \"Pokemon | Description, History, & Facts | Britannica\", \"url\": \"https://www.britannica.com/topic/Pokemon-electronic-game\", \"content\": \"Ask the Chatbot Games & Quizzes History & Society Science & Tech Biographies Animals & Nature Geography & Travel Arts & Culture ProCon Money Videos Smithsonian - National Museum of American History - Pokémon: A shared experience for a new generation Pokémon, electronic game series from Nintendo that debuted in Japan in February 1996 as Pokémon Green and Pokémon Red. The franchise later became wildly popular in the United States and around the world. Pokémon became one of the most successful video game franchises in the world, second only to Nintendo’s Super Mario Bros. _Pokémon GO_A video demonstration of the game.(more) Beginning in 2006, Pokémon video-game titles were produced exclusively for a new handheld console, the Nintendo DS, instead of the Game Boy, which was soon discontinued.\", \"score\": 0.6100127, \"raw_content\": null}, {\"title\": \"What is Pokémon? | The official Pokémon Website in Singapore\", \"url\": \"https://sg.portal-pokemon.com/about/\", \"content\": \"Explore sg.portal-pokemon.com for news and information on Pokémon, Pokémon TVAnime Series, Pokémon movies, Pokémon goods, Pokémon apps includes Pokémon GO, Pokémon games, the Trading Card Game, Pokémon campaign and event.\", \"score\": 0.5957048, \"raw_content\": null}, {\"title\": \"Pokémon - Wikipedia\", \"url\": \"https://en.wikipedia.org/wiki/Pokémon\", \"content\": \"Although the video games and the cards remained mostly of interest to boys, the anime also got more girls interested in the franchise, and girls' purchases of Pokemon products increased.[182] This has been partly credited to Pikachu, who gained widespread popularity among both boys and girls.[196] The success of this character would later lead to the game Pocket Monsters Pikachu (Pokémon Yellow: Special Pikachu Edition), released in Japan on 12 September 1998.[197][198] An adaptation of Pokemon Blue, this version was made to resemble the TV series more.[199]\", \"score\": 0.279293, \"raw_content\": null}], \"response_time\": 1.68}\n",
      "==================================\u001b[1m Ai Message \u001b[0m==================================\n",
      "\n",
      "Pokémon, short for \"Pocket Monsters,\" refers to a franchise centered around fictional creatures that inhabit the Pokémon world. These creatures come in various shapes and sizes and are categorized into different types, such as fire, water, plant, and electric. The franchise includes video games, trading card games, an animated TV series, movies, and merchandise.\n",
      "\n",
      "1. **Pokémon Creatures**: They are fantastical monsters that players can capture, train, and battle. Each Pokémon has unique abilities and characteristics. [Learn more here](https://pokemon.fandom.com/wiki/Pokémon_(creature)).\n",
      "\n",
      "2. **Franchise Overview**: Pokémon originated in Japan in 1996 with the release of Pokémon Green and Pokémon Red. It has since become one of the most successful video game franchises globally, second only to Nintendo's Super Mario series. [More details can be found here](https://www.britannica.com/topic/Pokemon-electronic-game).\n",
      "\n",
      "3. **Cultural Impact**: The franchise has gained immense popularity, appealing to a wide audience, including both boys and girls, largely due to iconic characters like Pikachu. [Read more about its impact here](https://en.wikipedia.org/wiki/Pokémon).\n",
      "\n",
      "For further exploration, you can visit the official Pokémon website or other resources that provide comprehensive information about the franchise.\n"
     ]
    }
   ],
   "source": [
    "for message in output[\"messages\"]:\n",
    "    message.pretty_print()"
   ]
  },
  {
   "cell_type": "code",
   "execution_count": 21,
   "metadata": {},
   "outputs": [
    {
     "data": {
      "text/plain": [
       "'YES'"
      ]
     },
     "execution_count": 21,
     "metadata": {},
     "output_type": "execute_result"
    }
   ],
   "source": [
    "output[\"search_required\"]"
   ]
  },
  {
   "cell_type": "code",
   "execution_count": 22,
   "metadata": {},
   "outputs": [],
   "source": [
    "output = graph.invoke(\n",
    "    input={\"question\": \"What is Open Source model?\"},\n",
    ")"
   ]
  },
  {
   "cell_type": "code",
   "execution_count": 23,
   "metadata": {},
   "outputs": [
    {
     "data": {
      "text/plain": [
       "'NO'"
      ]
     },
     "execution_count": 23,
     "metadata": {},
     "output_type": "execute_result"
    }
   ],
   "source": [
    "output[\"search_required\"]"
   ]
  },
  {
   "cell_type": "code",
   "execution_count": 24,
   "metadata": {},
   "outputs": [
    {
     "name": "stdout",
     "output_type": "stream",
     "text": [
      "================================\u001b[1m System Message \u001b[0m================================\n",
      "\n",
      "You are an assistant for question-answering tasks.\n",
      "================================\u001b[1m Human Message \u001b[0m=================================\n",
      "\n",
      "Use the following pieces of retrieved context to answer the question. If you don't know the answer, just say that you don't know. Use three sentences maximum and keep the answer concise. \n",
      "# Question: \n",
      "-> What is Open Source model? \n",
      "# Context: \n",
      "-> 7\n",
      "A Compact Guide to Large Language Models\n",
      "It does currently take a little bit more work to grab an open source model and \n",
      "start using it, but progress is moving very quickly to make them more accessible \n",
      "to users. On Databricks, for example, we’ve made improvements to open source \n",
      "frameworks like MLflow to make it very easy for someone with a bit of Python \n",
      "experience to pull any Hugging Face transformer model and use it as a Python \n",
      "object. Oftentimes, you can find an open source model that solves your specific \n",
      "problem that is orders of magnitude smaller than ChatGPT, allowing you to bring \n",
      "the model into your environment and host it yourself. This means that you can \n",
      "keep the data in your control for privacy and governance concerns as well as \n",
      "manage your costs.\n",
      "Another huge upside to using open source models is the ability to fine-tune \n",
      "them to your own data. Since you’re not dealing with a black box of a proprietary\n",
      "\n",
      "very limited use, so cost becomes a factor in applying these at scale.\n",
      "In summary: Proprietary services are great to use if you have very complex tasks, \n",
      "are okay with sharing your data with a third party, and are prepared to incur \n",
      "costs if operating at any significant scale.  \n",
      "Open source models\n",
      "The other avenue for language models is to go to the open source community, \n",
      "where there has been similarly explosive growth over the past few years. \n",
      "Communities like Hugging Face  gather hundreds of thousands of models \n",
      "from contributors that can help solve tons of specific use cases such as text \n",
      "generation, summarization and classification. The open source community has \n",
      "been quickly catching up to the performance of the proprietary models, but \n",
      "ultimately still hasn’t matched the performance of something like GPT-4. \n",
      "SECTION 3\n",
      "Applying Large Language Models\n",
      "\n",
      "manage your costs.\n",
      "Another huge upside to using open source models is the ability to fine-tune \n",
      "them to your own data. Since you’re not dealing with a black box of a proprietary \n",
      "service, there are techniques that let you take open source models and train \n",
      "them to your specific data, greatly improving their performance on your \n",
      "specific domain. We believe the future of language models is going to move \n",
      "in this direction, as more and more organizations will want full control and \n",
      "understanding of their LLMs.\n",
      " \n",
      "Conclusion and general guidelines\n",
      "Ultimately, every organization is going to have unique challenges to overcome, \n",
      "and there isn’t a one-size-fits-all approach when it comes to LLMs. As the world \n",
      "becomes more data driven, everything, including LLMs, will be reliant on having \n",
      "a strong foundation of data. LLMs are incredible tools, but they have to be used \n",
      "and implemented on top of this strong data foundation. Databricks brings both\n",
      "\n",
      "6\n",
      "A Compact Guide to Large Language Models\n",
      "There are a few paths that one can take when looking to apply large language \n",
      "models for their given use case. Generally speaking, you can break them down \n",
      "into two categories, but there’s some crossover between each. We’ll briefly cover \n",
      "the pros and cons of each and what scenarios fit best for each.\n",
      " \n",
      "Proprietary services\n",
      "As the first widely available LLM powered service, OpenAI’s ChatGPT was the \n",
      "explosive charge that brought LLMs into the mainstream. ChatGPT provides \n",
      "a nice user interface (or API) where users can feed prompts to one of many \n",
      "models (GPT-3.5, GPT-4, and more) and typically get a fast response. These are \n",
      "among the highest-performing models, trained on enormous data sets, and are \n",
      "capable of extremely complex tasks both from a technical standpoint, such as \n",
      "code generation, as well as from a creative perspective like writing poetry in a \n",
      "specific style. \n",
      "# Answer: \n",
      "==================================\u001b[1m Ai Message \u001b[0m==================================\n",
      "\n",
      "The Open Source model refers to software or models that are made available to the public for use, modification, and distribution without restrictions. This allows users to fine-tune the models to their specific needs and maintain control over their data, enhancing privacy and governance. Open source models have been rapidly evolving and can often match the performance of proprietary models for various tasks.\n"
     ]
    }
   ],
   "source": [
    "for message in output[\"messages\"]:\n",
    "    message.pretty_print()"
   ]
  },
  {
   "cell_type": "code",
   "execution_count": null,
   "metadata": {},
   "outputs": [],
   "source": []
  }
 ],
 "metadata": {
  "kernelspec": {
   "display_name": ".venv",
   "language": "python",
   "name": "python3"
  },
  "language_info": {
   "codemirror_mode": {
    "name": "ipython",
    "version": 3
   },
   "file_extension": ".py",
   "mimetype": "text/x-python",
   "name": "python",
   "nbconvert_exporter": "python",
   "pygments_lexer": "ipython3",
   "version": "3.11.10"
  }
 },
 "nbformat": 4,
 "nbformat_minor": 2
}
