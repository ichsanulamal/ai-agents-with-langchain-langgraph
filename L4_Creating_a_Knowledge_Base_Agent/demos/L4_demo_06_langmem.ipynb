{
 "cells": [
  {
   "cell_type": "code",
   "execution_count": 2,
   "metadata": {},
   "outputs": [],
   "source": [
    "from langgraph.prebuilt import create_react_agent\n",
    "from langgraph.store.memory import InMemoryStore\n",
    "from langmem import create_manage_memory_tool, create_search_memory_tool\n",
    "from langchain_core.messages import HumanMessage"
   ]
  },
  {
   "cell_type": "code",
   "execution_count": 2,
   "metadata": {},
   "outputs": [
    {
     "data": {
      "text/plain": [
       "True"
      ]
     },
     "execution_count": 2,
     "metadata": {},
     "output_type": "execute_result"
    }
   ],
   "source": [
    "from dotenv import load_dotenv\n",
    "load_dotenv()"
   ]
  },
  {
   "cell_type": "code",
   "execution_count": 3,
   "metadata": {},
   "outputs": [
    {
     "name": "stderr",
     "output_type": "stream",
     "text": [
      "/Users/henriquesantana/Projects/Udacity/agents/.venv/lib/python3.11/site-packages/langgraph/store/base/embed.py:95: LangChainBetaWarning: The function `init_embeddings` is in beta. It is actively being worked on, so the API may change.\n",
      "  return init_embeddings(embed)\n"
     ]
    }
   ],
   "source": [
    "store = InMemoryStore(\n",
    "    index={\n",
    "        \"dims\": 1536,\n",
    "        \"embed\": \"openai:text-embedding-3-small\",\n",
    "    }\n",
    ")"
   ]
  },
  {
   "cell_type": "code",
   "execution_count": 4,
   "metadata": {},
   "outputs": [],
   "source": [
    "agent = create_react_agent(\n",
    "    model=\"openai:gpt-4o-mini\",\n",
    "    tools=[\n",
    "        # Memory tools use LangGraph's BaseStore for persistence\n",
    "        create_manage_memory_tool(namespace=(\"memories\",)),\n",
    "        create_search_memory_tool(namespace=(\"memories\",)),\n",
    "    ],\n",
    "    store=store,\n",
    ")"
   ]
  },
  {
   "cell_type": "code",
   "execution_count": 5,
   "metadata": {},
   "outputs": [
    {
     "data": {
      "image/png": "[encoded data removed]",
      "text/plain": [
       "<langgraph.graph.state.CompiledStateGraph object at 0x122503d10>"
      ]
     },
     "execution_count": 5,
     "metadata": {},
     "output_type": "execute_result"
    }
   ],
   "source": [
    "agent"
   ]
  },
  {
   "cell_type": "code",
   "execution_count": 6,
   "metadata": {},
   "outputs": [
    {
     "data": {
      "text/plain": [
       "{'$defs': {'BaseMessage': {'additionalProperties': True,\n",
       "   'description': 'Base abstract message class.\\n\\nMessages are the inputs and outputs of ChatModels.',\n",
       "   'properties': {'content': {'anyOf': [{'type': 'string'},\n",
       "      {'items': {'anyOf': [{'type': 'string'}, {'type': 'object'}]},\n",
       "       'type': 'array'}],\n",
       "     'title': 'Content'},\n",
       "    'additional_kwargs': {'title': 'Additional Kwargs', 'type': 'object'},\n",
       "    'response_metadata': {'title': 'Response Metadata', 'type': 'object'},\n",
       "    'type': {'title': 'Type', 'type': 'string'},\n",
       "    'name': {'anyOf': [{'type': 'string'}, {'type': 'null'}],\n",
       "     'default': None,\n",
       "     'title': 'Name'},\n",
       "    'id': {'anyOf': [{'type': 'string'}, {'type': 'null'}],\n",
       "     'default': None,\n",
       "     'title': 'Id'}},\n",
       "   'required': ['content', 'type'],\n",
       "   'title': 'BaseMessage',\n",
       "   'type': 'object'}},\n",
       " 'properties': {'messages': {'items': {'$ref': '#/$defs/BaseMessage'},\n",
       "   'title': 'Messages',\n",
       "   'type': 'array'}},\n",
       " 'required': ['messages'],\n",
       " 'title': 'LangGraphInput',\n",
       " 'type': 'object'}"
      ]
     },
     "execution_count": 6,
     "metadata": {},
     "output_type": "execute_result"
    }
   ],
   "source": [
    "agent.get_input_jsonschema()"
   ]
  },
  {
   "cell_type": "code",
   "execution_count": 7,
   "metadata": {},
   "outputs": [
    {
     "data": {
      "text/plain": [
       "[HumanMessage(content='What are my lighting preferences?', additional_kwargs={}, response_metadata={}, id='dc7df825-5f5b-48fa-9f13-40975b894262'),\n",
       " AIMessage(content='', additional_kwargs={'tool_calls': [{'id': 'call_lpIavBJHUIbKBuFyRlkuTA4Q', 'function': {'arguments': '{\"query\":\"lighting preferences\",\"limit\":5}', 'name': 'search_memory'}, 'type': 'function'}], 'refusal': None}, response_metadata={'token_usage': {'completion_tokens': 20, 'prompt_tokens': 245, 'total_tokens': 265, 'completion_tokens_details': {'accepted_prediction_tokens': 0, 'audio_tokens': 0, 'reasoning_tokens': 0, 'rejected_prediction_tokens': 0}, 'prompt_tokens_details': {'audio_tokens': 0, 'cached_tokens': 0}}, 'model_name': 'gpt-4o-mini-2024-07-18', 'system_fingerprint': 'fp_b376dfbbd5', 'finish_reason': 'tool_calls', 'logprobs': None}, id='run-e085bd65-bbcc-4b28-97a6-068d3f6780b3-0', tool_calls=[{'name': 'search_memory', 'args': {'query': 'lighting preferences', 'limit': 5}, 'id': 'call_lpIavBJHUIbKBuFyRlkuTA4Q', 'type': 'tool_call'}], usage_metadata={'input_tokens': 245, 'output_tokens': 20, 'total_tokens': 265, 'input_token_details': {'audio': 0, 'cache_read': 0}, 'output_token_details': {'audio': 0, 'reasoning': 0}}),\n",
       " ToolMessage(content=[], name='search_memory', id='15cd7222-62c3-4963-b492-db4c6dd54b04', tool_call_id='call_lpIavBJHUIbKBuFyRlkuTA4Q'),\n",
       " AIMessage(content=\"It looks like I don't have any information about your lighting preferences stored. If you'd like to share what they are, I can remember them for future conversations!\", additional_kwargs={'refusal': None}, response_metadata={'token_usage': {'completion_tokens': 33, 'prompt_tokens': 272, 'total_tokens': 305, 'completion_tokens_details': {'accepted_prediction_tokens': 0, 'audio_tokens': 0, 'reasoning_tokens': 0, 'rejected_prediction_tokens': 0}, 'prompt_tokens_details': {'audio_tokens': 0, 'cached_tokens': 0}}, 'model_name': 'gpt-4o-mini-2024-07-18', 'system_fingerprint': 'fp_b376dfbbd5', 'finish_reason': 'stop', 'logprobs': None}, id='run-a286489e-ae00-401c-a1b1-77123c7dc451-0', usage_metadata={'input_tokens': 272, 'output_tokens': 33, 'total_tokens': 305, 'input_token_details': {'audio': 0, 'cache_read': 0}, 'output_token_details': {'audio': 0, 'reasoning': 0}})]"
      ]
     },
     "execution_count": 7,
     "metadata": {},
     "output_type": "execute_result"
    }
   ],
   "source": [
    "# Ask a random question to the agent\n",
    "output = agent.invoke(\n",
    "    input = {\n",
    "        \"messages\": [\n",
    "            {\n",
    "                \"role\": \"user\", \n",
    "                \"content\": \"What are my lighting preferences?\"\n",
    "            }\n",
    "        ]\n",
    "    },\n",
    "    config = {\"configurable\": {\"thread_id\": \"1\"}}\n",
    ")\n",
    "\n",
    "output['messages']"
   ]
  },
  {
   "cell_type": "code",
   "execution_count": 8,
   "metadata": {},
   "outputs": [],
   "source": [
    "messages = output['messages']"
   ]
  },
  {
   "cell_type": "code",
   "execution_count": 9,
   "metadata": {},
   "outputs": [],
   "source": [
    "messages.append(HumanMessage(\"Ok. Remember that I prefer dark mode.\"))"
   ]
  },
  {
   "cell_type": "code",
   "execution_count": 10,
   "metadata": {},
   "outputs": [
    {
     "data": {
      "text/plain": [
       "[HumanMessage(content='What are my lighting preferences?', additional_kwargs={}, response_metadata={}, id='dc7df825-5f5b-48fa-9f13-40975b894262'),\n",
       " AIMessage(content='', additional_kwargs={'tool_calls': [{'id': 'call_lpIavBJHUIbKBuFyRlkuTA4Q', 'function': {'arguments': '{\"query\":\"lighting preferences\",\"limit\":5}', 'name': 'search_memory'}, 'type': 'function'}], 'refusal': None}, response_metadata={'token_usage': {'completion_tokens': 20, 'prompt_tokens': 245, 'total_tokens': 265, 'completion_tokens_details': {'accepted_prediction_tokens': 0, 'audio_tokens': 0, 'reasoning_tokens': 0, 'rejected_prediction_tokens': 0}, 'prompt_tokens_details': {'audio_tokens': 0, 'cached_tokens': 0}}, 'model_name': 'gpt-4o-mini-2024-07-18', 'system_fingerprint': 'fp_b376dfbbd5', 'finish_reason': 'tool_calls', 'logprobs': None}, id='run-e085bd65-bbcc-4b28-97a6-068d3f6780b3-0', tool_calls=[{'name': 'search_memory', 'args': {'query': 'lighting preferences', 'limit': 5}, 'id': 'call_lpIavBJHUIbKBuFyRlkuTA4Q', 'type': 'tool_call'}], usage_metadata={'input_tokens': 245, 'output_tokens': 20, 'total_tokens': 265, 'input_token_details': {'audio': 0, 'cache_read': 0}, 'output_token_details': {'audio': 0, 'reasoning': 0}}),\n",
       " ToolMessage(content=[], name='search_memory', id='15cd7222-62c3-4963-b492-db4c6dd54b04', tool_call_id='call_lpIavBJHUIbKBuFyRlkuTA4Q'),\n",
       " AIMessage(content=\"It looks like I don't have any information about your lighting preferences stored. If you'd like to share what they are, I can remember them for future conversations!\", additional_kwargs={'refusal': None}, response_metadata={'token_usage': {'completion_tokens': 33, 'prompt_tokens': 272, 'total_tokens': 305, 'completion_tokens_details': {'accepted_prediction_tokens': 0, 'audio_tokens': 0, 'reasoning_tokens': 0, 'rejected_prediction_tokens': 0}, 'prompt_tokens_details': {'audio_tokens': 0, 'cached_tokens': 0}}, 'model_name': 'gpt-4o-mini-2024-07-18', 'system_fingerprint': 'fp_b376dfbbd5', 'finish_reason': 'stop', 'logprobs': None}, id='run-a286489e-ae00-401c-a1b1-77123c7dc451-0', usage_metadata={'input_tokens': 272, 'output_tokens': 33, 'total_tokens': 305, 'input_token_details': {'audio': 0, 'cache_read': 0}, 'output_token_details': {'audio': 0, 'reasoning': 0}}),\n",
       " HumanMessage(content='Ok. Remember that I prefer dark mode.', additional_kwargs={}, response_metadata={}, id='ba9a5756-46fc-4afe-97e0-194fff6d88e8'),\n",
       " AIMessage(content='', additional_kwargs={'tool_calls': [{'id': 'call_kQbRvarqP4nJxramCEJJAEsp', 'function': {'arguments': '{\"content\":\"User prefers dark mode.\",\"action\":\"create\"}', 'name': 'manage_memory'}, 'type': 'function'}], 'refusal': None}, response_metadata={'token_usage': {'completion_tokens': 22, 'prompt_tokens': 320, 'total_tokens': 342, 'completion_tokens_details': {'accepted_prediction_tokens': 0, 'audio_tokens': 0, 'reasoning_tokens': 0, 'rejected_prediction_tokens': 0}, 'prompt_tokens_details': {'audio_tokens': 0, 'cached_tokens': 0}}, 'model_name': 'gpt-4o-mini-2024-07-18', 'system_fingerprint': 'fp_b376dfbbd5', 'finish_reason': 'tool_calls', 'logprobs': None}, id='run-987ac3d0-6a5d-47b1-b68e-a809b0672f9a-0', tool_calls=[{'name': 'manage_memory', 'args': {'content': 'User prefers dark mode.', 'action': 'create'}, 'id': 'call_kQbRvarqP4nJxramCEJJAEsp', 'type': 'tool_call'}], usage_metadata={'input_tokens': 320, 'output_tokens': 22, 'total_tokens': 342, 'input_token_details': {'audio': 0, 'cache_read': 0}, 'output_token_details': {'audio': 0, 'reasoning': 0}}),\n",
       " ToolMessage(content='created memory 96a3fae9-e7e4-4880-a9cf-f2f41be72dad', name='manage_memory', id='5e6e1f8b-b28f-4c72-a0c6-05f24dd585b7', tool_call_id='call_kQbRvarqP4nJxramCEJJAEsp'),\n",
       " AIMessage(content=\"I've noted that you prefer dark mode. If there are any other preferences or details you'd like me to remember, just let me know!\", additional_kwargs={'refusal': None}, response_metadata={'token_usage': {'completion_tokens': 29, 'prompt_tokens': 375, 'total_tokens': 404, 'completion_tokens_details': {'accepted_prediction_tokens': 0, 'audio_tokens': 0, 'reasoning_tokens': 0, 'rejected_prediction_tokens': 0}, 'prompt_tokens_details': {'audio_tokens': 0, 'cached_tokens': 0}}, 'model_name': 'gpt-4o-mini-2024-07-18', 'system_fingerprint': 'fp_b376dfbbd5', 'finish_reason': 'stop', 'logprobs': None}, id='run-fbc890fa-59c6-44e7-8a75-5496f9f3a978-0', usage_metadata={'input_tokens': 375, 'output_tokens': 29, 'total_tokens': 404, 'input_token_details': {'audio': 0, 'cache_read': 0}, 'output_token_details': {'audio': 0, 'reasoning': 0}})]"
      ]
     },
     "execution_count": 10,
     "metadata": {},
     "output_type": "execute_result"
    }
   ],
   "source": [
    "# Store a new memory in one Session\n",
    "output = agent.invoke(\n",
    "    input = {\n",
    "        \"messages\": messages,\n",
    "    },\n",
    "    config = {\"configurable\": {\"thread_id\": \"1\"}}\n",
    ")\n",
    "\n",
    "output['messages']"
   ]
  },
  {
   "cell_type": "code",
   "execution_count": 11,
   "metadata": {},
   "outputs": [
    {
     "data": {
      "text/plain": [
       "[HumanMessage(content='What are my lighting preferences?', additional_kwargs={}, response_metadata={}, id='d1303698-d904-475f-9a21-e4ac8e5b8c1d'),\n",
       " AIMessage(content='', additional_kwargs={'tool_calls': [{'id': 'call_Te9D38JZHMsxIVKlh0sVqa9A', 'function': {'arguments': '{\"query\":\"lighting preferences\"}', 'name': 'search_memory'}, 'type': 'function'}], 'refusal': None}, response_metadata={'token_usage': {'completion_tokens': 16, 'prompt_tokens': 245, 'total_tokens': 261, 'completion_tokens_details': {'accepted_prediction_tokens': 0, 'audio_tokens': 0, 'reasoning_tokens': 0, 'rejected_prediction_tokens': 0}, 'prompt_tokens_details': {'audio_tokens': 0, 'cached_tokens': 0}}, 'model_name': 'gpt-4o-mini-2024-07-18', 'system_fingerprint': 'fp_b376dfbbd5', 'finish_reason': 'tool_calls', 'logprobs': None}, id='run-ecd7e2f0-5c0a-4f53-bc7a-529429532b7b-0', tool_calls=[{'name': 'search_memory', 'args': {'query': 'lighting preferences'}, 'id': 'call_Te9D38JZHMsxIVKlh0sVqa9A', 'type': 'tool_call'}], usage_metadata={'input_tokens': 245, 'output_tokens': 16, 'total_tokens': 261, 'input_token_details': {'audio': 0, 'cache_read': 0}, 'output_token_details': {'audio': 0, 'reasoning': 0}}),\n",
       " ToolMessage(content='[{\"namespace\": [\"memories\"], \"key\": \"96a3fae9-e7e4-4880-a9cf-f2f41be72dad\", \"value\": {\"content\": \"User prefers dark mode.\"}, \"created_at\": \"2025-04-02T08:43:42.720157+00:00\", \"updated_at\": \"2025-04-02T08:43:42.720166+00:00\", \"score\": 0.3723977469941511}]', name='search_memory', id='8c85b46c-4e8b-4a37-be2c-21e472b9ce8a', tool_call_id='call_Te9D38JZHMsxIVKlh0sVqa9A'),\n",
       " AIMessage(content='You prefer dark mode for lighting.', additional_kwargs={'refusal': None}, response_metadata={'token_usage': {'completion_tokens': 9, 'prompt_tokens': 380, 'total_tokens': 389, 'completion_tokens_details': {'accepted_prediction_tokens': 0, 'audio_tokens': 0, 'reasoning_tokens': 0, 'rejected_prediction_tokens': 0}, 'prompt_tokens_details': {'audio_tokens': 0, 'cached_tokens': 0}}, 'model_name': 'gpt-4o-mini-2024-07-18', 'system_fingerprint': 'fp_b376dfbbd5', 'finish_reason': 'stop', 'logprobs': None}, id='run-02a369d1-2491-499e-8c28-a17dc8b3211e-0', usage_metadata={'input_tokens': 380, 'output_tokens': 9, 'total_tokens': 389, 'input_token_details': {'audio': 0, 'cache_read': 0}, 'output_token_details': {'audio': 0, 'reasoning': 0}})]"
      ]
     },
     "execution_count": 11,
     "metadata": {},
     "output_type": "execute_result"
    }
   ],
   "source": [
    "# Retrieve the stored memory in another Session\n",
    "output = agent.invoke(\n",
    "    {\n",
    "        \"messages\": [\n",
    "            {\n",
    "                \"role\": \"user\", \n",
    "                \"content\": \"What are my lighting preferences?\"\n",
    "            }\n",
    "        ]\n",
    "    },\n",
    "    config = {\"configurable\": {\"thread_id\": \"2\"}}\n",
    ")\n",
    "\n",
    "output['messages']"
   ]
  },
  {
   "cell_type": "code",
   "execution_count": null,
   "metadata": {},
   "outputs": [],
   "source": []
  }
 ],
 "metadata": {
  "kernelspec": {
   "display_name": "ai-agents-with-langchain-langgraph-udacity (3.12.11)",
   "language": "python",
   "name": "python3"
  },
  "language_info": {
   "codemirror_mode": {
    "name": "ipython",
    "version": 3
   },
   "file_extension": ".py",
   "mimetype": "text/x-python",
   "name": "python",
   "nbconvert_exporter": "python",
   "pygments_lexer": "ipython3",
   "version": "3.12.11"
  }
 },
 "nbformat": 4,
 "nbformat_minor": 2
}
