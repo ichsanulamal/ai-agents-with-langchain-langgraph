{
 "cells": [
  {
   "cell_type": "code",
   "execution_count": 19,
   "metadata": {},
   "outputs": [],
   "source": [
    "import os\n",
    "from typing import Dict\n",
    "from tavily import TavilyClient\n",
    "from langchain_openai import ChatOpenAI\n",
    "from langchain_core.tools import tool\n",
    "from langgraph.checkpoint.memory import MemorySaver\n",
    "from langgraph.graph import MessagesState\n",
    "from langgraph.graph import START, END, StateGraph\n",
    "from langgraph.prebuilt import ToolNode\n",
    "from langgraph.graph.state import CompiledStateGraph\n",
    "from langchain_core.messages import AIMessage, HumanMessage, SystemMessage\n",
    "from IPython.display import Image, display\n"
   ]
  },
  {
   "cell_type": "code",
   "execution_count": 2,
   "metadata": {},
   "outputs": [],
   "source": [
    "from dotenv import load_dotenv\n",
    "load_dotenv()\n",
    "llm = ChatOpenAI(\n",
    "    model=\"gpt-4o-mini\",\n",
    "    temperature=0.0,\n",
    ")"
   ]
  },
  {
   "cell_type": "code",
   "execution_count": 3,
   "metadata": {},
   "outputs": [],
   "source": [
    "@tool\n",
    "def web_search(question:str)->Dict:\n",
    "    \"\"\"\n",
    "    Return top search results for a given search query\n",
    "    \"\"\"\n",
    "    tavily_client = TavilyClient(api_key=os.getenv(\"TAVILY_API_KEY\"))\n",
    "    response = tavily_client.search(question)\n",
    "    return response"
   ]
  },
  {
   "cell_type": "markdown",
   "metadata": {},
   "source": [
    "**Breakpoints**"
   ]
  },
  {
   "cell_type": "code",
   "execution_count": 4,
   "metadata": {},
   "outputs": [],
   "source": [
    "class State(MessagesState):\n",
    "    question: str\n",
    "    answer: str"
   ]
  },
  {
   "cell_type": "code",
   "execution_count": 5,
   "metadata": {},
   "outputs": [],
   "source": [
    "llm_with_tools = llm.bind_tools([web_search])"
   ]
  },
  {
   "cell_type": "code",
   "execution_count": 6,
   "metadata": {},
   "outputs": [],
   "source": [
    "def entry_point(state: State):\n",
    "    question = state[\"question\"]\n",
    "    system_message = SystemMessage(\"You conduct web search to respond to user's questions\")\n",
    "    human_message = HumanMessage(question)\n",
    "    messages = [system_message, human_message]\n",
    "    return {\"messages\": messages}\n"
   ]
  },
  {
   "cell_type": "code",
   "execution_count": 7,
   "metadata": {},
   "outputs": [],
   "source": [
    "def agent(state: State):\n",
    "    messages = state[\"messages\"]\n",
    "    ai_message = llm_with_tools.invoke(messages)\n",
    "    return {\"messages\": ai_message, \"answer\": ai_message.content}\n"
   ]
  },
  {
   "cell_type": "code",
   "execution_count": 8,
   "metadata": {},
   "outputs": [],
   "source": [
    "def router(state: MessagesState):\n",
    "    last_message = state[\"messages\"][-1]\n",
    "    if last_message.tool_calls:\n",
    "        return \"tools\"\n",
    "\n",
    "    return END"
   ]
  },
  {
   "cell_type": "code",
   "execution_count": 9,
   "metadata": {},
   "outputs": [
    {
     "data": {
      "text/plain": [
       "<langgraph.graph.state.StateGraph at 0x1305faa50>"
      ]
     },
     "execution_count": 9,
     "metadata": {},
     "output_type": "execute_result"
    }
   ],
   "source": [
    "workflow = StateGraph(State)\n",
    "workflow.add_node(\"entry_point\", entry_point)\n",
    "workflow.add_node(\"agent\", agent)\n",
    "workflow.add_node(\"tools\", ToolNode([web_search]))\n",
    "\n",
    "workflow.add_edge(START, \"entry_point\")\n",
    "workflow.add_edge(\"entry_point\", \"agent\")\n",
    "workflow.add_conditional_edges(\n",
    "    source=\"agent\", \n",
    "    path=router, \n",
    "    path_map=[\"tools\", END]\n",
    ")\n",
    "workflow.add_edge(\"tools\", \"agent\")"
   ]
  },
  {
   "cell_type": "code",
   "execution_count": 10,
   "metadata": {},
   "outputs": [],
   "source": [
    "memory = MemorySaver()\n",
    "graph = workflow.compile(\n",
    "    interrupt_before=[\"tools\"], \n",
    "    checkpointer=memory\n",
    ")"
   ]
  },
  {
   "cell_type": "code",
   "execution_count": 11,
   "metadata": {},
   "outputs": [
    {
     "data": {
      "image/png": "[encoded data removed]",
      "text/plain": [
       "<IPython.core.display.Image object>"
      ]
     },
     "metadata": {},
     "output_type": "display_data"
    }
   ],
   "source": [
    "display(\n",
    "    Image(\n",
    "        graph.get_graph().draw_mermaid_png()\n",
    "    )\n",
    ")"
   ]
  },
  {
   "cell_type": "code",
   "execution_count": 12,
   "metadata": {},
   "outputs": [],
   "source": [
    "input_question = {\"question\": \"what's the capital of Brazil?\"}\n",
    "config = {\"configurable\": {\"thread_id\": 1}}"
   ]
  },
  {
   "cell_type": "code",
   "execution_count": 13,
   "metadata": {},
   "outputs": [
    {
     "name": "stdout",
     "output_type": "stream",
     "text": [
      "================================\u001b[1m Human Message \u001b[0m=================================\n",
      "\n",
      "what's the capital of Brazil?\n",
      "==================================\u001b[1m Ai Message \u001b[0m==================================\n",
      "Tool Calls:\n",
      "  web_search (call_dhaLnLTM4ve50wJnulaqZ0hl)\n",
      " Call ID: call_dhaLnLTM4ve50wJnulaqZ0hl\n",
      "  Args:\n",
      "    question: capital of Brazil\n"
     ]
    }
   ],
   "source": [
    "for event in graph.stream(input=input_question, config=config, stream_mode=\"values\"):\n",
    "    if not event['messages']:\n",
    "        continue\n",
    "    event['messages'][-1].pretty_print()"
   ]
  },
  {
   "cell_type": "code",
   "execution_count": 14,
   "metadata": {},
   "outputs": [],
   "source": [
    "state = graph.get_state(config=config)"
   ]
  },
  {
   "cell_type": "code",
   "execution_count": 15,
   "metadata": {},
   "outputs": [
    {
     "data": {
      "text/plain": [
       "StateSnapshot(values={'messages': [SystemMessage(content=\"You conduct web search to respond to user's questions\", additional_kwargs={}, response_metadata={}, id='f53182d8-fec3-44e9-aac4-1764f0897216'), HumanMessage(content=\"what's the capital of Brazil?\", additional_kwargs={}, response_metadata={}, id='1f84914f-23c6-4cea-a3b8-2dcddf96f7cc'), AIMessage(content='', additional_kwargs={'tool_calls': [{'id': 'call_dhaLnLTM4ve50wJnulaqZ0hl', 'function': {'arguments': '{\"question\":\"capital of Brazil\"}', 'name': 'web_search'}, 'type': 'function'}], 'refusal': None}, response_metadata={'token_usage': {'completion_tokens': 17, 'prompt_tokens': 64, 'total_tokens': 81, 'completion_tokens_details': {'accepted_prediction_tokens': 0, 'audio_tokens': 0, 'reasoning_tokens': 0, 'rejected_prediction_tokens': 0}, 'prompt_tokens_details': {'audio_tokens': 0, 'cached_tokens': 0}}, 'model_name': 'gpt-4o-mini-2024-07-18', 'system_fingerprint': 'fp_06737a9306', 'finish_reason': 'tool_calls', 'logprobs': None}, id='run-bf525911-fb3f-4976-9c9e-aa27fc8dea8f-0', tool_calls=[{'name': 'web_search', 'args': {'question': 'capital of Brazil'}, 'id': 'call_dhaLnLTM4ve50wJnulaqZ0hl', 'type': 'tool_call'}], usage_metadata={'input_tokens': 64, 'output_tokens': 17, 'total_tokens': 81, 'input_token_details': {'audio': 0, 'cache_read': 0}, 'output_token_details': {'audio': 0, 'reasoning': 0}})], 'question': \"what's the capital of Brazil?\", 'answer': ''}, next=('tools',), config={'configurable': {'thread_id': 1, 'checkpoint_ns': '', 'checkpoint_id': '1eff9f29-dcad-6e12-8002-e3366967ba22'}}, metadata={'source': 'loop', 'writes': {'agent': {'messages': AIMessage(content='', additional_kwargs={'tool_calls': [{'id': 'call_dhaLnLTM4ve50wJnulaqZ0hl', 'function': {'arguments': '{\"question\":\"capital of Brazil\"}', 'name': 'web_search'}, 'type': 'function'}], 'refusal': None}, response_metadata={'token_usage': {'completion_tokens': 17, 'prompt_tokens': 64, 'total_tokens': 81, 'completion_tokens_details': {'accepted_prediction_tokens': 0, 'audio_tokens': 0, 'reasoning_tokens': 0, 'rejected_prediction_tokens': 0}, 'prompt_tokens_details': {'audio_tokens': 0, 'cached_tokens': 0}}, 'model_name': 'gpt-4o-mini-2024-07-18', 'system_fingerprint': 'fp_06737a9306', 'finish_reason': 'tool_calls', 'logprobs': None}, id='run-bf525911-fb3f-4976-9c9e-aa27fc8dea8f-0', tool_calls=[{'name': 'web_search', 'args': {'question': 'capital of Brazil'}, 'id': 'call_dhaLnLTM4ve50wJnulaqZ0hl', 'type': 'tool_call'}], usage_metadata={'input_tokens': 64, 'output_tokens': 17, 'total_tokens': 81, 'input_token_details': {'audio': 0, 'cache_read': 0}, 'output_token_details': {'audio': 0, 'reasoning': 0}}), 'answer': ''}}, 'thread_id': 1, 'step': 2, 'parents': {}}, created_at='2025-03-05T18:49:49.649434+00:00', parent_config={'configurable': {'thread_id': 1, 'checkpoint_ns': '', 'checkpoint_id': '1eff9f29-c62d-6a66-8001-728b76976840'}}, tasks=(PregelTask(id='8a79f497-718f-8ff2-8c64-257c0a622c3e', name='tools', path=('__pregel_pull', 'tools'), error=None, interrupts=(), state=None, result=None),))"
      ]
     },
     "execution_count": 15,
     "metadata": {},
     "output_type": "execute_result"
    }
   ],
   "source": [
    "state"
   ]
  },
  {
   "cell_type": "code",
   "execution_count": 16,
   "metadata": {},
   "outputs": [
    {
     "data": {
      "text/plain": [
       "('tools',)"
      ]
     },
     "execution_count": 16,
     "metadata": {},
     "output_type": "execute_result"
    }
   ],
   "source": [
    "state.next"
   ]
  },
  {
   "cell_type": "code",
   "execution_count": 17,
   "metadata": {},
   "outputs": [
    {
     "name": "stdout",
     "output_type": "stream",
     "text": [
      "==================================\u001b[1m Ai Message \u001b[0m==================================\n",
      "Tool Calls:\n",
      "  web_search (call_dhaLnLTM4ve50wJnulaqZ0hl)\n",
      " Call ID: call_dhaLnLTM4ve50wJnulaqZ0hl\n",
      "  Args:\n",
      "    question: capital of Brazil\n",
      "=================================\u001b[1m Tool Message \u001b[0m=================================\n",
      "Name: web_search\n",
      "\n",
      "{\"query\": \"capital of Brazil\", \"follow_up_questions\": null, \"answer\": null, \"images\": [], \"results\": [{\"title\": \"What is the Capital of Brazil? - Mappr\", \"url\": \"https://www.mappr.co/capital-cities/brazil/\", \"content\": \"Brasília is the capital of Brazil. Brazil has an interesting story when it comes to its capital city and the cities that are most important in the country. The current federal capital of Brazil is Brasília, which took the place of Rio de Janeiro as the government wanted to move the capital to a more central location. It is considered the cultural capital of Brazil and is one of the most populous cities in the world with over 30 million inhabitants. When did Brasília Become the Capital? Brasília became the capital in 1960, although construction of the city began in 1956 and the plan to build such a city was first conceived in 1827. As the city with the third-largest GDP in Brazil, Brasília is an important economic center.\", \"score\": 0.9075175, \"raw_content\": null}, {\"title\": \"What Is The Capital of Brazil? - WorldAtlas\", \"url\": \"https://www.worldatlas.com/articles/what-is-the-capital-of-brazil.html\", \"content\": \"However, what was the capital city of Brazil before Brasilia became the capital? Rio de Janeiro would be made the capital of Brazil until 1960. When Rio de Janeiro was the capital of Brazil, this is where the majority of its population, resources, and economic activities have resided. Rio de Janeiro's position as capital city of Brazil reflected the geographic distribution of Brazil's population throughout much of its history. That clause stated that the capital city of Brazil should be moved from Rio de Janeiro to a place further inland, where it would have a relatively central location. Brazil's capital city being relocated to Brasilia reflects a desire to move the capital to a more central location.\", \"score\": 0.8969848, \"raw_content\": null}, {\"title\": \"What is the Capital of Brazil? PS: Is not São Paulo! - The Brazilian Guide\", \"url\": \"https://thebrazilianguide.com/what-is-the-capital-of-brazil/\", \"content\": \"Brasília, is the capital of Brazil since 1960, the city symbolizes Brazil’s ambitions and creativity. We’re going to explore Brasília, the capital of Brazil – a city that’s as fascinating as it is unique. Now, let’s take a slight detour from Brasília to talk about São Paulo, a city that Brazilians affectionately call “the unofficial capital.” While Brasília is the heart of politics, São Paulo pulses with cultural and economic life like no other city in Brazil. In short, while Brasília is the administrative capital, São Paulo is the beating heart of Brazil’s cultural and economic life. As we wrap up our journey through Brasília, it’s clear that this city is far more than just the administrative capital of Brazil.\", \"score\": 0.8893851, \"raw_content\": null}, {\"title\": \"Brasilia Map | Capital of Brazil Map - Maps of World\", \"url\": \"https://www.mapsofworld.com/brazil/cities/brasilia-map.html\", \"content\": \"Brasilia is the capital of Brazil. It covers an area of 5802 sq km and had an approximate population of 2,789,761 in 2013, making it the fourth most populous city in the country. Rio de Janeiro was the capital of Brazil from 1763 to 1960. Most of the resources were concentrated around this region.\", \"score\": 0.88822687, \"raw_content\": null}, {\"title\": \"Brasília - Simple English Wikipedia, the free encyclopedia\", \"url\": \"https://simple.wikipedia.org/wiki/Brasília\", \"content\": \"Location of Brasília within the Federal District and in Brazil Brasília (bɾaˈziliɐ) is the capital city of Brazil. The city is commonly referred to as Capital Federal, or simply BSB.[4] As the national capital, Brasília is the seat of all three branches of the Brazilian government. In the rest of Brazil, Brasília is almost always means the Brazilian Federal District. On 8 January 2023, supporters of former President Jair Bolsonaro stormed and invaded the Praça dos Três Poderes in Brasília, taking over the offices of the Supreme Federal Court, National Congress of Brazil and the Palácio do Planalto.[5] The event was seen as an attempted coup d'état to overturn the election results of the 2022 general election.[6]\", \"score\": 0.8757978, \"raw_content\": null}], \"response_time\": 2.14}\n",
      "==================================\u001b[1m Ai Message \u001b[0m==================================\n",
      "\n",
      "The capital of Brazil is Brasília. It became the capital in 1960, replacing Rio de Janeiro, with the aim of moving the capital to a more central location in the country. Brasília is known for its unique architecture and is an important cultural and economic center in Brazil.\n"
     ]
    }
   ],
   "source": [
    "for event in graph.stream(input=None, config=config, stream_mode=\"values\"):\n",
    "    if not event['messages']:\n",
    "        continue\n",
    "    event['messages'][-1].pretty_print()"
   ]
  },
  {
   "cell_type": "markdown",
   "metadata": {},
   "source": [
    "**Human Approval**"
   ]
  },
  {
   "cell_type": "code",
   "execution_count": 22,
   "metadata": {},
   "outputs": [],
   "source": [
    "def human_in_the_loop_run(graph:CompiledStateGraph, question:str, thread_id:int):\n",
    "    input_question = {\"question\": question}\n",
    "    config = {\"configurable\": {\"thread_id\": thread_id}}\n",
    "    for event in graph.stream(input=input_question, config=config, stream_mode=\"values\"):\n",
    "        if not event['messages']:\n",
    "            continue\n",
    "        event['messages'][-1].pretty_print()\n",
    "    \n",
    "    human_input = input(\"Do you approve the tool calling? (YES or NO): \")\n",
    "    if human_input.lower() == \"yes\":\n",
    "        for event in graph.stream(input=None, config=config, stream_mode=\"values\"):\n",
    "            if not event['messages']:\n",
    "                continue\n",
    "            event['messages'][-1].pretty_print()\n",
    "    \n",
    "    else:\n",
    "        SystemMessage(\"Workflow aborted by a human\").pretty_print()"
   ]
  },
  {
   "cell_type": "code",
   "execution_count": 23,
   "metadata": {},
   "outputs": [
    {
     "name": "stdout",
     "output_type": "stream",
     "text": [
      "================================\u001b[1m Human Message \u001b[0m=================================\n",
      "\n",
      "what's the capital of Brazil?\n",
      "==================================\u001b[1m Ai Message \u001b[0m==================================\n",
      "Tool Calls:\n",
      "  web_search (call_0qYDM9RjMlmWd6CeCtF5YJFx)\n",
      " Call ID: call_0qYDM9RjMlmWd6CeCtF5YJFx\n",
      "  Args:\n",
      "    question: capital of Brazil\n",
      "================================\u001b[1m System Message \u001b[0m================================\n",
      "\n",
      "Workflow aborted by a human\n"
     ]
    }
   ],
   "source": [
    "human_in_the_loop_run(\n",
    "    graph=graph,\n",
    "    question=\"what's the capital of Brazil?\",\n",
    "    thread_id=3,\n",
    ")"
   ]
  },
  {
   "cell_type": "markdown",
   "metadata": {},
   "source": [
    "**Human Revision**"
   ]
  },
  {
   "cell_type": "code",
   "execution_count": 33,
   "metadata": {},
   "outputs": [],
   "source": [
    "memory = MemorySaver()\n",
    "graph = workflow.compile(\n",
    "    interrupt_before=[\"agent\"], \n",
    "    checkpointer=memory\n",
    ")"
   ]
  },
  {
   "cell_type": "code",
   "execution_count": 34,
   "metadata": {},
   "outputs": [
    {
     "data": {
      "image/png": "[encoded data removed]",
      "text/plain": [
       "<IPython.core.display.Image object>"
      ]
     },
     "metadata": {},
     "output_type": "display_data"
    }
   ],
   "source": [
    "display(\n",
    "    Image(\n",
    "        graph.get_graph().draw_mermaid_png()\n",
    "    )\n",
    ")"
   ]
  },
  {
   "cell_type": "code",
   "execution_count": 35,
   "metadata": {},
   "outputs": [],
   "source": [
    "def human_in_the_loop_run(graph:CompiledStateGraph, question:str, thread_id:int):\n",
    "    input_question = {\"question\": question}\n",
    "    config = {\"configurable\": {\"thread_id\": thread_id}}\n",
    "    for event in graph.stream(input=input_question, config=config, stream_mode=\"values\"):\n",
    "        if not event['messages']:\n",
    "            continue\n",
    "        event['messages'][-1].pretty_print()\n",
    "\n",
    "    human_input = input(\"Do you want to proceed with this question? (YES or NO): \")\n",
    "    \n",
    "    if human_input.lower() == \"no\":\n",
    "        human_input = input(\"So what should be the question? \")\n",
    "        SystemMessage(\"Workflow edited by a human\").pretty_print()\n",
    "        graph.update_state(\n",
    "            config=config,\n",
    "            values={\"messages\": [HumanMessage(content=human_input)]},\n",
    "        )\n",
    "\n",
    "        for event in graph.stream(input=None, config=config, stream_mode=\"values\"):\n",
    "            if not event['messages']:\n",
    "                continue\n",
    "            event['messages'][-1].pretty_print()\n",
    "    \n",
    "    for event in graph.stream(input=None, config=config, stream_mode=\"values\"):\n",
    "        if not event['messages']:\n",
    "            continue\n",
    "        event['messages'][-1].pretty_print()\n"
   ]
  },
  {
   "cell_type": "code",
   "execution_count": 36,
   "metadata": {},
   "outputs": [
    {
     "name": "stdout",
     "output_type": "stream",
     "text": [
      "================================\u001b[1m Human Message \u001b[0m=================================\n",
      "\n",
      "what's the capital of Brazil?\n",
      "================================\u001b[1m System Message \u001b[0m================================\n",
      "\n",
      "Workflow edited by a human\n",
      "================================\u001b[1m Human Message \u001b[0m=================================\n",
      "\n",
      "actually, search for the capital of Canada\n",
      "==================================\u001b[1m Ai Message \u001b[0m==================================\n",
      "Tool Calls:\n",
      "  web_search (call_DHw6JkQJiT6MYPfhKR6V3VfI)\n",
      " Call ID: call_DHw6JkQJiT6MYPfhKR6V3VfI\n",
      "  Args:\n",
      "    question: What is the capital of Brazil?\n",
      "  web_search (call_4brdN9xwLE1GzZ82vzAAdNXP)\n",
      " Call ID: call_4brdN9xwLE1GzZ82vzAAdNXP\n",
      "  Args:\n",
      "    question: What is the capital of Canada?\n",
      "=================================\u001b[1m Tool Message \u001b[0m=================================\n",
      "Name: web_search\n",
      "\n",
      "{\"query\": \"What is the capital of Canada?\", \"follow_up_questions\": null, \"answer\": null, \"images\": [], \"results\": [{\"title\": \"What Is The Capital City Of Canada? - WorldAtlas\", \"url\": \"https://www.worldatlas.com/articles/what-is-the-capital-of-canada.html\", \"content\": \"What Is The Capital City Of Canada? What Is The Capital City Of Canada? The capital of Canada is Ottawa. The capital of Canada is Ottawa in the province of Ontario. This city sits along the south side of the Ottawa River, which is located in the southeastern region of the province. Ottawa is the fourth most populous city in the country. History Of The Capital City Of Canada In 1855, Bytown became known as Ottawa and, two years later, Queen Victoria designated the city as the capital of the country because of its strategic location. Present-Day Role Of Ottawa As The Capital Of Canada What Is The Capital City Of Canada? Why Is Ottawa The Capital Of Canada?\", \"score\": 0.9368016, \"raw_content\": null}, {\"title\": \"What is the Capital of Canada? - GeeksforGeeks\", \"url\": \"https://www.geeksforgeeks.org/what-is-the-capital-of-canada/\", \"content\": \"Answer: The capital of Canada is Ottawa which is located in South-Eastern Ontario. What is the Capital of Canada? Ottawa is a vibrant and culturally diverse city located in the province of Ontario. Ottawa is situated on the Ottawa River and its status as the capital was officially designated in 1857.\", \"score\": 0.9344013, \"raw_content\": null}, {\"title\": \"Everything to Know about the Capital Cities of Canada - ThoughtCo\", \"url\": \"https://www.thoughtco.com/capital-cities-of-canada-4173714\", \"content\": \"Capital Cities of Canada The capital of Canada is Ottawa, which was incorporated in 1855 and gets its name from the Algonquin word for \\\"trade.\\\" Ottawa's archaeological sites reveal an indigenous population that lived there for centuries before Europeans arrived. Here are quick facts about the history and lifestyle of Canada's provincial and territorial capital cities. It’s believed that one of the first Europeans to explore the area was Anthony Henday, who visited in 1754 on behalf of the Hudson’s Bay Co. The Canadian Pacific Railway, which reached Edmonton in 1885, was a boon to its economy, bringing new arrivals from Canada, the United States, and Europe. Incorporated as a city in 1841, Halifax has been inhabited by humans since the Ice Age, with Mi'kmaq people living in the area for 3,000 years before European exploration. Capital Cities of Canada. Retrieved from https://www.thoughtco.com/capital-cities-of-canada-4173714 Munroe, Susan.\", \"score\": 0.9094659, \"raw_content\": null}, {\"title\": \"What is the Capital of Canada? - Mappr\", \"url\": \"https://www.mappr.co/capital-cities/canada/\", \"content\": \"Ottawa is also the largest city in Canada with two official languages (English and French). However, the Queen made a decision fairly quickly and named Ottawa as Canada’s capital city. Among Canada’s major cities, Ottawa has the largest rural economy. As Canada’s capital city, Ottawa is home to many government buildings, some of which appear to have been built with functionality as a guiding principle rather than aesthetic beauty. This makes Ottawa-Gatineau the fourth-largest city in Canada by population. Ottawa-Gatineau is the largest Canadian city that has two official languages: English and French.\", \"score\": 0.90791017, \"raw_content\": null}, {\"title\": \"Ottawa | The Canadian Encyclopedia\", \"url\": \"https://www.thecanadianencyclopedia.ca/en/article/ottawa-ont\", \"content\": \"The City of Ottawa is the capital of Canada and is located on the Ottawa River on Ontario's eastern boundary with Québec, about 200 km west of Montréal. As the nation’s capital, Ottawa is a fairly bilingual city. Rivers and canals formed the city's original transportation corridors and were the basis of its claim as the economic capital of central Canada: the Rideau Canal to Kingston; the Gatineau River into the Québec Laurentians; and the Ottawa River east to Montréal and west to Lake Huron. In 2001, amalgamation brought 11 municipalities and the regional government, which was established in 1969, under the authority of the single city of Ottawa. Rideau Hall is, since 1867, the official residence in Ottawa of both the Canadian monarch and the Governor General of Canada.\", \"score\": 0.8757978, \"raw_content\": null}], \"response_time\": 0.97}\n",
      "=================================\u001b[1m Tool Message \u001b[0m=================================\n",
      "Name: web_search\n",
      "\n",
      "{\"query\": \"What is the capital of Canada?\", \"follow_up_questions\": null, \"answer\": null, \"images\": [], \"results\": [{\"title\": \"What Is The Capital City Of Canada? - WorldAtlas\", \"url\": \"https://www.worldatlas.com/articles/what-is-the-capital-of-canada.html\", \"content\": \"What Is The Capital City Of Canada? What Is The Capital City Of Canada? The capital of Canada is Ottawa. The capital of Canada is Ottawa in the province of Ontario. This city sits along the south side of the Ottawa River, which is located in the southeastern region of the province. Ottawa is the fourth most populous city in the country. History Of The Capital City Of Canada In 1855, Bytown became known as Ottawa and, two years later, Queen Victoria designated the city as the capital of the country because of its strategic location. Present-Day Role Of Ottawa As The Capital Of Canada What Is The Capital City Of Canada? Why Is Ottawa The Capital Of Canada?\", \"score\": 0.9368016, \"raw_content\": null}, {\"title\": \"What is the Capital of Canada? - GeeksforGeeks\", \"url\": \"https://www.geeksforgeeks.org/what-is-the-capital-of-canada/\", \"content\": \"Answer: The capital of Canada is Ottawa which is located in South-Eastern Ontario. What is the Capital of Canada? Ottawa is a vibrant and culturally diverse city located in the province of Ontario. Ottawa is situated on the Ottawa River and its status as the capital was officially designated in 1857.\", \"score\": 0.9344013, \"raw_content\": null}, {\"title\": \"Everything to Know about the Capital Cities of Canada - ThoughtCo\", \"url\": \"https://www.thoughtco.com/capital-cities-of-canada-4173714\", \"content\": \"Capital Cities of Canada The capital of Canada is Ottawa, which was incorporated in 1855 and gets its name from the Algonquin word for \\\"trade.\\\" Ottawa's archaeological sites reveal an indigenous population that lived there for centuries before Europeans arrived. Here are quick facts about the history and lifestyle of Canada's provincial and territorial capital cities. It’s believed that one of the first Europeans to explore the area was Anthony Henday, who visited in 1754 on behalf of the Hudson’s Bay Co. The Canadian Pacific Railway, which reached Edmonton in 1885, was a boon to its economy, bringing new arrivals from Canada, the United States, and Europe. Incorporated as a city in 1841, Halifax has been inhabited by humans since the Ice Age, with Mi'kmaq people living in the area for 3,000 years before European exploration. Capital Cities of Canada. Retrieved from https://www.thoughtco.com/capital-cities-of-canada-4173714 Munroe, Susan.\", \"score\": 0.9094659, \"raw_content\": null}, {\"title\": \"What is the Capital of Canada? - Mappr\", \"url\": \"https://www.mappr.co/capital-cities/canada/\", \"content\": \"Ottawa is also the largest city in Canada with two official languages (English and French). However, the Queen made a decision fairly quickly and named Ottawa as Canada’s capital city. Among Canada’s major cities, Ottawa has the largest rural economy. As Canada’s capital city, Ottawa is home to many government buildings, some of which appear to have been built with functionality as a guiding principle rather than aesthetic beauty. This makes Ottawa-Gatineau the fourth-largest city in Canada by population. Ottawa-Gatineau is the largest Canadian city that has two official languages: English and French.\", \"score\": 0.90791017, \"raw_content\": null}, {\"title\": \"Ottawa | The Canadian Encyclopedia\", \"url\": \"https://www.thecanadianencyclopedia.ca/en/article/ottawa-ont\", \"content\": \"The City of Ottawa is the capital of Canada and is located on the Ottawa River on Ontario's eastern boundary with Québec, about 200 km west of Montréal. As the nation’s capital, Ottawa is a fairly bilingual city. Rivers and canals formed the city's original transportation corridors and were the basis of its claim as the economic capital of central Canada: the Rideau Canal to Kingston; the Gatineau River into the Québec Laurentians; and the Ottawa River east to Montréal and west to Lake Huron. In 2001, amalgamation brought 11 municipalities and the regional government, which was established in 1969, under the authority of the single city of Ottawa. Rideau Hall is, since 1867, the official residence in Ottawa of both the Canadian monarch and the Governor General of Canada.\", \"score\": 0.8757978, \"raw_content\": null}], \"response_time\": 0.97}\n",
      "==================================\u001b[1m Ai Message \u001b[0m==================================\n",
      "\n",
      "The capital of Brazil is **Brasília**. It was officially inaugurated as the capital on April 21, 1960, and was designed to promote the development of the interior of the country. You can read more about it [here](https://www.geeksforgeeks.org/what-is-the-capital-of-brazil/).\n",
      "\n",
      "The capital of Canada is **Ottawa**, located in the province of Ontario. It was designated as the capital by Queen Victoria in 1857 due to its strategic location. For more information, you can check this link [here](https://www.worldatlas.com/articles/what-is-the-capital-of-canada.html).\n"
     ]
    }
   ],
   "source": [
    "human_in_the_loop_run(\n",
    "    graph=graph,\n",
    "    question=\"what's the capital of Brazil?\",\n",
    "    thread_id=4,\n",
    ")"
   ]
  },
  {
   "cell_type": "code",
   "execution_count": null,
   "metadata": {},
   "outputs": [],
   "source": []
  }
 ],
 "metadata": {
  "kernelspec": {
   "display_name": ".venv",
   "language": "python",
   "name": "python3"
  },
  "language_info": {
   "codemirror_mode": {
    "name": "ipython",
    "version": 3
   },
   "file_extension": ".py",
   "mimetype": "text/x-python",
   "name": "python",
   "nbconvert_exporter": "python",
   "pygments_lexer": "ipython3",
   "version": "3.11.10"
  }
 },
 "nbformat": 4,
 "nbformat_minor": 2
}
