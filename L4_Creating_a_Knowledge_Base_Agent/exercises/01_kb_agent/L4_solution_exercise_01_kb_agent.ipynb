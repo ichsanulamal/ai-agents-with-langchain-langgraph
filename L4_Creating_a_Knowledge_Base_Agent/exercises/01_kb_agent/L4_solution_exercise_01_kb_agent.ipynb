{
 "cells": [
  {
   "cell_type": "markdown",
   "metadata": {},
   "source": [
    "# Exercise - Knowledge Base Agent - SOLUTION"
   ]
  },
  {
   "cell_type": "markdown",
   "metadata": {},
   "source": [
    "In this exercise, you’ll build a Knowledge Base Agent using LangGraph, which can:\n",
    "\n",
    "Efficiently process long documents using text embedding and chunking.\n",
    "Retrieve information from a vector database.\n",
    "Augment user queries with retrieved contextual documents.\n",
    "Generate accurate responses using an LLM.\n"
   ]
  },
  {
   "cell_type": "markdown",
   "metadata": {},
   "source": [
    "**Challenge**"
   ]
  },
  {
   "cell_type": "markdown",
   "metadata": {},
   "source": [
    "Your task is to create a LangGraph Workflow that includes:\n",
    "\n",
    "- A document loading and vectorization process for a knowledge base.\n",
    "- An Agent Node capable of:\n",
    "    - Retrieving relevant knowledge.\n",
    "    - Augmenting responses with contextual documents.\n",
    "    - Generating accurate answers.\n",
    "- Conditional routing to control query resolution.\n",
    "- Optimization techniques such as text chunking and embedding search."
   ]
  },
  {
   "cell_type": "markdown",
   "metadata": {},
   "source": [
    "By the end of this exercise, you’ll have built an AI-powered Knowledge Base Agent that uses a structured process to generate accurate answers.\n",
    "\n"
   ]
  },
  {
   "cell_type": "markdown",
   "metadata": {},
   "source": [
    "## 0. Import the necessary libs"
   ]
  },
  {
   "cell_type": "code",
   "execution_count": 3,
   "metadata": {},
   "outputs": [],
   "source": [
    "from typing import List\n",
    "from langchain_openai import OpenAIEmbeddings, ChatOpenAI\n",
    "from langchain_core.prompts import ChatPromptTemplate\n",
    "from langchain_core.documents import Document\n",
    "from langchain_text_splitters import RecursiveCharacterTextSplitter\n",
    "from langchain_chroma import Chroma\n",
    "from langchain_community.document_loaders import PyPDFLoader\n",
    "from langgraph.graph import START, END, StateGraph\n",
    "from langgraph.graph.message import MessagesState\n",
    "from IPython.display import Image, display"
   ]
  },
  {
   "cell_type": "markdown",
   "metadata": {},
   "source": [
    "## 1. Instantiate Chat Model with your API Key"
   ]
  },
  {
   "cell_type": "markdown",
   "metadata": {},
   "source": [
    "To be able to connect with OpenAI, you need to instantiate an ChatOpenAI client passing your OpenAI key.\n",
    "\n",
    "You can pass the `api_key` argument directly.\n",
    "```python\n",
    "llm = ChatOpenAI(\n",
    "    model=\"gpt-4o-mini\",\n",
    "    temperature=0.0,\n",
    "    api_key=\"voc-\",\n",
    ")\n",
    "```"
   ]
  },
  {
   "cell_type": "code",
   "execution_count": 4,
   "metadata": {},
   "outputs": [
    {
     "data": {
      "text/plain": [
       "True"
      ]
     },
     "execution_count": 4,
     "metadata": {},
     "output_type": "execute_result"
    }
   ],
   "source": [
    "from dotenv import load_dotenv\n",
    "load_dotenv()"
   ]
  },
  {
   "cell_type": "code",
   "execution_count": 5,
   "metadata": {},
   "outputs": [],
   "source": [
    "llm = ChatOpenAI(\n",
    "    model=\"gpt-4o-mini\",\n",
    "    temperature=0.0,\n",
    ")"
   ]
  },
  {
   "cell_type": "code",
   "execution_count": 6,
   "metadata": {},
   "outputs": [],
   "source": [
    "embeddings_fn = OpenAIEmbeddings(\n",
    "    model=\"text-embedding-3-large\"\n",
    ")"
   ]
  },
  {
   "cell_type": "markdown",
   "metadata": {},
   "source": [
    "## 2. Load and Process Documents"
   ]
  },
  {
   "cell_type": "code",
   "execution_count": 7,
   "metadata": {},
   "outputs": [],
   "source": [
    "vector_store = Chroma(\n",
    "    collection_name=\"udacity\",\n",
    "    embedding_function=embeddings_fn\n",
    ")"
   ]
  },
  {
   "cell_type": "code",
   "execution_count": 8,
   "metadata": {},
   "outputs": [],
   "source": [
    "file_path = \"compact-guide-to-large-language-models.pdf\""
   ]
  },
  {
   "cell_type": "code",
   "execution_count": 9,
   "metadata": {},
   "outputs": [],
   "source": [
    "loader = PyPDFLoader(file_path)"
   ]
  },
  {
   "cell_type": "code",
   "execution_count": 10,
   "metadata": {},
   "outputs": [],
   "source": [
    "pages = []\n",
    "async for page in loader.alazy_load():\n",
    "    pages.append(page)"
   ]
  },
  {
   "cell_type": "code",
   "execution_count": 11,
   "metadata": {},
   "outputs": [],
   "source": [
    "text_splitter = RecursiveCharacterTextSplitter(\n",
    "    chunk_size=1000, \n",
    "    chunk_overlap=200\n",
    ")"
   ]
  },
  {
   "cell_type": "code",
   "execution_count": 12,
   "metadata": {},
   "outputs": [],
   "source": [
    "all_splits = text_splitter.split_documents(pages)"
   ]
  },
  {
   "cell_type": "code",
   "execution_count": 13,
   "metadata": {},
   "outputs": [],
   "source": [
    "_ = vector_store.add_documents(documents=all_splits)"
   ]
  },
  {
   "cell_type": "markdown",
   "metadata": {},
   "source": [
    "## 3. Define State Schema"
   ]
  },
  {
   "cell_type": "markdown",
   "metadata": {},
   "source": [
    "We define a State Schema for managing:\n",
    "\n",
    "- User query\n",
    "- Retrieved documents\n",
    "- Generated answer"
   ]
  },
  {
   "cell_type": "code",
   "execution_count": 14,
   "metadata": {},
   "outputs": [],
   "source": [
    "class State(MessagesState):\n",
    "    question: str\n",
    "    documents: List[Document]\n",
    "    answer: str"
   ]
  },
  {
   "cell_type": "markdown",
   "metadata": {},
   "source": [
    "## 4. RAG Nodes"
   ]
  },
  {
   "cell_type": "markdown",
   "metadata": {},
   "source": [
    "The agent should:\n",
    "- fetch relevant document chunks based on the user query\n",
    "- combine the retrieved documents and use them as context\n",
    "- invoke the LLM to generate a response"
   ]
  },
  {
   "cell_type": "code",
   "execution_count": 15,
   "metadata": {},
   "outputs": [],
   "source": [
    "def retrieve(state: State):\n",
    "    question = state[\"question\"]\n",
    "    retrieved_docs = vector_store.similarity_search(question)\n",
    "    return {\"documents\": retrieved_docs}"
   ]
  },
  {
   "cell_type": "code",
   "execution_count": 16,
   "metadata": {},
   "outputs": [],
   "source": [
    "def augment(state: State):\n",
    "    question = state[\"question\"]\n",
    "    documents = state[\"documents\"]\n",
    "    docs_content = \"\\n\\n\".join(doc.page_content for doc in documents)\n",
    "\n",
    "    template = ChatPromptTemplate([\n",
    "        (\"system\", \"You are an assistant for question-answering tasks.\"),\n",
    "        (\"human\", \"Use the following pieces of retrieved context to answer the question. \"\n",
    "                \"If you don't know the answer, just say that you don't know. \" \n",
    "                \"Use three sentences maximum and keep the answer concise. \"\n",
    "                \"\\n# Question: \\n-> {question} \"\n",
    "                \"\\n# Context: \\n-> {context} \"\n",
    "                \"\\n# Answer: \"),\n",
    "    ])\n",
    "\n",
    "    messages = template.invoke(\n",
    "        {\"context\": docs_content, \"question\": question}\n",
    "    ).to_messages()\n",
    "\n",
    "    return {\"messages\": messages}"
   ]
  },
  {
   "cell_type": "code",
   "execution_count": 17,
   "metadata": {},
   "outputs": [],
   "source": [
    "def generate(state: State):\n",
    "    ai_message = llm.invoke(state[\"messages\"])\n",
    "    return {\"answer\": ai_message.content, \"messages\": ai_message}"
   ]
  },
  {
   "cell_type": "markdown",
   "metadata": {},
   "source": [
    "## 5. Build the LangGraph Workflow"
   ]
  },
  {
   "cell_type": "code",
   "execution_count": 18,
   "metadata": {},
   "outputs": [
    {
     "data": {
      "text/plain": [
       "<langgraph.graph.state.StateGraph at 0x12fcf9950>"
      ]
     },
     "execution_count": 18,
     "metadata": {},
     "output_type": "execute_result"
    }
   ],
   "source": [
    "workflow = StateGraph(State)\n",
    "\n",
    "workflow.add_node(\"retrieve\", retrieve)\n",
    "workflow.add_node(\"augment\", augment)\n",
    "workflow.add_node(\"generate\", generate)\n",
    "\n",
    "workflow.add_edge(START, \"retrieve\")\n",
    "workflow.add_edge(\"retrieve\", \"augment\")\n",
    "workflow.add_edge(\"augment\", \"generate\")\n",
    "workflow.add_edge(\"generate\", END)"
   ]
  },
  {
   "cell_type": "code",
   "execution_count": 19,
   "metadata": {},
   "outputs": [
    {
     "data": {
      "image/png": "[encoded data removed]",
      "text/plain": [
       "<IPython.core.display.Image object>"
      ]
     },
     "metadata": {},
     "output_type": "display_data"
    }
   ],
   "source": [
    "graph = workflow.compile()\n",
    "\n",
    "display(\n",
    "    Image(\n",
    "        graph.get_graph().draw_mermaid_png()\n",
    "    )\n",
    ")"
   ]
  },
  {
   "cell_type": "markdown",
   "metadata": {},
   "source": [
    "## 6. Invoke the Workflow with a Query"
   ]
  },
  {
   "cell_type": "code",
   "execution_count": 20,
   "metadata": {},
   "outputs": [],
   "source": [
    "output = graph.invoke(\n",
    "    {\"question\": \"What are Open source models?\"}\n",
    ")"
   ]
  },
  {
   "cell_type": "code",
   "execution_count": 21,
   "metadata": {},
   "outputs": [
    {
     "data": {
      "text/plain": [
       "'Open source models are language models developed and shared by the community, allowing users to access and utilize them for various tasks like text generation and classification. They offer advantages such as cost control, data privacy, and the ability to fine-tune the models to specific datasets. While they are rapidly improving, they have not yet fully matched the performance of proprietary models like GPT-4.'"
      ]
     },
     "execution_count": 21,
     "metadata": {},
     "output_type": "execute_result"
    }
   ],
   "source": [
    "output[\"answer\"]"
   ]
  },
  {
   "cell_type": "code",
   "execution_count": 22,
   "metadata": {},
   "outputs": [
    {
     "name": "stdout",
     "output_type": "stream",
     "text": [
      "================================\u001b[1m System Message \u001b[0m================================\n",
      "\n",
      "You are an assistant for question-answering tasks.\n",
      "================================\u001b[1m Human Message \u001b[0m=================================\n",
      "\n",
      "Use the following pieces of retrieved context to answer the question. If you don't know the answer, just say that you don't know. Use three sentences maximum and keep the answer concise. \n",
      "# Question: \n",
      "-> What are Open source models? \n",
      "# Context: \n",
      "-> very limited use, so cost becomes a factor in applying these at scale.\n",
      "In summary: Proprietary services are great to use if you have very complex tasks, \n",
      "are okay with sharing your data with a third party, and are prepared to incur \n",
      "costs if operating at any significant scale.  \n",
      "Open source models\n",
      "The other avenue for language models is to go to the open source community, \n",
      "where there has been similarly explosive growth over the past few years. \n",
      "Communities like Hugging Face  gather hundreds of thousands of models \n",
      "from contributors that can help solve tons of specific use cases such as text \n",
      "generation, summarization and classification. The open source community has \n",
      "been quickly catching up to the performance of the proprietary models, but \n",
      "ultimately still hasn’t matched the performance of something like GPT-4. \n",
      "SECTION 3\n",
      "Applying Large Language Models\n",
      "\n",
      "7\n",
      "A Compact Guide to Large Language Models\n",
      "It does currently take a little bit more work to grab an open source model and \n",
      "start using it, but progress is moving very quickly to make them more accessible \n",
      "to users. On Databricks, for example, we’ve made improvements to open source \n",
      "frameworks like MLflow to make it very easy for someone with a bit of Python \n",
      "experience to pull any Hugging Face transformer model and use it as a Python \n",
      "object. Oftentimes, you can find an open source model that solves your specific \n",
      "problem that is orders of magnitude smaller than ChatGPT, allowing you to bring \n",
      "the model into your environment and host it yourself. This means that you can \n",
      "keep the data in your control for privacy and governance concerns as well as \n",
      "manage your costs.\n",
      "Another huge upside to using open source models is the ability to fine-tune \n",
      "them to your own data. Since you’re not dealing with a black box of a proprietary\n",
      "\n",
      "manage your costs.\n",
      "Another huge upside to using open source models is the ability to fine-tune \n",
      "them to your own data. Since you’re not dealing with a black box of a proprietary \n",
      "service, there are techniques that let you take open source models and train \n",
      "them to your specific data, greatly improving their performance on your \n",
      "specific domain. We believe the future of language models is going to move \n",
      "in this direction, as more and more organizations will want full control and \n",
      "understanding of their LLMs.\n",
      " \n",
      "Conclusion and general guidelines\n",
      "Ultimately, every organization is going to have unique challenges to overcome, \n",
      "and there isn’t a one-size-fits-all approach when it comes to LLMs. As the world \n",
      "becomes more data driven, everything, including LLMs, will be reliant on having \n",
      "a strong foundation of data. LLMs are incredible tools, but they have to be used \n",
      "and implemented on top of this strong data foundation. Databricks brings both\n",
      "\n",
      "6\n",
      "A Compact Guide to Large Language Models\n",
      "There are a few paths that one can take when looking to apply large language \n",
      "models for their given use case. Generally speaking, you can break them down \n",
      "into two categories, but there’s some crossover between each. We’ll briefly cover \n",
      "the pros and cons of each and what scenarios fit best for each.\n",
      " \n",
      "Proprietary services\n",
      "As the first widely available LLM powered service, OpenAI’s ChatGPT was the \n",
      "explosive charge that brought LLMs into the mainstream. ChatGPT provides \n",
      "a nice user interface (or API) where users can feed prompts to one of many \n",
      "models (GPT-3.5, GPT-4, and more) and typically get a fast response. These are \n",
      "among the highest-performing models, trained on enormous data sets, and are \n",
      "capable of extremely complex tasks both from a technical standpoint, such as \n",
      "code generation, as well as from a creative perspective like writing poetry in a \n",
      "specific style. \n",
      "# Answer: \n",
      "==================================\u001b[1m Ai Message \u001b[0m==================================\n",
      "\n",
      "Open source models are language models developed and shared by the community, allowing users to access and utilize them for various tasks like text generation and classification. They offer advantages such as cost control, data privacy, and the ability to fine-tune the models to specific datasets. While they are rapidly improving, they have not yet fully matched the performance of proprietary models like GPT-4.\n"
     ]
    }
   ],
   "source": [
    "for message in output[\"messages\"]:\n",
    "    message.pretty_print()"
   ]
  },
  {
   "cell_type": "markdown",
   "metadata": {},
   "source": [
    "## 7. Experiment"
   ]
  },
  {
   "cell_type": "markdown",
   "metadata": {},
   "source": [
    "Now that you understood how it works, experiment with new things.\n",
    "\n",
    "- Change the embedding model\n",
    "- Change the parameters of RecursiveCharacterTextSplitter(chunk_size and chunk_overlap)\n",
    "- Use your own document\n",
    "- Add More File Types"
   ]
  }
 ],
 "metadata": {
  "kernelspec": {
   "display_name": ".venv",
   "language": "python",
   "name": "python3"
  },
  "language_info": {
   "codemirror_mode": {
    "name": "ipython",
    "version": 3
   },
   "file_extension": ".py",
   "mimetype": "text/x-python",
   "name": "python",
   "nbconvert_exporter": "python",
   "pygments_lexer": "ipython3",
   "version": "3.11.10"
  }
 },
 "nbformat": 4,
 "nbformat_minor": 2
}
